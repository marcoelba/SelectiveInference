{
 "cells": [
  {
   "cell_type": "markdown",
   "metadata": {},
   "source": [
    "# Selective Inference via outcome Randomisation and Mirror Statistics"
   ]
  },
  {
   "cell_type": "code",
   "execution_count": 1,
   "metadata": {},
   "outputs": [
    {
     "name": "stdout",
     "output_type": "stream",
     "text": [
      "\u001b[36m\u001b[1mProject\u001b[22m\u001b[39m selective_inference_project v0.1.0\n",
      "\u001b[32m\u001b[1mStatus\u001b[22m\u001b[39m `~/Documents/UiO_Postdoc/Code/git_repositories/SelectiveInference/Project.toml`\n",
      "\u001b[32m⌃\u001b[39m \u001b[90m[31c24e10] \u001b[39mDistributions v0.25.100\n",
      "\u001b[32m⌃\u001b[39m \u001b[90m[38e38edf] \u001b[39mGLM v1.8.3\n",
      "  \u001b[90m[8d5ece8b] \u001b[39mGLMNet v0.7.2\n",
      "\u001b[32m⌃\u001b[39m \u001b[90m[6f49c342] \u001b[39mRCall v0.13.17\n",
      "  \u001b[90m[f3b207a7] \u001b[39mStatsPlots v0.15.6\n",
      "\u001b[36m\u001b[1mInfo\u001b[22m\u001b[39m Packages marked with \u001b[32m⌃\u001b[39m have new versions available and may be upgradable.\n"
     ]
    }
   ],
   "source": [
    "using Pkg\n",
    "Pkg.status()\n",
    "\n",
    "using GLM\n",
    "using GLMNet\n",
    "using Distributions\n",
    "using Random\n",
    "using StatsPlots\n",
    "using Plots"
   ]
  },
  {
   "cell_type": "code",
   "execution_count": 2,
   "metadata": {},
   "outputs": [
    {
     "data": {
      "text/plain": [
       "Main.classification_metrics"
      ]
     },
     "metadata": {},
     "output_type": "display_data"
    }
   ],
   "source": [
    "include(\"./utilities/data_generation.jl\")\n",
    "include(\"./utilities/randomisation_ds.jl\")\n",
    "include(\"./utilities/mirror_statistic.jl\")\n",
    "include(\"./utilities/classification_metrics.jl\")"
   ]
  },
  {
   "cell_type": "code",
   "execution_count": 3,
   "metadata": {},
   "outputs": [
    {
     "data": {
      "text/plain": [
       "Main.wrapper_pipeline_inference"
      ]
     },
     "metadata": {},
     "output_type": "display_data"
    }
   ],
   "source": [
    "include(\"./wrapper_pipeline_inference.jl\")"
   ]
  },
  {
   "cell_type": "code",
   "execution_count": 10,
   "metadata": {},
   "outputs": [
    {
     "data": {
      "text/plain": [
       "print_metrics (generic function with 1 method)"
      ]
     },
     "metadata": {},
     "output_type": "display_data"
    }
   ],
   "source": [
    "function print_metrics(;scenario, results)\n",
    "    println(\"-------------------- $scenario --------------------\")\n",
    "\n",
    "    fdr_mirror_statistic = round(results.fdr_mirror_statistic, digits=3)\n",
    "    println(\"FDR using Mirror Statistic: $fdr_mirror_statistic\")\n",
    "\n",
    "    fdr_randomisation_raw = round(results.fdr_randomisation_raw, digits=3)\n",
    "    println(\"FDR using Randomisation Raw: $fdr_randomisation_raw\")\n",
    "\n",
    "    fdr_randomisation_bh = round(results.fdr_randomisation_bh, digits=3)\n",
    "    println(\"FDR using Randomisation with BH: $fdr_randomisation_bh\")\n",
    "\n",
    "    tpr_mirror_statistic = round(results.tpr_mirror_statistic, digits=3)\n",
    "    println(\"TPR using Mirror Statistic: $tpr_mirror_statistic\")\n",
    "\n",
    "    tpr_randomisation_raw = round(results.tpr_randomisation_raw, digits=3)\n",
    "    println(\"TPR using Randomisation: $tpr_randomisation_raw\")\n",
    "end"
   ]
  },
  {
   "cell_type": "markdown",
   "metadata": {},
   "source": [
    "## Simulation on uncorrelated covariates"
   ]
  },
  {
   "cell_type": "markdown",
   "metadata": {},
   "source": [
    "### Low-dimensional case\n",
    "30% of coefficients are 0"
   ]
  },
  {
   "cell_type": "code",
   "execution_count": 12,
   "metadata": {},
   "outputs": [
    {
     "data": {
      "text/plain": [
       "\"Low-Dimensional, No Correlation\""
      ]
     },
     "metadata": {},
     "output_type": "display_data"
    }
   ],
   "source": [
    "n = 100\n",
    "p = 20\n",
    "prop_zero_coef = 0.3\n",
    "beta_intercept = 1.\n",
    "sigma2 = 1.\n",
    "correlation_coefficients = []\n",
    "scenario = \"Low-Dimensional, No Correlation\""
   ]
  },
  {
   "cell_type": "code",
   "execution_count": 13,
   "metadata": {},
   "outputs": [],
   "source": [
    "Random.seed!(1345)\n",
    "results = wrapper_pipeline_inference.wrapper_randomisation_inference(\n",
    "    n=n,\n",
    "    p=p,\n",
    "    correlation_coefficients=correlation_coefficients,\n",
    "    prop_zero_coef=prop_zero_coef,\n",
    "    sigma2=sigma2,\n",
    "    gamma_randomisation=1.,\n",
    "    fdr_level=0.1\n",
    ");"
   ]
  },
  {
   "cell_type": "code",
   "execution_count": 14,
   "metadata": {},
   "outputs": [
    {
     "name": "stdout",
     "output_type": "stream",
     "text": [
      "-------------------- Low-Dimensional, No Correlation --------------------\n",
      "FDR using Mirror Statistic: 0.125\n",
      "FDR using Randomisation Raw: 0.0\n",
      "FDR using Randomisation with BH: 0.0\n",
      "TPR using Mirror Statistic: 1.0\n",
      "TPR using Randomisation: 1.0\n"
     ]
    }
   ],
   "source": [
    "print_metrics(scenario=scenario, results=results)"
   ]
  },
  {
   "cell_type": "markdown",
   "metadata": {},
   "source": [
    "### High-dimensional case\n",
    "70% of coefficients are 0"
   ]
  },
  {
   "cell_type": "code",
   "execution_count": 15,
   "metadata": {},
   "outputs": [],
   "source": [
    "n = 100\n",
    "p = 200\n",
    "prop_zero_coef=0.7\n",
    "beta_intercept=1.\n",
    "sigma2=1.\n",
    "correlation_coefficients=[]\n",
    "scenario = \"High-Dimensional, No Correlation\"\n",
    "\n",
    "Random.seed!(1345)\n",
    "results = wrapper_pipeline_inference.wrapper_randomisation_inference(\n",
    "    n=n,\n",
    "    p=p,\n",
    "    correlation_coefficients=correlation_coefficients,\n",
    "    prop_zero_coef=prop_zero_coef,\n",
    "    sigma2=sigma2,\n",
    "    gamma_randomisation=1.,\n",
    "    fdr_level=0.1\n",
    ");"
   ]
  },
  {
   "cell_type": "code",
   "execution_count": 16,
   "metadata": {},
   "outputs": [
    {
     "name": "stdout",
     "output_type": "stream",
     "text": [
      "-------------------- High-Dimensional, No Correlation --------------------\n",
      "FDR using Mirror Statistic: 0.382\n",
      "FDR using Randomisation Raw: 0.312\n",
      "FDR using Randomisation with BH: 0.0\n",
      "TPR using Mirror Statistic: 0.567\n",
      "TPR using Randomisation: 0.183\n"
     ]
    }
   ],
   "source": [
    "print_metrics(scenario=scenario, results=results)"
   ]
  },
  {
   "cell_type": "markdown",
   "metadata": {},
   "source": [
    "## Correlated covariates"
   ]
  },
  {
   "cell_type": "markdown",
   "metadata": {},
   "source": [
    "### Low-dimensional case\n",
    "30% of coefficients are 0"
   ]
  },
  {
   "cell_type": "code",
   "execution_count": 17,
   "metadata": {},
   "outputs": [],
   "source": [
    "n = 100\n",
    "p = 20\n",
    "prop_zero_coef=0.3\n",
    "beta_intercept=1.\n",
    "sigma2=1.\n",
    "correlation_coefficients=[0.5, 0.3]\n",
    "scenario = \"Low-Dimensional, With Correlation\"\n",
    "\n",
    "Random.seed!(1345)\n",
    "results = wrapper_pipeline_inference.wrapper_randomisation_inference(\n",
    "    n=n,\n",
    "    p=p,\n",
    "    correlation_coefficients=correlation_coefficients,\n",
    "    prop_zero_coef=prop_zero_coef,\n",
    "    sigma2=sigma2,\n",
    "    gamma_randomisation=1.,\n",
    "    fdr_level=0.1\n",
    ");"
   ]
  },
  {
   "cell_type": "code",
   "execution_count": 18,
   "metadata": {},
   "outputs": [
    {
     "name": "stdout",
     "output_type": "stream",
     "text": [
      "-------------------- Low-Dimensional, With Correlation --------------------\n",
      "FDR using Mirror Statistic: 0.176\n",
      "FDR using Randomisation Raw: 0.0\n",
      "FDR using Randomisation with BH: 0.0\n",
      "TPR using Mirror Statistic: 1.0\n",
      "TPR using Randomisation: 0.929\n"
     ]
    }
   ],
   "source": [
    "print_metrics(scenario=scenario, results=results)"
   ]
  },
  {
   "cell_type": "markdown",
   "metadata": {},
   "source": [
    "### High-dimensional case\n",
    "70% of coefficients are 0"
   ]
  },
  {
   "cell_type": "code",
   "execution_count": 19,
   "metadata": {},
   "outputs": [
    {
     "name": "stdout",
     "output_type": "stream",
     "text": [
      "Warning: 0 Positive predictions\n",
      "Warning: 0 Positive predictions\n"
     ]
    }
   ],
   "source": [
    "n = 100\n",
    "p = 200\n",
    "prop_zero_coef=0.7\n",
    "beta_intercept=1.\n",
    "sigma2=1.\n",
    "correlation_coefficients=[0.5, 0.3]\n",
    "scenario = \"High-Dimensional, With Correlation\"\n",
    "\n",
    "Random.seed!(1345)\n",
    "results = wrapper_pipeline_inference.wrapper_randomisation_inference(\n",
    "    n=n,\n",
    "    p=p,\n",
    "    correlation_coefficients=correlation_coefficients,\n",
    "    prop_zero_coef=prop_zero_coef,\n",
    "    sigma2=sigma2,\n",
    "    gamma_randomisation=1.,\n",
    "    fdr_level=0.1\n",
    ");"
   ]
  },
  {
   "cell_type": "code",
   "execution_count": 20,
   "metadata": {},
   "outputs": [
    {
     "name": "stdout",
     "output_type": "stream",
     "text": [
      "-------------------- High-Dimensional, With Correlation --------------------\n",
      "FDR using Mirror Statistic: 0.333\n",
      "FDR using Randomisation Raw: 0.0\n",
      "FDR using Randomisation with BH: 0.0\n",
      "TPR using Mirror Statistic: 0.1\n",
      "TPR using Randomisation: 0.0\n"
     ]
    }
   ],
   "source": [
    "print_metrics(scenario=scenario, results=results)"
   ]
  }
 ],
 "metadata": {
  "kernelspec": {
   "display_name": "Julia 1.9.2",
   "language": "julia",
   "name": "julia-1.9"
  },
  "language_info": {
   "file_extension": ".jl",
   "mimetype": "application/julia",
   "name": "julia",
   "version": "1.9.2"
  },
  "orig_nbformat": 4
 },
 "nbformat": 4,
 "nbformat_minor": 2
}
