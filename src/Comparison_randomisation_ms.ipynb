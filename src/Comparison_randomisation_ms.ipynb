{
 "cells": [
  {
   "cell_type": "markdown",
   "metadata": {},
   "source": [
    "# Selective Inference via outcome Randomisation and Mirror Statistics"
   ]
  },
  {
   "cell_type": "code",
   "execution_count": 1,
   "metadata": {},
   "outputs": [
    {
     "name": "stdout",
     "output_type": "stream",
     "text": [
      "\u001b[36m\u001b[1mProject\u001b[22m\u001b[39m selective_inference_project v0.1.0\n",
      "\u001b[32m\u001b[1mStatus\u001b[22m\u001b[39m `~/Documents/UiO_Postdoc/Code/git_repositories/SelectiveInference/Project.toml`\n",
      "\u001b[32m⌃\u001b[39m \u001b[90m[31c24e10] \u001b[39mDistributions v0.25.100\n",
      "\u001b[32m⌃\u001b[39m \u001b[90m[38e38edf] \u001b[39mGLM v1.8.3\n",
      "  \u001b[90m[8d5ece8b] \u001b[39mGLMNet v0.7.2\n",
      "\u001b[32m⌃\u001b[39m \u001b[90m[6f49c342] \u001b[39mRCall v0.13.17\n",
      "  \u001b[90m[f3b207a7] \u001b[39mStatsPlots v0.15.6\n",
      "\u001b[36m\u001b[1mInfo\u001b[22m\u001b[39m Packages marked with \u001b[32m⌃\u001b[39m have new versions available and may be upgradable.\n"
     ]
    }
   ],
   "source": [
    "using Pkg\n",
    "Pkg.status()\n",
    "\n",
    "using GLM\n",
    "using GLMNet\n",
    "using Distributions\n",
    "using Random\n",
    "using StatsPlots\n",
    "using Plots\n",
    "using DataFrames"
   ]
  },
  {
   "cell_type": "code",
   "execution_count": 33,
   "metadata": {},
   "outputs": [
    {
     "name": "stderr",
     "output_type": "stream",
     "text": [
      "WARNING: replacing module data_generation.\n",
      "WARNING: replacing module randomisation_ds.\n",
      "WARNING: replacing module mirror_statistic.\n",
      "WARNING: replacing module classification_metrics.\n"
     ]
    },
    {
     "data": {
      "text/plain": [
       "Main.classification_metrics"
      ]
     },
     "metadata": {},
     "output_type": "display_data"
    }
   ],
   "source": [
    "include(\"./utilities/data_generation.jl\")\n",
    "include(\"./utilities/randomisation_ds.jl\")\n",
    "include(\"./utilities/mirror_statistic.jl\")\n",
    "include(\"./utilities/classification_metrics.jl\");"
   ]
  },
  {
   "cell_type": "code",
   "execution_count": 2,
   "metadata": {},
   "outputs": [
    {
     "data": {
      "text/plain": [
       "Main.wrapper_pipeline_inference"
      ]
     },
     "metadata": {},
     "output_type": "display_data"
    }
   ],
   "source": [
    "include(\"./wrapper_pipeline_inference.jl\")"
   ]
  },
  {
   "cell_type": "code",
   "execution_count": 3,
   "metadata": {},
   "outputs": [
    {
     "data": {
      "text/plain": [
       "print_metrics (generic function with 1 method)"
      ]
     },
     "metadata": {},
     "output_type": "display_data"
    }
   ],
   "source": [
    "function print_metrics(;scenario, results)\n",
    "    println(\"-------------------- $scenario --------------------\")\n",
    "\n",
    "    fdr_mirror_statistic = round(results.fdr_mirror_statistic, digits=3)\n",
    "    println(\"FDR using Mirror Statistic: $fdr_mirror_statistic\")\n",
    "\n",
    "    fdr_randomisation_raw = round(results.fdr_randomisation_raw, digits=3)\n",
    "    println(\"FDR using Randomisation Raw: $fdr_randomisation_raw\")\n",
    "\n",
    "    fdr_randomisation_bh = round(results.fdr_randomisation_bh, digits=3)\n",
    "    println(\"FDR using Randomisation with BH: $fdr_randomisation_bh\")\n",
    "\n",
    "    tpr_mirror_statistic = round(results.tpr_mirror_statistic, digits=3)\n",
    "    println(\"TPR using Mirror Statistic: $tpr_mirror_statistic\")\n",
    "\n",
    "    tpr_randomisation_raw = round(results.tpr_randomisation_raw, digits=3)\n",
    "    println(\"TPR using Randomisation: $tpr_randomisation_raw\")\n",
    "end"
   ]
  },
  {
   "cell_type": "markdown",
   "metadata": {},
   "source": [
    "## Simulation on uncorrelated covariates"
   ]
  },
  {
   "cell_type": "markdown",
   "metadata": {},
   "source": [
    "### Low-dimensional case\n",
    "30% of coefficients are 0"
   ]
  },
  {
   "cell_type": "code",
   "execution_count": 12,
   "metadata": {},
   "outputs": [
    {
     "data": {
      "text/plain": [
       "\"Low-Dimensional, No Correlation\""
      ]
     },
     "metadata": {},
     "output_type": "display_data"
    }
   ],
   "source": [
    "n = 100\n",
    "p = 20\n",
    "prop_zero_coef = 0.3\n",
    "beta_intercept = 1.\n",
    "sigma2 = 1.\n",
    "correlation_coefficients = []\n",
    "scenario = \"Low-Dimensional, No Correlation\""
   ]
  },
  {
   "cell_type": "code",
   "execution_count": 13,
   "metadata": {},
   "outputs": [],
   "source": [
    "Random.seed!(1345)\n",
    "results = wrapper_pipeline_inference.wrapper_randomisation_inference(\n",
    "    n=n,\n",
    "    p=p,\n",
    "    correlation_coefficients=correlation_coefficients,\n",
    "    prop_zero_coef=prop_zero_coef,\n",
    "    sigma2=sigma2,\n",
    "    gamma_randomisation=1.,\n",
    "    fdr_level=0.1\n",
    ");"
   ]
  },
  {
   "cell_type": "code",
   "execution_count": 14,
   "metadata": {},
   "outputs": [
    {
     "name": "stdout",
     "output_type": "stream",
     "text": [
      "-------------------- Low-Dimensional, No Correlation --------------------\n",
      "FDR using Mirror Statistic: 0.125\n",
      "FDR using Randomisation Raw: 0.0\n",
      "FDR using Randomisation with BH: 0.0\n",
      "TPR using Mirror Statistic: 1.0\n",
      "TPR using Randomisation: 1.0\n"
     ]
    }
   ],
   "source": [
    "print_metrics(scenario=scenario, results=results)"
   ]
  },
  {
   "cell_type": "markdown",
   "metadata": {},
   "source": [
    "### High-dimensional case\n",
    "70% of coefficients are 0"
   ]
  },
  {
   "cell_type": "code",
   "execution_count": 15,
   "metadata": {},
   "outputs": [],
   "source": [
    "n = 100\n",
    "p = 200\n",
    "prop_zero_coef=0.7\n",
    "beta_intercept=1.\n",
    "sigma2=1.\n",
    "correlation_coefficients=[]\n",
    "scenario = \"High-Dimensional, No Correlation\"\n",
    "\n",
    "Random.seed!(1345)\n",
    "results = wrapper_pipeline_inference.wrapper_randomisation_inference(\n",
    "    n=n,\n",
    "    p=p,\n",
    "    correlation_coefficients=correlation_coefficients,\n",
    "    prop_zero_coef=prop_zero_coef,\n",
    "    sigma2=sigma2,\n",
    "    gamma_randomisation=1.,\n",
    "    fdr_level=0.1\n",
    ");"
   ]
  },
  {
   "cell_type": "code",
   "execution_count": 16,
   "metadata": {},
   "outputs": [
    {
     "name": "stdout",
     "output_type": "stream",
     "text": [
      "-------------------- High-Dimensional, No Correlation --------------------\n",
      "FDR using Mirror Statistic: 0.382\n",
      "FDR using Randomisation Raw: 0.312\n",
      "FDR using Randomisation with BH: 0.0\n",
      "TPR using Mirror Statistic: 0.567\n",
      "TPR using Randomisation: 0.183\n"
     ]
    }
   ],
   "source": [
    "print_metrics(scenario=scenario, results=results)"
   ]
  },
  {
   "cell_type": "markdown",
   "metadata": {},
   "source": [
    "## Correlated covariates"
   ]
  },
  {
   "cell_type": "markdown",
   "metadata": {},
   "source": [
    "### Low-dimensional case\n",
    "30% of coefficients are 0"
   ]
  },
  {
   "cell_type": "code",
   "execution_count": 17,
   "metadata": {},
   "outputs": [],
   "source": [
    "n = 100\n",
    "p = 20\n",
    "prop_zero_coef=0.3\n",
    "beta_intercept=1.\n",
    "sigma2=1.\n",
    "correlation_coefficients=[0.5, 0.3]\n",
    "scenario = \"Low-Dimensional, With Correlation\"\n",
    "\n",
    "Random.seed!(1345)\n",
    "results = wrapper_pipeline_inference.wrapper_randomisation_inference(\n",
    "    n=n,\n",
    "    p=p,\n",
    "    correlation_coefficients=correlation_coefficients,\n",
    "    prop_zero_coef=prop_zero_coef,\n",
    "    sigma2=sigma2,\n",
    "    gamma_randomisation=1.,\n",
    "    fdr_level=0.1\n",
    ");"
   ]
  },
  {
   "cell_type": "code",
   "execution_count": 18,
   "metadata": {},
   "outputs": [
    {
     "name": "stdout",
     "output_type": "stream",
     "text": [
      "-------------------- Low-Dimensional, With Correlation --------------------\n",
      "FDR using Mirror Statistic: 0.176\n",
      "FDR using Randomisation Raw: 0.0\n",
      "FDR using Randomisation with BH: 0.0\n",
      "TPR using Mirror Statistic: 1.0\n",
      "TPR using Randomisation: 0.929\n"
     ]
    }
   ],
   "source": [
    "print_metrics(scenario=scenario, results=results)"
   ]
  },
  {
   "cell_type": "markdown",
   "metadata": {},
   "source": [
    "### High-dimensional case\n",
    "70% of coefficients are 0"
   ]
  },
  {
   "cell_type": "code",
   "execution_count": 19,
   "metadata": {},
   "outputs": [
    {
     "name": "stdout",
     "output_type": "stream",
     "text": [
      "Warning: 0 Positive predictions\n",
      "Warning: 0 Positive predictions\n"
     ]
    }
   ],
   "source": [
    "n = 100\n",
    "p = 200\n",
    "prop_zero_coef=0.7\n",
    "beta_intercept=1.\n",
    "sigma2=1.\n",
    "correlation_coefficients=[0.5, 0.3]\n",
    "scenario = \"High-Dimensional, With Correlation\"\n",
    "\n",
    "Random.seed!(1345)\n",
    "results = wrapper_pipeline_inference.wrapper_randomisation_inference(\n",
    "    n=n,\n",
    "    p=p,\n",
    "    correlation_coefficients=correlation_coefficients,\n",
    "    prop_zero_coef=prop_zero_coef,\n",
    "    sigma2=sigma2,\n",
    "    gamma_randomisation=1.,\n",
    "    fdr_level=0.1\n",
    ");"
   ]
  },
  {
   "cell_type": "code",
   "execution_count": 20,
   "metadata": {},
   "outputs": [
    {
     "name": "stdout",
     "output_type": "stream",
     "text": [
      "-------------------- High-Dimensional, With Correlation --------------------\n",
      "FDR using Mirror Statistic: 0.333\n",
      "FDR using Randomisation Raw: 0.0\n",
      "FDR using Randomisation with BH: 0.0\n",
      "TPR using Mirror Statistic: 0.1\n",
      "TPR using Randomisation: 0.0\n"
     ]
    }
   ],
   "source": [
    "print_metrics(scenario=scenario, results=results)"
   ]
  },
  {
   "cell_type": "markdown",
   "metadata": {},
   "source": [
    "### High-dimensional case, but less correlated covariates"
   ]
  },
  {
   "cell_type": "code",
   "execution_count": 23,
   "metadata": {},
   "outputs": [],
   "source": [
    "n = 100\n",
    "p = 200\n",
    "prop_zero_coef=0.7\n",
    "beta_intercept=1.\n",
    "sigma2=1.\n",
    "correlation_coefficients=[0.5]\n",
    "scenario = \"High-Dimensional, With less Correlation\"\n",
    "\n",
    "Random.seed!(1345)\n",
    "results = wrapper_pipeline_inference.wrapper_randomisation_inference(\n",
    "    n=n,\n",
    "    p=p,\n",
    "    correlation_coefficients=correlation_coefficients,\n",
    "    prop_zero_coef=prop_zero_coef,\n",
    "    sigma2=sigma2,\n",
    "    gamma_randomisation=1.,\n",
    "    fdr_level=0.1\n",
    ");"
   ]
  },
  {
   "cell_type": "code",
   "execution_count": 24,
   "metadata": {},
   "outputs": [
    {
     "name": "stdout",
     "output_type": "stream",
     "text": [
      "-------------------- High-Dimensional, With less Correlation --------------------\n",
      "FDR using Mirror Statistic: 0.453\n",
      "FDR using Randomisation Raw: 0.48\n",
      "FDR using Randomisation with BH: 0.5\n",
      "TPR using Mirror Statistic: 0.483\n",
      "TPR using Randomisation: 0.217\n"
     ]
    }
   ],
   "source": [
    "print_metrics(scenario=scenario, results=results)"
   ]
  },
  {
   "cell_type": "markdown",
   "metadata": {},
   "source": [
    "### High-dimensional case, lower proportion on non-zero coefficients"
   ]
  },
  {
   "cell_type": "code",
   "execution_count": 28,
   "metadata": {},
   "outputs": [],
   "source": [
    "n = 100\n",
    "p = 200\n",
    "prop_zero_coef=0.9\n",
    "beta_intercept=1.\n",
    "sigma2=1.\n",
    "correlation_coefficients=[0.5]\n",
    "scenario = \"High-Dimensional, With less Correlation and 90% of zero coefficients\"\n",
    "\n",
    "Random.seed!(1345)\n",
    "results = wrapper_pipeline_inference.wrapper_randomisation_inference(\n",
    "    n=n,\n",
    "    p=p,\n",
    "    correlation_coefficients=correlation_coefficients,\n",
    "    prop_zero_coef=prop_zero_coef,\n",
    "    sigma2=sigma2,\n",
    "    gamma_randomisation=1.,\n",
    "    fdr_level=0.1\n",
    ");"
   ]
  },
  {
   "cell_type": "code",
   "execution_count": 29,
   "metadata": {},
   "outputs": [
    {
     "name": "stdout",
     "output_type": "stream",
     "text": [
      "-------------------- High-Dimensional, With less Correlation and 90% of zero coefficients --------------------\n",
      "FDR using Mirror Statistic: 0.053\n",
      "FDR using Randomisation Raw: 0.125\n",
      "FDR using Randomisation with BH: 0.0\n",
      "TPR using Mirror Statistic: 0.9\n",
      "TPR using Randomisation: 0.7\n"
     ]
    }
   ],
   "source": [
    "print_metrics(scenario=scenario, results=results)"
   ]
  },
  {
   "cell_type": "markdown",
   "metadata": {},
   "source": [
    "### High-dimensional case, lower proportion on non-zero coefficients, higher correlation"
   ]
  },
  {
   "cell_type": "code",
   "execution_count": 30,
   "metadata": {},
   "outputs": [],
   "source": [
    "n = 100\n",
    "p = 200\n",
    "prop_zero_coef=0.9\n",
    "beta_intercept=1.\n",
    "sigma2=1.\n",
    "correlation_coefficients=[0.5, 0.3]\n",
    "scenario = \"High-Dimensional, With higher Correlation and 90% of zero coefficients\"\n",
    "\n",
    "Random.seed!(1345)\n",
    "results = wrapper_pipeline_inference.wrapper_randomisation_inference(\n",
    "    n=n,\n",
    "    p=p,\n",
    "    correlation_coefficients=correlation_coefficients,\n",
    "    prop_zero_coef=prop_zero_coef,\n",
    "    sigma2=sigma2,\n",
    "    gamma_randomisation=1.,\n",
    "    fdr_level=0.1\n",
    ");"
   ]
  },
  {
   "cell_type": "code",
   "execution_count": 31,
   "metadata": {},
   "outputs": [
    {
     "name": "stdout",
     "output_type": "stream",
     "text": [
      "-------------------- High-Dimensional, With higher Correlation and 90% of zero coefficients --------------------\n",
      "FDR using Mirror Statistic: 0.05\n",
      "FDR using Randomisation Raw: 0.062\n",
      "FDR using Randomisation with BH: 0.0\n",
      "TPR using Mirror Statistic: 0.95\n",
      "TPR using Randomisation: 0.75\n"
     ]
    }
   ],
   "source": [
    "print_metrics(scenario=scenario, results=results)"
   ]
  },
  {
   "cell_type": "markdown",
   "metadata": {},
   "source": [
    "### High-dimensional case, 20% on non-zero coefficients, positive and negative correlations"
   ]
  },
  {
   "cell_type": "code",
   "execution_count": 49,
   "metadata": {},
   "outputs": [],
   "source": [
    "n = 100\n",
    "p = 200\n",
    "prop_zero_coef=0.8\n",
    "beta_intercept=1.\n",
    "sigma2=1.\n",
    "correlation_coefficients=[0.3, -0.2]\n",
    "scenario = \"High-Dimensional, With positive and negative Correlations and 80% of zero coefficients\"\n",
    "\n",
    "Random.seed!(1345)\n",
    "results = wrapper_pipeline_inference.wrapper_randomisation_inference(\n",
    "    n=n,\n",
    "    p=p,\n",
    "    correlation_coefficients=correlation_coefficients,\n",
    "    prop_zero_coef=prop_zero_coef,\n",
    "    sigma2=sigma2,\n",
    "    gamma_randomisation=1.,\n",
    "    fdr_level=0.1\n",
    ");"
   ]
  },
  {
   "cell_type": "code",
   "execution_count": 50,
   "metadata": {},
   "outputs": [
    {
     "name": "stdout",
     "output_type": "stream",
     "text": [
      "-------------------- High-Dimensional, With positive and negative Correlations and 80% of zero coefficients --------------------\n",
      "FDR using Mirror Statistic: 0.308\n",
      "FDR using Randomisation Raw: 0.364\n",
      "FDR using Randomisation with BH: 0.0\n",
      "TPR using Mirror Statistic: 0.45\n",
      "TPR using Randomisation: 0.35\n"
     ]
    }
   ],
   "source": [
    "print_metrics(scenario=scenario, results=results)"
   ]
  },
  {
   "cell_type": "markdown",
   "metadata": {},
   "source": [
    "## Focus on High-Dimensional scenarios\n",
    "Gradually increase the correlation structure and the proportion of non-zero coefficients"
   ]
  },
  {
   "cell_type": "code",
   "execution_count": 21,
   "metadata": {},
   "outputs": [],
   "source": [
    "correlations_first_offdiag = [0., 0.1, 0.2, 0.3, 0.4, 0.5]\n",
    "correlations_second_offdiag = [0., 0.1, 0.2, 0.3, 0.4]\n",
    "proportions_zero_coef = [0.95, 0.9, 0.85, 0.8, 0.75, 0.7];"
   ]
  },
  {
   "cell_type": "code",
   "execution_count": 22,
   "metadata": {},
   "outputs": [],
   "source": [
    "tot_simulations = length(correlations_first_offdiag) * length(correlations_second_offdiag) * length(proportions_zero_coef)\n",
    "colnames = [\"corr_first\", \"corr_second\", \"prop_non_zero\", \"FDR_Rand\", \"FDR_MS\", \"TPR_Rand\", \"TPR_MS\"];"
   ]
  },
  {
   "cell_type": "code",
   "execution_count": 25,
   "metadata": {},
   "outputs": [],
   "source": [
    "df_metrics = DataFrames.DataFrame([name => [] for name in colnames]);"
   ]
  },
  {
   "cell_type": "code",
   "execution_count": 26,
   "metadata": {},
   "outputs": [
    {
     "name": "stdout",
     "output_type": "stream",
     "text": [
      "Executing correlation 0.0\n"
     ]
    },
    {
     "name": "stdout",
     "output_type": "stream",
     "text": [
      "Warning: 0 Positive predictions\n"
     ]
    },
    {
     "name": "stdout",
     "output_type": "stream",
     "text": [
      "Warning: 0 Positive predictions\n"
     ]
    },
    {
     "name": "stdout",
     "output_type": "stream",
     "text": [
      "Warning: 0 Positive predictions\n"
     ]
    },
    {
     "name": "stdout",
     "output_type": "stream",
     "text": [
      "Warning: 0 Positive predictions\n"
     ]
    },
    {
     "name": "stdout",
     "output_type": "stream",
     "text": [
      "Warning: 0 Positive predictions\n"
     ]
    },
    {
     "name": "stdout",
     "output_type": "stream",
     "text": [
      "Warning: 0 Positive predictions\n"
     ]
    },
    {
     "name": "stdout",
     "output_type": "stream",
     "text": [
      "Warning: 0 Positive predictions\n"
     ]
    },
    {
     "name": "stdout",
     "output_type": "stream",
     "text": [
      "Warning: 0 Positive predictions\n",
      "Warning: 0 Positive predictions\n"
     ]
    },
    {
     "name": "stdout",
     "output_type": "stream",
     "text": [
      "Warning: 0 Positive predictions\n",
      "Warning: 0 Positive predictions\n",
      "Warning: 0 Positive predictions\n"
     ]
    },
    {
     "name": "stdout",
     "output_type": "stream",
     "text": [
      "Warning: 0 Positive predictions\n"
     ]
    },
    {
     "name": "stdout",
     "output_type": "stream",
     "text": [
      "Warning: 0 Positive predictions\n",
      "Warning: 0 Positive predictions\n"
     ]
    },
    {
     "name": "stdout",
     "output_type": "stream",
     "text": [
      "Warning: 0 Positive predictions\n"
     ]
    },
    {
     "name": "stdout",
     "output_type": "stream",
     "text": [
      "Warning: 0 Positive predictions\n",
      "Warning: 0 Positive predictions\n"
     ]
    },
    {
     "name": "stdout",
     "output_type": "stream",
     "text": [
      "Warning: 0 Positive predictions\n",
      "Warning: 0 Positive predictions\n",
      "Warning: 0 Positive predictions\n"
     ]
    },
    {
     "name": "stdout",
     "output_type": "stream",
     "text": [
      "Warning: 0 Positive predictions\n"
     ]
    },
    {
     "name": "stdout",
     "output_type": "stream",
     "text": [
      "Warning: 0 Positive predictions\n",
      "Warning: 0 Positive predictions\n"
     ]
    },
    {
     "name": "stdout",
     "output_type": "stream",
     "text": [
      "Warning: 0 Positive predictions\n"
     ]
    },
    {
     "name": "stdout",
     "output_type": "stream",
     "text": [
      "Warning: 0 Positive predictions\n"
     ]
    },
    {
     "name": "stdout",
     "output_type": "stream",
     "text": [
      "Warning: 0 Positive predictions\n"
     ]
    },
    {
     "name": "stdout",
     "output_type": "stream",
     "text": [
      "Warning: 0 Positive predictions\n"
     ]
    },
    {
     "name": "stdout",
     "output_type": "stream",
     "text": [
      "Warning: 0 Positive predictions\n",
      "Warning: 0 Positive predictions\n"
     ]
    },
    {
     "name": "stdout",
     "output_type": "stream",
     "text": [
      "Warning: 0 Positive predictions\n",
      "Warning: 0 Positive predictions\n",
      "Warning: 0 Positive predictions\n"
     ]
    },
    {
     "name": "stdout",
     "output_type": "stream",
     "text": [
      "Warning: 0 Positive predictions\n",
      "Warning: 0 Positive predictions\n",
      "Warning: 0 Positive predictions\n"
     ]
    },
    {
     "name": "stdout",
     "output_type": "stream",
     "text": [
      "Warning: 0 Positive predictions\n",
      "Warning: 0 Positive predictions\n"
     ]
    },
    {
     "name": "stdout",
     "output_type": "stream",
     "text": [
      "Warning: 0 Positive predictions\n"
     ]
    },
    {
     "name": "stdout",
     "output_type": "stream",
     "text": [
      "Warning: 0 Positive predictions\n"
     ]
    },
    {
     "name": "stdout",
     "output_type": "stream",
     "text": [
      "Warning: 0 Positive predictions\n"
     ]
    },
    {
     "name": "stdout",
     "output_type": "stream",
     "text": [
      "Warning: 0 Positive predictions\n",
      "Warning: 0 Positive predictions\n",
      "Warning: 0 Positive predictions\n"
     ]
    },
    {
     "name": "stdout",
     "output_type": "stream",
     "text": [
      "Warning: 0 Positive predictions\n",
      "Warning: 0 Positive predictions\n"
     ]
    },
    {
     "name": "stdout",
     "output_type": "stream",
     "text": [
      "Warning: 0 Positive predictions\n"
     ]
    },
    {
     "name": "stdout",
     "output_type": "stream",
     "text": [
      "Warning: 0 Positive predictions\n"
     ]
    },
    {
     "name": "stdout",
     "output_type": "stream",
     "text": [
      "Warning: 0 Positive predictions\n",
      "Warning: 0 Positive predictions\n"
     ]
    },
    {
     "name": "stdout",
     "output_type": "stream",
     "text": [
      "Warning: 0 Positive predictions\n",
      "Warning: 0 Positive predictions\n",
      "Warning: 0 Positive predictions\n",
      "Warning: 0 Positive predictions\n"
     ]
    },
    {
     "name": "stdout",
     "output_type": "stream",
     "text": [
      "Warning: 0 Positive predictions\n",
      "Warning: 0 Positive predictions\n"
     ]
    },
    {
     "name": "stdout",
     "output_type": "stream",
     "text": [
      "Warning: 0 Positive predictions\n"
     ]
    },
    {
     "name": "stdout",
     "output_type": "stream",
     "text": [
      "Warning: 0 Positive predictions\n",
      "Warning: 0 Positive predictions\n",
      "Warning: 0 Positive predictions\n"
     ]
    },
    {
     "name": "stdout",
     "output_type": "stream",
     "text": [
      "Warning: 0 Positive predictions\n"
     ]
    },
    {
     "name": "stdout",
     "output_type": "stream",
     "text": [
      "Warning: 0 Positive predictions\n"
     ]
    },
    {
     "name": "stdout",
     "output_type": "stream",
     "text": [
      "Warning: 0 Positive predictions\n"
     ]
    },
    {
     "name": "stdout",
     "output_type": "stream",
     "text": [
      "Warning: 0 Positive predictions\n"
     ]
    },
    {
     "name": "stdout",
     "output_type": "stream",
     "text": [
      "Warning: 0 Positive predictions\n",
      "Warning: 0 Positive predictions\n",
      "Warning: 0 Positive predictions\n"
     ]
    },
    {
     "name": "stdout",
     "output_type": "stream",
     "text": [
      "Warning: 0 Positive predictions\n"
     ]
    },
    {
     "name": "stdout",
     "output_type": "stream",
     "text": [
      "Warning: 0 Positive predictions\n"
     ]
    },
    {
     "name": "stdout",
     "output_type": "stream",
     "text": [
      "Warning: 0 Positive predictions\n"
     ]
    },
    {
     "name": "stdout",
     "output_type": "stream",
     "text": [
      "Warning: 0 Positive predictions\n"
     ]
    },
    {
     "name": "stdout",
     "output_type": "stream",
     "text": [
      "Warning: 0 Positive predictions\n"
     ]
    },
    {
     "name": "stdout",
     "output_type": "stream",
     "text": [
      "Warning: 0 Positive predictions\n",
      "Warning: 0 Positive predictions\n",
      "Warning: 0 Positive predictions\n"
     ]
    },
    {
     "name": "stdout",
     "output_type": "stream",
     "text": [
      "Warning: 0 Positive predictions\n",
      "Warning: 0 Positive predictions\n",
      "Warning: 0 Positive predictions\n"
     ]
    },
    {
     "name": "stdout",
     "output_type": "stream",
     "text": [
      "Warning: 0 Positive predictions\n"
     ]
    },
    {
     "name": "stdout",
     "output_type": "stream",
     "text": [
      "Warning: 0 Positive predictions\n",
      "Warning: 0 Positive predictions\n",
      "Warning: 0 Positive predictions\n",
      "Warning: 0 Positive predictions\n"
     ]
    },
    {
     "name": "stdout",
     "output_type": "stream",
     "text": [
      "Warning: 0 Positive predictions\n",
      "Warning: 0 Positive predictions\n"
     ]
    },
    {
     "name": "stdout",
     "output_type": "stream",
     "text": [
      "Warning: 0 Positive predictions\n",
      "Warning: 0 Positive predictions\n"
     ]
    },
    {
     "name": "stdout",
     "output_type": "stream",
     "text": [
      "Warning: 0 Positive predictions\n"
     ]
    },
    {
     "name": "stdout",
     "output_type": "stream",
     "text": [
      "Warning: 0 Positive predictions\n"
     ]
    },
    {
     "name": "stdout",
     "output_type": "stream",
     "text": [
      "Warning: 0 Positive predictions\n"
     ]
    },
    {
     "name": "stdout",
     "output_type": "stream",
     "text": [
      "Warning: 0 Positive predictions\n"
     ]
    },
    {
     "name": "stdout",
     "output_type": "stream",
     "text": [
      "Warning: 0 Positive predictions\n"
     ]
    },
    {
     "name": "stdout",
     "output_type": "stream",
     "text": [
      "Warning: 0 Positive predictions\n"
     ]
    },
    {
     "name": "stdout",
     "output_type": "stream",
     "text": [
      "Warning: 0 Positive predictions\n",
      "Warning: 0 Positive predictions\n"
     ]
    },
    {
     "name": "stdout",
     "output_type": "stream",
     "text": [
      "Warning: 0 Positive predictions\n"
     ]
    },
    {
     "name": "stdout",
     "output_type": "stream",
     "text": [
      "Warning: 0 Positive predictions\n",
      "Warning: 0 Positive predictions\n"
     ]
    },
    {
     "name": "stdout",
     "output_type": "stream",
     "text": [
      "Warning: 0 Positive predictions\n",
      "Warning: 0 Positive predictions\n",
      "Warning: 0 Positive predictions\n"
     ]
    },
    {
     "name": "stdout",
     "output_type": "stream",
     "text": [
      "Warning: 0 Positive predictions\n",
      "Warning: 0 Positive predictions\n"
     ]
    },
    {
     "name": "stdout",
     "output_type": "stream",
     "text": [
      "Warning: 0 Positive predictions\n"
     ]
    },
    {
     "name": "stdout",
     "output_type": "stream",
     "text": [
      "Warning: 0 Positive predictions\n"
     ]
    },
    {
     "name": "stdout",
     "output_type": "stream",
     "text": [
      "Warning: 0 Positive predictions\n",
      "Warning: 0 Positive predictions\n"
     ]
    },
    {
     "name": "stdout",
     "output_type": "stream",
     "text": [
      "Warning: 0 Positive predictions\n",
      "Warning: 0 Positive predictions\n",
      "Warning: 0 Positive predictions\n",
      "Warning: 0 Positive predictions\n"
     ]
    },
    {
     "name": "stdout",
     "output_type": "stream",
     "text": [
      "Warning: 0 Positive predictions\n"
     ]
    },
    {
     "name": "stdout",
     "output_type": "stream",
     "text": [
      "Warning: 0 Positive predictions\n",
      "Warning: 0 Positive predictions\n"
     ]
    },
    {
     "name": "stdout",
     "output_type": "stream",
     "text": [
      "Warning: 0 Positive predictions\n",
      "Warning: 0 Positive predictions\n",
      "Warning: 0 Positive predictions\n"
     ]
    },
    {
     "name": "stdout",
     "output_type": "stream",
     "text": [
      "Warning: 0 Positive predictions\n",
      "Warning: 0 Positive predictions\n"
     ]
    },
    {
     "name": "stdout",
     "output_type": "stream",
     "text": [
      "Warning: 0 Positive predictions\n"
     ]
    },
    {
     "name": "stdout",
     "output_type": "stream",
     "text": [
      "Warning: 0 Positive predictions\n",
      "Warning: 0 Positive predictions\n"
     ]
    },
    {
     "name": "stdout",
     "output_type": "stream",
     "text": [
      "Executing correlation 0.1\n"
     ]
    },
    {
     "name": "stdout",
     "output_type": "stream",
     "text": [
      "Warning: 0 Positive predictions\n"
     ]
    },
    {
     "name": "stdout",
     "output_type": "stream",
     "text": [
      "Warning: 0 Positive predictions\n",
      "Warning: 0 Positive predictions\n"
     ]
    },
    {
     "name": "stdout",
     "output_type": "stream",
     "text": [
      "Warning: 0 Positive predictions\n"
     ]
    },
    {
     "name": "stdout",
     "output_type": "stream",
     "text": [
      "Warning: 0 Positive predictions\n"
     ]
    },
    {
     "name": "stdout",
     "output_type": "stream",
     "text": [
      "Warning: 0 Positive predictions\n"
     ]
    },
    {
     "name": "stdout",
     "output_type": "stream",
     "text": [
      "Warning: 0 Positive predictions\n"
     ]
    },
    {
     "name": "stdout",
     "output_type": "stream",
     "text": [
      "Warning: 0 Positive predictions\n",
      "Warning: 0 Positive predictions\n"
     ]
    },
    {
     "name": "stdout",
     "output_type": "stream",
     "text": [
      "Warning: 0 Positive predictions\n"
     ]
    },
    {
     "name": "stdout",
     "output_type": "stream",
     "text": [
      "Warning: 0 Positive predictions\n",
      "Warning: 0 Positive predictions\n",
      "Warning: 0 Positive predictions\n"
     ]
    },
    {
     "name": "stdout",
     "output_type": "stream",
     "text": [
      "Warning: 0 Positive predictions\n",
      "Warning: 0 Positive predictions\n"
     ]
    },
    {
     "name": "stdout",
     "output_type": "stream",
     "text": [
      "Warning: 0 Positive predictions\n"
     ]
    },
    {
     "name": "stdout",
     "output_type": "stream",
     "text": [
      "Warning: 0 Positive predictions\n"
     ]
    },
    {
     "name": "stdout",
     "output_type": "stream",
     "text": [
      "Warning: 0 Positive predictions\n",
      "Warning: 0 Positive predictions\n"
     ]
    },
    {
     "name": "stdout",
     "output_type": "stream",
     "text": [
      "Warning: 0 Positive predictions\n"
     ]
    },
    {
     "name": "stdout",
     "output_type": "stream",
     "text": [
      "Warning: 0 Positive predictions\n"
     ]
    },
    {
     "name": "stdout",
     "output_type": "stream",
     "text": [
      "Warning: 0 Positive predictions\n",
      "Warning: 0 Positive predictions\n"
     ]
    },
    {
     "name": "stdout",
     "output_type": "stream",
     "text": [
      "Warning: 0 Positive predictions\n",
      "Warning: 0 Positive predictions\n"
     ]
    },
    {
     "name": "stdout",
     "output_type": "stream",
     "text": [
      "Warning: 0 Positive predictions\n"
     ]
    },
    {
     "name": "stdout",
     "output_type": "stream",
     "text": [
      "Warning: 0 Positive predictions\n"
     ]
    },
    {
     "name": "stdout",
     "output_type": "stream",
     "text": [
      "Warning: 0 Positive predictions\n"
     ]
    },
    {
     "name": "stdout",
     "output_type": "stream",
     "text": [
      "Warning: 0 Positive predictions\n",
      "Warning: 0 Positive predictions\n"
     ]
    },
    {
     "name": "stdout",
     "output_type": "stream",
     "text": [
      "Warning: 0 Positive predictions\n"
     ]
    },
    {
     "name": "stdout",
     "output_type": "stream",
     "text": [
      "Warning: 0 Positive predictions\n",
      "Warning: 0 Positive predictions\n"
     ]
    },
    {
     "name": "stdout",
     "output_type": "stream",
     "text": [
      "Warning: 0 Positive predictions\n"
     ]
    },
    {
     "name": "stdout",
     "output_type": "stream",
     "text": [
      "Warning: 0 Positive predictions\n"
     ]
    },
    {
     "name": "stdout",
     "output_type": "stream",
     "text": [
      "Warning: 0 Positive predictions\n",
      "Warning: 0 Positive predictions\n"
     ]
    },
    {
     "name": "stdout",
     "output_type": "stream",
     "text": [
      "Warning: 0 Positive predictions\n"
     ]
    },
    {
     "name": "stdout",
     "output_type": "stream",
     "text": [
      "Warning: 0 Positive predictions\n"
     ]
    },
    {
     "name": "stdout",
     "output_type": "stream",
     "text": [
      "Warning: 0 Positive predictions\n",
      "Warning: 0 Positive predictions\n"
     ]
    },
    {
     "name": "stdout",
     "output_type": "stream",
     "text": [
      "Warning: 0 Positive predictions\n"
     ]
    },
    {
     "name": "stdout",
     "output_type": "stream",
     "text": [
      "Warning: 0 Positive predictions\n"
     ]
    },
    {
     "name": "stdout",
     "output_type": "stream",
     "text": [
      "Warning: 0 Positive predictions\n"
     ]
    },
    {
     "name": "stdout",
     "output_type": "stream",
     "text": [
      "Warning: 0 Positive predictions\n",
      "Warning: 0 Positive predictions\n"
     ]
    },
    {
     "name": "stdout",
     "output_type": "stream",
     "text": [
      "Warning: 0 Positive predictions\n"
     ]
    },
    {
     "name": "stdout",
     "output_type": "stream",
     "text": [
      "Warning: 0 Positive predictions\n",
      "Warning: 0 Positive predictions\n"
     ]
    },
    {
     "name": "stdout",
     "output_type": "stream",
     "text": [
      "Warning: 0 Positive predictions\n"
     ]
    },
    {
     "name": "stdout",
     "output_type": "stream",
     "text": [
      "Warning: 0 Positive predictions\n",
      "Warning: 0 Positive predictions\n"
     ]
    },
    {
     "name": "stdout",
     "output_type": "stream",
     "text": [
      "Warning: 0 Positive predictions\n"
     ]
    },
    {
     "name": "stdout",
     "output_type": "stream",
     "text": [
      "Warning: 0 Positive predictions\n"
     ]
    },
    {
     "name": "stdout",
     "output_type": "stream",
     "text": [
      "Warning: 0 Positive predictions\n",
      "Warning: 0 Positive predictions\n"
     ]
    },
    {
     "name": "stdout",
     "output_type": "stream",
     "text": [
      "Warning: 0 Positive predictions\n"
     ]
    },
    {
     "name": "stdout",
     "output_type": "stream",
     "text": [
      "Warning: 0 Positive predictions\n"
     ]
    },
    {
     "name": "stdout",
     "output_type": "stream",
     "text": [
      "Warning: 0 Positive predictions\n",
      "Warning: 0 Positive predictions\n"
     ]
    },
    {
     "name": "stdout",
     "output_type": "stream",
     "text": [
      "Warning: 0 Positive predictions\n"
     ]
    },
    {
     "name": "stdout",
     "output_type": "stream",
     "text": [
      "Warning: 0 Positive predictions\n"
     ]
    },
    {
     "name": "stdout",
     "output_type": "stream",
     "text": [
      "Warning: 0 Positive predictions\n",
      "Warning: 0 Positive predictions\n"
     ]
    },
    {
     "name": "stdout",
     "output_type": "stream",
     "text": [
      "Warning: 0 Positive predictions\n"
     ]
    },
    {
     "name": "stdout",
     "output_type": "stream",
     "text": [
      "Warning: 0 Positive predictions\n"
     ]
    },
    {
     "name": "stdout",
     "output_type": "stream",
     "text": [
      "Warning: 0 Positive predictions\n",
      "Warning: 0 Positive predictions\n",
      "Warning: 0 Positive predictions\n"
     ]
    },
    {
     "name": "stdout",
     "output_type": "stream",
     "text": [
      "Warning: 0 Positive predictions\n",
      "Warning: 0 Positive predictions\n",
      "Warning: 0 Positive predictions\n"
     ]
    },
    {
     "name": "stdout",
     "output_type": "stream",
     "text": [
      "Warning: 0 Positive predictions\n",
      "Warning: 0 Positive predictions\n"
     ]
    },
    {
     "name": "stdout",
     "output_type": "stream",
     "text": [
      "Warning: 0 Positive predictions\n"
     ]
    },
    {
     "name": "stdout",
     "output_type": "stream",
     "text": [
      "Warning: 0 Positive predictions\n"
     ]
    },
    {
     "name": "stdout",
     "output_type": "stream",
     "text": [
      "Warning: 0 Positive predictions\n",
      "Warning: 0 Positive predictions\n"
     ]
    },
    {
     "name": "stdout",
     "output_type": "stream",
     "text": [
      "Warning: 0 Positive predictions\n"
     ]
    },
    {
     "name": "stdout",
     "output_type": "stream",
     "text": [
      "Warning: 0 Positive predictions\n",
      "Warning: 0 Positive predictions\n",
      "Warning: 0 Positive predictions\n"
     ]
    },
    {
     "name": "stdout",
     "output_type": "stream",
     "text": [
      "Warning: 0 Positive predictions\n"
     ]
    },
    {
     "name": "stdout",
     "output_type": "stream",
     "text": [
      "Warning: 0 Positive predictions\n"
     ]
    },
    {
     "name": "stdout",
     "output_type": "stream",
     "text": [
      "Warning: 0 Positive predictions\n"
     ]
    },
    {
     "name": "stdout",
     "output_type": "stream",
     "text": [
      "Warning: 0 Positive predictions\n"
     ]
    },
    {
     "name": "stdout",
     "output_type": "stream",
     "text": [
      "Warning: 0 Positive predictions\n",
      "Warning: 0 Positive predictions\n"
     ]
    },
    {
     "name": "stdout",
     "output_type": "stream",
     "text": [
      "Warning: 0 Positive predictions\n"
     ]
    },
    {
     "name": "stdout",
     "output_type": "stream",
     "text": [
      "Warning: 0 Positive predictions\n"
     ]
    },
    {
     "name": "stdout",
     "output_type": "stream",
     "text": [
      "Warning: 0 Positive predictions\n"
     ]
    },
    {
     "name": "stdout",
     "output_type": "stream",
     "text": [
      "Warning: 0 Positive predictions\n",
      "Warning: 0 Positive predictions\n",
      "Warning: 0 Positive predictions\n"
     ]
    },
    {
     "name": "stdout",
     "output_type": "stream",
     "text": [
      "Warning: 0 Positive predictions\n",
      "Warning: 0 Positive predictions\n",
      "Warning: 0 Positive predictions\n"
     ]
    },
    {
     "name": "stdout",
     "output_type": "stream",
     "text": [
      "Warning: 0 Positive predictions\n",
      "Warning: 0 Positive predictions\n"
     ]
    },
    {
     "name": "stdout",
     "output_type": "stream",
     "text": [
      "Warning: 0 Positive predictions\n"
     ]
    },
    {
     "name": "stdout",
     "output_type": "stream",
     "text": [
      "Warning: 0 Positive predictions\n"
     ]
    },
    {
     "name": "stdout",
     "output_type": "stream",
     "text": [
      "Warning: 0 Positive predictions\n"
     ]
    },
    {
     "name": "stdout",
     "output_type": "stream",
     "text": [
      "Warning: 0 Positive predictions\n"
     ]
    },
    {
     "name": "stdout",
     "output_type": "stream",
     "text": [
      "Warning: 0 Positive predictions\n"
     ]
    },
    {
     "name": "stdout",
     "output_type": "stream",
     "text": [
      "Warning: 0 Positive predictions\n",
      "Warning: 0 Positive predictions\n"
     ]
    },
    {
     "name": "stdout",
     "output_type": "stream",
     "text": [
      "Warning: 0 Positive predictions\n"
     ]
    },
    {
     "name": "stdout",
     "output_type": "stream",
     "text": [
      "Warning: 0 Positive predictions\n",
      "Warning: 0 Positive predictions\n"
     ]
    },
    {
     "name": "stdout",
     "output_type": "stream",
     "text": [
      "Warning: 0 Positive predictions\n"
     ]
    },
    {
     "name": "stdout",
     "output_type": "stream",
     "text": [
      "Warning: 0 Positive predictions\n",
      "Warning: 0 Positive predictions\n"
     ]
    },
    {
     "name": "stdout",
     "output_type": "stream",
     "text": [
      "Warning: 0 Positive predictions\n"
     ]
    },
    {
     "name": "stdout",
     "output_type": "stream",
     "text": [
      "Executing correlation 0.2\n"
     ]
    },
    {
     "name": "stdout",
     "output_type": "stream",
     "text": [
      "Warning: 0 Positive predictions\n"
     ]
    },
    {
     "name": "stdout",
     "output_type": "stream",
     "text": [
      "Warning: 0 Positive predictions\n"
     ]
    },
    {
     "name": "stdout",
     "output_type": "stream",
     "text": [
      "Warning: 0 Positive predictions\n"
     ]
    },
    {
     "name": "stdout",
     "output_type": "stream",
     "text": [
      "Warning: 0 Positive predictions\n"
     ]
    },
    {
     "name": "stdout",
     "output_type": "stream",
     "text": [
      "Warning: 0 Positive predictions\n",
      "Warning: 0 Positive predictions\n"
     ]
    },
    {
     "name": "stdout",
     "output_type": "stream",
     "text": [
      "Warning: 0 Positive predictions\n"
     ]
    },
    {
     "name": "stdout",
     "output_type": "stream",
     "text": [
      "Warning: 0 Positive predictions\n"
     ]
    },
    {
     "name": "stdout",
     "output_type": "stream",
     "text": [
      "Warning: 0 Positive predictions\n",
      "Warning: 0 Positive predictions\n"
     ]
    },
    {
     "name": "stdout",
     "output_type": "stream",
     "text": [
      "Warning: 0 Positive predictions\n",
      "Warning: 0 Positive predictions\n"
     ]
    },
    {
     "name": "stdout",
     "output_type": "stream",
     "text": [
      "Warning: 0 Positive predictions\n",
      "Warning: 0 Positive predictions\n"
     ]
    },
    {
     "name": "stdout",
     "output_type": "stream",
     "text": [
      "Warning: 0 Positive predictions\n",
      "Warning: 0 Positive predictions\n"
     ]
    },
    {
     "name": "stdout",
     "output_type": "stream",
     "text": [
      "Warning: 0 Positive predictions\n",
      "Warning: 0 Positive predictions\n"
     ]
    },
    {
     "name": "stdout",
     "output_type": "stream",
     "text": [
      "Warning: 0 Positive predictions\n"
     ]
    },
    {
     "name": "stdout",
     "output_type": "stream",
     "text": [
      "Warning: 0 Positive predictions\n"
     ]
    },
    {
     "name": "stdout",
     "output_type": "stream",
     "text": [
      "Warning: 0 Positive predictions\n",
      "Warning: 0 Positive predictions\n"
     ]
    },
    {
     "name": "stdout",
     "output_type": "stream",
     "text": [
      "Warning: 0 Positive predictions\n"
     ]
    },
    {
     "name": "stdout",
     "output_type": "stream",
     "text": [
      "Warning: 0 Positive predictions\n"
     ]
    },
    {
     "name": "stdout",
     "output_type": "stream",
     "text": [
      "Warning: 0 Positive predictions\n",
      "Warning: 0 Positive predictions\n",
      "Warning: 0 Positive predictions\n"
     ]
    },
    {
     "name": "stdout",
     "output_type": "stream",
     "text": [
      "Warning: 0 Positive predictions\n",
      "Warning: 0 Positive predictions\n"
     ]
    },
    {
     "name": "stdout",
     "output_type": "stream",
     "text": [
      "Warning: 0 Positive predictions\n",
      "Warning: 0 Positive predictions\n"
     ]
    },
    {
     "name": "stdout",
     "output_type": "stream",
     "text": [
      "Warning: 0 Positive predictions\n",
      "Warning: 0 Positive predictions\n"
     ]
    },
    {
     "name": "stdout",
     "output_type": "stream",
     "text": [
      "Warning: 0 Positive predictions\n"
     ]
    },
    {
     "name": "stdout",
     "output_type": "stream",
     "text": [
      "Warning: 0 Positive predictions\n",
      "Warning: 0 Positive predictions\n"
     ]
    },
    {
     "name": "stdout",
     "output_type": "stream",
     "text": [
      "Warning: 0 Positive predictions\n",
      "Warning: 0 Positive predictions\n"
     ]
    },
    {
     "name": "stdout",
     "output_type": "stream",
     "text": [
      "Warning: 0 Positive predictions\n",
      "Warning: 0 Positive predictions\n",
      "Warning: 0 Positive predictions\n"
     ]
    },
    {
     "name": "stdout",
     "output_type": "stream",
     "text": [
      "Warning: 0 Positive predictions\n"
     ]
    },
    {
     "name": "stdout",
     "output_type": "stream",
     "text": [
      "Warning: 0 Positive predictions\n"
     ]
    },
    {
     "name": "stdout",
     "output_type": "stream",
     "text": [
      "Warning: 0 Positive predictions\n"
     ]
    },
    {
     "name": "stdout",
     "output_type": "stream",
     "text": [
      "Warning: 0 Positive predictions\n"
     ]
    },
    {
     "name": "stdout",
     "output_type": "stream",
     "text": [
      "Warning: 0 Positive predictions\n"
     ]
    },
    {
     "name": "stdout",
     "output_type": "stream",
     "text": [
      "Warning: 0 Positive predictions\n",
      "Warning: 0 Positive predictions\n"
     ]
    },
    {
     "name": "stdout",
     "output_type": "stream",
     "text": [
      "Warning: 0 Positive predictions\n",
      "Warning: 0 Positive predictions\n"
     ]
    },
    {
     "name": "stdout",
     "output_type": "stream",
     "text": [
      "Warning: 0 Positive predictions\n"
     ]
    },
    {
     "name": "stdout",
     "output_type": "stream",
     "text": [
      "Warning: 0 Positive predictions\n"
     ]
    },
    {
     "name": "stdout",
     "output_type": "stream",
     "text": [
      "Warning: 0 Positive predictions\n",
      "Warning: 0 Positive predictions\n"
     ]
    },
    {
     "name": "stdout",
     "output_type": "stream",
     "text": [
      "Warning: 0 Positive predictions\n",
      "Warning: 0 Positive predictions\n"
     ]
    },
    {
     "name": "stdout",
     "output_type": "stream",
     "text": [
      "Warning: 0 Positive predictions\n"
     ]
    },
    {
     "name": "stdout",
     "output_type": "stream",
     "text": [
      "Warning: 0 Positive predictions\n",
      "Warning: 0 Positive predictions\n"
     ]
    },
    {
     "name": "stdout",
     "output_type": "stream",
     "text": [
      "Warning: 0 Positive predictions\n",
      "Warning: 0 Positive predictions\n"
     ]
    },
    {
     "name": "stdout",
     "output_type": "stream",
     "text": [
      "Warning: 0 Positive predictions\n"
     ]
    },
    {
     "name": "stdout",
     "output_type": "stream",
     "text": [
      "Warning: 0 Positive predictions\n",
      "Warning: 0 Positive predictions\n"
     ]
    },
    {
     "name": "stdout",
     "output_type": "stream",
     "text": [
      "Warning: 0 Positive predictions\n"
     ]
    },
    {
     "name": "stdout",
     "output_type": "stream",
     "text": [
      "Warning: 0 Positive predictions\n",
      "Warning: 0 Positive predictions\n"
     ]
    },
    {
     "name": "stdout",
     "output_type": "stream",
     "text": [
      "Warning: 0 Positive predictions\n"
     ]
    },
    {
     "name": "stdout",
     "output_type": "stream",
     "text": [
      "Warning: 0 Positive predictions\n"
     ]
    },
    {
     "name": "stdout",
     "output_type": "stream",
     "text": [
      "Warning: 0 Positive predictions\n"
     ]
    },
    {
     "name": "stdout",
     "output_type": "stream",
     "text": [
      "Warning: 0 Positive predictions\n",
      "Warning: 0 Positive predictions\n"
     ]
    },
    {
     "name": "stdout",
     "output_type": "stream",
     "text": [
      "Warning: 0 Positive predictions\n"
     ]
    },
    {
     "name": "stdout",
     "output_type": "stream",
     "text": [
      "Warning: 0 Positive predictions\n",
      "Warning: 0 Positive predictions\n",
      "Warning: 0 Positive predictions\n"
     ]
    },
    {
     "name": "stdout",
     "output_type": "stream",
     "text": [
      "Warning: 0 Positive predictions\n",
      "Warning: 0 Positive predictions\n"
     ]
    },
    {
     "name": "stdout",
     "output_type": "stream",
     "text": [
      "Warning: 0 Positive predictions\n"
     ]
    },
    {
     "name": "stdout",
     "output_type": "stream",
     "text": [
      "Warning: 0 Positive predictions\n"
     ]
    },
    {
     "name": "stdout",
     "output_type": "stream",
     "text": [
      "Warning: 0 Positive predictions\n",
      "Warning: 0 Positive predictions\n",
      "Warning: 0 Positive predictions\n"
     ]
    },
    {
     "name": "stdout",
     "output_type": "stream",
     "text": [
      "Warning: 0 Positive predictions\n",
      "Warning: 0 Positive predictions\n"
     ]
    },
    {
     "name": "stdout",
     "output_type": "stream",
     "text": [
      "Warning: 0 Positive predictions\n"
     ]
    },
    {
     "name": "stdout",
     "output_type": "stream",
     "text": [
      "Warning: 0 Positive predictions\n",
      "Warning: 0 Positive predictions\n"
     ]
    },
    {
     "name": "stdout",
     "output_type": "stream",
     "text": [
      "Warning: 0 Positive predictions\n",
      "Warning: 0 Positive predictions\n",
      "Warning: 0 Positive predictions\n"
     ]
    },
    {
     "name": "stdout",
     "output_type": "stream",
     "text": [
      "Warning: 0 Positive predictions\n"
     ]
    },
    {
     "name": "stdout",
     "output_type": "stream",
     "text": [
      "Warning: 0 Positive predictions\n"
     ]
    },
    {
     "name": "stdout",
     "output_type": "stream",
     "text": [
      "Warning: 0 Positive predictions\n"
     ]
    },
    {
     "name": "stdout",
     "output_type": "stream",
     "text": [
      "Warning: 0 Positive predictions\n",
      "Warning: 0 Positive predictions\n"
     ]
    },
    {
     "name": "stdout",
     "output_type": "stream",
     "text": [
      "Warning: 0 Positive predictions\n",
      "Warning: 0 Positive predictions\n",
      "Warning: 0 Positive predictions\n"
     ]
    },
    {
     "name": "stdout",
     "output_type": "stream",
     "text": [
      "Warning: 0 Positive predictions\n"
     ]
    },
    {
     "name": "stdout",
     "output_type": "stream",
     "text": [
      "Warning: 0 Positive predictions\n",
      "Warning: 0 Positive predictions\n"
     ]
    },
    {
     "name": "stdout",
     "output_type": "stream",
     "text": [
      "Warning: 0 Positive predictions\n",
      "Warning: 0 Positive predictions\n"
     ]
    },
    {
     "name": "stdout",
     "output_type": "stream",
     "text": [
      "Warning: 0 Positive predictions\n",
      "Warning: 0 Positive predictions\n"
     ]
    },
    {
     "name": "stdout",
     "output_type": "stream",
     "text": [
      "Warning: 0 Positive predictions\n",
      "Warning: 0 Positive predictions\n"
     ]
    },
    {
     "name": "stdout",
     "output_type": "stream",
     "text": [
      "Warning: 0 Positive predictions\n",
      "Warning: 0 Positive predictions\n"
     ]
    },
    {
     "name": "stdout",
     "output_type": "stream",
     "text": [
      "Warning: 0 Positive predictions\n",
      "Warning: 0 Positive predictions\n",
      "Warning: 0 Positive predictions\n"
     ]
    },
    {
     "name": "stdout",
     "output_type": "stream",
     "text": [
      "Warning: 0 Positive predictions\n"
     ]
    },
    {
     "name": "stdout",
     "output_type": "stream",
     "text": [
      "Warning: 0 Positive predictions\n",
      "Warning: 0 Positive predictions\n",
      "Warning: 0 Positive predictions\n"
     ]
    },
    {
     "name": "stdout",
     "output_type": "stream",
     "text": [
      "Executing correlation 0.3\n"
     ]
    },
    {
     "name": "stdout",
     "output_type": "stream",
     "text": [
      "Warning: 0 Positive predictions\n"
     ]
    },
    {
     "name": "stdout",
     "output_type": "stream",
     "text": [
      "Warning: 0 Positive predictions\n"
     ]
    },
    {
     "name": "stdout",
     "output_type": "stream",
     "text": [
      "Warning: 0 Positive predictions\n",
      "Warning: 0 Positive predictions\n",
      "Warning: 0 Positive predictions\n"
     ]
    },
    {
     "name": "stdout",
     "output_type": "stream",
     "text": [
      "Warning: 0 Positive predictions\n"
     ]
    },
    {
     "name": "stdout",
     "output_type": "stream",
     "text": [
      "Warning: 0 Positive predictions\n"
     ]
    },
    {
     "name": "stdout",
     "output_type": "stream",
     "text": [
      "Warning: 0 Positive predictions\n",
      "Warning: 0 Positive predictions\n"
     ]
    },
    {
     "name": "stdout",
     "output_type": "stream",
     "text": [
      "Warning: 0 Positive predictions\n"
     ]
    },
    {
     "name": "stdout",
     "output_type": "stream",
     "text": [
      "Warning: 0 Positive predictions\n"
     ]
    },
    {
     "name": "stdout",
     "output_type": "stream",
     "text": [
      "Warning: 0 Positive predictions\n",
      "Warning: 0 Positive predictions\n"
     ]
    },
    {
     "name": "stdout",
     "output_type": "stream",
     "text": [
      "Warning: 0 Positive predictions\n",
      "Warning: 0 Positive predictions\n"
     ]
    },
    {
     "name": "stdout",
     "output_type": "stream",
     "text": [
      "Warning: 0 Positive predictions\n",
      "Warning: 0 Positive predictions\n"
     ]
    },
    {
     "name": "stdout",
     "output_type": "stream",
     "text": [
      "Warning: 0 Positive predictions\n"
     ]
    },
    {
     "name": "stdout",
     "output_type": "stream",
     "text": [
      "Warning: 0 Positive predictions\n",
      "Warning: 0 Positive predictions\n"
     ]
    },
    {
     "name": "stdout",
     "output_type": "stream",
     "text": [
      "Warning: 0 Positive predictions\n",
      "Warning: 0 Positive predictions\n"
     ]
    },
    {
     "name": "stdout",
     "output_type": "stream",
     "text": [
      "Warning: 0 Positive predictions\n",
      "Warning: 0 Positive predictions\n"
     ]
    },
    {
     "name": "stdout",
     "output_type": "stream",
     "text": [
      "Warning: 0 Positive predictions\n"
     ]
    },
    {
     "name": "stdout",
     "output_type": "stream",
     "text": [
      "Warning: 0 Positive predictions\n"
     ]
    },
    {
     "name": "stdout",
     "output_type": "stream",
     "text": [
      "Warning: 0 Positive predictions\n"
     ]
    },
    {
     "name": "stdout",
     "output_type": "stream",
     "text": [
      "Warning: 0 Positive predictions\n",
      "Warning: 0 Positive predictions\n"
     ]
    },
    {
     "name": "stdout",
     "output_type": "stream",
     "text": [
      "Warning: 0 Positive predictions\n"
     ]
    },
    {
     "name": "stdout",
     "output_type": "stream",
     "text": [
      "Warning: 0 Positive predictions\n"
     ]
    },
    {
     "name": "stdout",
     "output_type": "stream",
     "text": [
      "Warning: 0 Positive predictions\n"
     ]
    },
    {
     "name": "stdout",
     "output_type": "stream",
     "text": [
      "Warning: 0 Positive predictions\n"
     ]
    },
    {
     "name": "stdout",
     "output_type": "stream",
     "text": [
      "Warning: 0 Positive predictions\n",
      "Warning: 0 Positive predictions\n"
     ]
    },
    {
     "name": "stdout",
     "output_type": "stream",
     "text": [
      "Warning: 0 Positive predictions\n"
     ]
    },
    {
     "name": "stdout",
     "output_type": "stream",
     "text": [
      "Warning: 0 Positive predictions\n",
      "Warning: 0 Positive predictions\n"
     ]
    },
    {
     "name": "stdout",
     "output_type": "stream",
     "text": [
      "Warning: 0 Positive predictions\n",
      "Warning: 0 Positive predictions\n"
     ]
    },
    {
     "name": "stdout",
     "output_type": "stream",
     "text": [
      "Warning: 0 Positive predictions\n"
     ]
    },
    {
     "name": "stdout",
     "output_type": "stream",
     "text": [
      "Warning: 0 Positive predictions\n",
      "Warning: 0 Positive predictions\n"
     ]
    },
    {
     "name": "stdout",
     "output_type": "stream",
     "text": [
      "Warning: 0 Positive predictions\n"
     ]
    },
    {
     "name": "stdout",
     "output_type": "stream",
     "text": [
      "Warning: 0 Positive predictions\n",
      "Warning: 0 Positive predictions\n"
     ]
    },
    {
     "name": "stdout",
     "output_type": "stream",
     "text": [
      "Warning: 0 Positive predictions\n"
     ]
    },
    {
     "name": "stdout",
     "output_type": "stream",
     "text": [
      "Warning: 0 Positive predictions\n"
     ]
    },
    {
     "name": "stdout",
     "output_type": "stream",
     "text": [
      "Warning: 0 Positive predictions\n"
     ]
    },
    {
     "name": "stdout",
     "output_type": "stream",
     "text": [
      "Warning: 0 Positive predictions\n"
     ]
    },
    {
     "name": "stdout",
     "output_type": "stream",
     "text": [
      "Warning: 0 Positive predictions\n",
      "Warning: 0 Positive predictions\n"
     ]
    },
    {
     "name": "stdout",
     "output_type": "stream",
     "text": [
      "Warning: 0 Positive predictions\n"
     ]
    },
    {
     "name": "stdout",
     "output_type": "stream",
     "text": [
      "Warning: 0 Positive predictions\n"
     ]
    },
    {
     "name": "stdout",
     "output_type": "stream",
     "text": [
      "Warning: 0 Positive predictions\n",
      "Warning: 0 Positive predictions\n"
     ]
    },
    {
     "name": "stdout",
     "output_type": "stream",
     "text": [
      "Warning: 0 Positive predictions\n"
     ]
    },
    {
     "name": "stdout",
     "output_type": "stream",
     "text": [
      "Warning: 0 Positive predictions\n",
      "Warning: 0 Positive predictions\n"
     ]
    },
    {
     "name": "stdout",
     "output_type": "stream",
     "text": [
      "Warning: 0 Positive predictions\n"
     ]
    },
    {
     "name": "stdout",
     "output_type": "stream",
     "text": [
      "Warning: 0 Positive predictions\n",
      "Warning: 0 Positive predictions\n"
     ]
    },
    {
     "name": "stdout",
     "output_type": "stream",
     "text": [
      "Warning: 0 Positive predictions\n"
     ]
    },
    {
     "name": "stdout",
     "output_type": "stream",
     "text": [
      "Warning: 0 Positive predictions\n"
     ]
    },
    {
     "name": "stdout",
     "output_type": "stream",
     "text": [
      "Warning: 0 Positive predictions\n"
     ]
    },
    {
     "name": "stdout",
     "output_type": "stream",
     "text": [
      "Warning: 0 Positive predictions\n",
      "Warning: 0 Positive predictions\n"
     ]
    },
    {
     "name": "stdout",
     "output_type": "stream",
     "text": [
      "Warning: 0 Positive predictions\n"
     ]
    },
    {
     "name": "stdout",
     "output_type": "stream",
     "text": [
      "Warning: 0 Positive predictions\n"
     ]
    },
    {
     "name": "stdout",
     "output_type": "stream",
     "text": [
      "Warning: 0 Positive predictions\n",
      "Warning: 0 Positive predictions\n"
     ]
    },
    {
     "name": "stdout",
     "output_type": "stream",
     "text": [
      "Warning: 0 Positive predictions\n"
     ]
    },
    {
     "name": "stdout",
     "output_type": "stream",
     "text": [
      "Warning: 0 Positive predictions\n"
     ]
    },
    {
     "name": "stdout",
     "output_type": "stream",
     "text": [
      "Warning: 0 Positive predictions\n",
      "Warning: 0 Positive predictions\n"
     ]
    },
    {
     "name": "stdout",
     "output_type": "stream",
     "text": [
      "Warning: 0 Positive predictions\n"
     ]
    },
    {
     "name": "stdout",
     "output_type": "stream",
     "text": [
      "Warning: 0 Positive predictions\n"
     ]
    },
    {
     "name": "stdout",
     "output_type": "stream",
     "text": [
      "Warning: 0 Positive predictions\n",
      "Warning: 0 Positive predictions\n"
     ]
    },
    {
     "name": "stdout",
     "output_type": "stream",
     "text": [
      "Warning: 0 Positive predictions\n"
     ]
    },
    {
     "name": "stdout",
     "output_type": "stream",
     "text": [
      "Warning: 0 Positive predictions\n",
      "Warning: 0 Positive predictions\n",
      "Warning: 0 Positive predictions\n"
     ]
    },
    {
     "name": "stdout",
     "output_type": "stream",
     "text": [
      "Warning: 0 Positive predictions\n"
     ]
    },
    {
     "name": "stdout",
     "output_type": "stream",
     "text": [
      "Warning: 0 Positive predictions\n",
      "Warning: 0 Positive predictions\n",
      "Warning: 0 Positive predictions\n"
     ]
    },
    {
     "name": "stdout",
     "output_type": "stream",
     "text": [
      "Warning: 0 Positive predictions\n"
     ]
    },
    {
     "name": "stdout",
     "output_type": "stream",
     "text": [
      "Warning: 0 Positive predictions\n"
     ]
    },
    {
     "name": "stdout",
     "output_type": "stream",
     "text": [
      "Warning: 0 Positive predictions\n"
     ]
    },
    {
     "name": "stdout",
     "output_type": "stream",
     "text": [
      "Warning: 0 Positive predictions\n",
      "Warning: 0 Positive predictions\n"
     ]
    },
    {
     "name": "stdout",
     "output_type": "stream",
     "text": [
      "Warning: 0 Positive predictions\n",
      "Warning: 0 Positive predictions\n"
     ]
    },
    {
     "name": "stdout",
     "output_type": "stream",
     "text": [
      "Warning: 0 Positive predictions\n"
     ]
    },
    {
     "name": "stdout",
     "output_type": "stream",
     "text": [
      "Warning: 0 Positive predictions\n"
     ]
    },
    {
     "name": "stdout",
     "output_type": "stream",
     "text": [
      "Warning: 0 Positive predictions\n"
     ]
    },
    {
     "name": "stdout",
     "output_type": "stream",
     "text": [
      "Warning: 0 Positive predictions\n",
      "Warning: 0 Positive predictions\n"
     ]
    },
    {
     "name": "stdout",
     "output_type": "stream",
     "text": [
      "Warning: 0 Positive predictions\n",
      "Warning: 0 Positive predictions\n"
     ]
    },
    {
     "name": "stdout",
     "output_type": "stream",
     "text": [
      "Warning: 0 Positive predictions\n"
     ]
    },
    {
     "name": "stdout",
     "output_type": "stream",
     "text": [
      "Warning: 0 Positive predictions\n"
     ]
    },
    {
     "name": "stdout",
     "output_type": "stream",
     "text": [
      "Warning: 0 Positive predictions\n"
     ]
    },
    {
     "name": "stdout",
     "output_type": "stream",
     "text": [
      "Warning: 0 Positive predictions\n",
      "Warning: 0 Positive predictions\n"
     ]
    },
    {
     "name": "stdout",
     "output_type": "stream",
     "text": [
      "Warning: 0 Positive predictions\n"
     ]
    },
    {
     "name": "stdout",
     "output_type": "stream",
     "text": [
      "Warning: 0 Positive predictions\n"
     ]
    },
    {
     "name": "stdout",
     "output_type": "stream",
     "text": [
      "Warning: 0 Positive predictions\n"
     ]
    },
    {
     "name": "stdout",
     "output_type": "stream",
     "text": [
      "Warning: 0 Positive predictions\n",
      "Warning: 0 Positive predictions\n"
     ]
    },
    {
     "name": "stdout",
     "output_type": "stream",
     "text": [
      "Warning: 0 Positive predictions\n",
      "Warning: 0 Positive predictions\n"
     ]
    },
    {
     "name": "stdout",
     "output_type": "stream",
     "text": [
      "Warning: 0 Positive predictions\n",
      "Warning: 0 Positive predictions\n"
     ]
    },
    {
     "name": "stdout",
     "output_type": "stream",
     "text": [
      "Warning: 0 Positive predictions\n",
      "Warning: 0 Positive predictions\n"
     ]
    },
    {
     "name": "stdout",
     "output_type": "stream",
     "text": [
      "Warning: 0 Positive predictions\n"
     ]
    },
    {
     "name": "stdout",
     "output_type": "stream",
     "text": [
      "Warning: 0 Positive predictions\n",
      "Executing correlation 0.4\n"
     ]
    },
    {
     "name": "stdout",
     "output_type": "stream",
     "text": [
      "Warning: 0 Positive predictions\n"
     ]
    },
    {
     "name": "stdout",
     "output_type": "stream",
     "text": [
      "Warning: 0 Positive predictions\n"
     ]
    },
    {
     "name": "stdout",
     "output_type": "stream",
     "text": [
      "Warning: 0 Positive predictions\n"
     ]
    },
    {
     "name": "stdout",
     "output_type": "stream",
     "text": [
      "Warning: 0 Positive predictions\n"
     ]
    },
    {
     "name": "stdout",
     "output_type": "stream",
     "text": [
      "Warning: 0 Positive predictions\n"
     ]
    },
    {
     "name": "stdout",
     "output_type": "stream",
     "text": [
      "Warning: 0 Positive predictions\n"
     ]
    },
    {
     "name": "stdout",
     "output_type": "stream",
     "text": [
      "Warning: 0 Positive predictions\n",
      "Warning: 0 Positive predictions\n"
     ]
    },
    {
     "name": "stdout",
     "output_type": "stream",
     "text": [
      "Warning: 0 Positive predictions\n",
      "Warning: 0 Positive predictions\n"
     ]
    },
    {
     "name": "stdout",
     "output_type": "stream",
     "text": [
      "Warning: 0 Positive predictions\n",
      "Warning: 0 Positive predictions\n"
     ]
    },
    {
     "name": "stdout",
     "output_type": "stream",
     "text": [
      "Warning: 0 Positive predictions\n"
     ]
    },
    {
     "name": "stdout",
     "output_type": "stream",
     "text": [
      "Warning: 0 Positive predictions\n"
     ]
    },
    {
     "name": "stdout",
     "output_type": "stream",
     "text": [
      "Warning: 0 Positive predictions\n",
      "Warning: 0 Positive predictions\n"
     ]
    },
    {
     "name": "stdout",
     "output_type": "stream",
     "text": [
      "Warning: 0 Positive predictions\n"
     ]
    },
    {
     "name": "stdout",
     "output_type": "stream",
     "text": [
      "Warning: 0 Positive predictions\n"
     ]
    },
    {
     "name": "stdout",
     "output_type": "stream",
     "text": [
      "Warning: 0 Positive predictions\n",
      "Warning: 0 Positive predictions\n"
     ]
    },
    {
     "name": "stdout",
     "output_type": "stream",
     "text": [
      "Warning: 0 Positive predictions\n",
      "Warning: 0 Positive predictions\n"
     ]
    },
    {
     "name": "stdout",
     "output_type": "stream",
     "text": [
      "Warning: 0 Positive predictions\n"
     ]
    },
    {
     "name": "stdout",
     "output_type": "stream",
     "text": [
      "Warning: 0 Positive predictions\n"
     ]
    },
    {
     "name": "stdout",
     "output_type": "stream",
     "text": [
      "Warning: 0 Positive predictions\n"
     ]
    },
    {
     "name": "stdout",
     "output_type": "stream",
     "text": [
      "Warning: 0 Positive predictions\n"
     ]
    },
    {
     "name": "stdout",
     "output_type": "stream",
     "text": [
      "Warning: 0 Positive predictions\n",
      "Warning: 0 Positive predictions\n"
     ]
    },
    {
     "name": "stdout",
     "output_type": "stream",
     "text": [
      "Warning: 0 Positive predictions\n"
     ]
    },
    {
     "name": "stdout",
     "output_type": "stream",
     "text": [
      "Warning: 0 Positive predictions\n"
     ]
    },
    {
     "name": "stdout",
     "output_type": "stream",
     "text": [
      "Warning: 0 Positive predictions\n",
      "Warning: 0 Positive predictions\n"
     ]
    },
    {
     "name": "stdout",
     "output_type": "stream",
     "text": [
      "Warning: 0 Positive predictions\n",
      "Warning: 0 Positive predictions\n"
     ]
    },
    {
     "name": "stdout",
     "output_type": "stream",
     "text": [
      "Warning: 0 Positive predictions\n",
      "Warning: 0 Positive predictions\n"
     ]
    },
    {
     "name": "stdout",
     "output_type": "stream",
     "text": [
      "Warning: 0 Positive predictions\n"
     ]
    },
    {
     "name": "stdout",
     "output_type": "stream",
     "text": [
      "Warning: 0 Positive predictions\n",
      "Warning: 0 Positive predictions\n"
     ]
    },
    {
     "name": "stdout",
     "output_type": "stream",
     "text": [
      "Warning: 0 Positive predictions\n"
     ]
    },
    {
     "name": "stdout",
     "output_type": "stream",
     "text": [
      "Warning: 0 Positive predictions\n"
     ]
    },
    {
     "name": "stdout",
     "output_type": "stream",
     "text": [
      "Warning: 0 Positive predictions\n",
      "Warning: 0 Positive predictions\n"
     ]
    },
    {
     "name": "stdout",
     "output_type": "stream",
     "text": [
      "Warning: 0 Positive predictions\n",
      "Warning: 0 Positive predictions\n"
     ]
    },
    {
     "name": "stdout",
     "output_type": "stream",
     "text": [
      "Warning: 0 Positive predictions\n"
     ]
    },
    {
     "name": "stdout",
     "output_type": "stream",
     "text": [
      "Warning: 0 Positive predictions\n"
     ]
    },
    {
     "name": "stdout",
     "output_type": "stream",
     "text": [
      "Warning: 0 Positive predictions\n"
     ]
    },
    {
     "name": "stdout",
     "output_type": "stream",
     "text": [
      "Warning: 0 Positive predictions\n",
      "Warning: 0 Positive predictions\n"
     ]
    },
    {
     "name": "stdout",
     "output_type": "stream",
     "text": [
      "Warning: 0 Positive predictions\n",
      "Warning: 0 Positive predictions\n"
     ]
    },
    {
     "name": "stdout",
     "output_type": "stream",
     "text": [
      "Warning: 0 Positive predictions\n",
      "Warning: 0 Positive predictions\n"
     ]
    },
    {
     "name": "stdout",
     "output_type": "stream",
     "text": [
      "Warning: 0 Positive predictions\n"
     ]
    },
    {
     "name": "stdout",
     "output_type": "stream",
     "text": [
      "Warning: 0 Positive predictions\n"
     ]
    },
    {
     "name": "stdout",
     "output_type": "stream",
     "text": [
      "Warning: 0 Positive predictions\n"
     ]
    },
    {
     "name": "stdout",
     "output_type": "stream",
     "text": [
      "Warning: 0 Positive predictions\n"
     ]
    },
    {
     "name": "stdout",
     "output_type": "stream",
     "text": [
      "Warning: 0 Positive predictions\n",
      "Warning: 0 Positive predictions\n"
     ]
    },
    {
     "name": "stdout",
     "output_type": "stream",
     "text": [
      "Warning: 0 Positive predictions\n",
      "Warning: 0 Positive predictions\n"
     ]
    },
    {
     "name": "stdout",
     "output_type": "stream",
     "text": [
      "Warning: 0 Positive predictions\n"
     ]
    },
    {
     "name": "stdout",
     "output_type": "stream",
     "text": [
      "Warning: 0 Positive predictions\n"
     ]
    },
    {
     "name": "stdout",
     "output_type": "stream",
     "text": [
      "Warning: 0 Positive predictions\n"
     ]
    },
    {
     "name": "stdout",
     "output_type": "stream",
     "text": [
      "Warning: 0 Positive predictions\n"
     ]
    },
    {
     "name": "stdout",
     "output_type": "stream",
     "text": [
      "Warning: 0 Positive predictions\n"
     ]
    },
    {
     "name": "stdout",
     "output_type": "stream",
     "text": [
      "Warning: 0 Positive predictions\n",
      "Warning: 0 Positive predictions\n"
     ]
    },
    {
     "name": "stdout",
     "output_type": "stream",
     "text": [
      "Warning: 0 Positive predictions\n"
     ]
    },
    {
     "name": "stdout",
     "output_type": "stream",
     "text": [
      "Warning: 0 Positive predictions\n"
     ]
    },
    {
     "name": "stdout",
     "output_type": "stream",
     "text": [
      "Warning: 0 Positive predictions\n"
     ]
    },
    {
     "name": "stdout",
     "output_type": "stream",
     "text": [
      "Warning: 0 Positive predictions\n"
     ]
    },
    {
     "name": "stdout",
     "output_type": "stream",
     "text": [
      "Warning: 0 Positive predictions\n"
     ]
    },
    {
     "name": "stdout",
     "output_type": "stream",
     "text": [
      "Warning: 0 Positive predictions\n"
     ]
    },
    {
     "name": "stdout",
     "output_type": "stream",
     "text": [
      "Warning: 0 Positive predictions\n",
      "Warning: 0 Positive predictions\n"
     ]
    },
    {
     "name": "stdout",
     "output_type": "stream",
     "text": [
      "Warning: 0 Positive predictions\n",
      "Warning: 0 Positive predictions\n"
     ]
    },
    {
     "name": "stdout",
     "output_type": "stream",
     "text": [
      "Warning: 0 Positive predictions\n",
      "Warning: 0 Positive predictions\n"
     ]
    },
    {
     "name": "stdout",
     "output_type": "stream",
     "text": [
      "Warning: 0 Positive predictions\n"
     ]
    },
    {
     "name": "stdout",
     "output_type": "stream",
     "text": [
      "Warning: 0 Positive predictions\n"
     ]
    },
    {
     "name": "stdout",
     "output_type": "stream",
     "text": [
      "Warning: 0 Positive predictions\n",
      "Warning: 0 Positive predictions\n"
     ]
    },
    {
     "name": "stdout",
     "output_type": "stream",
     "text": [
      "Warning: 0 Positive predictions\n",
      "Warning: 0 Positive predictions\n"
     ]
    },
    {
     "name": "stdout",
     "output_type": "stream",
     "text": [
      "Warning: 0 Positive predictions\n"
     ]
    },
    {
     "name": "stdout",
     "output_type": "stream",
     "text": [
      "Warning: 0 Positive predictions\n"
     ]
    },
    {
     "name": "stdout",
     "output_type": "stream",
     "text": [
      "Warning: 0 Positive predictions\n"
     ]
    },
    {
     "name": "stdout",
     "output_type": "stream",
     "text": [
      "Warning: 0 Positive predictions\n"
     ]
    },
    {
     "name": "stdout",
     "output_type": "stream",
     "text": [
      "Warning: 0 Positive predictions\n"
     ]
    },
    {
     "name": "stdout",
     "output_type": "stream",
     "text": [
      "Warning: 0 Positive predictions\n"
     ]
    },
    {
     "name": "stdout",
     "output_type": "stream",
     "text": [
      "Warning: 0 Positive predictions\n",
      "Warning: 0 Positive predictions\n"
     ]
    },
    {
     "name": "stdout",
     "output_type": "stream",
     "text": [
      "Warning: 0 Positive predictions\n"
     ]
    },
    {
     "name": "stdout",
     "output_type": "stream",
     "text": [
      "Warning: 0 Positive predictions\n"
     ]
    },
    {
     "name": "stdout",
     "output_type": "stream",
     "text": [
      "Warning: 0 Positive predictions\n",
      "Warning: 0 Positive predictions\n"
     ]
    },
    {
     "name": "stdout",
     "output_type": "stream",
     "text": [
      "Warning: 0 Positive predictions\n"
     ]
    },
    {
     "name": "stdout",
     "output_type": "stream",
     "text": [
      "Warning: 0 Positive predictions\n"
     ]
    },
    {
     "name": "stdout",
     "output_type": "stream",
     "text": [
      "Warning: 0 Positive predictions\n"
     ]
    },
    {
     "name": "stdout",
     "output_type": "stream",
     "text": [
      "Warning: 0 Positive predictions\n"
     ]
    },
    {
     "name": "stdout",
     "output_type": "stream",
     "text": [
      "Warning: 0 Positive predictions\n"
     ]
    },
    {
     "name": "stdout",
     "output_type": "stream",
     "text": [
      "Warning: 0 Positive predictions\n"
     ]
    },
    {
     "name": "stdout",
     "output_type": "stream",
     "text": [
      "Warning: 0 Positive predictions\n"
     ]
    },
    {
     "name": "stdout",
     "output_type": "stream",
     "text": [
      "Warning: 0 Positive predictions\n"
     ]
    },
    {
     "name": "stdout",
     "output_type": "stream",
     "text": [
      "Warning: 0 Positive predictions\n"
     ]
    },
    {
     "name": "stdout",
     "output_type": "stream",
     "text": [
      "Warning: 0 Positive predictions\n"
     ]
    },
    {
     "name": "stdout",
     "output_type": "stream",
     "text": [
      "Warning: 0 Positive predictions\n",
      "Warning: 0 Positive predictions\n"
     ]
    },
    {
     "name": "stdout",
     "output_type": "stream",
     "text": [
      "Warning: 0 Positive predictions\n"
     ]
    },
    {
     "name": "stdout",
     "output_type": "stream",
     "text": [
      "Warning: 0 Positive predictions\n"
     ]
    },
    {
     "name": "stdout",
     "output_type": "stream",
     "text": [
      "Warning: 0 Positive predictions\n"
     ]
    },
    {
     "name": "stdout",
     "output_type": "stream",
     "text": [
      "Warning: 0 Positive predictions\n"
     ]
    },
    {
     "name": "stdout",
     "output_type": "stream",
     "text": [
      "Warning: 0 Positive predictions\n",
      "Executing correlation 0.5\n"
     ]
    },
    {
     "name": "stdout",
     "output_type": "stream",
     "text": [
      "Warning: 0 Positive predictions\n"
     ]
    },
    {
     "name": "stdout",
     "output_type": "stream",
     "text": [
      "Warning: 0 Positive predictions\n"
     ]
    },
    {
     "name": "stdout",
     "output_type": "stream",
     "text": [
      "Warning: 0 Positive predictions\n"
     ]
    },
    {
     "name": "stdout",
     "output_type": "stream",
     "text": [
      "Warning: 0 Positive predictions\n"
     ]
    },
    {
     "name": "stdout",
     "output_type": "stream",
     "text": [
      "Warning: 0 Positive predictions\n"
     ]
    },
    {
     "name": "stdout",
     "output_type": "stream",
     "text": [
      "Warning: 0 Positive predictions\n"
     ]
    },
    {
     "name": "stdout",
     "output_type": "stream",
     "text": [
      "Warning: 0 Positive predictions\n"
     ]
    },
    {
     "name": "stdout",
     "output_type": "stream",
     "text": [
      "Warning: 0 Positive predictions\n"
     ]
    },
    {
     "name": "stdout",
     "output_type": "stream",
     "text": [
      "Warning: 0 Positive predictions\n"
     ]
    },
    {
     "name": "stdout",
     "output_type": "stream",
     "text": [
      "Warning: 0 Positive predictions\n"
     ]
    },
    {
     "name": "stdout",
     "output_type": "stream",
     "text": [
      "Warning: 0 Positive predictions\n"
     ]
    },
    {
     "name": "stdout",
     "output_type": "stream",
     "text": [
      "Warning: 0 Positive predictions\n"
     ]
    },
    {
     "name": "stdout",
     "output_type": "stream",
     "text": [
      "Warning: 0 Positive predictions\n"
     ]
    },
    {
     "name": "stdout",
     "output_type": "stream",
     "text": [
      "Warning: 0 Positive predictions\n"
     ]
    },
    {
     "name": "stdout",
     "output_type": "stream",
     "text": [
      "Warning: 0 Positive predictions\n",
      "Warning: 0 Positive predictions\n"
     ]
    },
    {
     "name": "stdout",
     "output_type": "stream",
     "text": [
      "Warning: 0 Positive predictions\n"
     ]
    },
    {
     "name": "stdout",
     "output_type": "stream",
     "text": [
      "Warning: 0 Positive predictions\n",
      "Warning: 0 Positive predictions\n"
     ]
    },
    {
     "name": "stdout",
     "output_type": "stream",
     "text": [
      "Warning: 0 Positive predictions\n"
     ]
    },
    {
     "name": "stdout",
     "output_type": "stream",
     "text": [
      "Warning: 0 Positive predictions\n",
      "Warning: 0 Positive predictions\n"
     ]
    },
    {
     "name": "stdout",
     "output_type": "stream",
     "text": [
      "Warning: 0 Positive predictions\n"
     ]
    },
    {
     "name": "stdout",
     "output_type": "stream",
     "text": [
      "Warning: 0 Positive predictions\n"
     ]
    },
    {
     "name": "stdout",
     "output_type": "stream",
     "text": [
      "Warning: 0 Positive predictions\n"
     ]
    },
    {
     "name": "stdout",
     "output_type": "stream",
     "text": [
      "Warning: 0 Positive predictions\n"
     ]
    },
    {
     "name": "stdout",
     "output_type": "stream",
     "text": [
      "Warning: 0 Positive predictions\n"
     ]
    },
    {
     "name": "stdout",
     "output_type": "stream",
     "text": [
      "Warning: 0 Positive predictions\n"
     ]
    },
    {
     "name": "stdout",
     "output_type": "stream",
     "text": [
      "Warning: 0 Positive predictions\n",
      "Warning: 0 Positive predictions\n"
     ]
    },
    {
     "name": "stdout",
     "output_type": "stream",
     "text": [
      "Warning: 0 Positive predictions\n"
     ]
    },
    {
     "name": "stdout",
     "output_type": "stream",
     "text": [
      "Warning: 0 Positive predictions\n"
     ]
    },
    {
     "name": "stdout",
     "output_type": "stream",
     "text": [
      "Warning: 0 Positive predictions\n"
     ]
    },
    {
     "name": "stdout",
     "output_type": "stream",
     "text": [
      "Warning: 0 Positive predictions\n"
     ]
    },
    {
     "name": "stdout",
     "output_type": "stream",
     "text": [
      "Warning: 0 Positive predictions\n"
     ]
    },
    {
     "name": "stdout",
     "output_type": "stream",
     "text": [
      "Warning: 0 Positive predictions\n"
     ]
    },
    {
     "name": "stdout",
     "output_type": "stream",
     "text": [
      "Warning: 0 Positive predictions\n",
      "Warning: 0 Positive predictions\n"
     ]
    },
    {
     "name": "stdout",
     "output_type": "stream",
     "text": [
      "Warning: 0 Positive predictions\n",
      "Warning: 0 Positive predictions\n"
     ]
    },
    {
     "name": "stdout",
     "output_type": "stream",
     "text": [
      "Warning: 0 Positive predictions\n",
      "Warning: 0 Positive predictions\n"
     ]
    },
    {
     "name": "stdout",
     "output_type": "stream",
     "text": [
      "Warning: 0 Positive predictions\n",
      "Warning: 0 Positive predictions\n"
     ]
    },
    {
     "name": "stdout",
     "output_type": "stream",
     "text": [
      "Warning: 0 Positive predictions\n"
     ]
    },
    {
     "name": "stdout",
     "output_type": "stream",
     "text": [
      "Warning: 0 Positive predictions\n",
      "Warning: 0 Positive predictions\n"
     ]
    },
    {
     "name": "stdout",
     "output_type": "stream",
     "text": [
      "Warning: 0 Positive predictions\n"
     ]
    },
    {
     "name": "stdout",
     "output_type": "stream",
     "text": [
      "Warning: 0 Positive predictions\n"
     ]
    },
    {
     "name": "stdout",
     "output_type": "stream",
     "text": [
      "Warning: 0 Positive predictions\n"
     ]
    },
    {
     "name": "stdout",
     "output_type": "stream",
     "text": [
      "Warning: 0 Positive predictions\n",
      "Warning: 0 Positive predictions\n"
     ]
    },
    {
     "name": "stdout",
     "output_type": "stream",
     "text": [
      "Warning: 0 Positive predictions\n"
     ]
    },
    {
     "name": "stdout",
     "output_type": "stream",
     "text": [
      "Warning: 0 Positive predictions\n",
      "Warning: 0 Positive predictions\n"
     ]
    },
    {
     "name": "stdout",
     "output_type": "stream",
     "text": [
      "Warning: 0 Positive predictions\n",
      "Warning: 0 Positive predictions\n"
     ]
    },
    {
     "name": "stdout",
     "output_type": "stream",
     "text": [
      "Warning: 0 Positive predictions\n"
     ]
    },
    {
     "name": "stdout",
     "output_type": "stream",
     "text": [
      "Warning: 0 Positive predictions\n"
     ]
    },
    {
     "name": "stdout",
     "output_type": "stream",
     "text": [
      "Warning: 0 Positive predictions\n"
     ]
    },
    {
     "name": "stdout",
     "output_type": "stream",
     "text": [
      "Warning: 0 Positive predictions\n",
      "Warning: 0 Positive predictions\n"
     ]
    },
    {
     "name": "stdout",
     "output_type": "stream",
     "text": [
      "Warning: 0 Positive predictions\n"
     ]
    },
    {
     "name": "stdout",
     "output_type": "stream",
     "text": [
      "Warning: 0 Positive predictions\n",
      "Warning: 0 Positive predictions\n"
     ]
    },
    {
     "name": "stdout",
     "output_type": "stream",
     "text": [
      "Warning: 0 Positive predictions\n",
      "Warning: 0 Positive predictions\n"
     ]
    },
    {
     "name": "stdout",
     "output_type": "stream",
     "text": [
      "Warning: 0 Positive predictions\n",
      "Warning: 0 Positive predictions\n"
     ]
    },
    {
     "name": "stdout",
     "output_type": "stream",
     "text": [
      "Warning: 0 Positive predictions\n"
     ]
    },
    {
     "name": "stdout",
     "output_type": "stream",
     "text": [
      "Warning: 0 Positive predictions\n"
     ]
    },
    {
     "name": "stdout",
     "output_type": "stream",
     "text": [
      "Warning: 0 Positive predictions\n"
     ]
    },
    {
     "name": "stdout",
     "output_type": "stream",
     "text": [
      "Warning: 0 Positive predictions\n"
     ]
    },
    {
     "name": "stdout",
     "output_type": "stream",
     "text": [
      "Warning: 0 Positive predictions\n",
      "Warning: 0 Positive predictions\n"
     ]
    },
    {
     "name": "stdout",
     "output_type": "stream",
     "text": [
      "Warning: 0 Positive predictions\n"
     ]
    },
    {
     "name": "stdout",
     "output_type": "stream",
     "text": [
      "Warning: 0 Positive predictions\n",
      "Warning: 0 Positive predictions\n"
     ]
    },
    {
     "name": "stdout",
     "output_type": "stream",
     "text": [
      "Warning: 0 Positive predictions\n"
     ]
    },
    {
     "name": "stdout",
     "output_type": "stream",
     "text": [
      "Warning: 0 Positive predictions\n"
     ]
    },
    {
     "name": "stdout",
     "output_type": "stream",
     "text": [
      "Warning: 0 Positive predictions\n"
     ]
    },
    {
     "name": "stdout",
     "output_type": "stream",
     "text": [
      "Warning: 0 Positive predictions\n",
      "Warning: 0 Positive predictions\n"
     ]
    },
    {
     "name": "stdout",
     "output_type": "stream",
     "text": [
      "Warning: 0 Positive predictions\n"
     ]
    },
    {
     "name": "stdout",
     "output_type": "stream",
     "text": [
      "Warning: 0 Positive predictions\n"
     ]
    },
    {
     "name": "stdout",
     "output_type": "stream",
     "text": [
      "Warning: 0 Positive predictions\n"
     ]
    },
    {
     "name": "stdout",
     "output_type": "stream",
     "text": [
      "Warning: 0 Positive predictions\n",
      "Warning: 0 Positive predictions\n"
     ]
    },
    {
     "name": "stdout",
     "output_type": "stream",
     "text": [
      "Warning: 0 Positive predictions\n",
      "Warning: 0 Positive predictions\n"
     ]
    },
    {
     "name": "stdout",
     "output_type": "stream",
     "text": [
      "Warning: 0 Positive predictions\n"
     ]
    },
    {
     "name": "stdout",
     "output_type": "stream",
     "text": [
      "Warning: 0 Positive predictions\n"
     ]
    },
    {
     "name": "stdout",
     "output_type": "stream",
     "text": [
      "Warning: 0 Positive predictions\n"
     ]
    },
    {
     "name": "stdout",
     "output_type": "stream",
     "text": [
      "Warning: 0 Positive predictions\n"
     ]
    },
    {
     "name": "stdout",
     "output_type": "stream",
     "text": [
      "Warning: 0 Positive predictions\n",
      "Warning: 0 Positive predictions\n"
     ]
    },
    {
     "name": "stdout",
     "output_type": "stream",
     "text": [
      "Warning: 0 Positive predictions\n"
     ]
    },
    {
     "name": "stdout",
     "output_type": "stream",
     "text": [
      "Warning: 0 Positive predictions\n",
      "Warning: 0 Positive predictions\n"
     ]
    },
    {
     "name": "stdout",
     "output_type": "stream",
     "text": [
      "Warning: 0 Positive predictions\n"
     ]
    },
    {
     "name": "stdout",
     "output_type": "stream",
     "text": [
      "Warning: 0 Positive predictions\n"
     ]
    },
    {
     "name": "stdout",
     "output_type": "stream",
     "text": [
      "Warning: 0 Positive predictions\n"
     ]
    },
    {
     "name": "stdout",
     "output_type": "stream",
     "text": [
      "Warning: 0 Positive predictions\n"
     ]
    },
    {
     "name": "stdout",
     "output_type": "stream",
     "text": [
      "Warning: 0 Positive predictions\n"
     ]
    },
    {
     "name": "stdout",
     "output_type": "stream",
     "text": [
      "Warning: 0 Positive predictions\n"
     ]
    },
    {
     "name": "stdout",
     "output_type": "stream",
     "text": [
      "Warning: 0 Positive predictions\n"
     ]
    },
    {
     "name": "stdout",
     "output_type": "stream",
     "text": [
      "Warning: 0 Positive predictions\n"
     ]
    },
    {
     "name": "stdout",
     "output_type": "stream",
     "text": [
      "Warning: 0 Positive predictions\n"
     ]
    },
    {
     "name": "stdout",
     "output_type": "stream",
     "text": [
      "Warning: 0 Positive predictions\n"
     ]
    },
    {
     "name": "stdout",
     "output_type": "stream",
     "text": [
      "Warning: 0 Positive predictions\n",
      "Warning: 0 Positive predictions\n"
     ]
    },
    {
     "name": "stdout",
     "output_type": "stream",
     "text": [
      "Warning: 0 Positive predictions\n",
      "Warning: 0 Positive predictions\n"
     ]
    },
    {
     "name": "stdout",
     "output_type": "stream",
     "text": [
      "Warning: 0 Positive predictions\n"
     ]
    },
    {
     "name": "stdout",
     "output_type": "stream",
     "text": [
      "Warning: 0 Positive predictions\n"
     ]
    },
    {
     "name": "stdout",
     "output_type": "stream",
     "text": [
      "Warning: 0 Positive predictions\n"
     ]
    },
    {
     "name": "stdout",
     "output_type": "stream",
     "text": [
      "Warning: 0 Positive predictions\n"
     ]
    },
    {
     "name": "stdout",
     "output_type": "stream",
     "text": [
      "Warning: 0 Positive predictions\n"
     ]
    },
    {
     "name": "stdout",
     "output_type": "stream",
     "text": [
      "Warning: 0 Positive predictions\n"
     ]
    },
    {
     "name": "stdout",
     "output_type": "stream",
     "text": [
      "Warning: 0 Positive predictions\n"
     ]
    },
    {
     "name": "stdout",
     "output_type": "stream",
     "text": [
      "Warning: 0 Positive predictions\n"
     ]
    },
    {
     "name": "stdout",
     "output_type": "stream",
     "text": [
      "Warning: 0 Positive predictions\n"
     ]
    },
    {
     "name": "stdout",
     "output_type": "stream",
     "text": [
      "Warning: 0 Positive predictions\n"
     ]
    },
    {
     "name": "stdout",
     "output_type": "stream",
     "text": [
      "Warning: 0 Positive predictions\n"
     ]
    }
   ],
   "source": [
    "n = 100\n",
    "p = 200\n",
    "beta_intercept=1.\n",
    "sigma2=1.\n",
    "n_replica = 10\n",
    "\n",
    "for corr_first in correlations_first_offdiag\n",
    "    println(\"Executing correlation $corr_first\")\n",
    "    for corr_sec in correlations_second_offdiag\n",
    "        for prop_zero in proportions_zero_coef\n",
    "\n",
    "            Random.seed!(1345)\n",
    "            scenario = \"Correlations: $corr_first and $corr_sec. Proportion $prop_zero of zero coefficients\"\n",
    "            correlation_coefficients=[corr_first, corr_sec]\n",
    "            \n",
    "            fdr_randomisation_mean = 0.\n",
    "            fdr_mirror_statistic_mean = 0.\n",
    "            tpr_randomisation_mean = 0.\n",
    "            tpr_mirror_statistic_mean = 0.\n",
    "\n",
    "            # Do an average over 5 replications for each combination\n",
    "            for replica in range(1, n_replica)\n",
    "                results = wrapper_pipeline_inference.wrapper_randomisation_inference(\n",
    "                    n=n,\n",
    "                    p=p,\n",
    "                    correlation_coefficients=correlation_coefficients,\n",
    "                    prop_zero_coef=prop_zero,\n",
    "                    sigma2=sigma2,\n",
    "                    gamma_randomisation=1.,\n",
    "                    fdr_level=0.1\n",
    "                )\n",
    "                fdr_randomisation_mean += results.fdr_randomisation_raw\n",
    "                fdr_mirror_statistic_mean += results.fdr_mirror_statistic\n",
    "                tpr_randomisation_mean += results.tpr_randomisation_raw\n",
    "                tpr_mirror_statistic_mean += results.tpr_mirror_statistic\n",
    "            end\n",
    "\n",
    "            push!(\n",
    "                df_metrics,\n",
    "                [\n",
    "                    corr_first,\n",
    "                    corr_sec,\n",
    "                    1-prop_zero,\n",
    "                    fdr_randomisation_mean / n_replica,\n",
    "                    fdr_mirror_statistic_mean / n_replica,\n",
    "                    tpr_randomisation_mean / n_replica,\n",
    "                    tpr_mirror_statistic_mean / n_replica\n",
    "                ]\n",
    "            )\n",
    "\n",
    "        end\n",
    "    end\n",
    "end\n",
    ";"
   ]
  },
  {
   "cell_type": "code",
   "execution_count": 44,
   "metadata": {},
   "outputs": [
    {
     "data": {
      "text/html": [
       "<div><div style = \"float: left;\"><span>180×7 DataFrame</span></div><div style = \"float: right;\"><span style = \"font-style: italic;\">155 rows omitted</span></div><div style = \"clear: both;\"></div></div><div class = \"data-frame\" style = \"overflow-x: scroll;\"><table class = \"data-frame\" style = \"margin-bottom: 6px;\"><thead><tr class = \"header\"><th class = \"rowNumber\" style = \"font-weight: bold; text-align: right;\">Row</th><th style = \"text-align: left;\">corr_first</th><th style = \"text-align: left;\">corr_second</th><th style = \"text-align: left;\">prop_non_zero</th><th style = \"text-align: left;\">FDR_Rand</th><th style = \"text-align: left;\">FDR_MS</th><th style = \"text-align: left;\">TPR_Rand</th><th style = \"text-align: left;\">TPR_MS</th></tr><tr class = \"subheader headerLastRow\"><th class = \"rowNumber\" style = \"font-weight: bold; text-align: right;\"></th><th title = \"Any\" style = \"text-align: left;\">Any</th><th title = \"Any\" style = \"text-align: left;\">Any</th><th title = \"Any\" style = \"text-align: left;\">Any</th><th title = \"Any\" style = \"text-align: left;\">Any</th><th title = \"Any\" style = \"text-align: left;\">Any</th><th title = \"Any\" style = \"text-align: left;\">Any</th><th title = \"Any\" style = \"text-align: left;\">Any</th></tr></thead><tbody><tr><td class = \"rowNumber\" style = \"font-weight: bold; text-align: right;\">1</td><td style = \"text-align: left;\">0.0</td><td style = \"text-align: left;\">0.0</td><td style = \"text-align: left;\">0.05</td><td style = \"text-align: left;\">0.14596</td><td style = \"text-align: left;\">0.186497</td><td style = \"text-align: left;\">0.9</td><td style = \"text-align: left;\">0.93</td></tr><tr><td class = \"rowNumber\" style = \"font-weight: bold; text-align: right;\">2</td><td style = \"text-align: left;\">0.0</td><td style = \"text-align: left;\">0.0</td><td style = \"text-align: left;\">0.1</td><td style = \"text-align: left;\">0.0551774</td><td style = \"text-align: left;\">0.153661</td><td style = \"text-align: left;\">0.665</td><td style = \"text-align: left;\">0.87</td></tr><tr><td class = \"rowNumber\" style = \"font-weight: bold; text-align: right;\">3</td><td style = \"text-align: left;\">0.0</td><td style = \"text-align: left;\">0.0</td><td style = \"text-align: left;\">0.15</td><td style = \"text-align: left;\">0.183191</td><td style = \"text-align: left;\">0.283237</td><td style = \"text-align: left;\">0.383333</td><td style = \"text-align: left;\">0.67</td></tr><tr><td class = \"rowNumber\" style = \"font-weight: bold; text-align: right;\">4</td><td style = \"text-align: left;\">0.0</td><td style = \"text-align: left;\">0.0</td><td style = \"text-align: left;\">0.2</td><td style = \"text-align: left;\">0.213676</td><td style = \"text-align: left;\">0.322825</td><td style = \"text-align: left;\">0.3875</td><td style = \"text-align: left;\">0.5825</td></tr><tr><td class = \"rowNumber\" style = \"font-weight: bold; text-align: right;\">5</td><td style = \"text-align: left;\">0.0</td><td style = \"text-align: left;\">0.0</td><td style = \"text-align: left;\">0.25</td><td style = \"text-align: left;\">0.255766</td><td style = \"text-align: left;\">0.313478</td><td style = \"text-align: left;\">0.262</td><td style = \"text-align: left;\">0.424</td></tr><tr><td class = \"rowNumber\" style = \"font-weight: bold; text-align: right;\">6</td><td style = \"text-align: left;\">0.0</td><td style = \"text-align: left;\">0.0</td><td style = \"text-align: left;\">0.3</td><td style = \"text-align: left;\">0.141746</td><td style = \"text-align: left;\">0.379112</td><td style = \"text-align: left;\">0.135</td><td style = \"text-align: left;\">0.411667</td></tr><tr><td class = \"rowNumber\" style = \"font-weight: bold; text-align: right;\">7</td><td style = \"text-align: left;\">0.0</td><td style = \"text-align: left;\">0.1</td><td style = \"text-align: left;\">0.05</td><td style = \"text-align: left;\">0.128586</td><td style = \"text-align: left;\">0.15565</td><td style = \"text-align: left;\">0.9</td><td style = \"text-align: left;\">0.94</td></tr><tr><td class = \"rowNumber\" style = \"font-weight: bold; text-align: right;\">8</td><td style = \"text-align: left;\">0.0</td><td style = \"text-align: left;\">0.1</td><td style = \"text-align: left;\">0.1</td><td style = \"text-align: left;\">0.0795662</td><td style = \"text-align: left;\">0.128031</td><td style = \"text-align: left;\">0.71</td><td style = \"text-align: left;\">0.885</td></tr><tr><td class = \"rowNumber\" style = \"font-weight: bold; text-align: right;\">9</td><td style = \"text-align: left;\">0.0</td><td style = \"text-align: left;\">0.1</td><td style = \"text-align: left;\">0.15</td><td style = \"text-align: left;\">0.239926</td><td style = \"text-align: left;\">0.305414</td><td style = \"text-align: left;\">0.416667</td><td style = \"text-align: left;\">0.676667</td></tr><tr><td class = \"rowNumber\" style = \"font-weight: bold; text-align: right;\">10</td><td style = \"text-align: left;\">0.0</td><td style = \"text-align: left;\">0.1</td><td style = \"text-align: left;\">0.2</td><td style = \"text-align: left;\">0.171882</td><td style = \"text-align: left;\">0.331453</td><td style = \"text-align: left;\">0.32</td><td style = \"text-align: left;\">0.6125</td></tr><tr><td class = \"rowNumber\" style = \"font-weight: bold; text-align: right;\">11</td><td style = \"text-align: left;\">0.0</td><td style = \"text-align: left;\">0.1</td><td style = \"text-align: left;\">0.25</td><td style = \"text-align: left;\">0.184794</td><td style = \"text-align: left;\">0.375651</td><td style = \"text-align: left;\">0.2</td><td style = \"text-align: left;\">0.36</td></tr><tr><td class = \"rowNumber\" style = \"font-weight: bold; text-align: right;\">12</td><td style = \"text-align: left;\">0.0</td><td style = \"text-align: left;\">0.1</td><td style = \"text-align: left;\">0.3</td><td style = \"text-align: left;\">0.159628</td><td style = \"text-align: left;\">0.357843</td><td style = \"text-align: left;\">0.17</td><td style = \"text-align: left;\">0.466667</td></tr><tr><td class = \"rowNumber\" style = \"font-weight: bold; text-align: right;\">13</td><td style = \"text-align: left;\">0.0</td><td style = \"text-align: left;\">0.2</td><td style = \"text-align: left;\">0.05</td><td style = \"text-align: left;\">0.0676768</td><td style = \"text-align: left;\">0.121515</td><td style = \"text-align: left;\">0.91</td><td style = \"text-align: left;\">0.94</td></tr><tr><td style = \"text-align: right;\">&vellip;</td><td style = \"text-align: right;\">&vellip;</td><td style = \"text-align: right;\">&vellip;</td><td style = \"text-align: right;\">&vellip;</td><td style = \"text-align: right;\">&vellip;</td><td style = \"text-align: right;\">&vellip;</td><td style = \"text-align: right;\">&vellip;</td><td style = \"text-align: right;\">&vellip;</td></tr><tr><td class = \"rowNumber\" style = \"font-weight: bold; text-align: right;\">169</td><td style = \"text-align: left;\">0.5</td><td style = \"text-align: left;\">0.3</td><td style = \"text-align: left;\">0.05</td><td style = \"text-align: left;\">0.174759</td><td style = \"text-align: left;\">0.206624</td><td style = \"text-align: left;\">0.8</td><td style = \"text-align: left;\">0.83</td></tr><tr><td class = \"rowNumber\" style = \"font-weight: bold; text-align: right;\">170</td><td style = \"text-align: left;\">0.5</td><td style = \"text-align: left;\">0.3</td><td style = \"text-align: left;\">0.1</td><td style = \"text-align: left;\">0.128873</td><td style = \"text-align: left;\">0.185164</td><td style = \"text-align: left;\">0.68</td><td style = \"text-align: left;\">0.86</td></tr><tr><td class = \"rowNumber\" style = \"font-weight: bold; text-align: right;\">171</td><td style = \"text-align: left;\">0.5</td><td style = \"text-align: left;\">0.3</td><td style = \"text-align: left;\">0.15</td><td style = \"text-align: left;\">0.279194</td><td style = \"text-align: left;\">0.271536</td><td style = \"text-align: left;\">0.406667</td><td style = \"text-align: left;\">0.63</td></tr><tr><td class = \"rowNumber\" style = \"font-weight: bold; text-align: right;\">172</td><td style = \"text-align: left;\">0.5</td><td style = \"text-align: left;\">0.3</td><td style = \"text-align: left;\">0.2</td><td style = \"text-align: left;\">0.188151</td><td style = \"text-align: left;\">0.405483</td><td style = \"text-align: left;\">0.1975</td><td style = \"text-align: left;\">0.4025</td></tr><tr><td class = \"rowNumber\" style = \"font-weight: bold; text-align: right;\">173</td><td style = \"text-align: left;\">0.5</td><td style = \"text-align: left;\">0.3</td><td style = \"text-align: left;\">0.25</td><td style = \"text-align: left;\">0.307151</td><td style = \"text-align: left;\">0.393072</td><td style = \"text-align: left;\">0.118</td><td style = \"text-align: left;\">0.362</td></tr><tr><td class = \"rowNumber\" style = \"font-weight: bold; text-align: right;\">174</td><td style = \"text-align: left;\">0.5</td><td style = \"text-align: left;\">0.3</td><td style = \"text-align: left;\">0.3</td><td style = \"text-align: left;\">0.164411</td><td style = \"text-align: left;\">0.323873</td><td style = \"text-align: left;\">0.138333</td><td style = \"text-align: left;\">0.326667</td></tr><tr><td class = \"rowNumber\" style = \"font-weight: bold; text-align: right;\">175</td><td style = \"text-align: left;\">0.5</td><td style = \"text-align: left;\">0.4</td><td style = \"text-align: left;\">0.05</td><td style = \"text-align: left;\">0.133485</td><td style = \"text-align: left;\">0.235553</td><td style = \"text-align: left;\">0.81</td><td style = \"text-align: left;\">0.88</td></tr><tr><td class = \"rowNumber\" style = \"font-weight: bold; text-align: right;\">176</td><td style = \"text-align: left;\">0.5</td><td style = \"text-align: left;\">0.4</td><td style = \"text-align: left;\">0.1</td><td style = \"text-align: left;\">0.0910256</td><td style = \"text-align: left;\">0.155361</td><td style = \"text-align: left;\">0.705</td><td style = \"text-align: left;\">0.83</td></tr><tr><td class = \"rowNumber\" style = \"font-weight: bold; text-align: right;\">177</td><td style = \"text-align: left;\">0.5</td><td style = \"text-align: left;\">0.4</td><td style = \"text-align: left;\">0.15</td><td style = \"text-align: left;\">0.254374</td><td style = \"text-align: left;\">0.316432</td><td style = \"text-align: left;\">0.356667</td><td style = \"text-align: left;\">0.58</td></tr><tr><td class = \"rowNumber\" style = \"font-weight: bold; text-align: right;\">178</td><td style = \"text-align: left;\">0.5</td><td style = \"text-align: left;\">0.4</td><td style = \"text-align: left;\">0.2</td><td style = \"text-align: left;\">0.12317</td><td style = \"text-align: left;\">0.281975</td><td style = \"text-align: left;\">0.2025</td><td style = \"text-align: left;\">0.4475</td></tr><tr><td class = \"rowNumber\" style = \"font-weight: bold; text-align: right;\">179</td><td style = \"text-align: left;\">0.5</td><td style = \"text-align: left;\">0.4</td><td style = \"text-align: left;\">0.25</td><td style = \"text-align: left;\">0.328735</td><td style = \"text-align: left;\">0.389773</td><td style = \"text-align: left;\">0.174</td><td style = \"text-align: left;\">0.39</td></tr><tr><td class = \"rowNumber\" style = \"font-weight: bold; text-align: right;\">180</td><td style = \"text-align: left;\">0.5</td><td style = \"text-align: left;\">0.4</td><td style = \"text-align: left;\">0.3</td><td style = \"text-align: left;\">0.200038</td><td style = \"text-align: left;\">0.409365</td><td style = \"text-align: left;\">0.163333</td><td style = \"text-align: left;\">0.425</td></tr></tbody></table></div>"
      ],
      "text/latex": [
       "\\begin{tabular}{r|ccccccc}\n",
       "\t& corr\\_first & corr\\_second & prop\\_non\\_zero & FDR\\_Rand & FDR\\_MS & TPR\\_Rand & TPR\\_MS\\\\\n",
       "\t\\hline\n",
       "\t& Any & Any & Any & Any & Any & Any & Any\\\\\n",
       "\t\\hline\n",
       "\t1 & 0.0 & 0.0 & 0.05 & 0.14596 & 0.186497 & 0.9 & 0.93 \\\\\n",
       "\t2 & 0.0 & 0.0 & 0.1 & 0.0551774 & 0.153661 & 0.665 & 0.87 \\\\\n",
       "\t3 & 0.0 & 0.0 & 0.15 & 0.183191 & 0.283237 & 0.383333 & 0.67 \\\\\n",
       "\t4 & 0.0 & 0.0 & 0.2 & 0.213676 & 0.322825 & 0.3875 & 0.5825 \\\\\n",
       "\t5 & 0.0 & 0.0 & 0.25 & 0.255766 & 0.313478 & 0.262 & 0.424 \\\\\n",
       "\t6 & 0.0 & 0.0 & 0.3 & 0.141746 & 0.379112 & 0.135 & 0.411667 \\\\\n",
       "\t7 & 0.0 & 0.1 & 0.05 & 0.128586 & 0.15565 & 0.9 & 0.94 \\\\\n",
       "\t8 & 0.0 & 0.1 & 0.1 & 0.0795662 & 0.128031 & 0.71 & 0.885 \\\\\n",
       "\t9 & 0.0 & 0.1 & 0.15 & 0.239926 & 0.305414 & 0.416667 & 0.676667 \\\\\n",
       "\t10 & 0.0 & 0.1 & 0.2 & 0.171882 & 0.331453 & 0.32 & 0.6125 \\\\\n",
       "\t11 & 0.0 & 0.1 & 0.25 & 0.184794 & 0.375651 & 0.2 & 0.36 \\\\\n",
       "\t12 & 0.0 & 0.1 & 0.3 & 0.159628 & 0.357843 & 0.17 & 0.466667 \\\\\n",
       "\t13 & 0.0 & 0.2 & 0.05 & 0.0676768 & 0.121515 & 0.91 & 0.94 \\\\\n",
       "\t14 & 0.0 & 0.2 & 0.1 & 0.106817 & 0.17556 & 0.74 & 0.87 \\\\\n",
       "\t15 & 0.0 & 0.2 & 0.15 & 0.250498 & 0.334267 & 0.42 & 0.713333 \\\\\n",
       "\t16 & 0.0 & 0.2 & 0.2 & 0.105833 & 0.323925 & 0.2975 & 0.5575 \\\\\n",
       "\t17 & 0.0 & 0.2 & 0.25 & 0.268081 & 0.386405 & 0.18 & 0.338 \\\\\n",
       "\t18 & 0.0 & 0.2 & 0.3 & 0.191705 & 0.398294 & 0.171667 & 0.445 \\\\\n",
       "\t19 & 0.0 & 0.3 & 0.05 & 0.0650505 & 0.107273 & 0.92 & 0.95 \\\\\n",
       "\t20 & 0.0 & 0.3 & 0.1 & 0.10935 & 0.178592 & 0.71 & 0.875 \\\\\n",
       "\t21 & 0.0 & 0.3 & 0.15 & 0.138518 & 0.264664 & 0.436667 & 0.71 \\\\\n",
       "\t22 & 0.0 & 0.3 & 0.2 & 0.164121 & 0.286165 & 0.215 & 0.465 \\\\\n",
       "\t23 & 0.0 & 0.3 & 0.25 & 0.259333 & 0.382543 & 0.106 & 0.406 \\\\\n",
       "\t24 & 0.0 & 0.3 & 0.3 & 0.164474 & 0.327543 & 0.191667 & 0.435 \\\\\n",
       "\t$\\dots$ & $\\dots$ & $\\dots$ & $\\dots$ & $\\dots$ & $\\dots$ & $\\dots$ & $\\dots$ \\\\\n",
       "\\end{tabular}\n"
      ],
      "text/plain": [
       "\u001b[1m180×7 DataFrame\u001b[0m\n",
       "\u001b[1m Row \u001b[0m│\u001b[1m corr_first \u001b[0m\u001b[1m corr_second \u001b[0m\u001b[1m prop_non_zero \u001b[0m\u001b[1m FDR_Rand  \u001b[0m\u001b[1m FDR_MS   \u001b[0m\u001b[1m TPR_Rand \u001b[0m\u001b[1m \u001b[0m ⋯\n",
       "     │\u001b[90m Any        \u001b[0m\u001b[90m Any         \u001b[0m\u001b[90m Any           \u001b[0m\u001b[90m Any       \u001b[0m\u001b[90m Any      \u001b[0m\u001b[90m Any      \u001b[0m\u001b[90m \u001b[0m ⋯\n",
       "─────┼──────────────────────────────────────────────────────────────────────────\n",
       "   1 │ 0.0         0.0          0.05           0.14596    0.186497  0.9        ⋯\n",
       "   2 │ 0.0         0.0          0.1            0.0551774  0.153661  0.665\n",
       "   3 │ 0.0         0.0          0.15           0.183191   0.283237  0.383333\n",
       "   4 │ 0.0         0.0          0.2            0.213676   0.322825  0.3875\n",
       "   5 │ 0.0         0.0          0.25           0.255766   0.313478  0.262      ⋯\n",
       "   6 │ 0.0         0.0          0.3            0.141746   0.379112  0.135\n",
       "   7 │ 0.0         0.1          0.05           0.128586   0.15565   0.9\n",
       "   8 │ 0.0         0.1          0.1            0.0795662  0.128031  0.71\n",
       "  ⋮  │     ⋮            ⋮             ⋮            ⋮         ⋮         ⋮       ⋱\n",
       " 174 │ 0.5         0.3          0.3            0.164411   0.323873  0.138333   ⋯\n",
       " 175 │ 0.5         0.4          0.05           0.133485   0.235553  0.81\n",
       " 176 │ 0.5         0.4          0.1            0.0910256  0.155361  0.705\n",
       " 177 │ 0.5         0.4          0.15           0.254374   0.316432  0.356667\n",
       " 178 │ 0.5         0.4          0.2            0.12317    0.281975  0.2025     ⋯\n",
       " 179 │ 0.5         0.4          0.25           0.328735   0.389773  0.174\n",
       " 180 │ 0.5         0.4          0.3            0.200038   0.409365  0.163333\n",
       "\u001b[36m                                                   1 column and 165 rows omitted\u001b[0m"
      ]
     },
     "metadata": {},
     "output_type": "display_data"
    }
   ],
   "source": [
    "df_metrics"
   ]
  },
  {
   "cell_type": "code",
   "execution_count": 47,
   "metadata": {},
   "outputs": [
    {
     "data": {
      "image/png": "[encoded data removed]",
      "image/svg+xml": [
       "<?xml version=\"1.0\" encoding=\"utf-8\"?>\n",
       "<svg xmlns=\"http://www.w3.org/2000/svg\" xmlns:xlink=\"http://www.w3.org/1999/xlink\" width=\"600\" height=\"400\" viewBox=\"0 0 2400 1600\">\n",
       "<defs>\n",
       "  <clipPath id=\"clip530\">\n",
       "    <rect x=\"0\" y=\"0\" width=\"2400\" height=\"1600\"/>\n",
       "  </clipPath>\n",
       "</defs>\n",
       "<path clip-path=\"url(#clip530)\" d=\"M0 1600 L2400 1600 L2400 0 L0 0  Z\" fill=\"#ffffff\" fill-rule=\"evenodd\" fill-opacity=\"1\"/>\n",
       "<defs>\n",
       "  <clipPath id=\"clip531\">\n",
       "    <rect x=\"480\" y=\"0\" width=\"1681\" height=\"1600\"/>\n",
       "  </clipPath>\n",
       "</defs>\n",
       "<path clip-path=\"url(#clip530)\" d=\"M140.696 1486.45 L2352.76 1486.45 L2352.76 47.2441 L140.696 47.2441  Z\" fill=\"#ffffff\" fill-rule=\"evenodd\" fill-opacity=\"1\"/>\n",
       "<defs>\n",
       "  <clipPath id=\"clip532\">\n",
       "    <rect x=\"140\" y=\"47\" width=\"2213\" height=\"1440\"/>\n",
       "  </clipPath>\n",
       "</defs>\n",
       "<polyline clip-path=\"url(#clip532)\" style=\"stroke:#000000; stroke-linecap:round; stroke-linejoin:round; stroke-width:2; stroke-opacity:0.1; fill:none\" points=\"262.363,1486.45 262.363,47.2441 \"/>\n",
       "<polyline clip-path=\"url(#clip532)\" style=\"stroke:#000000; stroke-linecap:round; stroke-linejoin:round; stroke-width:2; stroke-opacity:0.1; fill:none\" points=\"809.231,1486.45 809.231,47.2441 \"/>\n",
       "<polyline clip-path=\"url(#clip532)\" style=\"stroke:#000000; stroke-linecap:round; stroke-linejoin:round; stroke-width:2; stroke-opacity:0.1; fill:none\" points=\"1356.1,1486.45 1356.1,47.2441 \"/>\n",
       "<polyline clip-path=\"url(#clip532)\" style=\"stroke:#000000; stroke-linecap:round; stroke-linejoin:round; stroke-width:2; stroke-opacity:0.1; fill:none\" points=\"1902.97,1486.45 1902.97,47.2441 \"/>\n",
       "<polyline clip-path=\"url(#clip530)\" style=\"stroke:#000000; stroke-linecap:round; stroke-linejoin:round; stroke-width:4; stroke-opacity:1; fill:none\" points=\"140.696,1486.45 2352.76,1486.45 \"/>\n",
       "<polyline clip-path=\"url(#clip530)\" style=\"stroke:#000000; stroke-linecap:round; stroke-linejoin:round; stroke-width:4; stroke-opacity:1; fill:none\" points=\"262.363,1486.45 262.363,1467.55 \"/>\n",
       "<polyline clip-path=\"url(#clip530)\" style=\"stroke:#000000; stroke-linecap:round; stroke-linejoin:round; stroke-width:4; stroke-opacity:1; fill:none\" points=\"809.231,1486.45 809.231,1467.55 \"/>\n",
       "<polyline clip-path=\"url(#clip530)\" style=\"stroke:#000000; stroke-linecap:round; stroke-linejoin:round; stroke-width:4; stroke-opacity:1; fill:none\" points=\"1356.1,1486.45 1356.1,1467.55 \"/>\n",
       "<polyline clip-path=\"url(#clip530)\" style=\"stroke:#000000; stroke-linecap:round; stroke-linejoin:round; stroke-width:4; stroke-opacity:1; fill:none\" points=\"1902.97,1486.45 1902.97,1467.55 \"/>\n",
       "<path clip-path=\"url(#clip530)\" d=\"M240.361 1517.37 Q236.75 1517.37 234.921 1520.93 Q233.115 1524.47 233.115 1531.6 Q233.115 1538.71 234.921 1542.27 Q236.75 1545.82 240.361 1545.82 Q243.995 1545.82 245.8 1542.27 Q247.629 1538.71 247.629 1531.6 Q247.629 1524.47 245.8 1520.93 Q243.995 1517.37 240.361 1517.37 M240.361 1513.66 Q246.171 1513.66 249.226 1518.27 Q252.305 1522.85 252.305 1531.6 Q252.305 1540.33 249.226 1544.94 Q246.171 1549.52 240.361 1549.52 Q234.55 1549.52 231.472 1544.94 Q228.416 1540.33 228.416 1531.6 Q228.416 1522.85 231.472 1518.27 Q234.55 1513.66 240.361 1513.66 Z\" fill=\"#000000\" fill-rule=\"nonzero\" fill-opacity=\"1\" /><path clip-path=\"url(#clip530)\" d=\"M260.523 1542.97 L265.407 1542.97 L265.407 1548.85 L260.523 1548.85 L260.523 1542.97 Z\" fill=\"#000000\" fill-rule=\"nonzero\" fill-opacity=\"1\" /><path clip-path=\"url(#clip530)\" d=\"M276.402 1544.91 L284.041 1544.91 L284.041 1518.55 L275.731 1520.21 L275.731 1515.95 L283.995 1514.29 L288.671 1514.29 L288.671 1544.91 L296.309 1544.91 L296.309 1548.85 L276.402 1548.85 L276.402 1544.91 Z\" fill=\"#000000\" fill-rule=\"nonzero\" fill-opacity=\"1\" /><path clip-path=\"url(#clip530)\" d=\"M787.414 1517.37 Q783.803 1517.37 781.974 1520.93 Q780.169 1524.47 780.169 1531.6 Q780.169 1538.71 781.974 1542.27 Q783.803 1545.82 787.414 1545.82 Q791.048 1545.82 792.854 1542.27 Q794.683 1538.71 794.683 1531.6 Q794.683 1524.47 792.854 1520.93 Q791.048 1517.37 787.414 1517.37 M787.414 1513.66 Q793.224 1513.66 796.28 1518.27 Q799.358 1522.85 799.358 1531.6 Q799.358 1540.33 796.28 1544.94 Q793.224 1549.52 787.414 1549.52 Q781.604 1549.52 778.525 1544.94 Q775.47 1540.33 775.47 1531.6 Q775.47 1522.85 778.525 1518.27 Q781.604 1513.66 787.414 1513.66 Z\" fill=\"#000000\" fill-rule=\"nonzero\" fill-opacity=\"1\" /><path clip-path=\"url(#clip530)\" d=\"M807.576 1542.97 L812.46 1542.97 L812.46 1548.85 L807.576 1548.85 L807.576 1542.97 Z\" fill=\"#000000\" fill-rule=\"nonzero\" fill-opacity=\"1\" /><path clip-path=\"url(#clip530)\" d=\"M826.673 1544.91 L842.992 1544.91 L842.992 1548.85 L821.048 1548.85 L821.048 1544.91 Q823.71 1542.16 828.293 1537.53 Q832.9 1532.88 834.08 1531.53 Q836.326 1529.01 837.205 1527.27 Q838.108 1525.51 838.108 1523.82 Q838.108 1521.07 836.164 1519.33 Q834.243 1517.6 831.141 1517.6 Q828.942 1517.6 826.488 1518.36 Q824.057 1519.13 821.28 1520.68 L821.28 1515.95 Q824.104 1514.82 826.557 1514.24 Q829.011 1513.66 831.048 1513.66 Q836.418 1513.66 839.613 1516.35 Q842.807 1519.03 842.807 1523.52 Q842.807 1525.65 841.997 1527.57 Q841.21 1529.47 839.104 1532.07 Q838.525 1532.74 835.423 1535.95 Q832.321 1539.15 826.673 1544.91 Z\" fill=\"#000000\" fill-rule=\"nonzero\" fill-opacity=\"1\" /><path clip-path=\"url(#clip530)\" d=\"M1333.81 1517.37 Q1330.2 1517.37 1328.37 1520.93 Q1326.56 1524.47 1326.56 1531.6 Q1326.56 1538.71 1328.37 1542.27 Q1330.2 1545.82 1333.81 1545.82 Q1337.44 1545.82 1339.25 1542.27 Q1341.08 1538.71 1341.08 1531.6 Q1341.08 1524.47 1339.25 1520.93 Q1337.44 1517.37 1333.81 1517.37 M1333.81 1513.66 Q1339.62 1513.66 1342.67 1518.27 Q1345.75 1522.85 1345.75 1531.6 Q1345.75 1540.33 1342.67 1544.94 Q1339.62 1549.52 1333.81 1549.52 Q1328 1549.52 1324.92 1544.94 Q1321.86 1540.33 1321.86 1531.6 Q1321.86 1522.85 1324.92 1518.27 Q1328 1513.66 1333.81 1513.66 Z\" fill=\"#000000\" fill-rule=\"nonzero\" fill-opacity=\"1\" /><path clip-path=\"url(#clip530)\" d=\"M1353.97 1542.97 L1358.85 1542.97 L1358.85 1548.85 L1353.97 1548.85 L1353.97 1542.97 Z\" fill=\"#000000\" fill-rule=\"nonzero\" fill-opacity=\"1\" /><path clip-path=\"url(#clip530)\" d=\"M1383.21 1530.21 Q1386.56 1530.93 1388.44 1533.2 Q1390.34 1535.47 1390.34 1538.8 Q1390.34 1543.92 1386.82 1546.72 Q1383.3 1549.52 1376.82 1549.52 Q1374.64 1549.52 1372.33 1549.08 Q1370.03 1548.66 1367.58 1547.81 L1367.58 1543.29 Q1369.53 1544.43 1371.84 1545.01 Q1374.15 1545.58 1376.68 1545.58 Q1381.08 1545.58 1383.37 1543.85 Q1385.68 1542.11 1385.68 1538.8 Q1385.68 1535.75 1383.53 1534.03 Q1381.4 1532.3 1377.58 1532.3 L1373.55 1532.3 L1373.55 1528.45 L1377.77 1528.45 Q1381.21 1528.45 1383.04 1527.09 Q1384.87 1525.7 1384.87 1523.11 Q1384.87 1520.45 1382.97 1519.03 Q1381.1 1517.6 1377.58 1517.6 Q1375.66 1517.6 1373.46 1518.01 Q1371.26 1518.43 1368.62 1519.31 L1368.62 1515.14 Q1371.28 1514.4 1373.6 1514.03 Q1375.94 1513.66 1378 1513.66 Q1383.32 1513.66 1386.42 1516.09 Q1389.53 1518.5 1389.53 1522.62 Q1389.53 1525.49 1387.88 1527.48 Q1386.24 1529.45 1383.21 1530.21 Z\" fill=\"#000000\" fill-rule=\"nonzero\" fill-opacity=\"1\" /><path clip-path=\"url(#clip530)\" d=\"M1880.11 1517.37 Q1876.5 1517.37 1874.67 1520.93 Q1872.86 1524.47 1872.86 1531.6 Q1872.86 1538.71 1874.67 1542.27 Q1876.5 1545.82 1880.11 1545.82 Q1883.74 1545.82 1885.55 1542.27 Q1887.38 1538.71 1887.38 1531.6 Q1887.38 1524.47 1885.55 1520.93 Q1883.74 1517.37 1880.11 1517.37 M1880.11 1513.66 Q1885.92 1513.66 1888.97 1518.27 Q1892.05 1522.85 1892.05 1531.6 Q1892.05 1540.33 1888.97 1544.94 Q1885.92 1549.52 1880.11 1549.52 Q1874.3 1549.52 1871.22 1544.94 Q1868.16 1540.33 1868.16 1531.6 Q1868.16 1522.85 1871.22 1518.27 Q1874.3 1513.66 1880.11 1513.66 Z\" fill=\"#000000\" fill-rule=\"nonzero\" fill-opacity=\"1\" /><path clip-path=\"url(#clip530)\" d=\"M1900.27 1542.97 L1905.16 1542.97 L1905.16 1548.85 L1900.27 1548.85 L1900.27 1542.97 Z\" fill=\"#000000\" fill-rule=\"nonzero\" fill-opacity=\"1\" /><path clip-path=\"url(#clip530)\" d=\"M1928.19 1518.36 L1916.38 1536.81 L1928.19 1536.81 L1928.19 1518.36 M1926.96 1514.29 L1932.84 1514.29 L1932.84 1536.81 L1937.77 1536.81 L1937.77 1540.7 L1932.84 1540.7 L1932.84 1548.85 L1928.19 1548.85 L1928.19 1540.7 L1912.59 1540.7 L1912.59 1536.19 L1926.96 1514.29 Z\" fill=\"#000000\" fill-rule=\"nonzero\" fill-opacity=\"1\" /><polyline clip-path=\"url(#clip532)\" style=\"stroke:#000000; stroke-linecap:round; stroke-linejoin:round; stroke-width:2; stroke-opacity:0.1; fill:none\" points=\"140.696,1486.45 2352.76,1486.45 \"/>\n",
       "<polyline clip-path=\"url(#clip532)\" style=\"stroke:#000000; stroke-linecap:round; stroke-linejoin:round; stroke-width:2; stroke-opacity:0.1; fill:none\" points=\"140.696,1159.36 2352.76,1159.36 \"/>\n",
       "<polyline clip-path=\"url(#clip532)\" style=\"stroke:#000000; stroke-linecap:round; stroke-linejoin:round; stroke-width:2; stroke-opacity:0.1; fill:none\" points=\"140.696,832.264 2352.76,832.264 \"/>\n",
       "<polyline clip-path=\"url(#clip532)\" style=\"stroke:#000000; stroke-linecap:round; stroke-linejoin:round; stroke-width:2; stroke-opacity:0.1; fill:none\" points=\"140.696,505.173 2352.76,505.173 \"/>\n",
       "<polyline clip-path=\"url(#clip532)\" style=\"stroke:#000000; stroke-linecap:round; stroke-linejoin:round; stroke-width:2; stroke-opacity:0.1; fill:none\" points=\"140.696,178.081 2352.76,178.081 \"/>\n",
       "<polyline clip-path=\"url(#clip530)\" style=\"stroke:#000000; stroke-linecap:round; stroke-linejoin:round; stroke-width:4; stroke-opacity:1; fill:none\" points=\"140.696,1486.45 140.696,47.2441 \"/>\n",
       "<polyline clip-path=\"url(#clip530)\" style=\"stroke:#000000; stroke-linecap:round; stroke-linejoin:round; stroke-width:4; stroke-opacity:1; fill:none\" points=\"140.696,1486.45 159.593,1486.45 \"/>\n",
       "<polyline clip-path=\"url(#clip530)\" style=\"stroke:#000000; stroke-linecap:round; stroke-linejoin:round; stroke-width:4; stroke-opacity:1; fill:none\" points=\"140.696,1159.36 159.593,1159.36 \"/>\n",
       "<polyline clip-path=\"url(#clip530)\" style=\"stroke:#000000; stroke-linecap:round; stroke-linejoin:round; stroke-width:4; stroke-opacity:1; fill:none\" points=\"140.696,832.264 159.593,832.264 \"/>\n",
       "<polyline clip-path=\"url(#clip530)\" style=\"stroke:#000000; stroke-linecap:round; stroke-linejoin:round; stroke-width:4; stroke-opacity:1; fill:none\" points=\"140.696,505.173 159.593,505.173 \"/>\n",
       "<polyline clip-path=\"url(#clip530)\" style=\"stroke:#000000; stroke-linecap:round; stroke-linejoin:round; stroke-width:4; stroke-opacity:1; fill:none\" points=\"140.696,178.081 159.593,178.081 \"/>\n",
       "<path clip-path=\"url(#clip530)\" d=\"M92.7512 1472.25 Q89.1401 1472.25 87.3114 1475.81 Q85.5058 1479.35 85.5058 1486.48 Q85.5058 1493.59 87.3114 1497.15 Q89.1401 1500.7 92.7512 1500.7 Q96.3854 1500.7 98.1909 1497.15 Q100.02 1493.59 100.02 1486.48 Q100.02 1479.35 98.1909 1475.81 Q96.3854 1472.25 92.7512 1472.25 M92.7512 1468.54 Q98.5613 1468.54 101.617 1473.15 Q104.696 1477.73 104.696 1486.48 Q104.696 1495.21 101.617 1499.82 Q98.5613 1504.4 92.7512 1504.4 Q86.941 1504.4 83.8623 1499.82 Q80.8068 1495.21 80.8068 1486.48 Q80.8068 1477.73 83.8623 1473.15 Q86.941 1468.54 92.7512 1468.54 Z\" fill=\"#000000\" fill-rule=\"nonzero\" fill-opacity=\"1\" /><path clip-path=\"url(#clip530)\" d=\"M83.7929 1142.08 L102.149 1142.08 L102.149 1146.01 L88.0753 1146.01 L88.0753 1154.48 Q89.0938 1154.14 90.1123 1153.97 Q91.1308 1153.79 92.1493 1153.79 Q97.9363 1153.79 101.316 1156.96 Q104.696 1160.13 104.696 1165.55 Q104.696 1171.13 101.223 1174.23 Q97.7511 1177.31 91.4317 1177.31 Q89.2558 1177.31 86.9873 1176.94 Q84.7419 1176.57 82.3346 1175.83 L82.3346 1171.13 Q84.4179 1172.26 86.6401 1172.82 Q88.8623 1173.37 91.3391 1173.37 Q95.3437 1173.37 97.6817 1171.27 Q100.02 1169.16 100.02 1165.55 Q100.02 1161.94 97.6817 1159.83 Q95.3437 1157.72 91.3391 1157.72 Q89.4641 1157.72 87.5892 1158.14 Q85.7373 1158.56 83.7929 1159.44 L83.7929 1142.08 Z\" fill=\"#000000\" fill-rule=\"nonzero\" fill-opacity=\"1\" /><path clip-path=\"url(#clip530)\" d=\"M53.3995 845.609 L61.0384 845.609 L61.0384 819.244 L52.7282 820.91 L52.7282 816.651 L60.9921 814.984 L65.668 814.984 L65.668 845.609 L73.3068 845.609 L73.3068 849.544 L53.3995 849.544 L53.3995 845.609 Z\" fill=\"#000000\" fill-rule=\"nonzero\" fill-opacity=\"1\" /><path clip-path=\"url(#clip530)\" d=\"M92.7512 818.063 Q89.1401 818.063 87.3114 821.628 Q85.5058 825.169 85.5058 832.299 Q85.5058 839.406 87.3114 842.97 Q89.1401 846.512 92.7512 846.512 Q96.3854 846.512 98.1909 842.97 Q100.02 839.406 100.02 832.299 Q100.02 825.169 98.1909 821.628 Q96.3854 818.063 92.7512 818.063 M92.7512 814.359 Q98.5613 814.359 101.617 818.966 Q104.696 823.549 104.696 832.299 Q104.696 841.026 101.617 845.632 Q98.5613 850.216 92.7512 850.216 Q86.941 850.216 83.8623 845.632 Q80.8068 841.026 80.8068 832.299 Q80.8068 823.549 83.8623 818.966 Q86.941 814.359 92.7512 814.359 Z\" fill=\"#000000\" fill-rule=\"nonzero\" fill-opacity=\"1\" /><path clip-path=\"url(#clip530)\" d=\"M54.3949 518.517 L62.0337 518.517 L62.0337 492.152 L53.7236 493.818 L53.7236 489.559 L61.9874 487.893 L66.6633 487.893 L66.6633 518.517 L74.3022 518.517 L74.3022 522.453 L54.3949 522.453 L54.3949 518.517 Z\" fill=\"#000000\" fill-rule=\"nonzero\" fill-opacity=\"1\" /><path clip-path=\"url(#clip530)\" d=\"M83.7929 487.893 L102.149 487.893 L102.149 491.828 L88.0753 491.828 L88.0753 500.3 Q89.0938 499.953 90.1123 499.791 Q91.1308 499.605 92.1493 499.605 Q97.9363 499.605 101.316 502.777 Q104.696 505.948 104.696 511.365 Q104.696 516.943 101.223 520.045 Q97.7511 523.124 91.4317 523.124 Q89.2558 523.124 86.9873 522.753 Q84.7419 522.383 82.3346 521.642 L82.3346 516.943 Q84.4179 518.078 86.6401 518.633 Q88.8623 519.189 91.3391 519.189 Q95.3437 519.189 97.6817 517.082 Q100.02 514.976 100.02 511.365 Q100.02 507.754 97.6817 505.647 Q95.3437 503.541 91.3391 503.541 Q89.4641 503.541 87.5892 503.957 Q85.7373 504.374 83.7929 505.254 L83.7929 487.893 Z\" fill=\"#000000\" fill-rule=\"nonzero\" fill-opacity=\"1\" /><path clip-path=\"url(#clip530)\" d=\"M56.6171 191.426 L72.9365 191.426 L72.9365 195.361 L50.9921 195.361 L50.9921 191.426 Q53.6541 188.671 58.2375 184.041 Q62.8439 179.389 64.0245 178.046 Q66.2698 175.523 67.1494 173.787 Q68.0522 172.028 68.0522 170.338 Q68.0522 167.583 66.1078 165.847 Q64.1865 164.111 61.0847 164.111 Q58.8856 164.111 56.4319 164.875 Q54.0014 165.639 51.2236 167.19 L51.2236 162.467 Q54.0477 161.333 56.5014 160.755 Q58.955 160.176 60.9921 160.176 Q66.3624 160.176 69.5568 162.861 Q72.7513 165.546 72.7513 170.037 Q72.7513 172.166 71.9411 174.088 Q71.1541 175.986 69.0476 178.578 Q68.4689 179.25 65.367 182.467 Q62.2652 185.662 56.6171 191.426 Z\" fill=\"#000000\" fill-rule=\"nonzero\" fill-opacity=\"1\" /><path clip-path=\"url(#clip530)\" d=\"M92.7512 163.879 Q89.1401 163.879 87.3114 167.444 Q85.5058 170.986 85.5058 178.116 Q85.5058 185.222 87.3114 188.787 Q89.1401 192.328 92.7512 192.328 Q96.3854 192.328 98.1909 188.787 Q100.02 185.222 100.02 178.116 Q100.02 170.986 98.1909 167.444 Q96.3854 163.879 92.7512 163.879 M92.7512 160.176 Q98.5613 160.176 101.617 164.782 Q104.696 169.366 104.696 178.116 Q104.696 186.842 101.617 191.449 Q98.5613 196.032 92.7512 196.032 Q86.941 196.032 83.8623 191.449 Q80.8068 186.842 80.8068 178.116 Q80.8068 169.366 83.8623 164.782 Q86.941 160.176 92.7512 160.176 Z\" fill=\"#000000\" fill-rule=\"nonzero\" fill-opacity=\"1\" /><path clip-path=\"url(#clip532)\" d=\"M262.363 1421.03 L262.363 1486.45 L371.736 1486.45 L371.736 1421.03 L262.363 1421.03 L262.363 1421.03  Z\" fill=\"#009af9\" fill-rule=\"evenodd\" fill-opacity=\"1\"/>\n",
       "<polyline clip-path=\"url(#clip532)\" style=\"stroke:#000000; stroke-linecap:round; stroke-linejoin:round; stroke-width:4; stroke-opacity:1; fill:none\" points=\"262.363,1421.03 262.363,1486.45 371.736,1486.45 371.736,1421.03 262.363,1421.03 \"/>\n",
       "<path clip-path=\"url(#clip532)\" d=\"M371.736 963.101 L371.736 1486.45 L481.11 1486.45 L481.11 963.101 L371.736 963.101 L371.736 963.101  Z\" fill=\"#009af9\" fill-rule=\"evenodd\" fill-opacity=\"1\"/>\n",
       "<polyline clip-path=\"url(#clip532)\" style=\"stroke:#000000; stroke-linecap:round; stroke-linejoin:round; stroke-width:4; stroke-opacity:1; fill:none\" points=\"371.736,963.101 371.736,1486.45 481.11,1486.45 481.11,963.101 371.736,963.101 \"/>\n",
       "<path clip-path=\"url(#clip532)\" d=\"M481.11 963.101 L481.11 1486.45 L590.484 1486.45 L590.484 963.101 L481.11 963.101 L481.11 963.101  Z\" fill=\"#009af9\" fill-rule=\"evenodd\" fill-opacity=\"1\"/>\n",
       "<polyline clip-path=\"url(#clip532)\" style=\"stroke:#000000; stroke-linecap:round; stroke-linejoin:round; stroke-width:4; stroke-opacity:1; fill:none\" points=\"481.11,963.101 481.11,1486.45 590.484,1486.45 590.484,963.101 481.11,963.101 \"/>\n",
       "<path clip-path=\"url(#clip532)\" d=\"M590.484 1028.52 L590.484 1486.45 L699.857 1486.45 L699.857 1028.52 L590.484 1028.52 L590.484 1028.52  Z\" fill=\"#009af9\" fill-rule=\"evenodd\" fill-opacity=\"1\"/>\n",
       "<polyline clip-path=\"url(#clip532)\" style=\"stroke:#000000; stroke-linecap:round; stroke-linejoin:round; stroke-width:4; stroke-opacity:1; fill:none\" points=\"590.484,1028.52 590.484,1486.45 699.857,1486.45 699.857,1028.52 590.484,1028.52 \"/>\n",
       "<path clip-path=\"url(#clip532)\" d=\"M699.857 47.2441 L699.857 1486.45 L809.231 1486.45 L809.231 47.2441 L699.857 47.2441 L699.857 47.2441  Z\" fill=\"#009af9\" fill-rule=\"evenodd\" fill-opacity=\"1\"/>\n",
       "<polyline clip-path=\"url(#clip532)\" style=\"stroke:#000000; stroke-linecap:round; stroke-linejoin:round; stroke-width:4; stroke-opacity:1; fill:none\" points=\"699.857,47.2441 699.857,1486.45 809.231,1486.45 809.231,47.2441 699.857,47.2441 \"/>\n",
       "<path clip-path=\"url(#clip532)\" d=\"M809.231 570.591 L809.231 1486.45 L918.605 1486.45 L918.605 570.591 L809.231 570.591 L809.231 570.591  Z\" fill=\"#009af9\" fill-rule=\"evenodd\" fill-opacity=\"1\"/>\n",
       "<polyline clip-path=\"url(#clip532)\" style=\"stroke:#000000; stroke-linecap:round; stroke-linejoin:round; stroke-width:4; stroke-opacity:1; fill:none\" points=\"809.231,570.591 809.231,1486.45 918.605,1486.45 918.605,570.591 809.231,570.591 \"/>\n",
       "<path clip-path=\"url(#clip532)\" d=\"M918.605 832.264 L918.605 1486.45 L1027.98 1486.45 L1027.98 832.264 L918.605 832.264 L918.605 832.264  Z\" fill=\"#009af9\" fill-rule=\"evenodd\" fill-opacity=\"1\"/>\n",
       "<polyline clip-path=\"url(#clip532)\" style=\"stroke:#000000; stroke-linecap:round; stroke-linejoin:round; stroke-width:4; stroke-opacity:1; fill:none\" points=\"918.605,832.264 918.605,1486.45 1027.98,1486.45 1027.98,832.264 918.605,832.264 \"/>\n",
       "<path clip-path=\"url(#clip532)\" d=\"M1027.98 897.683 L1027.98 1486.45 L1137.35 1486.45 L1137.35 897.683 L1027.98 897.683 L1027.98 897.683  Z\" fill=\"#009af9\" fill-rule=\"evenodd\" fill-opacity=\"1\"/>\n",
       "<polyline clip-path=\"url(#clip532)\" style=\"stroke:#000000; stroke-linecap:round; stroke-linejoin:round; stroke-width:4; stroke-opacity:1; fill:none\" points=\"1027.98,897.683 1027.98,1486.45 1137.35,1486.45 1137.35,897.683 1027.98,897.683 \"/>\n",
       "<path clip-path=\"url(#clip532)\" d=\"M1137.35 570.591 L1137.35 1486.45 L1246.73 1486.45 L1246.73 570.591 L1137.35 570.591 L1137.35 570.591  Z\" fill=\"#009af9\" fill-rule=\"evenodd\" fill-opacity=\"1\"/>\n",
       "<polyline clip-path=\"url(#clip532)\" style=\"stroke:#000000; stroke-linecap:round; stroke-linejoin:round; stroke-width:4; stroke-opacity:1; fill:none\" points=\"1137.35,570.591 1137.35,1486.45 1246.73,1486.45 1246.73,570.591 1137.35,570.591 \"/>\n",
       "<path clip-path=\"url(#clip532)\" d=\"M1246.73 1159.36 L1246.73 1486.45 L1356.1 1486.45 L1356.1 1159.36 L1246.73 1159.36 L1246.73 1159.36  Z\" fill=\"#009af9\" fill-rule=\"evenodd\" fill-opacity=\"1\"/>\n",
       "<polyline clip-path=\"url(#clip532)\" style=\"stroke:#000000; stroke-linecap:round; stroke-linejoin:round; stroke-width:4; stroke-opacity:1; fill:none\" points=\"1246.73,1159.36 1246.73,1486.45 1356.1,1486.45 1356.1,1159.36 1246.73,1159.36 \"/>\n",
       "<path clip-path=\"url(#clip532)\" d=\"M1356.1 766.846 L1356.1 1486.45 L1465.47 1486.45 L1465.47 766.846 L1356.1 766.846 L1356.1 766.846  Z\" fill=\"#009af9\" fill-rule=\"evenodd\" fill-opacity=\"1\"/>\n",
       "<polyline clip-path=\"url(#clip532)\" style=\"stroke:#000000; stroke-linecap:round; stroke-linejoin:round; stroke-width:4; stroke-opacity:1; fill:none\" points=\"1356.1,766.846 1356.1,1486.45 1465.47,1486.45 1465.47,766.846 1356.1,766.846 \"/>\n",
       "<path clip-path=\"url(#clip532)\" d=\"M1465.47 439.754 L1465.47 1486.45 L1574.85 1486.45 L1574.85 439.754 L1465.47 439.754 L1465.47 439.754  Z\" fill=\"#009af9\" fill-rule=\"evenodd\" fill-opacity=\"1\"/>\n",
       "<polyline clip-path=\"url(#clip532)\" style=\"stroke:#000000; stroke-linecap:round; stroke-linejoin:round; stroke-width:4; stroke-opacity:1; fill:none\" points=\"1465.47,439.754 1465.47,1486.45 1574.85,1486.45 1574.85,439.754 1465.47,439.754 \"/>\n",
       "<path clip-path=\"url(#clip532)\" d=\"M1574.85 505.173 L1574.85 1486.45 L1684.22 1486.45 L1684.22 505.173 L1574.85 505.173 L1574.85 505.173  Z\" fill=\"#009af9\" fill-rule=\"evenodd\" fill-opacity=\"1\"/>\n",
       "<polyline clip-path=\"url(#clip532)\" style=\"stroke:#000000; stroke-linecap:round; stroke-linejoin:round; stroke-width:4; stroke-opacity:1; fill:none\" points=\"1574.85,505.173 1574.85,1486.45 1684.22,1486.45 1684.22,505.173 1574.85,505.173 \"/>\n",
       "<path clip-path=\"url(#clip532)\" d=\"M1684.22 439.754 L1684.22 1486.45 L1793.59 1486.45 L1793.59 439.754 L1684.22 439.754 L1684.22 439.754  Z\" fill=\"#009af9\" fill-rule=\"evenodd\" fill-opacity=\"1\"/>\n",
       "<polyline clip-path=\"url(#clip532)\" style=\"stroke:#000000; stroke-linecap:round; stroke-linejoin:round; stroke-width:4; stroke-opacity:1; fill:none\" points=\"1684.22,439.754 1684.22,1486.45 1793.59,1486.45 1793.59,439.754 1684.22,439.754 \"/>\n",
       "<path clip-path=\"url(#clip532)\" d=\"M1793.59 832.264 L1793.59 1486.45 L1902.97 1486.45 L1902.97 832.264 L1793.59 832.264 L1793.59 832.264  Z\" fill=\"#009af9\" fill-rule=\"evenodd\" fill-opacity=\"1\"/>\n",
       "<polyline clip-path=\"url(#clip532)\" style=\"stroke:#000000; stroke-linecap:round; stroke-linejoin:round; stroke-width:4; stroke-opacity:1; fill:none\" points=\"1793.59,832.264 1793.59,1486.45 1902.97,1486.45 1902.97,832.264 1793.59,832.264 \"/>\n",
       "<path clip-path=\"url(#clip532)\" d=\"M1902.97 1159.36 L1902.97 1486.45 L2012.34 1486.45 L2012.34 1159.36 L1902.97 1159.36 L1902.97 1159.36  Z\" fill=\"#009af9\" fill-rule=\"evenodd\" fill-opacity=\"1\"/>\n",
       "<polyline clip-path=\"url(#clip532)\" style=\"stroke:#000000; stroke-linecap:round; stroke-linejoin:round; stroke-width:4; stroke-opacity:1; fill:none\" points=\"1902.97,1159.36 1902.97,1486.45 2012.34,1486.45 2012.34,1159.36 1902.97,1159.36 \"/>\n",
       "<path clip-path=\"url(#clip532)\" d=\"M2012.34 1159.36 L2012.34 1486.45 L2121.71 1486.45 L2121.71 1159.36 L2012.34 1159.36 L2012.34 1159.36  Z\" fill=\"#009af9\" fill-rule=\"evenodd\" fill-opacity=\"1\"/>\n",
       "<polyline clip-path=\"url(#clip532)\" style=\"stroke:#000000; stroke-linecap:round; stroke-linejoin:round; stroke-width:4; stroke-opacity:1; fill:none\" points=\"2012.34,1159.36 2012.34,1486.45 2121.71,1486.45 2121.71,1159.36 2012.34,1159.36 \"/>\n",
       "<path clip-path=\"url(#clip532)\" d=\"M2121.71 1224.77 L2121.71 1486.45 L2231.09 1486.45 L2231.09 1224.77 L2121.71 1224.77 L2121.71 1224.77  Z\" fill=\"#009af9\" fill-rule=\"evenodd\" fill-opacity=\"1\"/>\n",
       "<polyline clip-path=\"url(#clip532)\" style=\"stroke:#000000; stroke-linecap:round; stroke-linejoin:round; stroke-width:4; stroke-opacity:1; fill:none\" points=\"2121.71,1224.77 2121.71,1486.45 2231.09,1486.45 2231.09,1224.77 2121.71,1224.77 \"/>\n",
       "<circle clip-path=\"url(#clip532)\" style=\"fill:#009af9; stroke:none; fill-opacity:0\" cx=\"317.05\" cy=\"1421.03\" r=\"2\"/>\n",
       "<circle clip-path=\"url(#clip532)\" style=\"fill:#009af9; stroke:none; fill-opacity:0\" cx=\"426.423\" cy=\"963.101\" r=\"2\"/>\n",
       "<circle clip-path=\"url(#clip532)\" style=\"fill:#009af9; stroke:none; fill-opacity:0\" cx=\"535.797\" cy=\"963.101\" r=\"2\"/>\n",
       "<circle clip-path=\"url(#clip532)\" style=\"fill:#009af9; stroke:none; fill-opacity:0\" cx=\"645.171\" cy=\"1028.52\" r=\"2\"/>\n",
       "<circle clip-path=\"url(#clip532)\" style=\"fill:#009af9; stroke:none; fill-opacity:0\" cx=\"754.544\" cy=\"47.2441\" r=\"2\"/>\n",
       "<circle clip-path=\"url(#clip532)\" style=\"fill:#009af9; stroke:none; fill-opacity:0\" cx=\"863.918\" cy=\"570.591\" r=\"2\"/>\n",
       "<circle clip-path=\"url(#clip532)\" style=\"fill:#009af9; stroke:none; fill-opacity:0\" cx=\"973.292\" cy=\"832.264\" r=\"2\"/>\n",
       "<circle clip-path=\"url(#clip532)\" style=\"fill:#009af9; stroke:none; fill-opacity:0\" cx=\"1082.67\" cy=\"897.683\" r=\"2\"/>\n",
       "<circle clip-path=\"url(#clip532)\" style=\"fill:#009af9; stroke:none; fill-opacity:0\" cx=\"1192.04\" cy=\"570.591\" r=\"2\"/>\n",
       "<circle clip-path=\"url(#clip532)\" style=\"fill:#009af9; stroke:none; fill-opacity:0\" cx=\"1301.41\" cy=\"1159.36\" r=\"2\"/>\n",
       "<circle clip-path=\"url(#clip532)\" style=\"fill:#009af9; stroke:none; fill-opacity:0\" cx=\"1410.79\" cy=\"766.846\" r=\"2\"/>\n",
       "<circle clip-path=\"url(#clip532)\" style=\"fill:#009af9; stroke:none; fill-opacity:0\" cx=\"1520.16\" cy=\"439.754\" r=\"2\"/>\n",
       "<circle clip-path=\"url(#clip532)\" style=\"fill:#009af9; stroke:none; fill-opacity:0\" cx=\"1629.53\" cy=\"505.173\" r=\"2\"/>\n",
       "<circle clip-path=\"url(#clip532)\" style=\"fill:#009af9; stroke:none; fill-opacity:0\" cx=\"1738.91\" cy=\"439.754\" r=\"2\"/>\n",
       "<circle clip-path=\"url(#clip532)\" style=\"fill:#009af9; stroke:none; fill-opacity:0\" cx=\"1848.28\" cy=\"832.264\" r=\"2\"/>\n",
       "<circle clip-path=\"url(#clip532)\" style=\"fill:#009af9; stroke:none; fill-opacity:0\" cx=\"1957.65\" cy=\"1159.36\" r=\"2\"/>\n",
       "<circle clip-path=\"url(#clip532)\" style=\"fill:#009af9; stroke:none; fill-opacity:0\" cx=\"2067.03\" cy=\"1159.36\" r=\"2\"/>\n",
       "<circle clip-path=\"url(#clip532)\" style=\"fill:#009af9; stroke:none; fill-opacity:0\" cx=\"2176.4\" cy=\"1224.77\" r=\"2\"/>\n",
       "<path clip-path=\"url(#clip530)\" d=\"M2005.38 198.898 L2279.02 198.898 L2279.02 95.2176 L2005.38 95.2176  Z\" fill=\"#ffffff\" fill-rule=\"evenodd\" fill-opacity=\"1\"/>\n",
       "<polyline clip-path=\"url(#clip530)\" style=\"stroke:#000000; stroke-linecap:round; stroke-linejoin:round; stroke-width:4; stroke-opacity:1; fill:none\" points=\"2005.38,198.898 2279.02,198.898 2279.02,95.2176 2005.38,95.2176 2005.38,198.898 \"/>\n",
       "<path clip-path=\"url(#clip530)\" d=\"M2029.96 167.794 L2177.43 167.794 L2177.43 126.322 L2029.96 126.322 L2029.96 167.794  Z\" fill=\"#009af9\" fill-rule=\"evenodd\" fill-opacity=\"1\"/>\n",
       "<polyline clip-path=\"url(#clip530)\" style=\"stroke:#000000; stroke-linecap:round; stroke-linejoin:round; stroke-width:4; stroke-opacity:1; fill:none\" points=\"2029.96,167.794 2177.43,167.794 2177.43,126.322 2029.96,126.322 2029.96,167.794 \"/>\n",
       "<path clip-path=\"url(#clip530)\" d=\"M2215.85 166.745 Q2214.05 171.375 2212.34 172.787 Q2210.62 174.199 2207.75 174.199 L2204.35 174.199 L2204.35 170.634 L2206.85 170.634 Q2208.61 170.634 2209.58 169.8 Q2210.55 168.967 2211.73 165.865 L2212.5 163.921 L2202.01 138.412 L2206.53 138.412 L2214.63 158.689 L2222.73 138.412 L2227.24 138.412 L2215.85 166.745 Z\" fill=\"#000000\" fill-rule=\"nonzero\" fill-opacity=\"1\" /><path clip-path=\"url(#clip530)\" d=\"M2234.53 160.402 L2242.17 160.402 L2242.17 134.037 L2233.86 135.703 L2233.86 131.444 L2242.13 129.778 L2246.8 129.778 L2246.8 160.402 L2254.44 160.402 L2254.44 164.338 L2234.53 164.338 L2234.53 160.402 Z\" fill=\"#000000\" fill-rule=\"nonzero\" fill-opacity=\"1\" /></svg>\n"
      ],
      "text/html": [
       "<?xml version=\"1.0\" encoding=\"utf-8\"?>\n",
       "<svg xmlns=\"http://www.w3.org/2000/svg\" xmlns:xlink=\"http://www.w3.org/1999/xlink\" width=\"600\" height=\"400\" viewBox=\"0 0 2400 1600\">\n",
       "<defs>\n",
       "  <clipPath id=\"clip580\">\n",
       "    <rect x=\"0\" y=\"0\" width=\"2400\" height=\"1600\"/>\n",
       "  </clipPath>\n",
       "</defs>\n",
       "<path clip-path=\"url(#clip580)\" d=\"M0 1600 L2400 1600 L2400 0 L0 0  Z\" fill=\"#ffffff\" fill-rule=\"evenodd\" fill-opacity=\"1\"/>\n",
       "<defs>\n",
       "  <clipPath id=\"clip581\">\n",
       "    <rect x=\"480\" y=\"0\" width=\"1681\" height=\"1600\"/>\n",
       "  </clipPath>\n",
       "</defs>\n",
       "<path clip-path=\"url(#clip580)\" d=\"M140.696 1486.45 L2352.76 1486.45 L2352.76 47.2441 L140.696 47.2441  Z\" fill=\"#ffffff\" fill-rule=\"evenodd\" fill-opacity=\"1\"/>\n",
       "<defs>\n",
       "  <clipPath id=\"clip582\">\n",
       "    <rect x=\"140\" y=\"47\" width=\"2213\" height=\"1440\"/>\n",
       "  </clipPath>\n",
       "</defs>\n",
       "<polyline clip-path=\"url(#clip582)\" style=\"stroke:#000000; stroke-linecap:round; stroke-linejoin:round; stroke-width:2; stroke-opacity:0.1; fill:none\" points=\"262.363,1486.45 262.363,47.2441 \"/>\n",
       "<polyline clip-path=\"url(#clip582)\" style=\"stroke:#000000; stroke-linecap:round; stroke-linejoin:round; stroke-width:2; stroke-opacity:0.1; fill:none\" points=\"809.231,1486.45 809.231,47.2441 \"/>\n",
       "<polyline clip-path=\"url(#clip582)\" style=\"stroke:#000000; stroke-linecap:round; stroke-linejoin:round; stroke-width:2; stroke-opacity:0.1; fill:none\" points=\"1356.1,1486.45 1356.1,47.2441 \"/>\n",
       "<polyline clip-path=\"url(#clip582)\" style=\"stroke:#000000; stroke-linecap:round; stroke-linejoin:round; stroke-width:2; stroke-opacity:0.1; fill:none\" points=\"1902.97,1486.45 1902.97,47.2441 \"/>\n",
       "<polyline clip-path=\"url(#clip580)\" style=\"stroke:#000000; stroke-linecap:round; stroke-linejoin:round; stroke-width:4; stroke-opacity:1; fill:none\" points=\"140.696,1486.45 2352.76,1486.45 \"/>\n",
       "<polyline clip-path=\"url(#clip580)\" style=\"stroke:#000000; stroke-linecap:round; stroke-linejoin:round; stroke-width:4; stroke-opacity:1; fill:none\" points=\"262.363,1486.45 262.363,1467.55 \"/>\n",
       "<polyline clip-path=\"url(#clip580)\" style=\"stroke:#000000; stroke-linecap:round; stroke-linejoin:round; stroke-width:4; stroke-opacity:1; fill:none\" points=\"809.231,1486.45 809.231,1467.55 \"/>\n",
       "<polyline clip-path=\"url(#clip580)\" style=\"stroke:#000000; stroke-linecap:round; stroke-linejoin:round; stroke-width:4; stroke-opacity:1; fill:none\" points=\"1356.1,1486.45 1356.1,1467.55 \"/>\n",
       "<polyline clip-path=\"url(#clip580)\" style=\"stroke:#000000; stroke-linecap:round; stroke-linejoin:round; stroke-width:4; stroke-opacity:1; fill:none\" points=\"1902.97,1486.45 1902.97,1467.55 \"/>\n",
       "<path clip-path=\"url(#clip580)\" d=\"M240.361 1517.37 Q236.75 1517.37 234.921 1520.93 Q233.115 1524.47 233.115 1531.6 Q233.115 1538.71 234.921 1542.27 Q236.75 1545.82 240.361 1545.82 Q243.995 1545.82 245.8 1542.27 Q247.629 1538.71 247.629 1531.6 Q247.629 1524.47 245.8 1520.93 Q243.995 1517.37 240.361 1517.37 M240.361 1513.66 Q246.171 1513.66 249.226 1518.27 Q252.305 1522.85 252.305 1531.6 Q252.305 1540.33 249.226 1544.94 Q246.171 1549.52 240.361 1549.52 Q234.55 1549.52 231.472 1544.94 Q228.416 1540.33 228.416 1531.6 Q228.416 1522.85 231.472 1518.27 Q234.55 1513.66 240.361 1513.66 Z\" fill=\"#000000\" fill-rule=\"nonzero\" fill-opacity=\"1\" /><path clip-path=\"url(#clip580)\" d=\"M260.523 1542.97 L265.407 1542.97 L265.407 1548.85 L260.523 1548.85 L260.523 1542.97 Z\" fill=\"#000000\" fill-rule=\"nonzero\" fill-opacity=\"1\" /><path clip-path=\"url(#clip580)\" d=\"M276.402 1544.91 L284.041 1544.91 L284.041 1518.55 L275.731 1520.21 L275.731 1515.95 L283.995 1514.29 L288.671 1514.29 L288.671 1544.91 L296.309 1544.91 L296.309 1548.85 L276.402 1548.85 L276.402 1544.91 Z\" fill=\"#000000\" fill-rule=\"nonzero\" fill-opacity=\"1\" /><path clip-path=\"url(#clip580)\" d=\"M787.414 1517.37 Q783.803 1517.37 781.974 1520.93 Q780.169 1524.47 780.169 1531.6 Q780.169 1538.71 781.974 1542.27 Q783.803 1545.82 787.414 1545.82 Q791.048 1545.82 792.854 1542.27 Q794.683 1538.71 794.683 1531.6 Q794.683 1524.47 792.854 1520.93 Q791.048 1517.37 787.414 1517.37 M787.414 1513.66 Q793.224 1513.66 796.28 1518.27 Q799.358 1522.85 799.358 1531.6 Q799.358 1540.33 796.28 1544.94 Q793.224 1549.52 787.414 1549.52 Q781.604 1549.52 778.525 1544.94 Q775.47 1540.33 775.47 1531.6 Q775.47 1522.85 778.525 1518.27 Q781.604 1513.66 787.414 1513.66 Z\" fill=\"#000000\" fill-rule=\"nonzero\" fill-opacity=\"1\" /><path clip-path=\"url(#clip580)\" d=\"M807.576 1542.97 L812.46 1542.97 L812.46 1548.85 L807.576 1548.85 L807.576 1542.97 Z\" fill=\"#000000\" fill-rule=\"nonzero\" fill-opacity=\"1\" /><path clip-path=\"url(#clip580)\" d=\"M826.673 1544.91 L842.992 1544.91 L842.992 1548.85 L821.048 1548.85 L821.048 1544.91 Q823.71 1542.16 828.293 1537.53 Q832.9 1532.88 834.08 1531.53 Q836.326 1529.01 837.205 1527.27 Q838.108 1525.51 838.108 1523.82 Q838.108 1521.07 836.164 1519.33 Q834.243 1517.6 831.141 1517.6 Q828.942 1517.6 826.488 1518.36 Q824.057 1519.13 821.28 1520.68 L821.28 1515.95 Q824.104 1514.82 826.557 1514.24 Q829.011 1513.66 831.048 1513.66 Q836.418 1513.66 839.613 1516.35 Q842.807 1519.03 842.807 1523.52 Q842.807 1525.65 841.997 1527.57 Q841.21 1529.47 839.104 1532.07 Q838.525 1532.74 835.423 1535.95 Q832.321 1539.15 826.673 1544.91 Z\" fill=\"#000000\" fill-rule=\"nonzero\" fill-opacity=\"1\" /><path clip-path=\"url(#clip580)\" d=\"M1333.81 1517.37 Q1330.2 1517.37 1328.37 1520.93 Q1326.56 1524.47 1326.56 1531.6 Q1326.56 1538.71 1328.37 1542.27 Q1330.2 1545.82 1333.81 1545.82 Q1337.44 1545.82 1339.25 1542.27 Q1341.08 1538.71 1341.08 1531.6 Q1341.08 1524.47 1339.25 1520.93 Q1337.44 1517.37 1333.81 1517.37 M1333.81 1513.66 Q1339.62 1513.66 1342.67 1518.27 Q1345.75 1522.85 1345.75 1531.6 Q1345.75 1540.33 1342.67 1544.94 Q1339.62 1549.52 1333.81 1549.52 Q1328 1549.52 1324.92 1544.94 Q1321.86 1540.33 1321.86 1531.6 Q1321.86 1522.85 1324.92 1518.27 Q1328 1513.66 1333.81 1513.66 Z\" fill=\"#000000\" fill-rule=\"nonzero\" fill-opacity=\"1\" /><path clip-path=\"url(#clip580)\" d=\"M1353.97 1542.97 L1358.85 1542.97 L1358.85 1548.85 L1353.97 1548.85 L1353.97 1542.97 Z\" fill=\"#000000\" fill-rule=\"nonzero\" fill-opacity=\"1\" /><path clip-path=\"url(#clip580)\" d=\"M1383.21 1530.21 Q1386.56 1530.93 1388.44 1533.2 Q1390.34 1535.47 1390.34 1538.8 Q1390.34 1543.92 1386.82 1546.72 Q1383.3 1549.52 1376.82 1549.52 Q1374.64 1549.52 1372.33 1549.08 Q1370.03 1548.66 1367.58 1547.81 L1367.58 1543.29 Q1369.53 1544.43 1371.84 1545.01 Q1374.15 1545.58 1376.68 1545.58 Q1381.08 1545.58 1383.37 1543.85 Q1385.68 1542.11 1385.68 1538.8 Q1385.68 1535.75 1383.53 1534.03 Q1381.4 1532.3 1377.58 1532.3 L1373.55 1532.3 L1373.55 1528.45 L1377.77 1528.45 Q1381.21 1528.45 1383.04 1527.09 Q1384.87 1525.7 1384.87 1523.11 Q1384.87 1520.45 1382.97 1519.03 Q1381.1 1517.6 1377.58 1517.6 Q1375.66 1517.6 1373.46 1518.01 Q1371.26 1518.43 1368.62 1519.31 L1368.62 1515.14 Q1371.28 1514.4 1373.6 1514.03 Q1375.94 1513.66 1378 1513.66 Q1383.32 1513.66 1386.42 1516.09 Q1389.53 1518.5 1389.53 1522.62 Q1389.53 1525.49 1387.88 1527.48 Q1386.24 1529.45 1383.21 1530.21 Z\" fill=\"#000000\" fill-rule=\"nonzero\" fill-opacity=\"1\" /><path clip-path=\"url(#clip580)\" d=\"M1880.11 1517.37 Q1876.5 1517.37 1874.67 1520.93 Q1872.86 1524.47 1872.86 1531.6 Q1872.86 1538.71 1874.67 1542.27 Q1876.5 1545.82 1880.11 1545.82 Q1883.74 1545.82 1885.55 1542.27 Q1887.38 1538.71 1887.38 1531.6 Q1887.38 1524.47 1885.55 1520.93 Q1883.74 1517.37 1880.11 1517.37 M1880.11 1513.66 Q1885.92 1513.66 1888.97 1518.27 Q1892.05 1522.85 1892.05 1531.6 Q1892.05 1540.33 1888.97 1544.94 Q1885.92 1549.52 1880.11 1549.52 Q1874.3 1549.52 1871.22 1544.94 Q1868.16 1540.33 1868.16 1531.6 Q1868.16 1522.85 1871.22 1518.27 Q1874.3 1513.66 1880.11 1513.66 Z\" fill=\"#000000\" fill-rule=\"nonzero\" fill-opacity=\"1\" /><path clip-path=\"url(#clip580)\" d=\"M1900.27 1542.97 L1905.16 1542.97 L1905.16 1548.85 L1900.27 1548.85 L1900.27 1542.97 Z\" fill=\"#000000\" fill-rule=\"nonzero\" fill-opacity=\"1\" /><path clip-path=\"url(#clip580)\" d=\"M1928.19 1518.36 L1916.38 1536.81 L1928.19 1536.81 L1928.19 1518.36 M1926.96 1514.29 L1932.84 1514.29 L1932.84 1536.81 L1937.77 1536.81 L1937.77 1540.7 L1932.84 1540.7 L1932.84 1548.85 L1928.19 1548.85 L1928.19 1540.7 L1912.59 1540.7 L1912.59 1536.19 L1926.96 1514.29 Z\" fill=\"#000000\" fill-rule=\"nonzero\" fill-opacity=\"1\" /><polyline clip-path=\"url(#clip582)\" style=\"stroke:#000000; stroke-linecap:round; stroke-linejoin:round; stroke-width:2; stroke-opacity:0.1; fill:none\" points=\"140.696,1486.45 2352.76,1486.45 \"/>\n",
       "<polyline clip-path=\"url(#clip582)\" style=\"stroke:#000000; stroke-linecap:round; stroke-linejoin:round; stroke-width:2; stroke-opacity:0.1; fill:none\" points=\"140.696,1159.36 2352.76,1159.36 \"/>\n",
       "<polyline clip-path=\"url(#clip582)\" style=\"stroke:#000000; stroke-linecap:round; stroke-linejoin:round; stroke-width:2; stroke-opacity:0.1; fill:none\" points=\"140.696,832.264 2352.76,832.264 \"/>\n",
       "<polyline clip-path=\"url(#clip582)\" style=\"stroke:#000000; stroke-linecap:round; stroke-linejoin:round; stroke-width:2; stroke-opacity:0.1; fill:none\" points=\"140.696,505.173 2352.76,505.173 \"/>\n",
       "<polyline clip-path=\"url(#clip582)\" style=\"stroke:#000000; stroke-linecap:round; stroke-linejoin:round; stroke-width:2; stroke-opacity:0.1; fill:none\" points=\"140.696,178.081 2352.76,178.081 \"/>\n",
       "<polyline clip-path=\"url(#clip580)\" style=\"stroke:#000000; stroke-linecap:round; stroke-linejoin:round; stroke-width:4; stroke-opacity:1; fill:none\" points=\"140.696,1486.45 140.696,47.2441 \"/>\n",
       "<polyline clip-path=\"url(#clip580)\" style=\"stroke:#000000; stroke-linecap:round; stroke-linejoin:round; stroke-width:4; stroke-opacity:1; fill:none\" points=\"140.696,1486.45 159.593,1486.45 \"/>\n",
       "<polyline clip-path=\"url(#clip580)\" style=\"stroke:#000000; stroke-linecap:round; stroke-linejoin:round; stroke-width:4; stroke-opacity:1; fill:none\" points=\"140.696,1159.36 159.593,1159.36 \"/>\n",
       "<polyline clip-path=\"url(#clip580)\" style=\"stroke:#000000; stroke-linecap:round; stroke-linejoin:round; stroke-width:4; stroke-opacity:1; fill:none\" points=\"140.696,832.264 159.593,832.264 \"/>\n",
       "<polyline clip-path=\"url(#clip580)\" style=\"stroke:#000000; stroke-linecap:round; stroke-linejoin:round; stroke-width:4; stroke-opacity:1; fill:none\" points=\"140.696,505.173 159.593,505.173 \"/>\n",
       "<polyline clip-path=\"url(#clip580)\" style=\"stroke:#000000; stroke-linecap:round; stroke-linejoin:round; stroke-width:4; stroke-opacity:1; fill:none\" points=\"140.696,178.081 159.593,178.081 \"/>\n",
       "<path clip-path=\"url(#clip580)\" d=\"M92.7512 1472.25 Q89.1401 1472.25 87.3114 1475.81 Q85.5058 1479.35 85.5058 1486.48 Q85.5058 1493.59 87.3114 1497.15 Q89.1401 1500.7 92.7512 1500.7 Q96.3854 1500.7 98.1909 1497.15 Q100.02 1493.59 100.02 1486.48 Q100.02 1479.35 98.1909 1475.81 Q96.3854 1472.25 92.7512 1472.25 M92.7512 1468.54 Q98.5613 1468.54 101.617 1473.15 Q104.696 1477.73 104.696 1486.48 Q104.696 1495.21 101.617 1499.82 Q98.5613 1504.4 92.7512 1504.4 Q86.941 1504.4 83.8623 1499.82 Q80.8068 1495.21 80.8068 1486.48 Q80.8068 1477.73 83.8623 1473.15 Q86.941 1468.54 92.7512 1468.54 Z\" fill=\"#000000\" fill-rule=\"nonzero\" fill-opacity=\"1\" /><path clip-path=\"url(#clip580)\" d=\"M83.7929 1142.08 L102.149 1142.08 L102.149 1146.01 L88.0753 1146.01 L88.0753 1154.48 Q89.0938 1154.14 90.1123 1153.97 Q91.1308 1153.79 92.1493 1153.79 Q97.9363 1153.79 101.316 1156.96 Q104.696 1160.13 104.696 1165.55 Q104.696 1171.13 101.223 1174.23 Q97.7511 1177.31 91.4317 1177.31 Q89.2558 1177.31 86.9873 1176.94 Q84.7419 1176.57 82.3346 1175.83 L82.3346 1171.13 Q84.4179 1172.26 86.6401 1172.82 Q88.8623 1173.37 91.3391 1173.37 Q95.3437 1173.37 97.6817 1171.27 Q100.02 1169.16 100.02 1165.55 Q100.02 1161.94 97.6817 1159.83 Q95.3437 1157.72 91.3391 1157.72 Q89.4641 1157.72 87.5892 1158.14 Q85.7373 1158.56 83.7929 1159.44 L83.7929 1142.08 Z\" fill=\"#000000\" fill-rule=\"nonzero\" fill-opacity=\"1\" /><path clip-path=\"url(#clip580)\" d=\"M53.3995 845.609 L61.0384 845.609 L61.0384 819.244 L52.7282 820.91 L52.7282 816.651 L60.9921 814.984 L65.668 814.984 L65.668 845.609 L73.3068 845.609 L73.3068 849.544 L53.3995 849.544 L53.3995 845.609 Z\" fill=\"#000000\" fill-rule=\"nonzero\" fill-opacity=\"1\" /><path clip-path=\"url(#clip580)\" d=\"M92.7512 818.063 Q89.1401 818.063 87.3114 821.628 Q85.5058 825.169 85.5058 832.299 Q85.5058 839.406 87.3114 842.97 Q89.1401 846.512 92.7512 846.512 Q96.3854 846.512 98.1909 842.97 Q100.02 839.406 100.02 832.299 Q100.02 825.169 98.1909 821.628 Q96.3854 818.063 92.7512 818.063 M92.7512 814.359 Q98.5613 814.359 101.617 818.966 Q104.696 823.549 104.696 832.299 Q104.696 841.026 101.617 845.632 Q98.5613 850.216 92.7512 850.216 Q86.941 850.216 83.8623 845.632 Q80.8068 841.026 80.8068 832.299 Q80.8068 823.549 83.8623 818.966 Q86.941 814.359 92.7512 814.359 Z\" fill=\"#000000\" fill-rule=\"nonzero\" fill-opacity=\"1\" /><path clip-path=\"url(#clip580)\" d=\"M54.3949 518.517 L62.0337 518.517 L62.0337 492.152 L53.7236 493.818 L53.7236 489.559 L61.9874 487.893 L66.6633 487.893 L66.6633 518.517 L74.3022 518.517 L74.3022 522.453 L54.3949 522.453 L54.3949 518.517 Z\" fill=\"#000000\" fill-rule=\"nonzero\" fill-opacity=\"1\" /><path clip-path=\"url(#clip580)\" d=\"M83.7929 487.893 L102.149 487.893 L102.149 491.828 L88.0753 491.828 L88.0753 500.3 Q89.0938 499.953 90.1123 499.791 Q91.1308 499.605 92.1493 499.605 Q97.9363 499.605 101.316 502.777 Q104.696 505.948 104.696 511.365 Q104.696 516.943 101.223 520.045 Q97.7511 523.124 91.4317 523.124 Q89.2558 523.124 86.9873 522.753 Q84.7419 522.383 82.3346 521.642 L82.3346 516.943 Q84.4179 518.078 86.6401 518.633 Q88.8623 519.189 91.3391 519.189 Q95.3437 519.189 97.6817 517.082 Q100.02 514.976 100.02 511.365 Q100.02 507.754 97.6817 505.647 Q95.3437 503.541 91.3391 503.541 Q89.4641 503.541 87.5892 503.957 Q85.7373 504.374 83.7929 505.254 L83.7929 487.893 Z\" fill=\"#000000\" fill-rule=\"nonzero\" fill-opacity=\"1\" /><path clip-path=\"url(#clip580)\" d=\"M56.6171 191.426 L72.9365 191.426 L72.9365 195.361 L50.9921 195.361 L50.9921 191.426 Q53.6541 188.671 58.2375 184.041 Q62.8439 179.389 64.0245 178.046 Q66.2698 175.523 67.1494 173.787 Q68.0522 172.028 68.0522 170.338 Q68.0522 167.583 66.1078 165.847 Q64.1865 164.111 61.0847 164.111 Q58.8856 164.111 56.4319 164.875 Q54.0014 165.639 51.2236 167.19 L51.2236 162.467 Q54.0477 161.333 56.5014 160.755 Q58.955 160.176 60.9921 160.176 Q66.3624 160.176 69.5568 162.861 Q72.7513 165.546 72.7513 170.037 Q72.7513 172.166 71.9411 174.088 Q71.1541 175.986 69.0476 178.578 Q68.4689 179.25 65.367 182.467 Q62.2652 185.662 56.6171 191.426 Z\" fill=\"#000000\" fill-rule=\"nonzero\" fill-opacity=\"1\" /><path clip-path=\"url(#clip580)\" d=\"M92.7512 163.879 Q89.1401 163.879 87.3114 167.444 Q85.5058 170.986 85.5058 178.116 Q85.5058 185.222 87.3114 188.787 Q89.1401 192.328 92.7512 192.328 Q96.3854 192.328 98.1909 188.787 Q100.02 185.222 100.02 178.116 Q100.02 170.986 98.1909 167.444 Q96.3854 163.879 92.7512 163.879 M92.7512 160.176 Q98.5613 160.176 101.617 164.782 Q104.696 169.366 104.696 178.116 Q104.696 186.842 101.617 191.449 Q98.5613 196.032 92.7512 196.032 Q86.941 196.032 83.8623 191.449 Q80.8068 186.842 80.8068 178.116 Q80.8068 169.366 83.8623 164.782 Q86.941 160.176 92.7512 160.176 Z\" fill=\"#000000\" fill-rule=\"nonzero\" fill-opacity=\"1\" /><path clip-path=\"url(#clip582)\" d=\"M262.363 1421.03 L262.363 1486.45 L371.736 1486.45 L371.736 1421.03 L262.363 1421.03 L262.363 1421.03  Z\" fill=\"#009af9\" fill-rule=\"evenodd\" fill-opacity=\"1\"/>\n",
       "<polyline clip-path=\"url(#clip582)\" style=\"stroke:#000000; stroke-linecap:round; stroke-linejoin:round; stroke-width:4; stroke-opacity:1; fill:none\" points=\"262.363,1421.03 262.363,1486.45 371.736,1486.45 371.736,1421.03 262.363,1421.03 \"/>\n",
       "<path clip-path=\"url(#clip582)\" d=\"M371.736 963.101 L371.736 1486.45 L481.11 1486.45 L481.11 963.101 L371.736 963.101 L371.736 963.101  Z\" fill=\"#009af9\" fill-rule=\"evenodd\" fill-opacity=\"1\"/>\n",
       "<polyline clip-path=\"url(#clip582)\" style=\"stroke:#000000; stroke-linecap:round; stroke-linejoin:round; stroke-width:4; stroke-opacity:1; fill:none\" points=\"371.736,963.101 371.736,1486.45 481.11,1486.45 481.11,963.101 371.736,963.101 \"/>\n",
       "<path clip-path=\"url(#clip582)\" d=\"M481.11 963.101 L481.11 1486.45 L590.484 1486.45 L590.484 963.101 L481.11 963.101 L481.11 963.101  Z\" fill=\"#009af9\" fill-rule=\"evenodd\" fill-opacity=\"1\"/>\n",
       "<polyline clip-path=\"url(#clip582)\" style=\"stroke:#000000; stroke-linecap:round; stroke-linejoin:round; stroke-width:4; stroke-opacity:1; fill:none\" points=\"481.11,963.101 481.11,1486.45 590.484,1486.45 590.484,963.101 481.11,963.101 \"/>\n",
       "<path clip-path=\"url(#clip582)\" d=\"M590.484 1028.52 L590.484 1486.45 L699.857 1486.45 L699.857 1028.52 L590.484 1028.52 L590.484 1028.52  Z\" fill=\"#009af9\" fill-rule=\"evenodd\" fill-opacity=\"1\"/>\n",
       "<polyline clip-path=\"url(#clip582)\" style=\"stroke:#000000; stroke-linecap:round; stroke-linejoin:round; stroke-width:4; stroke-opacity:1; fill:none\" points=\"590.484,1028.52 590.484,1486.45 699.857,1486.45 699.857,1028.52 590.484,1028.52 \"/>\n",
       "<path clip-path=\"url(#clip582)\" d=\"M699.857 47.2441 L699.857 1486.45 L809.231 1486.45 L809.231 47.2441 L699.857 47.2441 L699.857 47.2441  Z\" fill=\"#009af9\" fill-rule=\"evenodd\" fill-opacity=\"1\"/>\n",
       "<polyline clip-path=\"url(#clip582)\" style=\"stroke:#000000; stroke-linecap:round; stroke-linejoin:round; stroke-width:4; stroke-opacity:1; fill:none\" points=\"699.857,47.2441 699.857,1486.45 809.231,1486.45 809.231,47.2441 699.857,47.2441 \"/>\n",
       "<path clip-path=\"url(#clip582)\" d=\"M809.231 570.591 L809.231 1486.45 L918.605 1486.45 L918.605 570.591 L809.231 570.591 L809.231 570.591  Z\" fill=\"#009af9\" fill-rule=\"evenodd\" fill-opacity=\"1\"/>\n",
       "<polyline clip-path=\"url(#clip582)\" style=\"stroke:#000000; stroke-linecap:round; stroke-linejoin:round; stroke-width:4; stroke-opacity:1; fill:none\" points=\"809.231,570.591 809.231,1486.45 918.605,1486.45 918.605,570.591 809.231,570.591 \"/>\n",
       "<path clip-path=\"url(#clip582)\" d=\"M918.605 832.264 L918.605 1486.45 L1027.98 1486.45 L1027.98 832.264 L918.605 832.264 L918.605 832.264  Z\" fill=\"#009af9\" fill-rule=\"evenodd\" fill-opacity=\"1\"/>\n",
       "<polyline clip-path=\"url(#clip582)\" style=\"stroke:#000000; stroke-linecap:round; stroke-linejoin:round; stroke-width:4; stroke-opacity:1; fill:none\" points=\"918.605,832.264 918.605,1486.45 1027.98,1486.45 1027.98,832.264 918.605,832.264 \"/>\n",
       "<path clip-path=\"url(#clip582)\" d=\"M1027.98 897.683 L1027.98 1486.45 L1137.35 1486.45 L1137.35 897.683 L1027.98 897.683 L1027.98 897.683  Z\" fill=\"#009af9\" fill-rule=\"evenodd\" fill-opacity=\"1\"/>\n",
       "<polyline clip-path=\"url(#clip582)\" style=\"stroke:#000000; stroke-linecap:round; stroke-linejoin:round; stroke-width:4; stroke-opacity:1; fill:none\" points=\"1027.98,897.683 1027.98,1486.45 1137.35,1486.45 1137.35,897.683 1027.98,897.683 \"/>\n",
       "<path clip-path=\"url(#clip582)\" d=\"M1137.35 570.591 L1137.35 1486.45 L1246.73 1486.45 L1246.73 570.591 L1137.35 570.591 L1137.35 570.591  Z\" fill=\"#009af9\" fill-rule=\"evenodd\" fill-opacity=\"1\"/>\n",
       "<polyline clip-path=\"url(#clip582)\" style=\"stroke:#000000; stroke-linecap:round; stroke-linejoin:round; stroke-width:4; stroke-opacity:1; fill:none\" points=\"1137.35,570.591 1137.35,1486.45 1246.73,1486.45 1246.73,570.591 1137.35,570.591 \"/>\n",
       "<path clip-path=\"url(#clip582)\" d=\"M1246.73 1159.36 L1246.73 1486.45 L1356.1 1486.45 L1356.1 1159.36 L1246.73 1159.36 L1246.73 1159.36  Z\" fill=\"#009af9\" fill-rule=\"evenodd\" fill-opacity=\"1\"/>\n",
       "<polyline clip-path=\"url(#clip582)\" style=\"stroke:#000000; stroke-linecap:round; stroke-linejoin:round; stroke-width:4; stroke-opacity:1; fill:none\" points=\"1246.73,1159.36 1246.73,1486.45 1356.1,1486.45 1356.1,1159.36 1246.73,1159.36 \"/>\n",
       "<path clip-path=\"url(#clip582)\" d=\"M1356.1 766.846 L1356.1 1486.45 L1465.47 1486.45 L1465.47 766.846 L1356.1 766.846 L1356.1 766.846  Z\" fill=\"#009af9\" fill-rule=\"evenodd\" fill-opacity=\"1\"/>\n",
       "<polyline clip-path=\"url(#clip582)\" style=\"stroke:#000000; stroke-linecap:round; stroke-linejoin:round; stroke-width:4; stroke-opacity:1; fill:none\" points=\"1356.1,766.846 1356.1,1486.45 1465.47,1486.45 1465.47,766.846 1356.1,766.846 \"/>\n",
       "<path clip-path=\"url(#clip582)\" d=\"M1465.47 439.754 L1465.47 1486.45 L1574.85 1486.45 L1574.85 439.754 L1465.47 439.754 L1465.47 439.754  Z\" fill=\"#009af9\" fill-rule=\"evenodd\" fill-opacity=\"1\"/>\n",
       "<polyline clip-path=\"url(#clip582)\" style=\"stroke:#000000; stroke-linecap:round; stroke-linejoin:round; stroke-width:4; stroke-opacity:1; fill:none\" points=\"1465.47,439.754 1465.47,1486.45 1574.85,1486.45 1574.85,439.754 1465.47,439.754 \"/>\n",
       "<path clip-path=\"url(#clip582)\" d=\"M1574.85 505.173 L1574.85 1486.45 L1684.22 1486.45 L1684.22 505.173 L1574.85 505.173 L1574.85 505.173  Z\" fill=\"#009af9\" fill-rule=\"evenodd\" fill-opacity=\"1\"/>\n",
       "<polyline clip-path=\"url(#clip582)\" style=\"stroke:#000000; stroke-linecap:round; stroke-linejoin:round; stroke-width:4; stroke-opacity:1; fill:none\" points=\"1574.85,505.173 1574.85,1486.45 1684.22,1486.45 1684.22,505.173 1574.85,505.173 \"/>\n",
       "<path clip-path=\"url(#clip582)\" d=\"M1684.22 439.754 L1684.22 1486.45 L1793.59 1486.45 L1793.59 439.754 L1684.22 439.754 L1684.22 439.754  Z\" fill=\"#009af9\" fill-rule=\"evenodd\" fill-opacity=\"1\"/>\n",
       "<polyline clip-path=\"url(#clip582)\" style=\"stroke:#000000; stroke-linecap:round; stroke-linejoin:round; stroke-width:4; stroke-opacity:1; fill:none\" points=\"1684.22,439.754 1684.22,1486.45 1793.59,1486.45 1793.59,439.754 1684.22,439.754 \"/>\n",
       "<path clip-path=\"url(#clip582)\" d=\"M1793.59 832.264 L1793.59 1486.45 L1902.97 1486.45 L1902.97 832.264 L1793.59 832.264 L1793.59 832.264  Z\" fill=\"#009af9\" fill-rule=\"evenodd\" fill-opacity=\"1\"/>\n",
       "<polyline clip-path=\"url(#clip582)\" style=\"stroke:#000000; stroke-linecap:round; stroke-linejoin:round; stroke-width:4; stroke-opacity:1; fill:none\" points=\"1793.59,832.264 1793.59,1486.45 1902.97,1486.45 1902.97,832.264 1793.59,832.264 \"/>\n",
       "<path clip-path=\"url(#clip582)\" d=\"M1902.97 1159.36 L1902.97 1486.45 L2012.34 1486.45 L2012.34 1159.36 L1902.97 1159.36 L1902.97 1159.36  Z\" fill=\"#009af9\" fill-rule=\"evenodd\" fill-opacity=\"1\"/>\n",
       "<polyline clip-path=\"url(#clip582)\" style=\"stroke:#000000; stroke-linecap:round; stroke-linejoin:round; stroke-width:4; stroke-opacity:1; fill:none\" points=\"1902.97,1159.36 1902.97,1486.45 2012.34,1486.45 2012.34,1159.36 1902.97,1159.36 \"/>\n",
       "<path clip-path=\"url(#clip582)\" d=\"M2012.34 1159.36 L2012.34 1486.45 L2121.71 1486.45 L2121.71 1159.36 L2012.34 1159.36 L2012.34 1159.36  Z\" fill=\"#009af9\" fill-rule=\"evenodd\" fill-opacity=\"1\"/>\n",
       "<polyline clip-path=\"url(#clip582)\" style=\"stroke:#000000; stroke-linecap:round; stroke-linejoin:round; stroke-width:4; stroke-opacity:1; fill:none\" points=\"2012.34,1159.36 2012.34,1486.45 2121.71,1486.45 2121.71,1159.36 2012.34,1159.36 \"/>\n",
       "<path clip-path=\"url(#clip582)\" d=\"M2121.71 1224.77 L2121.71 1486.45 L2231.09 1486.45 L2231.09 1224.77 L2121.71 1224.77 L2121.71 1224.77  Z\" fill=\"#009af9\" fill-rule=\"evenodd\" fill-opacity=\"1\"/>\n",
       "<polyline clip-path=\"url(#clip582)\" style=\"stroke:#000000; stroke-linecap:round; stroke-linejoin:round; stroke-width:4; stroke-opacity:1; fill:none\" points=\"2121.71,1224.77 2121.71,1486.45 2231.09,1486.45 2231.09,1224.77 2121.71,1224.77 \"/>\n",
       "<circle clip-path=\"url(#clip582)\" style=\"fill:#009af9; stroke:none; fill-opacity:0\" cx=\"317.05\" cy=\"1421.03\" r=\"2\"/>\n",
       "<circle clip-path=\"url(#clip582)\" style=\"fill:#009af9; stroke:none; fill-opacity:0\" cx=\"426.423\" cy=\"963.101\" r=\"2\"/>\n",
       "<circle clip-path=\"url(#clip582)\" style=\"fill:#009af9; stroke:none; fill-opacity:0\" cx=\"535.797\" cy=\"963.101\" r=\"2\"/>\n",
       "<circle clip-path=\"url(#clip582)\" style=\"fill:#009af9; stroke:none; fill-opacity:0\" cx=\"645.171\" cy=\"1028.52\" r=\"2\"/>\n",
       "<circle clip-path=\"url(#clip582)\" style=\"fill:#009af9; stroke:none; fill-opacity:0\" cx=\"754.544\" cy=\"47.2441\" r=\"2\"/>\n",
       "<circle clip-path=\"url(#clip582)\" style=\"fill:#009af9; stroke:none; fill-opacity:0\" cx=\"863.918\" cy=\"570.591\" r=\"2\"/>\n",
       "<circle clip-path=\"url(#clip582)\" style=\"fill:#009af9; stroke:none; fill-opacity:0\" cx=\"973.292\" cy=\"832.264\" r=\"2\"/>\n",
       "<circle clip-path=\"url(#clip582)\" style=\"fill:#009af9; stroke:none; fill-opacity:0\" cx=\"1082.67\" cy=\"897.683\" r=\"2\"/>\n",
       "<circle clip-path=\"url(#clip582)\" style=\"fill:#009af9; stroke:none; fill-opacity:0\" cx=\"1192.04\" cy=\"570.591\" r=\"2\"/>\n",
       "<circle clip-path=\"url(#clip582)\" style=\"fill:#009af9; stroke:none; fill-opacity:0\" cx=\"1301.41\" cy=\"1159.36\" r=\"2\"/>\n",
       "<circle clip-path=\"url(#clip582)\" style=\"fill:#009af9; stroke:none; fill-opacity:0\" cx=\"1410.79\" cy=\"766.846\" r=\"2\"/>\n",
       "<circle clip-path=\"url(#clip582)\" style=\"fill:#009af9; stroke:none; fill-opacity:0\" cx=\"1520.16\" cy=\"439.754\" r=\"2\"/>\n",
       "<circle clip-path=\"url(#clip582)\" style=\"fill:#009af9; stroke:none; fill-opacity:0\" cx=\"1629.53\" cy=\"505.173\" r=\"2\"/>\n",
       "<circle clip-path=\"url(#clip582)\" style=\"fill:#009af9; stroke:none; fill-opacity:0\" cx=\"1738.91\" cy=\"439.754\" r=\"2\"/>\n",
       "<circle clip-path=\"url(#clip582)\" style=\"fill:#009af9; stroke:none; fill-opacity:0\" cx=\"1848.28\" cy=\"832.264\" r=\"2\"/>\n",
       "<circle clip-path=\"url(#clip582)\" style=\"fill:#009af9; stroke:none; fill-opacity:0\" cx=\"1957.65\" cy=\"1159.36\" r=\"2\"/>\n",
       "<circle clip-path=\"url(#clip582)\" style=\"fill:#009af9; stroke:none; fill-opacity:0\" cx=\"2067.03\" cy=\"1159.36\" r=\"2\"/>\n",
       "<circle clip-path=\"url(#clip582)\" style=\"fill:#009af9; stroke:none; fill-opacity:0\" cx=\"2176.4\" cy=\"1224.77\" r=\"2\"/>\n",
       "<path clip-path=\"url(#clip580)\" d=\"M2005.38 198.898 L2279.02 198.898 L2279.02 95.2176 L2005.38 95.2176  Z\" fill=\"#ffffff\" fill-rule=\"evenodd\" fill-opacity=\"1\"/>\n",
       "<polyline clip-path=\"url(#clip580)\" style=\"stroke:#000000; stroke-linecap:round; stroke-linejoin:round; stroke-width:4; stroke-opacity:1; fill:none\" points=\"2005.38,198.898 2279.02,198.898 2279.02,95.2176 2005.38,95.2176 2005.38,198.898 \"/>\n",
       "<path clip-path=\"url(#clip580)\" d=\"M2029.96 167.794 L2177.43 167.794 L2177.43 126.322 L2029.96 126.322 L2029.96 167.794  Z\" fill=\"#009af9\" fill-rule=\"evenodd\" fill-opacity=\"1\"/>\n",
       "<polyline clip-path=\"url(#clip580)\" style=\"stroke:#000000; stroke-linecap:round; stroke-linejoin:round; stroke-width:4; stroke-opacity:1; fill:none\" points=\"2029.96,167.794 2177.43,167.794 2177.43,126.322 2029.96,126.322 2029.96,167.794 \"/>\n",
       "<path clip-path=\"url(#clip580)\" d=\"M2215.85 166.745 Q2214.05 171.375 2212.34 172.787 Q2210.62 174.199 2207.75 174.199 L2204.35 174.199 L2204.35 170.634 L2206.85 170.634 Q2208.61 170.634 2209.58 169.8 Q2210.55 168.967 2211.73 165.865 L2212.5 163.921 L2202.01 138.412 L2206.53 138.412 L2214.63 158.689 L2222.73 138.412 L2227.24 138.412 L2215.85 166.745 Z\" fill=\"#000000\" fill-rule=\"nonzero\" fill-opacity=\"1\" /><path clip-path=\"url(#clip580)\" d=\"M2234.53 160.402 L2242.17 160.402 L2242.17 134.037 L2233.86 135.703 L2233.86 131.444 L2242.13 129.778 L2246.8 129.778 L2246.8 160.402 L2254.44 160.402 L2254.44 164.338 L2234.53 164.338 L2234.53 160.402 Z\" fill=\"#000000\" fill-rule=\"nonzero\" fill-opacity=\"1\" /></svg>\n"
      ]
     },
     "metadata": {},
     "output_type": "display_data"
    }
   ],
   "source": [
    "histogram(df_metrics.FDR_MS, bins=20)"
   ]
  },
  {
   "cell_type": "code",
   "execution_count": 48,
   "metadata": {},
   "outputs": [
    {
     "data": {
      "image/png": "[encoded data removed]",
      "image/svg+xml": [
       "<?xml version=\"1.0\" encoding=\"utf-8\"?>\n",
       "<svg xmlns=\"http://www.w3.org/2000/svg\" xmlns:xlink=\"http://www.w3.org/1999/xlink\" width=\"600\" height=\"400\" viewBox=\"0 0 2400 1600\">\n",
       "<defs>\n",
       "  <clipPath id=\"clip620\">\n",
       "    <rect x=\"0\" y=\"0\" width=\"2400\" height=\"1600\"/>\n",
       "  </clipPath>\n",
       "</defs>\n",
       "<path clip-path=\"url(#clip620)\" d=\"M0 1600 L2400 1600 L2400 0 L0 0  Z\" fill=\"#ffffff\" fill-rule=\"evenodd\" fill-opacity=\"1\"/>\n",
       "<defs>\n",
       "  <clipPath id=\"clip621\">\n",
       "    <rect x=\"480\" y=\"0\" width=\"1681\" height=\"1600\"/>\n",
       "  </clipPath>\n",
       "</defs>\n",
       "<path clip-path=\"url(#clip620)\" d=\"M140.696 1486.45 L2352.76 1486.45 L2352.76 47.2441 L140.696 47.2441  Z\" fill=\"#ffffff\" fill-rule=\"evenodd\" fill-opacity=\"1\"/>\n",
       "<defs>\n",
       "  <clipPath id=\"clip622\">\n",
       "    <rect x=\"140\" y=\"47\" width=\"2213\" height=\"1440\"/>\n",
       "  </clipPath>\n",
       "</defs>\n",
       "<polyline clip-path=\"url(#clip622)\" style=\"stroke:#000000; stroke-linecap:round; stroke-linejoin:round; stroke-width:2; stroke-opacity:0.1; fill:none\" points=\"323.885,1486.45 323.885,47.2441 \"/>\n",
       "<polyline clip-path=\"url(#clip622)\" style=\"stroke:#000000; stroke-linecap:round; stroke-linejoin:round; stroke-width:2; stroke-opacity:0.1; fill:none\" points=\"631.499,1486.45 631.499,47.2441 \"/>\n",
       "<polyline clip-path=\"url(#clip622)\" style=\"stroke:#000000; stroke-linecap:round; stroke-linejoin:round; stroke-width:2; stroke-opacity:0.1; fill:none\" points=\"939.112,1486.45 939.112,47.2441 \"/>\n",
       "<polyline clip-path=\"url(#clip622)\" style=\"stroke:#000000; stroke-linecap:round; stroke-linejoin:round; stroke-width:2; stroke-opacity:0.1; fill:none\" points=\"1246.73,1486.45 1246.73,47.2441 \"/>\n",
       "<polyline clip-path=\"url(#clip622)\" style=\"stroke:#000000; stroke-linecap:round; stroke-linejoin:round; stroke-width:2; stroke-opacity:0.1; fill:none\" points=\"1554.34,1486.45 1554.34,47.2441 \"/>\n",
       "<polyline clip-path=\"url(#clip622)\" style=\"stroke:#000000; stroke-linecap:round; stroke-linejoin:round; stroke-width:2; stroke-opacity:0.1; fill:none\" points=\"1861.95,1486.45 1861.95,47.2441 \"/>\n",
       "<polyline clip-path=\"url(#clip622)\" style=\"stroke:#000000; stroke-linecap:round; stroke-linejoin:round; stroke-width:2; stroke-opacity:0.1; fill:none\" points=\"2169.57,1486.45 2169.57,47.2441 \"/>\n",
       "<polyline clip-path=\"url(#clip620)\" style=\"stroke:#000000; stroke-linecap:round; stroke-linejoin:round; stroke-width:4; stroke-opacity:1; fill:none\" points=\"140.696,1486.45 2352.76,1486.45 \"/>\n",
       "<polyline clip-path=\"url(#clip620)\" style=\"stroke:#000000; stroke-linecap:round; stroke-linejoin:round; stroke-width:4; stroke-opacity:1; fill:none\" points=\"323.885,1486.45 323.885,1467.55 \"/>\n",
       "<polyline clip-path=\"url(#clip620)\" style=\"stroke:#000000; stroke-linecap:round; stroke-linejoin:round; stroke-width:4; stroke-opacity:1; fill:none\" points=\"631.499,1486.45 631.499,1467.55 \"/>\n",
       "<polyline clip-path=\"url(#clip620)\" style=\"stroke:#000000; stroke-linecap:round; stroke-linejoin:round; stroke-width:4; stroke-opacity:1; fill:none\" points=\"939.112,1486.45 939.112,1467.55 \"/>\n",
       "<polyline clip-path=\"url(#clip620)\" style=\"stroke:#000000; stroke-linecap:round; stroke-linejoin:round; stroke-width:4; stroke-opacity:1; fill:none\" points=\"1246.73,1486.45 1246.73,1467.55 \"/>\n",
       "<polyline clip-path=\"url(#clip620)\" style=\"stroke:#000000; stroke-linecap:round; stroke-linejoin:round; stroke-width:4; stroke-opacity:1; fill:none\" points=\"1554.34,1486.45 1554.34,1467.55 \"/>\n",
       "<polyline clip-path=\"url(#clip620)\" style=\"stroke:#000000; stroke-linecap:round; stroke-linejoin:round; stroke-width:4; stroke-opacity:1; fill:none\" points=\"1861.95,1486.45 1861.95,1467.55 \"/>\n",
       "<polyline clip-path=\"url(#clip620)\" style=\"stroke:#000000; stroke-linecap:round; stroke-linejoin:round; stroke-width:4; stroke-opacity:1; fill:none\" points=\"2169.57,1486.45 2169.57,1467.55 \"/>\n",
       "<path clip-path=\"url(#clip620)\" d=\"M286.687 1517.37 Q283.076 1517.37 281.247 1520.93 Q279.441 1524.47 279.441 1531.6 Q279.441 1538.71 281.247 1542.27 Q283.076 1545.82 286.687 1545.82 Q290.321 1545.82 292.126 1542.27 Q293.955 1538.71 293.955 1531.6 Q293.955 1524.47 292.126 1520.93 Q290.321 1517.37 286.687 1517.37 M286.687 1513.66 Q292.497 1513.66 295.552 1518.27 Q298.631 1522.85 298.631 1531.6 Q298.631 1540.33 295.552 1544.94 Q292.497 1549.52 286.687 1549.52 Q280.876 1549.52 277.798 1544.94 Q274.742 1540.33 274.742 1531.6 Q274.742 1522.85 277.798 1518.27 Q280.876 1513.66 286.687 1513.66 Z\" fill=\"#000000\" fill-rule=\"nonzero\" fill-opacity=\"1\" /><path clip-path=\"url(#clip620)\" d=\"M306.849 1542.97 L311.733 1542.97 L311.733 1548.85 L306.849 1548.85 L306.849 1542.97 Z\" fill=\"#000000\" fill-rule=\"nonzero\" fill-opacity=\"1\" /><path clip-path=\"url(#clip620)\" d=\"M331.918 1517.37 Q328.307 1517.37 326.478 1520.93 Q324.673 1524.47 324.673 1531.6 Q324.673 1538.71 326.478 1542.27 Q328.307 1545.82 331.918 1545.82 Q335.552 1545.82 337.358 1542.27 Q339.186 1538.71 339.186 1531.6 Q339.186 1524.47 337.358 1520.93 Q335.552 1517.37 331.918 1517.37 M331.918 1513.66 Q337.728 1513.66 340.784 1518.27 Q343.862 1522.85 343.862 1531.6 Q343.862 1540.33 340.784 1544.94 Q337.728 1549.52 331.918 1549.52 Q326.108 1549.52 323.029 1544.94 Q319.973 1540.33 319.973 1531.6 Q319.973 1522.85 323.029 1518.27 Q326.108 1513.66 331.918 1513.66 Z\" fill=\"#000000\" fill-rule=\"nonzero\" fill-opacity=\"1\" /><path clip-path=\"url(#clip620)\" d=\"M352.126 1514.29 L370.482 1514.29 L370.482 1518.22 L356.408 1518.22 L356.408 1526.7 Q357.427 1526.35 358.445 1526.19 Q359.464 1526 360.483 1526 Q366.27 1526 369.649 1529.17 Q373.029 1532.34 373.029 1537.76 Q373.029 1543.34 369.557 1546.44 Q366.084 1549.52 359.765 1549.52 Q357.589 1549.52 355.32 1549.15 Q353.075 1548.78 350.668 1548.04 L350.668 1543.34 Q352.751 1544.47 354.973 1545.03 Q357.195 1545.58 359.672 1545.58 Q363.677 1545.58 366.015 1543.48 Q368.353 1541.37 368.353 1537.76 Q368.353 1534.15 366.015 1532.04 Q363.677 1529.94 359.672 1529.94 Q357.797 1529.94 355.922 1530.35 Q354.071 1530.77 352.126 1531.65 L352.126 1514.29 Z\" fill=\"#000000\" fill-rule=\"nonzero\" fill-opacity=\"1\" /><path clip-path=\"url(#clip620)\" d=\"M593.802 1517.37 Q590.191 1517.37 588.363 1520.93 Q586.557 1524.47 586.557 1531.6 Q586.557 1538.71 588.363 1542.27 Q590.191 1545.82 593.802 1545.82 Q597.437 1545.82 599.242 1542.27 Q601.071 1538.71 601.071 1531.6 Q601.071 1524.47 599.242 1520.93 Q597.437 1517.37 593.802 1517.37 M593.802 1513.66 Q599.612 1513.66 602.668 1518.27 Q605.747 1522.85 605.747 1531.6 Q605.747 1540.33 602.668 1544.94 Q599.612 1549.52 593.802 1549.52 Q587.992 1549.52 584.913 1544.94 Q581.858 1540.33 581.858 1531.6 Q581.858 1522.85 584.913 1518.27 Q587.992 1513.66 593.802 1513.66 Z\" fill=\"#000000\" fill-rule=\"nonzero\" fill-opacity=\"1\" /><path clip-path=\"url(#clip620)\" d=\"M613.964 1542.97 L618.849 1542.97 L618.849 1548.85 L613.964 1548.85 L613.964 1542.97 Z\" fill=\"#000000\" fill-rule=\"nonzero\" fill-opacity=\"1\" /><path clip-path=\"url(#clip620)\" d=\"M629.844 1544.91 L637.483 1544.91 L637.483 1518.55 L629.173 1520.21 L629.173 1515.95 L637.436 1514.29 L642.112 1514.29 L642.112 1544.91 L649.751 1544.91 L649.751 1548.85 L629.844 1548.85 L629.844 1544.91 Z\" fill=\"#000000\" fill-rule=\"nonzero\" fill-opacity=\"1\" /><path clip-path=\"url(#clip620)\" d=\"M669.195 1517.37 Q665.584 1517.37 663.756 1520.93 Q661.95 1524.47 661.95 1531.6 Q661.95 1538.71 663.756 1542.27 Q665.584 1545.82 669.195 1545.82 Q672.83 1545.82 674.635 1542.27 Q676.464 1538.71 676.464 1531.6 Q676.464 1524.47 674.635 1520.93 Q672.83 1517.37 669.195 1517.37 M669.195 1513.66 Q675.006 1513.66 678.061 1518.27 Q681.14 1522.85 681.14 1531.6 Q681.14 1540.33 678.061 1544.94 Q675.006 1549.52 669.195 1549.52 Q663.385 1549.52 660.307 1544.94 Q657.251 1540.33 657.251 1531.6 Q657.251 1522.85 660.307 1518.27 Q663.385 1513.66 669.195 1513.66 Z\" fill=\"#000000\" fill-rule=\"nonzero\" fill-opacity=\"1\" /><path clip-path=\"url(#clip620)\" d=\"M901.913 1517.37 Q898.302 1517.37 896.474 1520.93 Q894.668 1524.47 894.668 1531.6 Q894.668 1538.71 896.474 1542.27 Q898.302 1545.82 901.913 1545.82 Q905.548 1545.82 907.353 1542.27 Q909.182 1538.71 909.182 1531.6 Q909.182 1524.47 907.353 1520.93 Q905.548 1517.37 901.913 1517.37 M901.913 1513.66 Q907.724 1513.66 910.779 1518.27 Q913.858 1522.85 913.858 1531.6 Q913.858 1540.33 910.779 1544.94 Q907.724 1549.52 901.913 1549.52 Q896.103 1549.52 893.025 1544.94 Q889.969 1540.33 889.969 1531.6 Q889.969 1522.85 893.025 1518.27 Q896.103 1513.66 901.913 1513.66 Z\" fill=\"#000000\" fill-rule=\"nonzero\" fill-opacity=\"1\" /><path clip-path=\"url(#clip620)\" d=\"M922.075 1542.97 L926.96 1542.97 L926.96 1548.85 L922.075 1548.85 L922.075 1542.97 Z\" fill=\"#000000\" fill-rule=\"nonzero\" fill-opacity=\"1\" /><path clip-path=\"url(#clip620)\" d=\"M937.955 1544.91 L945.594 1544.91 L945.594 1518.55 L937.284 1520.21 L937.284 1515.95 L945.547 1514.29 L950.223 1514.29 L950.223 1544.91 L957.862 1544.91 L957.862 1548.85 L937.955 1548.85 L937.955 1544.91 Z\" fill=\"#000000\" fill-rule=\"nonzero\" fill-opacity=\"1\" /><path clip-path=\"url(#clip620)\" d=\"M967.353 1514.29 L985.709 1514.29 L985.709 1518.22 L971.635 1518.22 L971.635 1526.7 Q972.654 1526.35 973.672 1526.19 Q974.691 1526 975.709 1526 Q981.496 1526 984.876 1529.17 Q988.256 1532.34 988.256 1537.76 Q988.256 1543.34 984.783 1546.44 Q981.311 1549.52 974.992 1549.52 Q972.816 1549.52 970.547 1549.15 Q968.302 1548.78 965.895 1548.04 L965.895 1543.34 Q967.978 1544.47 970.2 1545.03 Q972.422 1545.58 974.899 1545.58 Q978.904 1545.58 981.242 1543.48 Q983.58 1541.37 983.58 1537.76 Q983.58 1534.15 981.242 1532.04 Q978.904 1529.94 974.899 1529.94 Q973.024 1529.94 971.149 1530.35 Q969.297 1530.77 967.353 1531.65 L967.353 1514.29 Z\" fill=\"#000000\" fill-rule=\"nonzero\" fill-opacity=\"1\" /><path clip-path=\"url(#clip620)\" d=\"M1209.03 1517.37 Q1205.42 1517.37 1203.59 1520.93 Q1201.78 1524.47 1201.78 1531.6 Q1201.78 1538.71 1203.59 1542.27 Q1205.42 1545.82 1209.03 1545.82 Q1212.66 1545.82 1214.47 1542.27 Q1216.3 1538.71 1216.3 1531.6 Q1216.3 1524.47 1214.47 1520.93 Q1212.66 1517.37 1209.03 1517.37 M1209.03 1513.66 Q1214.84 1513.66 1217.89 1518.27 Q1220.97 1522.85 1220.97 1531.6 Q1220.97 1540.33 1217.89 1544.94 Q1214.84 1549.52 1209.03 1549.52 Q1203.22 1549.52 1200.14 1544.94 Q1197.08 1540.33 1197.08 1531.6 Q1197.08 1522.85 1200.14 1518.27 Q1203.22 1513.66 1209.03 1513.66 Z\" fill=\"#000000\" fill-rule=\"nonzero\" fill-opacity=\"1\" /><path clip-path=\"url(#clip620)\" d=\"M1229.19 1542.97 L1234.08 1542.97 L1234.08 1548.85 L1229.19 1548.85 L1229.19 1542.97 Z\" fill=\"#000000\" fill-rule=\"nonzero\" fill-opacity=\"1\" /><path clip-path=\"url(#clip620)\" d=\"M1248.29 1544.91 L1264.61 1544.91 L1264.61 1548.85 L1242.66 1548.85 L1242.66 1544.91 Q1245.33 1542.16 1249.91 1537.53 Q1254.52 1532.88 1255.7 1531.53 Q1257.94 1529.01 1258.82 1527.27 Q1259.72 1525.51 1259.72 1523.82 Q1259.72 1521.07 1257.78 1519.33 Q1255.86 1517.6 1252.76 1517.6 Q1250.56 1517.6 1248.1 1518.36 Q1245.67 1519.13 1242.89 1520.68 L1242.89 1515.95 Q1245.72 1514.82 1248.17 1514.24 Q1250.63 1513.66 1252.66 1513.66 Q1258.03 1513.66 1261.23 1516.35 Q1264.42 1519.03 1264.42 1523.52 Q1264.42 1525.65 1263.61 1527.57 Q1262.83 1529.47 1260.72 1532.07 Q1260.14 1532.74 1257.04 1535.95 Q1253.94 1539.15 1248.29 1544.91 Z\" fill=\"#000000\" fill-rule=\"nonzero\" fill-opacity=\"1\" /><path clip-path=\"url(#clip620)\" d=\"M1284.42 1517.37 Q1280.81 1517.37 1278.98 1520.93 Q1277.18 1524.47 1277.18 1531.6 Q1277.18 1538.71 1278.98 1542.27 Q1280.81 1545.82 1284.42 1545.82 Q1288.06 1545.82 1289.86 1542.27 Q1291.69 1538.71 1291.69 1531.6 Q1291.69 1524.47 1289.86 1520.93 Q1288.06 1517.37 1284.42 1517.37 M1284.42 1513.66 Q1290.23 1513.66 1293.29 1518.27 Q1296.37 1522.85 1296.37 1531.6 Q1296.37 1540.33 1293.29 1544.94 Q1290.23 1549.52 1284.42 1549.52 Q1278.61 1549.52 1275.53 1544.94 Q1272.48 1540.33 1272.48 1531.6 Q1272.48 1522.85 1275.53 1518.27 Q1278.61 1513.66 1284.42 1513.66 Z\" fill=\"#000000\" fill-rule=\"nonzero\" fill-opacity=\"1\" /><path clip-path=\"url(#clip620)\" d=\"M1517.14 1517.37 Q1513.53 1517.37 1511.7 1520.93 Q1509.89 1524.47 1509.89 1531.6 Q1509.89 1538.71 1511.7 1542.27 Q1513.53 1545.82 1517.14 1545.82 Q1520.77 1545.82 1522.58 1542.27 Q1524.41 1538.71 1524.41 1531.6 Q1524.41 1524.47 1522.58 1520.93 Q1520.77 1517.37 1517.14 1517.37 M1517.14 1513.66 Q1522.95 1513.66 1526.01 1518.27 Q1529.08 1522.85 1529.08 1531.6 Q1529.08 1540.33 1526.01 1544.94 Q1522.95 1549.52 1517.14 1549.52 Q1511.33 1549.52 1508.25 1544.94 Q1505.2 1540.33 1505.2 1531.6 Q1505.2 1522.85 1508.25 1518.27 Q1511.33 1513.66 1517.14 1513.66 Z\" fill=\"#000000\" fill-rule=\"nonzero\" fill-opacity=\"1\" /><path clip-path=\"url(#clip620)\" d=\"M1537.3 1542.97 L1542.19 1542.97 L1542.19 1548.85 L1537.3 1548.85 L1537.3 1542.97 Z\" fill=\"#000000\" fill-rule=\"nonzero\" fill-opacity=\"1\" /><path clip-path=\"url(#clip620)\" d=\"M1556.4 1544.91 L1572.72 1544.91 L1572.72 1548.85 L1550.77 1548.85 L1550.77 1544.91 Q1553.44 1542.16 1558.02 1537.53 Q1562.63 1532.88 1563.81 1531.53 Q1566.05 1529.01 1566.93 1527.27 Q1567.83 1525.51 1567.83 1523.82 Q1567.83 1521.07 1565.89 1519.33 Q1563.97 1517.6 1560.87 1517.6 Q1558.67 1517.6 1556.21 1518.36 Q1553.78 1519.13 1551.01 1520.68 L1551.01 1515.95 Q1553.83 1514.82 1556.28 1514.24 Q1558.74 1513.66 1560.77 1513.66 Q1566.14 1513.66 1569.34 1516.35 Q1572.53 1519.03 1572.53 1523.52 Q1572.53 1525.65 1571.72 1527.57 Q1570.94 1529.47 1568.83 1532.07 Q1568.25 1532.74 1565.15 1535.95 Q1562.05 1539.15 1556.4 1544.91 Z\" fill=\"#000000\" fill-rule=\"nonzero\" fill-opacity=\"1\" /><path clip-path=\"url(#clip620)\" d=\"M1582.58 1514.29 L1600.94 1514.29 L1600.94 1518.22 L1586.86 1518.22 L1586.86 1526.7 Q1587.88 1526.35 1588.9 1526.19 Q1589.92 1526 1590.94 1526 Q1596.72 1526 1600.1 1529.17 Q1603.48 1532.34 1603.48 1537.76 Q1603.48 1543.34 1600.01 1546.44 Q1596.54 1549.52 1590.22 1549.52 Q1588.04 1549.52 1585.77 1549.15 Q1583.53 1548.78 1581.12 1548.04 L1581.12 1543.34 Q1583.2 1544.47 1585.43 1545.03 Q1587.65 1545.58 1590.13 1545.58 Q1594.13 1545.58 1596.47 1543.48 Q1598.81 1541.37 1598.81 1537.76 Q1598.81 1534.15 1596.47 1532.04 Q1594.13 1529.94 1590.13 1529.94 Q1588.25 1529.94 1586.38 1530.35 Q1584.52 1530.77 1582.58 1531.65 L1582.58 1514.29 Z\" fill=\"#000000\" fill-rule=\"nonzero\" fill-opacity=\"1\" /><path clip-path=\"url(#clip620)\" d=\"M1824.26 1517.37 Q1820.64 1517.37 1818.82 1520.93 Q1817.01 1524.47 1817.01 1531.6 Q1817.01 1538.71 1818.82 1542.27 Q1820.64 1545.82 1824.26 1545.82 Q1827.89 1545.82 1829.7 1542.27 Q1831.52 1538.71 1831.52 1531.6 Q1831.52 1524.47 1829.7 1520.93 Q1827.89 1517.37 1824.26 1517.37 M1824.26 1513.66 Q1830.07 1513.66 1833.12 1518.27 Q1836.2 1522.85 1836.2 1531.6 Q1836.2 1540.33 1833.12 1544.94 Q1830.07 1549.52 1824.26 1549.52 Q1818.45 1549.52 1815.37 1544.94 Q1812.31 1540.33 1812.31 1531.6 Q1812.31 1522.85 1815.37 1518.27 Q1818.45 1513.66 1824.26 1513.66 Z\" fill=\"#000000\" fill-rule=\"nonzero\" fill-opacity=\"1\" /><path clip-path=\"url(#clip620)\" d=\"M1844.42 1542.97 L1849.3 1542.97 L1849.3 1548.85 L1844.42 1548.85 L1844.42 1542.97 Z\" fill=\"#000000\" fill-rule=\"nonzero\" fill-opacity=\"1\" /><path clip-path=\"url(#clip620)\" d=\"M1873.65 1530.21 Q1877.01 1530.93 1878.89 1533.2 Q1880.78 1535.47 1880.78 1538.8 Q1880.78 1543.92 1877.26 1546.72 Q1873.75 1549.52 1867.27 1549.52 Q1865.09 1549.52 1862.77 1549.08 Q1860.48 1548.66 1858.03 1547.81 L1858.03 1543.29 Q1859.97 1544.43 1862.29 1545.01 Q1864.6 1545.58 1867.13 1545.58 Q1871.52 1545.58 1873.82 1543.85 Q1876.13 1542.11 1876.13 1538.8 Q1876.13 1535.75 1873.98 1534.03 Q1871.85 1532.3 1868.03 1532.3 L1864 1532.3 L1864 1528.45 L1868.21 1528.45 Q1871.66 1528.45 1873.49 1527.09 Q1875.32 1525.7 1875.32 1523.11 Q1875.32 1520.45 1873.42 1519.03 Q1871.55 1517.6 1868.03 1517.6 Q1866.11 1517.6 1863.91 1518.01 Q1861.71 1518.43 1859.07 1519.31 L1859.07 1515.14 Q1861.73 1514.4 1864.05 1514.03 Q1866.39 1513.66 1868.45 1513.66 Q1873.77 1513.66 1876.87 1516.09 Q1879.97 1518.5 1879.97 1522.62 Q1879.97 1525.49 1878.33 1527.48 Q1876.69 1529.45 1873.65 1530.21 Z\" fill=\"#000000\" fill-rule=\"nonzero\" fill-opacity=\"1\" /><path clip-path=\"url(#clip620)\" d=\"M1899.65 1517.37 Q1896.04 1517.37 1894.21 1520.93 Q1892.4 1524.47 1892.4 1531.6 Q1892.4 1538.71 1894.21 1542.27 Q1896.04 1545.82 1899.65 1545.82 Q1903.28 1545.82 1905.09 1542.27 Q1906.92 1538.71 1906.92 1531.6 Q1906.92 1524.47 1905.09 1520.93 Q1903.28 1517.37 1899.65 1517.37 M1899.65 1513.66 Q1905.46 1513.66 1908.51 1518.27 Q1911.59 1522.85 1911.59 1531.6 Q1911.59 1540.33 1908.51 1544.94 Q1905.46 1549.52 1899.65 1549.52 Q1893.84 1549.52 1890.76 1544.94 Q1887.7 1540.33 1887.7 1531.6 Q1887.7 1522.85 1890.76 1518.27 Q1893.84 1513.66 1899.65 1513.66 Z\" fill=\"#000000\" fill-rule=\"nonzero\" fill-opacity=\"1\" /><path clip-path=\"url(#clip620)\" d=\"M2132.37 1517.37 Q2128.76 1517.37 2126.93 1520.93 Q2125.12 1524.47 2125.12 1531.6 Q2125.12 1538.71 2126.93 1542.27 Q2128.76 1545.82 2132.37 1545.82 Q2136 1545.82 2137.81 1542.27 Q2139.64 1538.71 2139.64 1531.6 Q2139.64 1524.47 2137.81 1520.93 Q2136 1517.37 2132.37 1517.37 M2132.37 1513.66 Q2138.18 1513.66 2141.23 1518.27 Q2144.31 1522.85 2144.31 1531.6 Q2144.31 1540.33 2141.23 1544.94 Q2138.18 1549.52 2132.37 1549.52 Q2126.56 1549.52 2123.48 1544.94 Q2120.42 1540.33 2120.42 1531.6 Q2120.42 1522.85 2123.48 1518.27 Q2126.56 1513.66 2132.37 1513.66 Z\" fill=\"#000000\" fill-rule=\"nonzero\" fill-opacity=\"1\" /><path clip-path=\"url(#clip620)\" d=\"M2152.53 1542.97 L2157.41 1542.97 L2157.41 1548.85 L2152.53 1548.85 L2152.53 1542.97 Z\" fill=\"#000000\" fill-rule=\"nonzero\" fill-opacity=\"1\" /><path clip-path=\"url(#clip620)\" d=\"M2181.76 1530.21 Q2185.12 1530.93 2187 1533.2 Q2188.89 1535.47 2188.89 1538.8 Q2188.89 1543.92 2185.38 1546.72 Q2181.86 1549.52 2175.38 1549.52 Q2173.2 1549.52 2170.89 1549.08 Q2168.59 1548.66 2166.14 1547.81 L2166.14 1543.29 Q2168.08 1544.43 2170.4 1545.01 Q2172.71 1545.58 2175.24 1545.58 Q2179.64 1545.58 2181.93 1543.85 Q2184.24 1542.11 2184.24 1538.8 Q2184.24 1535.75 2182.09 1534.03 Q2179.96 1532.3 2176.14 1532.3 L2172.11 1532.3 L2172.11 1528.45 L2176.33 1528.45 Q2179.77 1528.45 2181.6 1527.09 Q2183.43 1525.7 2183.43 1523.11 Q2183.43 1520.45 2181.53 1519.03 Q2179.66 1517.6 2176.14 1517.6 Q2174.22 1517.6 2172.02 1518.01 Q2169.82 1518.43 2167.18 1519.31 L2167.18 1515.14 Q2169.84 1514.4 2172.16 1514.03 Q2174.5 1513.66 2176.56 1513.66 Q2181.88 1513.66 2184.98 1516.09 Q2188.08 1518.5 2188.08 1522.62 Q2188.08 1525.49 2186.44 1527.48 Q2184.8 1529.45 2181.76 1530.21 Z\" fill=\"#000000\" fill-rule=\"nonzero\" fill-opacity=\"1\" /><path clip-path=\"url(#clip620)\" d=\"M2197.81 1514.29 L2216.16 1514.29 L2216.16 1518.22 L2202.09 1518.22 L2202.09 1526.7 Q2203.11 1526.35 2204.13 1526.19 Q2205.14 1526 2206.16 1526 Q2211.95 1526 2215.33 1529.17 Q2218.71 1532.34 2218.71 1537.76 Q2218.71 1543.34 2215.24 1546.44 Q2211.76 1549.52 2205.45 1549.52 Q2203.27 1549.52 2201 1549.15 Q2198.76 1548.78 2196.35 1548.04 L2196.35 1543.34 Q2198.43 1544.47 2200.65 1545.03 Q2202.88 1545.58 2205.35 1545.58 Q2209.36 1545.58 2211.7 1543.48 Q2214.03 1541.37 2214.03 1537.76 Q2214.03 1534.15 2211.7 1532.04 Q2209.36 1529.94 2205.35 1529.94 Q2203.48 1529.94 2201.6 1530.35 Q2199.75 1530.77 2197.81 1531.65 L2197.81 1514.29 Z\" fill=\"#000000\" fill-rule=\"nonzero\" fill-opacity=\"1\" /><polyline clip-path=\"url(#clip622)\" style=\"stroke:#000000; stroke-linecap:round; stroke-linejoin:round; stroke-width:2; stroke-opacity:0.1; fill:none\" points=\"140.696,1486.45 2352.76,1486.45 \"/>\n",
       "<polyline clip-path=\"url(#clip622)\" style=\"stroke:#000000; stroke-linecap:round; stroke-linejoin:round; stroke-width:2; stroke-opacity:0.1; fill:none\" points=\"140.696,1159.36 2352.76,1159.36 \"/>\n",
       "<polyline clip-path=\"url(#clip622)\" style=\"stroke:#000000; stroke-linecap:round; stroke-linejoin:round; stroke-width:2; stroke-opacity:0.1; fill:none\" points=\"140.696,832.264 2352.76,832.264 \"/>\n",
       "<polyline clip-path=\"url(#clip622)\" style=\"stroke:#000000; stroke-linecap:round; stroke-linejoin:round; stroke-width:2; stroke-opacity:0.1; fill:none\" points=\"140.696,505.173 2352.76,505.173 \"/>\n",
       "<polyline clip-path=\"url(#clip622)\" style=\"stroke:#000000; stroke-linecap:round; stroke-linejoin:round; stroke-width:2; stroke-opacity:0.1; fill:none\" points=\"140.696,178.081 2352.76,178.081 \"/>\n",
       "<polyline clip-path=\"url(#clip620)\" style=\"stroke:#000000; stroke-linecap:round; stroke-linejoin:round; stroke-width:4; stroke-opacity:1; fill:none\" points=\"140.696,1486.45 140.696,47.2441 \"/>\n",
       "<polyline clip-path=\"url(#clip620)\" style=\"stroke:#000000; stroke-linecap:round; stroke-linejoin:round; stroke-width:4; stroke-opacity:1; fill:none\" points=\"140.696,1486.45 159.593,1486.45 \"/>\n",
       "<polyline clip-path=\"url(#clip620)\" style=\"stroke:#000000; stroke-linecap:round; stroke-linejoin:round; stroke-width:4; stroke-opacity:1; fill:none\" points=\"140.696,1159.36 159.593,1159.36 \"/>\n",
       "<polyline clip-path=\"url(#clip620)\" style=\"stroke:#000000; stroke-linecap:round; stroke-linejoin:round; stroke-width:4; stroke-opacity:1; fill:none\" points=\"140.696,832.264 159.593,832.264 \"/>\n",
       "<polyline clip-path=\"url(#clip620)\" style=\"stroke:#000000; stroke-linecap:round; stroke-linejoin:round; stroke-width:4; stroke-opacity:1; fill:none\" points=\"140.696,505.173 159.593,505.173 \"/>\n",
       "<polyline clip-path=\"url(#clip620)\" style=\"stroke:#000000; stroke-linecap:round; stroke-linejoin:round; stroke-width:4; stroke-opacity:1; fill:none\" points=\"140.696,178.081 159.593,178.081 \"/>\n",
       "<path clip-path=\"url(#clip620)\" d=\"M92.7512 1472.25 Q89.1401 1472.25 87.3114 1475.81 Q85.5058 1479.35 85.5058 1486.48 Q85.5058 1493.59 87.3114 1497.15 Q89.1401 1500.7 92.7512 1500.7 Q96.3854 1500.7 98.1909 1497.15 Q100.02 1493.59 100.02 1486.48 Q100.02 1479.35 98.1909 1475.81 Q96.3854 1472.25 92.7512 1472.25 M92.7512 1468.54 Q98.5613 1468.54 101.617 1473.15 Q104.696 1477.73 104.696 1486.48 Q104.696 1495.21 101.617 1499.82 Q98.5613 1504.4 92.7512 1504.4 Q86.941 1504.4 83.8623 1499.82 Q80.8068 1495.21 80.8068 1486.48 Q80.8068 1477.73 83.8623 1473.15 Q86.941 1468.54 92.7512 1468.54 Z\" fill=\"#000000\" fill-rule=\"nonzero\" fill-opacity=\"1\" /><path clip-path=\"url(#clip620)\" d=\"M83.7929 1142.08 L102.149 1142.08 L102.149 1146.01 L88.0753 1146.01 L88.0753 1154.48 Q89.0938 1154.14 90.1123 1153.97 Q91.1308 1153.79 92.1493 1153.79 Q97.9363 1153.79 101.316 1156.96 Q104.696 1160.13 104.696 1165.55 Q104.696 1171.13 101.223 1174.23 Q97.7511 1177.31 91.4317 1177.31 Q89.2558 1177.31 86.9873 1176.94 Q84.7419 1176.57 82.3346 1175.83 L82.3346 1171.13 Q84.4179 1172.26 86.6401 1172.82 Q88.8623 1173.37 91.3391 1173.37 Q95.3437 1173.37 97.6817 1171.27 Q100.02 1169.16 100.02 1165.55 Q100.02 1161.94 97.6817 1159.83 Q95.3437 1157.72 91.3391 1157.72 Q89.4641 1157.72 87.5892 1158.14 Q85.7373 1158.56 83.7929 1159.44 L83.7929 1142.08 Z\" fill=\"#000000\" fill-rule=\"nonzero\" fill-opacity=\"1\" /><path clip-path=\"url(#clip620)\" d=\"M53.3995 845.609 L61.0384 845.609 L61.0384 819.244 L52.7282 820.91 L52.7282 816.651 L60.9921 814.984 L65.668 814.984 L65.668 845.609 L73.3068 845.609 L73.3068 849.544 L53.3995 849.544 L53.3995 845.609 Z\" fill=\"#000000\" fill-rule=\"nonzero\" fill-opacity=\"1\" /><path clip-path=\"url(#clip620)\" d=\"M92.7512 818.063 Q89.1401 818.063 87.3114 821.628 Q85.5058 825.169 85.5058 832.299 Q85.5058 839.406 87.3114 842.97 Q89.1401 846.512 92.7512 846.512 Q96.3854 846.512 98.1909 842.97 Q100.02 839.406 100.02 832.299 Q100.02 825.169 98.1909 821.628 Q96.3854 818.063 92.7512 818.063 M92.7512 814.359 Q98.5613 814.359 101.617 818.966 Q104.696 823.549 104.696 832.299 Q104.696 841.026 101.617 845.632 Q98.5613 850.216 92.7512 850.216 Q86.941 850.216 83.8623 845.632 Q80.8068 841.026 80.8068 832.299 Q80.8068 823.549 83.8623 818.966 Q86.941 814.359 92.7512 814.359 Z\" fill=\"#000000\" fill-rule=\"nonzero\" fill-opacity=\"1\" /><path clip-path=\"url(#clip620)\" d=\"M54.3949 518.517 L62.0337 518.517 L62.0337 492.152 L53.7236 493.818 L53.7236 489.559 L61.9874 487.893 L66.6633 487.893 L66.6633 518.517 L74.3022 518.517 L74.3022 522.453 L54.3949 522.453 L54.3949 518.517 Z\" fill=\"#000000\" fill-rule=\"nonzero\" fill-opacity=\"1\" /><path clip-path=\"url(#clip620)\" d=\"M83.7929 487.893 L102.149 487.893 L102.149 491.828 L88.0753 491.828 L88.0753 500.3 Q89.0938 499.953 90.1123 499.791 Q91.1308 499.605 92.1493 499.605 Q97.9363 499.605 101.316 502.777 Q104.696 505.948 104.696 511.365 Q104.696 516.943 101.223 520.045 Q97.7511 523.124 91.4317 523.124 Q89.2558 523.124 86.9873 522.753 Q84.7419 522.383 82.3346 521.642 L82.3346 516.943 Q84.4179 518.078 86.6401 518.633 Q88.8623 519.189 91.3391 519.189 Q95.3437 519.189 97.6817 517.082 Q100.02 514.976 100.02 511.365 Q100.02 507.754 97.6817 505.647 Q95.3437 503.541 91.3391 503.541 Q89.4641 503.541 87.5892 503.957 Q85.7373 504.374 83.7929 505.254 L83.7929 487.893 Z\" fill=\"#000000\" fill-rule=\"nonzero\" fill-opacity=\"1\" /><path clip-path=\"url(#clip620)\" d=\"M56.6171 191.426 L72.9365 191.426 L72.9365 195.361 L50.9921 195.361 L50.9921 191.426 Q53.6541 188.671 58.2375 184.041 Q62.8439 179.389 64.0245 178.046 Q66.2698 175.523 67.1494 173.787 Q68.0522 172.028 68.0522 170.338 Q68.0522 167.583 66.1078 165.847 Q64.1865 164.111 61.0847 164.111 Q58.8856 164.111 56.4319 164.875 Q54.0014 165.639 51.2236 167.19 L51.2236 162.467 Q54.0477 161.333 56.5014 160.755 Q58.955 160.176 60.9921 160.176 Q66.3624 160.176 69.5568 162.861 Q72.7513 165.546 72.7513 170.037 Q72.7513 172.166 71.9411 174.088 Q71.1541 175.986 69.0476 178.578 Q68.4689 179.25 65.367 182.467 Q62.2652 185.662 56.6171 191.426 Z\" fill=\"#000000\" fill-rule=\"nonzero\" fill-opacity=\"1\" /><path clip-path=\"url(#clip620)\" d=\"M92.7512 163.879 Q89.1401 163.879 87.3114 167.444 Q85.5058 170.986 85.5058 178.116 Q85.5058 185.222 87.3114 188.787 Q89.1401 192.328 92.7512 192.328 Q96.3854 192.328 98.1909 188.787 Q100.02 185.222 100.02 178.116 Q100.02 170.986 98.1909 167.444 Q96.3854 163.879 92.7512 163.879 M92.7512 160.176 Q98.5613 160.176 101.617 164.782 Q104.696 169.366 104.696 178.116 Q104.696 186.842 101.617 191.449 Q98.5613 196.032 92.7512 196.032 Q86.941 196.032 83.8623 191.449 Q80.8068 186.842 80.8068 178.116 Q80.8068 169.366 83.8623 164.782 Q86.941 160.176 92.7512 160.176 Z\" fill=\"#000000\" fill-rule=\"nonzero\" fill-opacity=\"1\" /><path clip-path=\"url(#clip622)\" d=\"M262.363 1159.36 L262.363 1486.45 L385.408 1486.45 L385.408 1159.36 L262.363 1159.36 L262.363 1159.36  Z\" fill=\"#009af9\" fill-rule=\"evenodd\" fill-opacity=\"1\"/>\n",
       "<polyline clip-path=\"url(#clip622)\" style=\"stroke:#000000; stroke-linecap:round; stroke-linejoin:round; stroke-width:4; stroke-opacity:1; fill:none\" points=\"262.363,1159.36 262.363,1486.45 385.408,1486.45 385.408,1159.36 262.363,1159.36 \"/>\n",
       "<path clip-path=\"url(#clip622)\" d=\"M385.408 636.009 L385.408 1486.45 L508.454 1486.45 L508.454 636.009 L385.408 636.009 L385.408 636.009  Z\" fill=\"#009af9\" fill-rule=\"evenodd\" fill-opacity=\"1\"/>\n",
       "<polyline clip-path=\"url(#clip622)\" style=\"stroke:#000000; stroke-linecap:round; stroke-linejoin:round; stroke-width:4; stroke-opacity:1; fill:none\" points=\"385.408,636.009 385.408,1486.45 508.454,1486.45 508.454,636.009 385.408,636.009 \"/>\n",
       "<path clip-path=\"url(#clip622)\" d=\"M508.454 636.009 L508.454 1486.45 L631.499 1486.45 L631.499 636.009 L508.454 636.009 L508.454 636.009  Z\" fill=\"#009af9\" fill-rule=\"evenodd\" fill-opacity=\"1\"/>\n",
       "<polyline clip-path=\"url(#clip622)\" style=\"stroke:#000000; stroke-linecap:round; stroke-linejoin:round; stroke-width:4; stroke-opacity:1; fill:none\" points=\"508.454,636.009 508.454,1486.45 631.499,1486.45 631.499,636.009 508.454,636.009 \"/>\n",
       "<path clip-path=\"url(#clip622)\" d=\"M631.499 243.499 L631.499 1486.45 L754.544 1486.45 L754.544 243.499 L631.499 243.499 L631.499 243.499  Z\" fill=\"#009af9\" fill-rule=\"evenodd\" fill-opacity=\"1\"/>\n",
       "<polyline clip-path=\"url(#clip622)\" style=\"stroke:#000000; stroke-linecap:round; stroke-linejoin:round; stroke-width:4; stroke-opacity:1; fill:none\" points=\"631.499,243.499 631.499,1486.45 754.544,1486.45 754.544,243.499 631.499,243.499 \"/>\n",
       "<path clip-path=\"url(#clip622)\" d=\"M754.544 47.2441 L754.544 1486.45 L877.59 1486.45 L877.59 47.2441 L754.544 47.2441 L754.544 47.2441  Z\" fill=\"#009af9\" fill-rule=\"evenodd\" fill-opacity=\"1\"/>\n",
       "<polyline clip-path=\"url(#clip622)\" style=\"stroke:#000000; stroke-linecap:round; stroke-linejoin:round; stroke-width:4; stroke-opacity:1; fill:none\" points=\"754.544,47.2441 754.544,1486.45 877.59,1486.45 877.59,47.2441 754.544,47.2441 \"/>\n",
       "<path clip-path=\"url(#clip622)\" d=\"M877.59 178.081 L877.59 1486.45 L1000.63 1486.45 L1000.63 178.081 L877.59 178.081 L877.59 178.081  Z\" fill=\"#009af9\" fill-rule=\"evenodd\" fill-opacity=\"1\"/>\n",
       "<polyline clip-path=\"url(#clip622)\" style=\"stroke:#000000; stroke-linecap:round; stroke-linejoin:round; stroke-width:4; stroke-opacity:1; fill:none\" points=\"877.59,178.081 877.59,1486.45 1000.63,1486.45 1000.63,178.081 877.59,178.081 \"/>\n",
       "<path clip-path=\"url(#clip622)\" d=\"M1000.63 112.662 L1000.63 1486.45 L1123.68 1486.45 L1123.68 112.662 L1000.63 112.662 L1000.63 112.662  Z\" fill=\"#009af9\" fill-rule=\"evenodd\" fill-opacity=\"1\"/>\n",
       "<polyline clip-path=\"url(#clip622)\" style=\"stroke:#000000; stroke-linecap:round; stroke-linejoin:round; stroke-width:4; stroke-opacity:1; fill:none\" points=\"1000.63,112.662 1000.63,1486.45 1123.68,1486.45 1123.68,112.662 1000.63,112.662 \"/>\n",
       "<path clip-path=\"url(#clip622)\" d=\"M1123.68 178.081 L1123.68 1486.45 L1246.73 1486.45 L1246.73 178.081 L1123.68 178.081 L1123.68 178.081  Z\" fill=\"#009af9\" fill-rule=\"evenodd\" fill-opacity=\"1\"/>\n",
       "<polyline clip-path=\"url(#clip622)\" style=\"stroke:#000000; stroke-linecap:round; stroke-linejoin:round; stroke-width:4; stroke-opacity:1; fill:none\" points=\"1123.68,178.081 1123.68,1486.45 1246.73,1486.45 1246.73,178.081 1123.68,178.081 \"/>\n",
       "<path clip-path=\"url(#clip622)\" d=\"M1246.73 505.173 L1246.73 1486.45 L1369.77 1486.45 L1369.77 505.173 L1246.73 505.173 L1246.73 505.173  Z\" fill=\"#009af9\" fill-rule=\"evenodd\" fill-opacity=\"1\"/>\n",
       "<polyline clip-path=\"url(#clip622)\" style=\"stroke:#000000; stroke-linecap:round; stroke-linejoin:round; stroke-width:4; stroke-opacity:1; fill:none\" points=\"1246.73,505.173 1246.73,1486.45 1369.77,1486.45 1369.77,505.173 1246.73,505.173 \"/>\n",
       "<path clip-path=\"url(#clip622)\" d=\"M1369.77 570.591 L1369.77 1486.45 L1492.82 1486.45 L1492.82 570.591 L1369.77 570.591 L1369.77 570.591  Z\" fill=\"#009af9\" fill-rule=\"evenodd\" fill-opacity=\"1\"/>\n",
       "<polyline clip-path=\"url(#clip622)\" style=\"stroke:#000000; stroke-linecap:round; stroke-linejoin:round; stroke-width:4; stroke-opacity:1; fill:none\" points=\"1369.77,570.591 1369.77,1486.45 1492.82,1486.45 1492.82,570.591 1369.77,570.591 \"/>\n",
       "<path clip-path=\"url(#clip622)\" d=\"M1492.82 1028.52 L1492.82 1486.45 L1615.86 1486.45 L1615.86 1028.52 L1492.82 1028.52 L1492.82 1028.52  Z\" fill=\"#009af9\" fill-rule=\"evenodd\" fill-opacity=\"1\"/>\n",
       "<polyline clip-path=\"url(#clip622)\" style=\"stroke:#000000; stroke-linecap:round; stroke-linejoin:round; stroke-width:4; stroke-opacity:1; fill:none\" points=\"1492.82,1028.52 1492.82,1486.45 1615.86,1486.45 1615.86,1028.52 1492.82,1028.52 \"/>\n",
       "<path clip-path=\"url(#clip622)\" d=\"M1615.86 1224.77 L1615.86 1486.45 L1738.91 1486.45 L1738.91 1224.77 L1615.86 1224.77 L1615.86 1224.77  Z\" fill=\"#009af9\" fill-rule=\"evenodd\" fill-opacity=\"1\"/>\n",
       "<polyline clip-path=\"url(#clip622)\" style=\"stroke:#000000; stroke-linecap:round; stroke-linejoin:round; stroke-width:4; stroke-opacity:1; fill:none\" points=\"1615.86,1224.77 1615.86,1486.45 1738.91,1486.45 1738.91,1224.77 1615.86,1224.77 \"/>\n",
       "<path clip-path=\"url(#clip622)\" d=\"M1738.91 1355.61 L1738.91 1486.45 L1861.95 1486.45 L1861.95 1355.61 L1738.91 1355.61 L1738.91 1355.61  Z\" fill=\"#009af9\" fill-rule=\"evenodd\" fill-opacity=\"1\"/>\n",
       "<polyline clip-path=\"url(#clip622)\" style=\"stroke:#000000; stroke-linecap:round; stroke-linejoin:round; stroke-width:4; stroke-opacity:1; fill:none\" points=\"1738.91,1355.61 1738.91,1486.45 1861.95,1486.45 1861.95,1355.61 1738.91,1355.61 \"/>\n",
       "<path clip-path=\"url(#clip622)\" d=\"M1861.95 1290.19 L1861.95 1486.45 L1985 1486.45 L1985 1290.19 L1861.95 1290.19 L1861.95 1290.19  Z\" fill=\"#009af9\" fill-rule=\"evenodd\" fill-opacity=\"1\"/>\n",
       "<polyline clip-path=\"url(#clip622)\" style=\"stroke:#000000; stroke-linecap:round; stroke-linejoin:round; stroke-width:4; stroke-opacity:1; fill:none\" points=\"1861.95,1290.19 1861.95,1486.45 1985,1486.45 1985,1290.19 1861.95,1290.19 \"/>\n",
       "<path clip-path=\"url(#clip622)\" d=\"M1985 1421.03 L1985 1486.45 L2108.04 1486.45 L2108.04 1421.03 L1985 1421.03 L1985 1421.03  Z\" fill=\"#009af9\" fill-rule=\"evenodd\" fill-opacity=\"1\"/>\n",
       "<polyline clip-path=\"url(#clip622)\" style=\"stroke:#000000; stroke-linecap:round; stroke-linejoin:round; stroke-width:4; stroke-opacity:1; fill:none\" points=\"1985,1421.03 1985,1486.45 2108.04,1486.45 2108.04,1421.03 1985,1421.03 \"/>\n",
       "<path clip-path=\"url(#clip622)\" d=\"M2108.04 1421.03 L2108.04 1486.45 L2231.09 1486.45 L2231.09 1421.03 L2108.04 1421.03 L2108.04 1421.03  Z\" fill=\"#009af9\" fill-rule=\"evenodd\" fill-opacity=\"1\"/>\n",
       "<polyline clip-path=\"url(#clip622)\" style=\"stroke:#000000; stroke-linecap:round; stroke-linejoin:round; stroke-width:4; stroke-opacity:1; fill:none\" points=\"2108.04,1421.03 2108.04,1486.45 2231.09,1486.45 2231.09,1421.03 2108.04,1421.03 \"/>\n",
       "<circle clip-path=\"url(#clip622)\" style=\"fill:#009af9; stroke:none; fill-opacity:0\" cx=\"323.885\" cy=\"1159.36\" r=\"2\"/>\n",
       "<circle clip-path=\"url(#clip622)\" style=\"fill:#009af9; stroke:none; fill-opacity:0\" cx=\"446.931\" cy=\"636.009\" r=\"2\"/>\n",
       "<circle clip-path=\"url(#clip622)\" style=\"fill:#009af9; stroke:none; fill-opacity:0\" cx=\"569.976\" cy=\"636.009\" r=\"2\"/>\n",
       "<circle clip-path=\"url(#clip622)\" style=\"fill:#009af9; stroke:none; fill-opacity:0\" cx=\"693.022\" cy=\"243.499\" r=\"2\"/>\n",
       "<circle clip-path=\"url(#clip622)\" style=\"fill:#009af9; stroke:none; fill-opacity:0\" cx=\"816.067\" cy=\"47.2441\" r=\"2\"/>\n",
       "<circle clip-path=\"url(#clip622)\" style=\"fill:#009af9; stroke:none; fill-opacity:0\" cx=\"939.112\" cy=\"178.081\" r=\"2\"/>\n",
       "<circle clip-path=\"url(#clip622)\" style=\"fill:#009af9; stroke:none; fill-opacity:0\" cx=\"1062.16\" cy=\"112.662\" r=\"2\"/>\n",
       "<circle clip-path=\"url(#clip622)\" style=\"fill:#009af9; stroke:none; fill-opacity:0\" cx=\"1185.2\" cy=\"178.081\" r=\"2\"/>\n",
       "<circle clip-path=\"url(#clip622)\" style=\"fill:#009af9; stroke:none; fill-opacity:0\" cx=\"1308.25\" cy=\"505.173\" r=\"2\"/>\n",
       "<circle clip-path=\"url(#clip622)\" style=\"fill:#009af9; stroke:none; fill-opacity:0\" cx=\"1431.29\" cy=\"570.591\" r=\"2\"/>\n",
       "<circle clip-path=\"url(#clip622)\" style=\"fill:#009af9; stroke:none; fill-opacity:0\" cx=\"1554.34\" cy=\"1028.52\" r=\"2\"/>\n",
       "<circle clip-path=\"url(#clip622)\" style=\"fill:#009af9; stroke:none; fill-opacity:0\" cx=\"1677.38\" cy=\"1224.77\" r=\"2\"/>\n",
       "<circle clip-path=\"url(#clip622)\" style=\"fill:#009af9; stroke:none; fill-opacity:0\" cx=\"1800.43\" cy=\"1355.61\" r=\"2\"/>\n",
       "<circle clip-path=\"url(#clip622)\" style=\"fill:#009af9; stroke:none; fill-opacity:0\" cx=\"1923.48\" cy=\"1290.19\" r=\"2\"/>\n",
       "<circle clip-path=\"url(#clip622)\" style=\"fill:#009af9; stroke:none; fill-opacity:0\" cx=\"2046.52\" cy=\"1421.03\" r=\"2\"/>\n",
       "<circle clip-path=\"url(#clip622)\" style=\"fill:#009af9; stroke:none; fill-opacity:0\" cx=\"2169.57\" cy=\"1421.03\" r=\"2\"/>\n",
       "<path clip-path=\"url(#clip620)\" d=\"M2005.38 198.898 L2279.02 198.898 L2279.02 95.2176 L2005.38 95.2176  Z\" fill=\"#ffffff\" fill-rule=\"evenodd\" fill-opacity=\"1\"/>\n",
       "<polyline clip-path=\"url(#clip620)\" style=\"stroke:#000000; stroke-linecap:round; stroke-linejoin:round; stroke-width:4; stroke-opacity:1; fill:none\" points=\"2005.38,198.898 2279.02,198.898 2279.02,95.2176 2005.38,95.2176 2005.38,198.898 \"/>\n",
       "<path clip-path=\"url(#clip620)\" d=\"M2029.96 167.794 L2177.43 167.794 L2177.43 126.322 L2029.96 126.322 L2029.96 167.794  Z\" fill=\"#009af9\" fill-rule=\"evenodd\" fill-opacity=\"1\"/>\n",
       "<polyline clip-path=\"url(#clip620)\" style=\"stroke:#000000; stroke-linecap:round; stroke-linejoin:round; stroke-width:4; stroke-opacity:1; fill:none\" points=\"2029.96,167.794 2177.43,167.794 2177.43,126.322 2029.96,126.322 2029.96,167.794 \"/>\n",
       "<path clip-path=\"url(#clip620)\" d=\"M2215.85 166.745 Q2214.05 171.375 2212.34 172.787 Q2210.62 174.199 2207.75 174.199 L2204.35 174.199 L2204.35 170.634 L2206.85 170.634 Q2208.61 170.634 2209.58 169.8 Q2210.55 168.967 2211.73 165.865 L2212.5 163.921 L2202.01 138.412 L2206.53 138.412 L2214.63 158.689 L2222.73 138.412 L2227.24 138.412 L2215.85 166.745 Z\" fill=\"#000000\" fill-rule=\"nonzero\" fill-opacity=\"1\" /><path clip-path=\"url(#clip620)\" d=\"M2234.53 160.402 L2242.17 160.402 L2242.17 134.037 L2233.86 135.703 L2233.86 131.444 L2242.13 129.778 L2246.8 129.778 L2246.8 160.402 L2254.44 160.402 L2254.44 164.338 L2234.53 164.338 L2234.53 160.402 Z\" fill=\"#000000\" fill-rule=\"nonzero\" fill-opacity=\"1\" /></svg>\n"
      ],
      "text/html": [
       "<?xml version=\"1.0\" encoding=\"utf-8\"?>\n",
       "<svg xmlns=\"http://www.w3.org/2000/svg\" xmlns:xlink=\"http://www.w3.org/1999/xlink\" width=\"600\" height=\"400\" viewBox=\"0 0 2400 1600\">\n",
       "<defs>\n",
       "  <clipPath id=\"clip670\">\n",
       "    <rect x=\"0\" y=\"0\" width=\"2400\" height=\"1600\"/>\n",
       "  </clipPath>\n",
       "</defs>\n",
       "<path clip-path=\"url(#clip670)\" d=\"M0 1600 L2400 1600 L2400 0 L0 0  Z\" fill=\"#ffffff\" fill-rule=\"evenodd\" fill-opacity=\"1\"/>\n",
       "<defs>\n",
       "  <clipPath id=\"clip671\">\n",
       "    <rect x=\"480\" y=\"0\" width=\"1681\" height=\"1600\"/>\n",
       "  </clipPath>\n",
       "</defs>\n",
       "<path clip-path=\"url(#clip670)\" d=\"M140.696 1486.45 L2352.76 1486.45 L2352.76 47.2441 L140.696 47.2441  Z\" fill=\"#ffffff\" fill-rule=\"evenodd\" fill-opacity=\"1\"/>\n",
       "<defs>\n",
       "  <clipPath id=\"clip672\">\n",
       "    <rect x=\"140\" y=\"47\" width=\"2213\" height=\"1440\"/>\n",
       "  </clipPath>\n",
       "</defs>\n",
       "<polyline clip-path=\"url(#clip672)\" style=\"stroke:#000000; stroke-linecap:round; stroke-linejoin:round; stroke-width:2; stroke-opacity:0.1; fill:none\" points=\"323.885,1486.45 323.885,47.2441 \"/>\n",
       "<polyline clip-path=\"url(#clip672)\" style=\"stroke:#000000; stroke-linecap:round; stroke-linejoin:round; stroke-width:2; stroke-opacity:0.1; fill:none\" points=\"631.499,1486.45 631.499,47.2441 \"/>\n",
       "<polyline clip-path=\"url(#clip672)\" style=\"stroke:#000000; stroke-linecap:round; stroke-linejoin:round; stroke-width:2; stroke-opacity:0.1; fill:none\" points=\"939.112,1486.45 939.112,47.2441 \"/>\n",
       "<polyline clip-path=\"url(#clip672)\" style=\"stroke:#000000; stroke-linecap:round; stroke-linejoin:round; stroke-width:2; stroke-opacity:0.1; fill:none\" points=\"1246.73,1486.45 1246.73,47.2441 \"/>\n",
       "<polyline clip-path=\"url(#clip672)\" style=\"stroke:#000000; stroke-linecap:round; stroke-linejoin:round; stroke-width:2; stroke-opacity:0.1; fill:none\" points=\"1554.34,1486.45 1554.34,47.2441 \"/>\n",
       "<polyline clip-path=\"url(#clip672)\" style=\"stroke:#000000; stroke-linecap:round; stroke-linejoin:round; stroke-width:2; stroke-opacity:0.1; fill:none\" points=\"1861.95,1486.45 1861.95,47.2441 \"/>\n",
       "<polyline clip-path=\"url(#clip672)\" style=\"stroke:#000000; stroke-linecap:round; stroke-linejoin:round; stroke-width:2; stroke-opacity:0.1; fill:none\" points=\"2169.57,1486.45 2169.57,47.2441 \"/>\n",
       "<polyline clip-path=\"url(#clip670)\" style=\"stroke:#000000; stroke-linecap:round; stroke-linejoin:round; stroke-width:4; stroke-opacity:1; fill:none\" points=\"140.696,1486.45 2352.76,1486.45 \"/>\n",
       "<polyline clip-path=\"url(#clip670)\" style=\"stroke:#000000; stroke-linecap:round; stroke-linejoin:round; stroke-width:4; stroke-opacity:1; fill:none\" points=\"323.885,1486.45 323.885,1467.55 \"/>\n",
       "<polyline clip-path=\"url(#clip670)\" style=\"stroke:#000000; stroke-linecap:round; stroke-linejoin:round; stroke-width:4; stroke-opacity:1; fill:none\" points=\"631.499,1486.45 631.499,1467.55 \"/>\n",
       "<polyline clip-path=\"url(#clip670)\" style=\"stroke:#000000; stroke-linecap:round; stroke-linejoin:round; stroke-width:4; stroke-opacity:1; fill:none\" points=\"939.112,1486.45 939.112,1467.55 \"/>\n",
       "<polyline clip-path=\"url(#clip670)\" style=\"stroke:#000000; stroke-linecap:round; stroke-linejoin:round; stroke-width:4; stroke-opacity:1; fill:none\" points=\"1246.73,1486.45 1246.73,1467.55 \"/>\n",
       "<polyline clip-path=\"url(#clip670)\" style=\"stroke:#000000; stroke-linecap:round; stroke-linejoin:round; stroke-width:4; stroke-opacity:1; fill:none\" points=\"1554.34,1486.45 1554.34,1467.55 \"/>\n",
       "<polyline clip-path=\"url(#clip670)\" style=\"stroke:#000000; stroke-linecap:round; stroke-linejoin:round; stroke-width:4; stroke-opacity:1; fill:none\" points=\"1861.95,1486.45 1861.95,1467.55 \"/>\n",
       "<polyline clip-path=\"url(#clip670)\" style=\"stroke:#000000; stroke-linecap:round; stroke-linejoin:round; stroke-width:4; stroke-opacity:1; fill:none\" points=\"2169.57,1486.45 2169.57,1467.55 \"/>\n",
       "<path clip-path=\"url(#clip670)\" d=\"M286.687 1517.37 Q283.076 1517.37 281.247 1520.93 Q279.441 1524.47 279.441 1531.6 Q279.441 1538.71 281.247 1542.27 Q283.076 1545.82 286.687 1545.82 Q290.321 1545.82 292.126 1542.27 Q293.955 1538.71 293.955 1531.6 Q293.955 1524.47 292.126 1520.93 Q290.321 1517.37 286.687 1517.37 M286.687 1513.66 Q292.497 1513.66 295.552 1518.27 Q298.631 1522.85 298.631 1531.6 Q298.631 1540.33 295.552 1544.94 Q292.497 1549.52 286.687 1549.52 Q280.876 1549.52 277.798 1544.94 Q274.742 1540.33 274.742 1531.6 Q274.742 1522.85 277.798 1518.27 Q280.876 1513.66 286.687 1513.66 Z\" fill=\"#000000\" fill-rule=\"nonzero\" fill-opacity=\"1\" /><path clip-path=\"url(#clip670)\" d=\"M306.849 1542.97 L311.733 1542.97 L311.733 1548.85 L306.849 1548.85 L306.849 1542.97 Z\" fill=\"#000000\" fill-rule=\"nonzero\" fill-opacity=\"1\" /><path clip-path=\"url(#clip670)\" d=\"M331.918 1517.37 Q328.307 1517.37 326.478 1520.93 Q324.673 1524.47 324.673 1531.6 Q324.673 1538.71 326.478 1542.27 Q328.307 1545.82 331.918 1545.82 Q335.552 1545.82 337.358 1542.27 Q339.186 1538.71 339.186 1531.6 Q339.186 1524.47 337.358 1520.93 Q335.552 1517.37 331.918 1517.37 M331.918 1513.66 Q337.728 1513.66 340.784 1518.27 Q343.862 1522.85 343.862 1531.6 Q343.862 1540.33 340.784 1544.94 Q337.728 1549.52 331.918 1549.52 Q326.108 1549.52 323.029 1544.94 Q319.973 1540.33 319.973 1531.6 Q319.973 1522.85 323.029 1518.27 Q326.108 1513.66 331.918 1513.66 Z\" fill=\"#000000\" fill-rule=\"nonzero\" fill-opacity=\"1\" /><path clip-path=\"url(#clip670)\" d=\"M352.126 1514.29 L370.482 1514.29 L370.482 1518.22 L356.408 1518.22 L356.408 1526.7 Q357.427 1526.35 358.445 1526.19 Q359.464 1526 360.483 1526 Q366.27 1526 369.649 1529.17 Q373.029 1532.34 373.029 1537.76 Q373.029 1543.34 369.557 1546.44 Q366.084 1549.52 359.765 1549.52 Q357.589 1549.52 355.32 1549.15 Q353.075 1548.78 350.668 1548.04 L350.668 1543.34 Q352.751 1544.47 354.973 1545.03 Q357.195 1545.58 359.672 1545.58 Q363.677 1545.58 366.015 1543.48 Q368.353 1541.37 368.353 1537.76 Q368.353 1534.15 366.015 1532.04 Q363.677 1529.94 359.672 1529.94 Q357.797 1529.94 355.922 1530.35 Q354.071 1530.77 352.126 1531.65 L352.126 1514.29 Z\" fill=\"#000000\" fill-rule=\"nonzero\" fill-opacity=\"1\" /><path clip-path=\"url(#clip670)\" d=\"M593.802 1517.37 Q590.191 1517.37 588.363 1520.93 Q586.557 1524.47 586.557 1531.6 Q586.557 1538.71 588.363 1542.27 Q590.191 1545.82 593.802 1545.82 Q597.437 1545.82 599.242 1542.27 Q601.071 1538.71 601.071 1531.6 Q601.071 1524.47 599.242 1520.93 Q597.437 1517.37 593.802 1517.37 M593.802 1513.66 Q599.612 1513.66 602.668 1518.27 Q605.747 1522.85 605.747 1531.6 Q605.747 1540.33 602.668 1544.94 Q599.612 1549.52 593.802 1549.52 Q587.992 1549.52 584.913 1544.94 Q581.858 1540.33 581.858 1531.6 Q581.858 1522.85 584.913 1518.27 Q587.992 1513.66 593.802 1513.66 Z\" fill=\"#000000\" fill-rule=\"nonzero\" fill-opacity=\"1\" /><path clip-path=\"url(#clip670)\" d=\"M613.964 1542.97 L618.849 1542.97 L618.849 1548.85 L613.964 1548.85 L613.964 1542.97 Z\" fill=\"#000000\" fill-rule=\"nonzero\" fill-opacity=\"1\" /><path clip-path=\"url(#clip670)\" d=\"M629.844 1544.91 L637.483 1544.91 L637.483 1518.55 L629.173 1520.21 L629.173 1515.95 L637.436 1514.29 L642.112 1514.29 L642.112 1544.91 L649.751 1544.91 L649.751 1548.85 L629.844 1548.85 L629.844 1544.91 Z\" fill=\"#000000\" fill-rule=\"nonzero\" fill-opacity=\"1\" /><path clip-path=\"url(#clip670)\" d=\"M669.195 1517.37 Q665.584 1517.37 663.756 1520.93 Q661.95 1524.47 661.95 1531.6 Q661.95 1538.71 663.756 1542.27 Q665.584 1545.82 669.195 1545.82 Q672.83 1545.82 674.635 1542.27 Q676.464 1538.71 676.464 1531.6 Q676.464 1524.47 674.635 1520.93 Q672.83 1517.37 669.195 1517.37 M669.195 1513.66 Q675.006 1513.66 678.061 1518.27 Q681.14 1522.85 681.14 1531.6 Q681.14 1540.33 678.061 1544.94 Q675.006 1549.52 669.195 1549.52 Q663.385 1549.52 660.307 1544.94 Q657.251 1540.33 657.251 1531.6 Q657.251 1522.85 660.307 1518.27 Q663.385 1513.66 669.195 1513.66 Z\" fill=\"#000000\" fill-rule=\"nonzero\" fill-opacity=\"1\" /><path clip-path=\"url(#clip670)\" d=\"M901.913 1517.37 Q898.302 1517.37 896.474 1520.93 Q894.668 1524.47 894.668 1531.6 Q894.668 1538.71 896.474 1542.27 Q898.302 1545.82 901.913 1545.82 Q905.548 1545.82 907.353 1542.27 Q909.182 1538.71 909.182 1531.6 Q909.182 1524.47 907.353 1520.93 Q905.548 1517.37 901.913 1517.37 M901.913 1513.66 Q907.724 1513.66 910.779 1518.27 Q913.858 1522.85 913.858 1531.6 Q913.858 1540.33 910.779 1544.94 Q907.724 1549.52 901.913 1549.52 Q896.103 1549.52 893.025 1544.94 Q889.969 1540.33 889.969 1531.6 Q889.969 1522.85 893.025 1518.27 Q896.103 1513.66 901.913 1513.66 Z\" fill=\"#000000\" fill-rule=\"nonzero\" fill-opacity=\"1\" /><path clip-path=\"url(#clip670)\" d=\"M922.075 1542.97 L926.96 1542.97 L926.96 1548.85 L922.075 1548.85 L922.075 1542.97 Z\" fill=\"#000000\" fill-rule=\"nonzero\" fill-opacity=\"1\" /><path clip-path=\"url(#clip670)\" d=\"M937.955 1544.91 L945.594 1544.91 L945.594 1518.55 L937.284 1520.21 L937.284 1515.95 L945.547 1514.29 L950.223 1514.29 L950.223 1544.91 L957.862 1544.91 L957.862 1548.85 L937.955 1548.85 L937.955 1544.91 Z\" fill=\"#000000\" fill-rule=\"nonzero\" fill-opacity=\"1\" /><path clip-path=\"url(#clip670)\" d=\"M967.353 1514.29 L985.709 1514.29 L985.709 1518.22 L971.635 1518.22 L971.635 1526.7 Q972.654 1526.35 973.672 1526.19 Q974.691 1526 975.709 1526 Q981.496 1526 984.876 1529.17 Q988.256 1532.34 988.256 1537.76 Q988.256 1543.34 984.783 1546.44 Q981.311 1549.52 974.992 1549.52 Q972.816 1549.52 970.547 1549.15 Q968.302 1548.78 965.895 1548.04 L965.895 1543.34 Q967.978 1544.47 970.2 1545.03 Q972.422 1545.58 974.899 1545.58 Q978.904 1545.58 981.242 1543.48 Q983.58 1541.37 983.58 1537.76 Q983.58 1534.15 981.242 1532.04 Q978.904 1529.94 974.899 1529.94 Q973.024 1529.94 971.149 1530.35 Q969.297 1530.77 967.353 1531.65 L967.353 1514.29 Z\" fill=\"#000000\" fill-rule=\"nonzero\" fill-opacity=\"1\" /><path clip-path=\"url(#clip670)\" d=\"M1209.03 1517.37 Q1205.42 1517.37 1203.59 1520.93 Q1201.78 1524.47 1201.78 1531.6 Q1201.78 1538.71 1203.59 1542.27 Q1205.42 1545.82 1209.03 1545.82 Q1212.66 1545.82 1214.47 1542.27 Q1216.3 1538.71 1216.3 1531.6 Q1216.3 1524.47 1214.47 1520.93 Q1212.66 1517.37 1209.03 1517.37 M1209.03 1513.66 Q1214.84 1513.66 1217.89 1518.27 Q1220.97 1522.85 1220.97 1531.6 Q1220.97 1540.33 1217.89 1544.94 Q1214.84 1549.52 1209.03 1549.52 Q1203.22 1549.52 1200.14 1544.94 Q1197.08 1540.33 1197.08 1531.6 Q1197.08 1522.85 1200.14 1518.27 Q1203.22 1513.66 1209.03 1513.66 Z\" fill=\"#000000\" fill-rule=\"nonzero\" fill-opacity=\"1\" /><path clip-path=\"url(#clip670)\" d=\"M1229.19 1542.97 L1234.08 1542.97 L1234.08 1548.85 L1229.19 1548.85 L1229.19 1542.97 Z\" fill=\"#000000\" fill-rule=\"nonzero\" fill-opacity=\"1\" /><path clip-path=\"url(#clip670)\" d=\"M1248.29 1544.91 L1264.61 1544.91 L1264.61 1548.85 L1242.66 1548.85 L1242.66 1544.91 Q1245.33 1542.16 1249.91 1537.53 Q1254.52 1532.88 1255.7 1531.53 Q1257.94 1529.01 1258.82 1527.27 Q1259.72 1525.51 1259.72 1523.82 Q1259.72 1521.07 1257.78 1519.33 Q1255.86 1517.6 1252.76 1517.6 Q1250.56 1517.6 1248.1 1518.36 Q1245.67 1519.13 1242.89 1520.68 L1242.89 1515.95 Q1245.72 1514.82 1248.17 1514.24 Q1250.63 1513.66 1252.66 1513.66 Q1258.03 1513.66 1261.23 1516.35 Q1264.42 1519.03 1264.42 1523.52 Q1264.42 1525.65 1263.61 1527.57 Q1262.83 1529.47 1260.72 1532.07 Q1260.14 1532.74 1257.04 1535.95 Q1253.94 1539.15 1248.29 1544.91 Z\" fill=\"#000000\" fill-rule=\"nonzero\" fill-opacity=\"1\" /><path clip-path=\"url(#clip670)\" d=\"M1284.42 1517.37 Q1280.81 1517.37 1278.98 1520.93 Q1277.18 1524.47 1277.18 1531.6 Q1277.18 1538.71 1278.98 1542.27 Q1280.81 1545.82 1284.42 1545.82 Q1288.06 1545.82 1289.86 1542.27 Q1291.69 1538.71 1291.69 1531.6 Q1291.69 1524.47 1289.86 1520.93 Q1288.06 1517.37 1284.42 1517.37 M1284.42 1513.66 Q1290.23 1513.66 1293.29 1518.27 Q1296.37 1522.85 1296.37 1531.6 Q1296.37 1540.33 1293.29 1544.94 Q1290.23 1549.52 1284.42 1549.52 Q1278.61 1549.52 1275.53 1544.94 Q1272.48 1540.33 1272.48 1531.6 Q1272.48 1522.85 1275.53 1518.27 Q1278.61 1513.66 1284.42 1513.66 Z\" fill=\"#000000\" fill-rule=\"nonzero\" fill-opacity=\"1\" /><path clip-path=\"url(#clip670)\" d=\"M1517.14 1517.37 Q1513.53 1517.37 1511.7 1520.93 Q1509.89 1524.47 1509.89 1531.6 Q1509.89 1538.71 1511.7 1542.27 Q1513.53 1545.82 1517.14 1545.82 Q1520.77 1545.82 1522.58 1542.27 Q1524.41 1538.71 1524.41 1531.6 Q1524.41 1524.47 1522.58 1520.93 Q1520.77 1517.37 1517.14 1517.37 M1517.14 1513.66 Q1522.95 1513.66 1526.01 1518.27 Q1529.08 1522.85 1529.08 1531.6 Q1529.08 1540.33 1526.01 1544.94 Q1522.95 1549.52 1517.14 1549.52 Q1511.33 1549.52 1508.25 1544.94 Q1505.2 1540.33 1505.2 1531.6 Q1505.2 1522.85 1508.25 1518.27 Q1511.33 1513.66 1517.14 1513.66 Z\" fill=\"#000000\" fill-rule=\"nonzero\" fill-opacity=\"1\" /><path clip-path=\"url(#clip670)\" d=\"M1537.3 1542.97 L1542.19 1542.97 L1542.19 1548.85 L1537.3 1548.85 L1537.3 1542.97 Z\" fill=\"#000000\" fill-rule=\"nonzero\" fill-opacity=\"1\" /><path clip-path=\"url(#clip670)\" d=\"M1556.4 1544.91 L1572.72 1544.91 L1572.72 1548.85 L1550.77 1548.85 L1550.77 1544.91 Q1553.44 1542.16 1558.02 1537.53 Q1562.63 1532.88 1563.81 1531.53 Q1566.05 1529.01 1566.93 1527.27 Q1567.83 1525.51 1567.83 1523.82 Q1567.83 1521.07 1565.89 1519.33 Q1563.97 1517.6 1560.87 1517.6 Q1558.67 1517.6 1556.21 1518.36 Q1553.78 1519.13 1551.01 1520.68 L1551.01 1515.95 Q1553.83 1514.82 1556.28 1514.24 Q1558.74 1513.66 1560.77 1513.66 Q1566.14 1513.66 1569.34 1516.35 Q1572.53 1519.03 1572.53 1523.52 Q1572.53 1525.65 1571.72 1527.57 Q1570.94 1529.47 1568.83 1532.07 Q1568.25 1532.74 1565.15 1535.95 Q1562.05 1539.15 1556.4 1544.91 Z\" fill=\"#000000\" fill-rule=\"nonzero\" fill-opacity=\"1\" /><path clip-path=\"url(#clip670)\" d=\"M1582.58 1514.29 L1600.94 1514.29 L1600.94 1518.22 L1586.86 1518.22 L1586.86 1526.7 Q1587.88 1526.35 1588.9 1526.19 Q1589.92 1526 1590.94 1526 Q1596.72 1526 1600.1 1529.17 Q1603.48 1532.34 1603.48 1537.76 Q1603.48 1543.34 1600.01 1546.44 Q1596.54 1549.52 1590.22 1549.52 Q1588.04 1549.52 1585.77 1549.15 Q1583.53 1548.78 1581.12 1548.04 L1581.12 1543.34 Q1583.2 1544.47 1585.43 1545.03 Q1587.65 1545.58 1590.13 1545.58 Q1594.13 1545.58 1596.47 1543.48 Q1598.81 1541.37 1598.81 1537.76 Q1598.81 1534.15 1596.47 1532.04 Q1594.13 1529.94 1590.13 1529.94 Q1588.25 1529.94 1586.38 1530.35 Q1584.52 1530.77 1582.58 1531.65 L1582.58 1514.29 Z\" fill=\"#000000\" fill-rule=\"nonzero\" fill-opacity=\"1\" /><path clip-path=\"url(#clip670)\" d=\"M1824.26 1517.37 Q1820.64 1517.37 1818.82 1520.93 Q1817.01 1524.47 1817.01 1531.6 Q1817.01 1538.71 1818.82 1542.27 Q1820.64 1545.82 1824.26 1545.82 Q1827.89 1545.82 1829.7 1542.27 Q1831.52 1538.71 1831.52 1531.6 Q1831.52 1524.47 1829.7 1520.93 Q1827.89 1517.37 1824.26 1517.37 M1824.26 1513.66 Q1830.07 1513.66 1833.12 1518.27 Q1836.2 1522.85 1836.2 1531.6 Q1836.2 1540.33 1833.12 1544.94 Q1830.07 1549.52 1824.26 1549.52 Q1818.45 1549.52 1815.37 1544.94 Q1812.31 1540.33 1812.31 1531.6 Q1812.31 1522.85 1815.37 1518.27 Q1818.45 1513.66 1824.26 1513.66 Z\" fill=\"#000000\" fill-rule=\"nonzero\" fill-opacity=\"1\" /><path clip-path=\"url(#clip670)\" d=\"M1844.42 1542.97 L1849.3 1542.97 L1849.3 1548.85 L1844.42 1548.85 L1844.42 1542.97 Z\" fill=\"#000000\" fill-rule=\"nonzero\" fill-opacity=\"1\" /><path clip-path=\"url(#clip670)\" d=\"M1873.65 1530.21 Q1877.01 1530.93 1878.89 1533.2 Q1880.78 1535.47 1880.78 1538.8 Q1880.78 1543.92 1877.26 1546.72 Q1873.75 1549.52 1867.27 1549.52 Q1865.09 1549.52 1862.77 1549.08 Q1860.48 1548.66 1858.03 1547.81 L1858.03 1543.29 Q1859.97 1544.43 1862.29 1545.01 Q1864.6 1545.58 1867.13 1545.58 Q1871.52 1545.58 1873.82 1543.85 Q1876.13 1542.11 1876.13 1538.8 Q1876.13 1535.75 1873.98 1534.03 Q1871.85 1532.3 1868.03 1532.3 L1864 1532.3 L1864 1528.45 L1868.21 1528.45 Q1871.66 1528.45 1873.49 1527.09 Q1875.32 1525.7 1875.32 1523.11 Q1875.32 1520.45 1873.42 1519.03 Q1871.55 1517.6 1868.03 1517.6 Q1866.11 1517.6 1863.91 1518.01 Q1861.71 1518.43 1859.07 1519.31 L1859.07 1515.14 Q1861.73 1514.4 1864.05 1514.03 Q1866.39 1513.66 1868.45 1513.66 Q1873.77 1513.66 1876.87 1516.09 Q1879.97 1518.5 1879.97 1522.62 Q1879.97 1525.49 1878.33 1527.48 Q1876.69 1529.45 1873.65 1530.21 Z\" fill=\"#000000\" fill-rule=\"nonzero\" fill-opacity=\"1\" /><path clip-path=\"url(#clip670)\" d=\"M1899.65 1517.37 Q1896.04 1517.37 1894.21 1520.93 Q1892.4 1524.47 1892.4 1531.6 Q1892.4 1538.71 1894.21 1542.27 Q1896.04 1545.82 1899.65 1545.82 Q1903.28 1545.82 1905.09 1542.27 Q1906.92 1538.71 1906.92 1531.6 Q1906.92 1524.47 1905.09 1520.93 Q1903.28 1517.37 1899.65 1517.37 M1899.65 1513.66 Q1905.46 1513.66 1908.51 1518.27 Q1911.59 1522.85 1911.59 1531.6 Q1911.59 1540.33 1908.51 1544.94 Q1905.46 1549.52 1899.65 1549.52 Q1893.84 1549.52 1890.76 1544.94 Q1887.7 1540.33 1887.7 1531.6 Q1887.7 1522.85 1890.76 1518.27 Q1893.84 1513.66 1899.65 1513.66 Z\" fill=\"#000000\" fill-rule=\"nonzero\" fill-opacity=\"1\" /><path clip-path=\"url(#clip670)\" d=\"M2132.37 1517.37 Q2128.76 1517.37 2126.93 1520.93 Q2125.12 1524.47 2125.12 1531.6 Q2125.12 1538.71 2126.93 1542.27 Q2128.76 1545.82 2132.37 1545.82 Q2136 1545.82 2137.81 1542.27 Q2139.64 1538.71 2139.64 1531.6 Q2139.64 1524.47 2137.81 1520.93 Q2136 1517.37 2132.37 1517.37 M2132.37 1513.66 Q2138.18 1513.66 2141.23 1518.27 Q2144.31 1522.85 2144.31 1531.6 Q2144.31 1540.33 2141.23 1544.94 Q2138.18 1549.52 2132.37 1549.52 Q2126.56 1549.52 2123.48 1544.94 Q2120.42 1540.33 2120.42 1531.6 Q2120.42 1522.85 2123.48 1518.27 Q2126.56 1513.66 2132.37 1513.66 Z\" fill=\"#000000\" fill-rule=\"nonzero\" fill-opacity=\"1\" /><path clip-path=\"url(#clip670)\" d=\"M2152.53 1542.97 L2157.41 1542.97 L2157.41 1548.85 L2152.53 1548.85 L2152.53 1542.97 Z\" fill=\"#000000\" fill-rule=\"nonzero\" fill-opacity=\"1\" /><path clip-path=\"url(#clip670)\" d=\"M2181.76 1530.21 Q2185.12 1530.93 2187 1533.2 Q2188.89 1535.47 2188.89 1538.8 Q2188.89 1543.92 2185.38 1546.72 Q2181.86 1549.52 2175.38 1549.52 Q2173.2 1549.52 2170.89 1549.08 Q2168.59 1548.66 2166.14 1547.81 L2166.14 1543.29 Q2168.08 1544.43 2170.4 1545.01 Q2172.71 1545.58 2175.24 1545.58 Q2179.64 1545.58 2181.93 1543.85 Q2184.24 1542.11 2184.24 1538.8 Q2184.24 1535.75 2182.09 1534.03 Q2179.96 1532.3 2176.14 1532.3 L2172.11 1532.3 L2172.11 1528.45 L2176.33 1528.45 Q2179.77 1528.45 2181.6 1527.09 Q2183.43 1525.7 2183.43 1523.11 Q2183.43 1520.45 2181.53 1519.03 Q2179.66 1517.6 2176.14 1517.6 Q2174.22 1517.6 2172.02 1518.01 Q2169.82 1518.43 2167.18 1519.31 L2167.18 1515.14 Q2169.84 1514.4 2172.16 1514.03 Q2174.5 1513.66 2176.56 1513.66 Q2181.88 1513.66 2184.98 1516.09 Q2188.08 1518.5 2188.08 1522.62 Q2188.08 1525.49 2186.44 1527.48 Q2184.8 1529.45 2181.76 1530.21 Z\" fill=\"#000000\" fill-rule=\"nonzero\" fill-opacity=\"1\" /><path clip-path=\"url(#clip670)\" d=\"M2197.81 1514.29 L2216.16 1514.29 L2216.16 1518.22 L2202.09 1518.22 L2202.09 1526.7 Q2203.11 1526.35 2204.13 1526.19 Q2205.14 1526 2206.16 1526 Q2211.95 1526 2215.33 1529.17 Q2218.71 1532.34 2218.71 1537.76 Q2218.71 1543.34 2215.24 1546.44 Q2211.76 1549.52 2205.45 1549.52 Q2203.27 1549.52 2201 1549.15 Q2198.76 1548.78 2196.35 1548.04 L2196.35 1543.34 Q2198.43 1544.47 2200.65 1545.03 Q2202.88 1545.58 2205.35 1545.58 Q2209.36 1545.58 2211.7 1543.48 Q2214.03 1541.37 2214.03 1537.76 Q2214.03 1534.15 2211.7 1532.04 Q2209.36 1529.94 2205.35 1529.94 Q2203.48 1529.94 2201.6 1530.35 Q2199.75 1530.77 2197.81 1531.65 L2197.81 1514.29 Z\" fill=\"#000000\" fill-rule=\"nonzero\" fill-opacity=\"1\" /><polyline clip-path=\"url(#clip672)\" style=\"stroke:#000000; stroke-linecap:round; stroke-linejoin:round; stroke-width:2; stroke-opacity:0.1; fill:none\" points=\"140.696,1486.45 2352.76,1486.45 \"/>\n",
       "<polyline clip-path=\"url(#clip672)\" style=\"stroke:#000000; stroke-linecap:round; stroke-linejoin:round; stroke-width:2; stroke-opacity:0.1; fill:none\" points=\"140.696,1159.36 2352.76,1159.36 \"/>\n",
       "<polyline clip-path=\"url(#clip672)\" style=\"stroke:#000000; stroke-linecap:round; stroke-linejoin:round; stroke-width:2; stroke-opacity:0.1; fill:none\" points=\"140.696,832.264 2352.76,832.264 \"/>\n",
       "<polyline clip-path=\"url(#clip672)\" style=\"stroke:#000000; stroke-linecap:round; stroke-linejoin:round; stroke-width:2; stroke-opacity:0.1; fill:none\" points=\"140.696,505.173 2352.76,505.173 \"/>\n",
       "<polyline clip-path=\"url(#clip672)\" style=\"stroke:#000000; stroke-linecap:round; stroke-linejoin:round; stroke-width:2; stroke-opacity:0.1; fill:none\" points=\"140.696,178.081 2352.76,178.081 \"/>\n",
       "<polyline clip-path=\"url(#clip670)\" style=\"stroke:#000000; stroke-linecap:round; stroke-linejoin:round; stroke-width:4; stroke-opacity:1; fill:none\" points=\"140.696,1486.45 140.696,47.2441 \"/>\n",
       "<polyline clip-path=\"url(#clip670)\" style=\"stroke:#000000; stroke-linecap:round; stroke-linejoin:round; stroke-width:4; stroke-opacity:1; fill:none\" points=\"140.696,1486.45 159.593,1486.45 \"/>\n",
       "<polyline clip-path=\"url(#clip670)\" style=\"stroke:#000000; stroke-linecap:round; stroke-linejoin:round; stroke-width:4; stroke-opacity:1; fill:none\" points=\"140.696,1159.36 159.593,1159.36 \"/>\n",
       "<polyline clip-path=\"url(#clip670)\" style=\"stroke:#000000; stroke-linecap:round; stroke-linejoin:round; stroke-width:4; stroke-opacity:1; fill:none\" points=\"140.696,832.264 159.593,832.264 \"/>\n",
       "<polyline clip-path=\"url(#clip670)\" style=\"stroke:#000000; stroke-linecap:round; stroke-linejoin:round; stroke-width:4; stroke-opacity:1; fill:none\" points=\"140.696,505.173 159.593,505.173 \"/>\n",
       "<polyline clip-path=\"url(#clip670)\" style=\"stroke:#000000; stroke-linecap:round; stroke-linejoin:round; stroke-width:4; stroke-opacity:1; fill:none\" points=\"140.696,178.081 159.593,178.081 \"/>\n",
       "<path clip-path=\"url(#clip670)\" d=\"M92.7512 1472.25 Q89.1401 1472.25 87.3114 1475.81 Q85.5058 1479.35 85.5058 1486.48 Q85.5058 1493.59 87.3114 1497.15 Q89.1401 1500.7 92.7512 1500.7 Q96.3854 1500.7 98.1909 1497.15 Q100.02 1493.59 100.02 1486.48 Q100.02 1479.35 98.1909 1475.81 Q96.3854 1472.25 92.7512 1472.25 M92.7512 1468.54 Q98.5613 1468.54 101.617 1473.15 Q104.696 1477.73 104.696 1486.48 Q104.696 1495.21 101.617 1499.82 Q98.5613 1504.4 92.7512 1504.4 Q86.941 1504.4 83.8623 1499.82 Q80.8068 1495.21 80.8068 1486.48 Q80.8068 1477.73 83.8623 1473.15 Q86.941 1468.54 92.7512 1468.54 Z\" fill=\"#000000\" fill-rule=\"nonzero\" fill-opacity=\"1\" /><path clip-path=\"url(#clip670)\" d=\"M83.7929 1142.08 L102.149 1142.08 L102.149 1146.01 L88.0753 1146.01 L88.0753 1154.48 Q89.0938 1154.14 90.1123 1153.97 Q91.1308 1153.79 92.1493 1153.79 Q97.9363 1153.79 101.316 1156.96 Q104.696 1160.13 104.696 1165.55 Q104.696 1171.13 101.223 1174.23 Q97.7511 1177.31 91.4317 1177.31 Q89.2558 1177.31 86.9873 1176.94 Q84.7419 1176.57 82.3346 1175.83 L82.3346 1171.13 Q84.4179 1172.26 86.6401 1172.82 Q88.8623 1173.37 91.3391 1173.37 Q95.3437 1173.37 97.6817 1171.27 Q100.02 1169.16 100.02 1165.55 Q100.02 1161.94 97.6817 1159.83 Q95.3437 1157.72 91.3391 1157.72 Q89.4641 1157.72 87.5892 1158.14 Q85.7373 1158.56 83.7929 1159.44 L83.7929 1142.08 Z\" fill=\"#000000\" fill-rule=\"nonzero\" fill-opacity=\"1\" /><path clip-path=\"url(#clip670)\" d=\"M53.3995 845.609 L61.0384 845.609 L61.0384 819.244 L52.7282 820.91 L52.7282 816.651 L60.9921 814.984 L65.668 814.984 L65.668 845.609 L73.3068 845.609 L73.3068 849.544 L53.3995 849.544 L53.3995 845.609 Z\" fill=\"#000000\" fill-rule=\"nonzero\" fill-opacity=\"1\" /><path clip-path=\"url(#clip670)\" d=\"M92.7512 818.063 Q89.1401 818.063 87.3114 821.628 Q85.5058 825.169 85.5058 832.299 Q85.5058 839.406 87.3114 842.97 Q89.1401 846.512 92.7512 846.512 Q96.3854 846.512 98.1909 842.97 Q100.02 839.406 100.02 832.299 Q100.02 825.169 98.1909 821.628 Q96.3854 818.063 92.7512 818.063 M92.7512 814.359 Q98.5613 814.359 101.617 818.966 Q104.696 823.549 104.696 832.299 Q104.696 841.026 101.617 845.632 Q98.5613 850.216 92.7512 850.216 Q86.941 850.216 83.8623 845.632 Q80.8068 841.026 80.8068 832.299 Q80.8068 823.549 83.8623 818.966 Q86.941 814.359 92.7512 814.359 Z\" fill=\"#000000\" fill-rule=\"nonzero\" fill-opacity=\"1\" /><path clip-path=\"url(#clip670)\" d=\"M54.3949 518.517 L62.0337 518.517 L62.0337 492.152 L53.7236 493.818 L53.7236 489.559 L61.9874 487.893 L66.6633 487.893 L66.6633 518.517 L74.3022 518.517 L74.3022 522.453 L54.3949 522.453 L54.3949 518.517 Z\" fill=\"#000000\" fill-rule=\"nonzero\" fill-opacity=\"1\" /><path clip-path=\"url(#clip670)\" d=\"M83.7929 487.893 L102.149 487.893 L102.149 491.828 L88.0753 491.828 L88.0753 500.3 Q89.0938 499.953 90.1123 499.791 Q91.1308 499.605 92.1493 499.605 Q97.9363 499.605 101.316 502.777 Q104.696 505.948 104.696 511.365 Q104.696 516.943 101.223 520.045 Q97.7511 523.124 91.4317 523.124 Q89.2558 523.124 86.9873 522.753 Q84.7419 522.383 82.3346 521.642 L82.3346 516.943 Q84.4179 518.078 86.6401 518.633 Q88.8623 519.189 91.3391 519.189 Q95.3437 519.189 97.6817 517.082 Q100.02 514.976 100.02 511.365 Q100.02 507.754 97.6817 505.647 Q95.3437 503.541 91.3391 503.541 Q89.4641 503.541 87.5892 503.957 Q85.7373 504.374 83.7929 505.254 L83.7929 487.893 Z\" fill=\"#000000\" fill-rule=\"nonzero\" fill-opacity=\"1\" /><path clip-path=\"url(#clip670)\" d=\"M56.6171 191.426 L72.9365 191.426 L72.9365 195.361 L50.9921 195.361 L50.9921 191.426 Q53.6541 188.671 58.2375 184.041 Q62.8439 179.389 64.0245 178.046 Q66.2698 175.523 67.1494 173.787 Q68.0522 172.028 68.0522 170.338 Q68.0522 167.583 66.1078 165.847 Q64.1865 164.111 61.0847 164.111 Q58.8856 164.111 56.4319 164.875 Q54.0014 165.639 51.2236 167.19 L51.2236 162.467 Q54.0477 161.333 56.5014 160.755 Q58.955 160.176 60.9921 160.176 Q66.3624 160.176 69.5568 162.861 Q72.7513 165.546 72.7513 170.037 Q72.7513 172.166 71.9411 174.088 Q71.1541 175.986 69.0476 178.578 Q68.4689 179.25 65.367 182.467 Q62.2652 185.662 56.6171 191.426 Z\" fill=\"#000000\" fill-rule=\"nonzero\" fill-opacity=\"1\" /><path clip-path=\"url(#clip670)\" d=\"M92.7512 163.879 Q89.1401 163.879 87.3114 167.444 Q85.5058 170.986 85.5058 178.116 Q85.5058 185.222 87.3114 188.787 Q89.1401 192.328 92.7512 192.328 Q96.3854 192.328 98.1909 188.787 Q100.02 185.222 100.02 178.116 Q100.02 170.986 98.1909 167.444 Q96.3854 163.879 92.7512 163.879 M92.7512 160.176 Q98.5613 160.176 101.617 164.782 Q104.696 169.366 104.696 178.116 Q104.696 186.842 101.617 191.449 Q98.5613 196.032 92.7512 196.032 Q86.941 196.032 83.8623 191.449 Q80.8068 186.842 80.8068 178.116 Q80.8068 169.366 83.8623 164.782 Q86.941 160.176 92.7512 160.176 Z\" fill=\"#000000\" fill-rule=\"nonzero\" fill-opacity=\"1\" /><path clip-path=\"url(#clip672)\" d=\"M262.363 1159.36 L262.363 1486.45 L385.408 1486.45 L385.408 1159.36 L262.363 1159.36 L262.363 1159.36  Z\" fill=\"#009af9\" fill-rule=\"evenodd\" fill-opacity=\"1\"/>\n",
       "<polyline clip-path=\"url(#clip672)\" style=\"stroke:#000000; stroke-linecap:round; stroke-linejoin:round; stroke-width:4; stroke-opacity:1; fill:none\" points=\"262.363,1159.36 262.363,1486.45 385.408,1486.45 385.408,1159.36 262.363,1159.36 \"/>\n",
       "<path clip-path=\"url(#clip672)\" d=\"M385.408 636.009 L385.408 1486.45 L508.454 1486.45 L508.454 636.009 L385.408 636.009 L385.408 636.009  Z\" fill=\"#009af9\" fill-rule=\"evenodd\" fill-opacity=\"1\"/>\n",
       "<polyline clip-path=\"url(#clip672)\" style=\"stroke:#000000; stroke-linecap:round; stroke-linejoin:round; stroke-width:4; stroke-opacity:1; fill:none\" points=\"385.408,636.009 385.408,1486.45 508.454,1486.45 508.454,636.009 385.408,636.009 \"/>\n",
       "<path clip-path=\"url(#clip672)\" d=\"M508.454 636.009 L508.454 1486.45 L631.499 1486.45 L631.499 636.009 L508.454 636.009 L508.454 636.009  Z\" fill=\"#009af9\" fill-rule=\"evenodd\" fill-opacity=\"1\"/>\n",
       "<polyline clip-path=\"url(#clip672)\" style=\"stroke:#000000; stroke-linecap:round; stroke-linejoin:round; stroke-width:4; stroke-opacity:1; fill:none\" points=\"508.454,636.009 508.454,1486.45 631.499,1486.45 631.499,636.009 508.454,636.009 \"/>\n",
       "<path clip-path=\"url(#clip672)\" d=\"M631.499 243.499 L631.499 1486.45 L754.544 1486.45 L754.544 243.499 L631.499 243.499 L631.499 243.499  Z\" fill=\"#009af9\" fill-rule=\"evenodd\" fill-opacity=\"1\"/>\n",
       "<polyline clip-path=\"url(#clip672)\" style=\"stroke:#000000; stroke-linecap:round; stroke-linejoin:round; stroke-width:4; stroke-opacity:1; fill:none\" points=\"631.499,243.499 631.499,1486.45 754.544,1486.45 754.544,243.499 631.499,243.499 \"/>\n",
       "<path clip-path=\"url(#clip672)\" d=\"M754.544 47.2441 L754.544 1486.45 L877.59 1486.45 L877.59 47.2441 L754.544 47.2441 L754.544 47.2441  Z\" fill=\"#009af9\" fill-rule=\"evenodd\" fill-opacity=\"1\"/>\n",
       "<polyline clip-path=\"url(#clip672)\" style=\"stroke:#000000; stroke-linecap:round; stroke-linejoin:round; stroke-width:4; stroke-opacity:1; fill:none\" points=\"754.544,47.2441 754.544,1486.45 877.59,1486.45 877.59,47.2441 754.544,47.2441 \"/>\n",
       "<path clip-path=\"url(#clip672)\" d=\"M877.59 178.081 L877.59 1486.45 L1000.63 1486.45 L1000.63 178.081 L877.59 178.081 L877.59 178.081  Z\" fill=\"#009af9\" fill-rule=\"evenodd\" fill-opacity=\"1\"/>\n",
       "<polyline clip-path=\"url(#clip672)\" style=\"stroke:#000000; stroke-linecap:round; stroke-linejoin:round; stroke-width:4; stroke-opacity:1; fill:none\" points=\"877.59,178.081 877.59,1486.45 1000.63,1486.45 1000.63,178.081 877.59,178.081 \"/>\n",
       "<path clip-path=\"url(#clip672)\" d=\"M1000.63 112.662 L1000.63 1486.45 L1123.68 1486.45 L1123.68 112.662 L1000.63 112.662 L1000.63 112.662  Z\" fill=\"#009af9\" fill-rule=\"evenodd\" fill-opacity=\"1\"/>\n",
       "<polyline clip-path=\"url(#clip672)\" style=\"stroke:#000000; stroke-linecap:round; stroke-linejoin:round; stroke-width:4; stroke-opacity:1; fill:none\" points=\"1000.63,112.662 1000.63,1486.45 1123.68,1486.45 1123.68,112.662 1000.63,112.662 \"/>\n",
       "<path clip-path=\"url(#clip672)\" d=\"M1123.68 178.081 L1123.68 1486.45 L1246.73 1486.45 L1246.73 178.081 L1123.68 178.081 L1123.68 178.081  Z\" fill=\"#009af9\" fill-rule=\"evenodd\" fill-opacity=\"1\"/>\n",
       "<polyline clip-path=\"url(#clip672)\" style=\"stroke:#000000; stroke-linecap:round; stroke-linejoin:round; stroke-width:4; stroke-opacity:1; fill:none\" points=\"1123.68,178.081 1123.68,1486.45 1246.73,1486.45 1246.73,178.081 1123.68,178.081 \"/>\n",
       "<path clip-path=\"url(#clip672)\" d=\"M1246.73 505.173 L1246.73 1486.45 L1369.77 1486.45 L1369.77 505.173 L1246.73 505.173 L1246.73 505.173  Z\" fill=\"#009af9\" fill-rule=\"evenodd\" fill-opacity=\"1\"/>\n",
       "<polyline clip-path=\"url(#clip672)\" style=\"stroke:#000000; stroke-linecap:round; stroke-linejoin:round; stroke-width:4; stroke-opacity:1; fill:none\" points=\"1246.73,505.173 1246.73,1486.45 1369.77,1486.45 1369.77,505.173 1246.73,505.173 \"/>\n",
       "<path clip-path=\"url(#clip672)\" d=\"M1369.77 570.591 L1369.77 1486.45 L1492.82 1486.45 L1492.82 570.591 L1369.77 570.591 L1369.77 570.591  Z\" fill=\"#009af9\" fill-rule=\"evenodd\" fill-opacity=\"1\"/>\n",
       "<polyline clip-path=\"url(#clip672)\" style=\"stroke:#000000; stroke-linecap:round; stroke-linejoin:round; stroke-width:4; stroke-opacity:1; fill:none\" points=\"1369.77,570.591 1369.77,1486.45 1492.82,1486.45 1492.82,570.591 1369.77,570.591 \"/>\n",
       "<path clip-path=\"url(#clip672)\" d=\"M1492.82 1028.52 L1492.82 1486.45 L1615.86 1486.45 L1615.86 1028.52 L1492.82 1028.52 L1492.82 1028.52  Z\" fill=\"#009af9\" fill-rule=\"evenodd\" fill-opacity=\"1\"/>\n",
       "<polyline clip-path=\"url(#clip672)\" style=\"stroke:#000000; stroke-linecap:round; stroke-linejoin:round; stroke-width:4; stroke-opacity:1; fill:none\" points=\"1492.82,1028.52 1492.82,1486.45 1615.86,1486.45 1615.86,1028.52 1492.82,1028.52 \"/>\n",
       "<path clip-path=\"url(#clip672)\" d=\"M1615.86 1224.77 L1615.86 1486.45 L1738.91 1486.45 L1738.91 1224.77 L1615.86 1224.77 L1615.86 1224.77  Z\" fill=\"#009af9\" fill-rule=\"evenodd\" fill-opacity=\"1\"/>\n",
       "<polyline clip-path=\"url(#clip672)\" style=\"stroke:#000000; stroke-linecap:round; stroke-linejoin:round; stroke-width:4; stroke-opacity:1; fill:none\" points=\"1615.86,1224.77 1615.86,1486.45 1738.91,1486.45 1738.91,1224.77 1615.86,1224.77 \"/>\n",
       "<path clip-path=\"url(#clip672)\" d=\"M1738.91 1355.61 L1738.91 1486.45 L1861.95 1486.45 L1861.95 1355.61 L1738.91 1355.61 L1738.91 1355.61  Z\" fill=\"#009af9\" fill-rule=\"evenodd\" fill-opacity=\"1\"/>\n",
       "<polyline clip-path=\"url(#clip672)\" style=\"stroke:#000000; stroke-linecap:round; stroke-linejoin:round; stroke-width:4; stroke-opacity:1; fill:none\" points=\"1738.91,1355.61 1738.91,1486.45 1861.95,1486.45 1861.95,1355.61 1738.91,1355.61 \"/>\n",
       "<path clip-path=\"url(#clip672)\" d=\"M1861.95 1290.19 L1861.95 1486.45 L1985 1486.45 L1985 1290.19 L1861.95 1290.19 L1861.95 1290.19  Z\" fill=\"#009af9\" fill-rule=\"evenodd\" fill-opacity=\"1\"/>\n",
       "<polyline clip-path=\"url(#clip672)\" style=\"stroke:#000000; stroke-linecap:round; stroke-linejoin:round; stroke-width:4; stroke-opacity:1; fill:none\" points=\"1861.95,1290.19 1861.95,1486.45 1985,1486.45 1985,1290.19 1861.95,1290.19 \"/>\n",
       "<path clip-path=\"url(#clip672)\" d=\"M1985 1421.03 L1985 1486.45 L2108.04 1486.45 L2108.04 1421.03 L1985 1421.03 L1985 1421.03  Z\" fill=\"#009af9\" fill-rule=\"evenodd\" fill-opacity=\"1\"/>\n",
       "<polyline clip-path=\"url(#clip672)\" style=\"stroke:#000000; stroke-linecap:round; stroke-linejoin:round; stroke-width:4; stroke-opacity:1; fill:none\" points=\"1985,1421.03 1985,1486.45 2108.04,1486.45 2108.04,1421.03 1985,1421.03 \"/>\n",
       "<path clip-path=\"url(#clip672)\" d=\"M2108.04 1421.03 L2108.04 1486.45 L2231.09 1486.45 L2231.09 1421.03 L2108.04 1421.03 L2108.04 1421.03  Z\" fill=\"#009af9\" fill-rule=\"evenodd\" fill-opacity=\"1\"/>\n",
       "<polyline clip-path=\"url(#clip672)\" style=\"stroke:#000000; stroke-linecap:round; stroke-linejoin:round; stroke-width:4; stroke-opacity:1; fill:none\" points=\"2108.04,1421.03 2108.04,1486.45 2231.09,1486.45 2231.09,1421.03 2108.04,1421.03 \"/>\n",
       "<circle clip-path=\"url(#clip672)\" style=\"fill:#009af9; stroke:none; fill-opacity:0\" cx=\"323.885\" cy=\"1159.36\" r=\"2\"/>\n",
       "<circle clip-path=\"url(#clip672)\" style=\"fill:#009af9; stroke:none; fill-opacity:0\" cx=\"446.931\" cy=\"636.009\" r=\"2\"/>\n",
       "<circle clip-path=\"url(#clip672)\" style=\"fill:#009af9; stroke:none; fill-opacity:0\" cx=\"569.976\" cy=\"636.009\" r=\"2\"/>\n",
       "<circle clip-path=\"url(#clip672)\" style=\"fill:#009af9; stroke:none; fill-opacity:0\" cx=\"693.022\" cy=\"243.499\" r=\"2\"/>\n",
       "<circle clip-path=\"url(#clip672)\" style=\"fill:#009af9; stroke:none; fill-opacity:0\" cx=\"816.067\" cy=\"47.2441\" r=\"2\"/>\n",
       "<circle clip-path=\"url(#clip672)\" style=\"fill:#009af9; stroke:none; fill-opacity:0\" cx=\"939.112\" cy=\"178.081\" r=\"2\"/>\n",
       "<circle clip-path=\"url(#clip672)\" style=\"fill:#009af9; stroke:none; fill-opacity:0\" cx=\"1062.16\" cy=\"112.662\" r=\"2\"/>\n",
       "<circle clip-path=\"url(#clip672)\" style=\"fill:#009af9; stroke:none; fill-opacity:0\" cx=\"1185.2\" cy=\"178.081\" r=\"2\"/>\n",
       "<circle clip-path=\"url(#clip672)\" style=\"fill:#009af9; stroke:none; fill-opacity:0\" cx=\"1308.25\" cy=\"505.173\" r=\"2\"/>\n",
       "<circle clip-path=\"url(#clip672)\" style=\"fill:#009af9; stroke:none; fill-opacity:0\" cx=\"1431.29\" cy=\"570.591\" r=\"2\"/>\n",
       "<circle clip-path=\"url(#clip672)\" style=\"fill:#009af9; stroke:none; fill-opacity:0\" cx=\"1554.34\" cy=\"1028.52\" r=\"2\"/>\n",
       "<circle clip-path=\"url(#clip672)\" style=\"fill:#009af9; stroke:none; fill-opacity:0\" cx=\"1677.38\" cy=\"1224.77\" r=\"2\"/>\n",
       "<circle clip-path=\"url(#clip672)\" style=\"fill:#009af9; stroke:none; fill-opacity:0\" cx=\"1800.43\" cy=\"1355.61\" r=\"2\"/>\n",
       "<circle clip-path=\"url(#clip672)\" style=\"fill:#009af9; stroke:none; fill-opacity:0\" cx=\"1923.48\" cy=\"1290.19\" r=\"2\"/>\n",
       "<circle clip-path=\"url(#clip672)\" style=\"fill:#009af9; stroke:none; fill-opacity:0\" cx=\"2046.52\" cy=\"1421.03\" r=\"2\"/>\n",
       "<circle clip-path=\"url(#clip672)\" style=\"fill:#009af9; stroke:none; fill-opacity:0\" cx=\"2169.57\" cy=\"1421.03\" r=\"2\"/>\n",
       "<path clip-path=\"url(#clip670)\" d=\"M2005.38 198.898 L2279.02 198.898 L2279.02 95.2176 L2005.38 95.2176  Z\" fill=\"#ffffff\" fill-rule=\"evenodd\" fill-opacity=\"1\"/>\n",
       "<polyline clip-path=\"url(#clip670)\" style=\"stroke:#000000; stroke-linecap:round; stroke-linejoin:round; stroke-width:4; stroke-opacity:1; fill:none\" points=\"2005.38,198.898 2279.02,198.898 2279.02,95.2176 2005.38,95.2176 2005.38,198.898 \"/>\n",
       "<path clip-path=\"url(#clip670)\" d=\"M2029.96 167.794 L2177.43 167.794 L2177.43 126.322 L2029.96 126.322 L2029.96 167.794  Z\" fill=\"#009af9\" fill-rule=\"evenodd\" fill-opacity=\"1\"/>\n",
       "<polyline clip-path=\"url(#clip670)\" style=\"stroke:#000000; stroke-linecap:round; stroke-linejoin:round; stroke-width:4; stroke-opacity:1; fill:none\" points=\"2029.96,167.794 2177.43,167.794 2177.43,126.322 2029.96,126.322 2029.96,167.794 \"/>\n",
       "<path clip-path=\"url(#clip670)\" d=\"M2215.85 166.745 Q2214.05 171.375 2212.34 172.787 Q2210.62 174.199 2207.75 174.199 L2204.35 174.199 L2204.35 170.634 L2206.85 170.634 Q2208.61 170.634 2209.58 169.8 Q2210.55 168.967 2211.73 165.865 L2212.5 163.921 L2202.01 138.412 L2206.53 138.412 L2214.63 158.689 L2222.73 138.412 L2227.24 138.412 L2215.85 166.745 Z\" fill=\"#000000\" fill-rule=\"nonzero\" fill-opacity=\"1\" /><path clip-path=\"url(#clip670)\" d=\"M2234.53 160.402 L2242.17 160.402 L2242.17 134.037 L2233.86 135.703 L2233.86 131.444 L2242.13 129.778 L2246.8 129.778 L2246.8 160.402 L2254.44 160.402 L2254.44 164.338 L2234.53 164.338 L2234.53 160.402 Z\" fill=\"#000000\" fill-rule=\"nonzero\" fill-opacity=\"1\" /></svg>\n"
      ]
     },
     "metadata": {},
     "output_type": "display_data"
    }
   ],
   "source": [
    "histogram(df_metrics.FDR_Rand, bins=20)"
   ]
  },
  {
   "cell_type": "code",
   "execution_count": 49,
   "metadata": {},
   "outputs": [
    {
     "data": {
      "image/png": "[encoded data removed]",
      "image/svg+xml": [
       "<?xml version=\"1.0\" encoding=\"utf-8\"?>\n",
       "<svg xmlns=\"http://www.w3.org/2000/svg\" xmlns:xlink=\"http://www.w3.org/1999/xlink\" width=\"600\" height=\"400\" viewBox=\"0 0 2400 1600\">\n",
       "<defs>\n",
       "  <clipPath id=\"clip710\">\n",
       "    <rect x=\"0\" y=\"0\" width=\"2400\" height=\"1600\"/>\n",
       "  </clipPath>\n",
       "</defs>\n",
       "<path clip-path=\"url(#clip710)\" d=\"M0 1600 L2400 1600 L2400 0 L0 0  Z\" fill=\"#ffffff\" fill-rule=\"evenodd\" fill-opacity=\"1\"/>\n",
       "<defs>\n",
       "  <clipPath id=\"clip711\">\n",
       "    <rect x=\"480\" y=\"0\" width=\"1681\" height=\"1600\"/>\n",
       "  </clipPath>\n",
       "</defs>\n",
       "<path clip-path=\"url(#clip710)\" d=\"M140.696 1486.45 L2352.76 1486.45 L2352.76 47.2441 L140.696 47.2441  Z\" fill=\"#ffffff\" fill-rule=\"evenodd\" fill-opacity=\"1\"/>\n",
       "<defs>\n",
       "  <clipPath id=\"clip712\">\n",
       "    <rect x=\"140\" y=\"47\" width=\"2213\" height=\"1440\"/>\n",
       "  </clipPath>\n",
       "</defs>\n",
       "<polyline clip-path=\"url(#clip712)\" style=\"stroke:#000000; stroke-linecap:round; stroke-linejoin:round; stroke-width:2; stroke-opacity:0.1; fill:none\" points=\"656.108,1486.45 656.108,47.2441 \"/>\n",
       "<polyline clip-path=\"url(#clip712)\" style=\"stroke:#000000; stroke-linecap:round; stroke-linejoin:round; stroke-width:2; stroke-opacity:0.1; fill:none\" points=\"1181.1,1486.45 1181.1,47.2441 \"/>\n",
       "<polyline clip-path=\"url(#clip712)\" style=\"stroke:#000000; stroke-linecap:round; stroke-linejoin:round; stroke-width:2; stroke-opacity:0.1; fill:none\" points=\"1706.1,1486.45 1706.1,47.2441 \"/>\n",
       "<polyline clip-path=\"url(#clip712)\" style=\"stroke:#000000; stroke-linecap:round; stroke-linejoin:round; stroke-width:2; stroke-opacity:0.1; fill:none\" points=\"2231.09,1486.45 2231.09,47.2441 \"/>\n",
       "<polyline clip-path=\"url(#clip710)\" style=\"stroke:#000000; stroke-linecap:round; stroke-linejoin:round; stroke-width:4; stroke-opacity:1; fill:none\" points=\"140.696,1486.45 2352.76,1486.45 \"/>\n",
       "<polyline clip-path=\"url(#clip710)\" style=\"stroke:#000000; stroke-linecap:round; stroke-linejoin:round; stroke-width:4; stroke-opacity:1; fill:none\" points=\"656.108,1486.45 656.108,1467.55 \"/>\n",
       "<polyline clip-path=\"url(#clip710)\" style=\"stroke:#000000; stroke-linecap:round; stroke-linejoin:round; stroke-width:4; stroke-opacity:1; fill:none\" points=\"1181.1,1486.45 1181.1,1467.55 \"/>\n",
       "<polyline clip-path=\"url(#clip710)\" style=\"stroke:#000000; stroke-linecap:round; stroke-linejoin:round; stroke-width:4; stroke-opacity:1; fill:none\" points=\"1706.1,1486.45 1706.1,1467.55 \"/>\n",
       "<polyline clip-path=\"url(#clip710)\" style=\"stroke:#000000; stroke-linecap:round; stroke-linejoin:round; stroke-width:4; stroke-opacity:1; fill:none\" points=\"2231.09,1486.45 2231.09,1467.55 \"/>\n",
       "<path clip-path=\"url(#clip710)\" d=\"M633.249 1517.37 Q629.638 1517.37 627.81 1520.93 Q626.004 1524.47 626.004 1531.6 Q626.004 1538.71 627.81 1542.27 Q629.638 1545.82 633.249 1545.82 Q636.884 1545.82 638.689 1542.27 Q640.518 1538.71 640.518 1531.6 Q640.518 1524.47 638.689 1520.93 Q636.884 1517.37 633.249 1517.37 M633.249 1513.66 Q639.059 1513.66 642.115 1518.27 Q645.194 1522.85 645.194 1531.6 Q645.194 1540.33 642.115 1544.94 Q639.059 1549.52 633.249 1549.52 Q627.439 1549.52 624.36 1544.94 Q621.305 1540.33 621.305 1531.6 Q621.305 1522.85 624.36 1518.27 Q627.439 1513.66 633.249 1513.66 Z\" fill=\"#000000\" fill-rule=\"nonzero\" fill-opacity=\"1\" /><path clip-path=\"url(#clip710)\" d=\"M653.411 1542.97 L658.295 1542.97 L658.295 1548.85 L653.411 1548.85 L653.411 1542.97 Z\" fill=\"#000000\" fill-rule=\"nonzero\" fill-opacity=\"1\" /><path clip-path=\"url(#clip710)\" d=\"M681.328 1518.36 L669.522 1536.81 L681.328 1536.81 L681.328 1518.36 M680.101 1514.29 L685.98 1514.29 L685.98 1536.81 L690.911 1536.81 L690.911 1540.7 L685.98 1540.7 L685.98 1548.85 L681.328 1548.85 L681.328 1540.7 L665.726 1540.7 L665.726 1536.19 L680.101 1514.29 Z\" fill=\"#000000\" fill-rule=\"nonzero\" fill-opacity=\"1\" /><path clip-path=\"url(#clip710)\" d=\"M1158.4 1517.37 Q1154.79 1517.37 1152.97 1520.93 Q1151.16 1524.47 1151.16 1531.6 Q1151.16 1538.71 1152.97 1542.27 Q1154.79 1545.82 1158.4 1545.82 Q1162.04 1545.82 1163.84 1542.27 Q1165.67 1538.71 1165.67 1531.6 Q1165.67 1524.47 1163.84 1520.93 Q1162.04 1517.37 1158.4 1517.37 M1158.4 1513.66 Q1164.22 1513.66 1167.27 1518.27 Q1170.35 1522.85 1170.35 1531.6 Q1170.35 1540.33 1167.27 1544.94 Q1164.22 1549.52 1158.4 1549.52 Q1152.59 1549.52 1149.52 1544.94 Q1146.46 1540.33 1146.46 1531.6 Q1146.46 1522.85 1149.52 1518.27 Q1152.59 1513.66 1158.4 1513.66 Z\" fill=\"#000000\" fill-rule=\"nonzero\" fill-opacity=\"1\" /><path clip-path=\"url(#clip710)\" d=\"M1178.57 1542.97 L1183.45 1542.97 L1183.45 1548.85 L1178.57 1548.85 L1178.57 1542.97 Z\" fill=\"#000000\" fill-rule=\"nonzero\" fill-opacity=\"1\" /><path clip-path=\"url(#clip710)\" d=\"M1204.21 1529.7 Q1201.07 1529.7 1199.21 1531.86 Q1197.39 1534.01 1197.39 1537.76 Q1197.39 1541.49 1199.21 1543.66 Q1201.07 1545.82 1204.21 1545.82 Q1207.36 1545.82 1209.19 1543.66 Q1211.04 1541.49 1211.04 1537.76 Q1211.04 1534.01 1209.19 1531.86 Q1207.36 1529.7 1204.21 1529.7 M1213.5 1515.05 L1213.5 1519.31 Q1211.74 1518.48 1209.93 1518.04 Q1208.15 1517.6 1206.39 1517.6 Q1201.76 1517.6 1199.31 1520.72 Q1196.88 1523.85 1196.53 1530.17 Q1197.9 1528.15 1199.96 1527.09 Q1202.02 1526 1204.49 1526 Q1209.7 1526 1212.71 1529.17 Q1215.74 1532.32 1215.74 1537.76 Q1215.74 1543.08 1212.59 1546.3 Q1209.45 1549.52 1204.21 1549.52 Q1198.22 1549.52 1195.05 1544.94 Q1191.88 1540.33 1191.88 1531.6 Q1191.88 1523.41 1195.77 1518.55 Q1199.65 1513.66 1206.21 1513.66 Q1207.96 1513.66 1209.75 1514.01 Q1211.55 1514.36 1213.5 1515.05 Z\" fill=\"#000000\" fill-rule=\"nonzero\" fill-opacity=\"1\" /><path clip-path=\"url(#clip710)\" d=\"M1683.53 1517.37 Q1679.91 1517.37 1678.09 1520.93 Q1676.28 1524.47 1676.28 1531.6 Q1676.28 1538.71 1678.09 1542.27 Q1679.91 1545.82 1683.53 1545.82 Q1687.16 1545.82 1688.97 1542.27 Q1690.79 1538.71 1690.79 1531.6 Q1690.79 1524.47 1688.97 1520.93 Q1687.16 1517.37 1683.53 1517.37 M1683.53 1513.66 Q1689.34 1513.66 1692.39 1518.27 Q1695.47 1522.85 1695.47 1531.6 Q1695.47 1540.33 1692.39 1544.94 Q1689.34 1549.52 1683.53 1549.52 Q1677.72 1549.52 1674.64 1544.94 Q1671.58 1540.33 1671.58 1531.6 Q1671.58 1522.85 1674.64 1518.27 Q1677.72 1513.66 1683.53 1513.66 Z\" fill=\"#000000\" fill-rule=\"nonzero\" fill-opacity=\"1\" /><path clip-path=\"url(#clip710)\" d=\"M1703.69 1542.97 L1708.57 1542.97 L1708.57 1548.85 L1703.69 1548.85 L1703.69 1542.97 Z\" fill=\"#000000\" fill-rule=\"nonzero\" fill-opacity=\"1\" /><path clip-path=\"url(#clip710)\" d=\"M1728.76 1532.44 Q1725.42 1532.44 1723.5 1534.22 Q1721.6 1536 1721.6 1539.13 Q1721.6 1542.25 1723.5 1544.03 Q1725.42 1545.82 1728.76 1545.82 Q1732.09 1545.82 1734.01 1544.03 Q1735.93 1542.23 1735.93 1539.13 Q1735.93 1536 1734.01 1534.22 Q1732.11 1532.44 1728.76 1532.44 M1724.08 1530.45 Q1721.07 1529.7 1719.38 1527.64 Q1717.72 1525.58 1717.72 1522.62 Q1717.72 1518.48 1720.66 1516.07 Q1723.62 1513.66 1728.76 1513.66 Q1733.92 1513.66 1736.86 1516.07 Q1739.8 1518.48 1739.8 1522.62 Q1739.8 1525.58 1738.11 1527.64 Q1736.44 1529.7 1733.46 1530.45 Q1736.84 1531.23 1738.71 1533.52 Q1740.61 1535.82 1740.61 1539.13 Q1740.61 1544.15 1737.53 1546.83 Q1734.47 1549.52 1728.76 1549.52 Q1723.04 1549.52 1719.96 1546.83 Q1716.91 1544.15 1716.91 1539.13 Q1716.91 1535.82 1718.8 1533.52 Q1720.7 1531.23 1724.08 1530.45 M1722.37 1523.06 Q1722.37 1525.75 1724.03 1527.25 Q1725.72 1528.76 1728.76 1528.76 Q1731.77 1528.76 1733.46 1527.25 Q1735.17 1525.75 1735.17 1523.06 Q1735.17 1520.38 1733.46 1518.87 Q1731.77 1517.37 1728.76 1517.37 Q1725.72 1517.37 1724.03 1518.87 Q1722.37 1520.38 1722.37 1523.06 Z\" fill=\"#000000\" fill-rule=\"nonzero\" fill-opacity=\"1\" /><path clip-path=\"url(#clip710)\" d=\"M2198.24 1544.91 L2205.88 1544.91 L2205.88 1518.55 L2197.57 1520.21 L2197.57 1515.95 L2205.83 1514.29 L2210.51 1514.29 L2210.51 1544.91 L2218.15 1544.91 L2218.15 1548.85 L2198.24 1548.85 L2198.24 1544.91 Z\" fill=\"#000000\" fill-rule=\"nonzero\" fill-opacity=\"1\" /><path clip-path=\"url(#clip710)\" d=\"M2227.59 1542.97 L2232.48 1542.97 L2232.48 1548.85 L2227.59 1548.85 L2227.59 1542.97 Z\" fill=\"#000000\" fill-rule=\"nonzero\" fill-opacity=\"1\" /><path clip-path=\"url(#clip710)\" d=\"M2252.66 1517.37 Q2249.05 1517.37 2247.22 1520.93 Q2245.42 1524.47 2245.42 1531.6 Q2245.42 1538.71 2247.22 1542.27 Q2249.05 1545.82 2252.66 1545.82 Q2256.3 1545.82 2258.1 1542.27 Q2259.93 1538.71 2259.93 1531.6 Q2259.93 1524.47 2258.1 1520.93 Q2256.3 1517.37 2252.66 1517.37 M2252.66 1513.66 Q2258.47 1513.66 2261.53 1518.27 Q2264.61 1522.85 2264.61 1531.6 Q2264.61 1540.33 2261.53 1544.94 Q2258.47 1549.52 2252.66 1549.52 Q2246.85 1549.52 2243.77 1544.94 Q2240.72 1540.33 2240.72 1531.6 Q2240.72 1522.85 2243.77 1518.27 Q2246.85 1513.66 2252.66 1513.66 Z\" fill=\"#000000\" fill-rule=\"nonzero\" fill-opacity=\"1\" /><polyline clip-path=\"url(#clip712)\" style=\"stroke:#000000; stroke-linecap:round; stroke-linejoin:round; stroke-width:2; stroke-opacity:0.1; fill:none\" points=\"140.696,1486.45 2352.76,1486.45 \"/>\n",
       "<polyline clip-path=\"url(#clip712)\" style=\"stroke:#000000; stroke-linecap:round; stroke-linejoin:round; stroke-width:2; stroke-opacity:0.1; fill:none\" points=\"140.696,1229.45 2352.76,1229.45 \"/>\n",
       "<polyline clip-path=\"url(#clip712)\" style=\"stroke:#000000; stroke-linecap:round; stroke-linejoin:round; stroke-width:2; stroke-opacity:0.1; fill:none\" points=\"140.696,972.447 2352.76,972.447 \"/>\n",
       "<polyline clip-path=\"url(#clip712)\" style=\"stroke:#000000; stroke-linecap:round; stroke-linejoin:round; stroke-width:2; stroke-opacity:0.1; fill:none\" points=\"140.696,715.446 2352.76,715.446 \"/>\n",
       "<polyline clip-path=\"url(#clip712)\" style=\"stroke:#000000; stroke-linecap:round; stroke-linejoin:round; stroke-width:2; stroke-opacity:0.1; fill:none\" points=\"140.696,458.445 2352.76,458.445 \"/>\n",
       "<polyline clip-path=\"url(#clip712)\" style=\"stroke:#000000; stroke-linecap:round; stroke-linejoin:round; stroke-width:2; stroke-opacity:0.1; fill:none\" points=\"140.696,201.444 2352.76,201.444 \"/>\n",
       "<polyline clip-path=\"url(#clip710)\" style=\"stroke:#000000; stroke-linecap:round; stroke-linejoin:round; stroke-width:4; stroke-opacity:1; fill:none\" points=\"140.696,1486.45 140.696,47.2441 \"/>\n",
       "<polyline clip-path=\"url(#clip710)\" style=\"stroke:#000000; stroke-linecap:round; stroke-linejoin:round; stroke-width:4; stroke-opacity:1; fill:none\" points=\"140.696,1486.45 159.593,1486.45 \"/>\n",
       "<polyline clip-path=\"url(#clip710)\" style=\"stroke:#000000; stroke-linecap:round; stroke-linejoin:round; stroke-width:4; stroke-opacity:1; fill:none\" points=\"140.696,1229.45 159.593,1229.45 \"/>\n",
       "<polyline clip-path=\"url(#clip710)\" style=\"stroke:#000000; stroke-linecap:round; stroke-linejoin:round; stroke-width:4; stroke-opacity:1; fill:none\" points=\"140.696,972.447 159.593,972.447 \"/>\n",
       "<polyline clip-path=\"url(#clip710)\" style=\"stroke:#000000; stroke-linecap:round; stroke-linejoin:round; stroke-width:4; stroke-opacity:1; fill:none\" points=\"140.696,715.446 159.593,715.446 \"/>\n",
       "<polyline clip-path=\"url(#clip710)\" style=\"stroke:#000000; stroke-linecap:round; stroke-linejoin:round; stroke-width:4; stroke-opacity:1; fill:none\" points=\"140.696,458.445 159.593,458.445 \"/>\n",
       "<polyline clip-path=\"url(#clip710)\" style=\"stroke:#000000; stroke-linecap:round; stroke-linejoin:round; stroke-width:4; stroke-opacity:1; fill:none\" points=\"140.696,201.444 159.593,201.444 \"/>\n",
       "<path clip-path=\"url(#clip710)\" d=\"M92.7512 1472.25 Q89.1401 1472.25 87.3114 1475.81 Q85.5058 1479.35 85.5058 1486.48 Q85.5058 1493.59 87.3114 1497.15 Q89.1401 1500.7 92.7512 1500.7 Q96.3854 1500.7 98.1909 1497.15 Q100.02 1493.59 100.02 1486.48 Q100.02 1479.35 98.1909 1475.81 Q96.3854 1472.25 92.7512 1472.25 M92.7512 1468.54 Q98.5613 1468.54 101.617 1473.15 Q104.696 1477.73 104.696 1486.48 Q104.696 1495.21 101.617 1499.82 Q98.5613 1504.4 92.7512 1504.4 Q86.941 1504.4 83.8623 1499.82 Q80.8068 1495.21 80.8068 1486.48 Q80.8068 1477.73 83.8623 1473.15 Q86.941 1468.54 92.7512 1468.54 Z\" fill=\"#000000\" fill-rule=\"nonzero\" fill-opacity=\"1\" /><path clip-path=\"url(#clip710)\" d=\"M83.7929 1212.17 L102.149 1212.17 L102.149 1216.1 L88.0753 1216.1 L88.0753 1224.57 Q89.0938 1224.23 90.1123 1224.07 Q91.1308 1223.88 92.1493 1223.88 Q97.9363 1223.88 101.316 1227.05 Q104.696 1230.22 104.696 1235.64 Q104.696 1241.22 101.223 1244.32 Q97.7511 1247.4 91.4317 1247.4 Q89.2558 1247.4 86.9873 1247.03 Q84.7419 1246.66 82.3346 1245.92 L82.3346 1241.22 Q84.4179 1242.35 86.6401 1242.91 Q88.8623 1243.46 91.3391 1243.46 Q95.3437 1243.46 97.6817 1241.36 Q100.02 1239.25 100.02 1235.64 Q100.02 1232.03 97.6817 1229.92 Q95.3437 1227.82 91.3391 1227.82 Q89.4641 1227.82 87.5892 1228.23 Q85.7373 1228.65 83.7929 1229.53 L83.7929 1212.17 Z\" fill=\"#000000\" fill-rule=\"nonzero\" fill-opacity=\"1\" /><path clip-path=\"url(#clip710)\" d=\"M53.3995 985.791 L61.0384 985.791 L61.0384 959.426 L52.7282 961.092 L52.7282 956.833 L60.9921 955.167 L65.668 955.167 L65.668 985.791 L73.3068 985.791 L73.3068 989.727 L53.3995 989.727 L53.3995 985.791 Z\" fill=\"#000000\" fill-rule=\"nonzero\" fill-opacity=\"1\" /><path clip-path=\"url(#clip710)\" d=\"M92.7512 958.245 Q89.1401 958.245 87.3114 961.81 Q85.5058 965.352 85.5058 972.481 Q85.5058 979.588 87.3114 983.152 Q89.1401 986.694 92.7512 986.694 Q96.3854 986.694 98.1909 983.152 Q100.02 979.588 100.02 972.481 Q100.02 965.352 98.1909 961.81 Q96.3854 958.245 92.7512 958.245 M92.7512 954.542 Q98.5613 954.542 101.617 959.148 Q104.696 963.731 104.696 972.481 Q104.696 981.208 101.617 985.815 Q98.5613 990.398 92.7512 990.398 Q86.941 990.398 83.8623 985.815 Q80.8068 981.208 80.8068 972.481 Q80.8068 963.731 83.8623 959.148 Q86.941 954.542 92.7512 954.542 Z\" fill=\"#000000\" fill-rule=\"nonzero\" fill-opacity=\"1\" /><path clip-path=\"url(#clip710)\" d=\"M54.3949 728.791 L62.0337 728.791 L62.0337 702.425 L53.7236 704.092 L53.7236 699.833 L61.9874 698.166 L66.6633 698.166 L66.6633 728.791 L74.3022 728.791 L74.3022 732.726 L54.3949 732.726 L54.3949 728.791 Z\" fill=\"#000000\" fill-rule=\"nonzero\" fill-opacity=\"1\" /><path clip-path=\"url(#clip710)\" d=\"M83.7929 698.166 L102.149 698.166 L102.149 702.101 L88.0753 702.101 L88.0753 710.573 Q89.0938 710.226 90.1123 710.064 Q91.1308 709.879 92.1493 709.879 Q97.9363 709.879 101.316 713.05 Q104.696 716.221 104.696 721.638 Q104.696 727.217 101.223 730.318 Q97.7511 733.397 91.4317 733.397 Q89.2558 733.397 86.9873 733.027 Q84.7419 732.656 82.3346 731.916 L82.3346 727.217 Q84.4179 728.351 86.6401 728.906 Q88.8623 729.462 91.3391 729.462 Q95.3437 729.462 97.6817 727.356 Q100.02 725.249 100.02 721.638 Q100.02 718.027 97.6817 715.92 Q95.3437 713.814 91.3391 713.814 Q89.4641 713.814 87.5892 714.231 Q85.7373 714.647 83.7929 715.527 L83.7929 698.166 Z\" fill=\"#000000\" fill-rule=\"nonzero\" fill-opacity=\"1\" /><path clip-path=\"url(#clip710)\" d=\"M56.6171 471.79 L72.9365 471.79 L72.9365 475.725 L50.9921 475.725 L50.9921 471.79 Q53.6541 469.035 58.2375 464.406 Q62.8439 459.753 64.0245 458.41 Q66.2698 455.887 67.1494 454.151 Q68.0522 452.392 68.0522 450.702 Q68.0522 447.948 66.1078 446.211 Q64.1865 444.475 61.0847 444.475 Q58.8856 444.475 56.4319 445.239 Q54.0014 446.003 51.2236 447.554 L51.2236 442.832 Q54.0477 441.698 56.5014 441.119 Q58.955 440.54 60.9921 440.54 Q66.3624 440.54 69.5568 443.225 Q72.7513 445.911 72.7513 450.401 Q72.7513 452.531 71.9411 454.452 Q71.1541 456.35 69.0476 458.943 Q68.4689 459.614 65.367 462.832 Q62.2652 466.026 56.6171 471.79 Z\" fill=\"#000000\" fill-rule=\"nonzero\" fill-opacity=\"1\" /><path clip-path=\"url(#clip710)\" d=\"M92.7512 444.244 Q89.1401 444.244 87.3114 447.809 Q85.5058 451.35 85.5058 458.48 Q85.5058 465.586 87.3114 469.151 Q89.1401 472.693 92.7512 472.693 Q96.3854 472.693 98.1909 469.151 Q100.02 465.586 100.02 458.48 Q100.02 451.35 98.1909 447.809 Q96.3854 444.244 92.7512 444.244 M92.7512 440.54 Q98.5613 440.54 101.617 445.147 Q104.696 449.73 104.696 458.48 Q104.696 467.207 101.617 471.813 Q98.5613 476.396 92.7512 476.396 Q86.941 476.396 83.8623 471.813 Q80.8068 467.207 80.8068 458.48 Q80.8068 449.73 83.8623 445.147 Q86.941 440.54 92.7512 440.54 Z\" fill=\"#000000\" fill-rule=\"nonzero\" fill-opacity=\"1\" /><path clip-path=\"url(#clip710)\" d=\"M57.6125 214.789 L73.9318 214.789 L73.9318 218.724 L51.9875 218.724 L51.9875 214.789 Q54.6495 212.035 59.2328 207.405 Q63.8393 202.752 65.0198 201.41 Q67.2652 198.887 68.1448 197.151 Q69.0476 195.391 69.0476 193.701 Q69.0476 190.947 67.1032 189.211 Q65.1819 187.475 62.08 187.475 Q59.881 187.475 57.4273 188.239 Q54.9967 189.002 52.219 190.553 L52.219 185.831 Q55.043 184.697 57.4967 184.118 Q59.9504 183.54 61.9874 183.54 Q67.3578 183.54 70.5522 186.225 Q73.7466 188.91 73.7466 193.401 Q73.7466 195.53 72.9365 197.451 Q72.1494 199.35 70.0429 201.942 Q69.4642 202.613 66.3624 205.831 Q63.2606 209.025 57.6125 214.789 Z\" fill=\"#000000\" fill-rule=\"nonzero\" fill-opacity=\"1\" /><path clip-path=\"url(#clip710)\" d=\"M83.7929 184.164 L102.149 184.164 L102.149 188.1 L88.0753 188.1 L88.0753 196.572 Q89.0938 196.225 90.1123 196.063 Q91.1308 195.877 92.1493 195.877 Q97.9363 195.877 101.316 199.049 Q104.696 202.22 104.696 207.637 Q104.696 213.215 101.223 216.317 Q97.7511 219.396 91.4317 219.396 Q89.2558 219.396 86.9873 219.025 Q84.7419 218.655 82.3346 217.914 L82.3346 213.215 Q84.4179 214.35 86.6401 214.905 Q88.8623 215.461 91.3391 215.461 Q95.3437 215.461 97.6817 213.354 Q100.02 211.248 100.02 207.637 Q100.02 204.026 97.6817 201.919 Q95.3437 199.813 91.3391 199.813 Q89.4641 199.813 87.5892 200.229 Q85.7373 200.646 83.7929 201.526 L83.7929 184.164 Z\" fill=\"#000000\" fill-rule=\"nonzero\" fill-opacity=\"1\" /><path clip-path=\"url(#clip712)\" d=\"M262.363 1280.85 L262.363 1486.45 L393.611 1486.45 L393.611 1280.85 L262.363 1280.85 L262.363 1280.85  Z\" fill=\"#009af9\" fill-rule=\"evenodd\" fill-opacity=\"1\"/>\n",
       "<polyline clip-path=\"url(#clip712)\" style=\"stroke:#000000; stroke-linecap:round; stroke-linejoin:round; stroke-width:4; stroke-opacity:1; fill:none\" points=\"262.363,1280.85 262.363,1486.45 393.611,1486.45 393.611,1280.85 262.363,1280.85 \"/>\n",
       "<path clip-path=\"url(#clip712)\" d=\"M393.611 1178.05 L393.611 1486.45 L524.86 1486.45 L524.86 1178.05 L393.611 1178.05 L393.611 1178.05  Z\" fill=\"#009af9\" fill-rule=\"evenodd\" fill-opacity=\"1\"/>\n",
       "<polyline clip-path=\"url(#clip712)\" style=\"stroke:#000000; stroke-linecap:round; stroke-linejoin:round; stroke-width:4; stroke-opacity:1; fill:none\" points=\"393.611,1178.05 393.611,1486.45 524.86,1486.45 524.86,1178.05 393.611,1178.05 \"/>\n",
       "<path clip-path=\"url(#clip712)\" d=\"M524.86 150.044 L524.86 1486.45 L656.108 1486.45 L656.108 150.044 L524.86 150.044 L524.86 150.044  Z\" fill=\"#009af9\" fill-rule=\"evenodd\" fill-opacity=\"1\"/>\n",
       "<polyline clip-path=\"url(#clip712)\" style=\"stroke:#000000; stroke-linecap:round; stroke-linejoin:round; stroke-width:4; stroke-opacity:1; fill:none\" points=\"524.86,150.044 524.86,1486.45 656.108,1486.45 656.108,150.044 524.86,150.044 \"/>\n",
       "<path clip-path=\"url(#clip712)\" d=\"M656.108 150.044 L656.108 1486.45 L787.356 1486.45 L787.356 150.044 L656.108 150.044 L656.108 150.044  Z\" fill=\"#009af9\" fill-rule=\"evenodd\" fill-opacity=\"1\"/>\n",
       "<polyline clip-path=\"url(#clip712)\" style=\"stroke:#000000; stroke-linecap:round; stroke-linejoin:round; stroke-width:4; stroke-opacity:1; fill:none\" points=\"656.108,150.044 656.108,1486.45 787.356,1486.45 787.356,150.044 656.108,150.044 \"/>\n",
       "<path clip-path=\"url(#clip712)\" d=\"M787.356 715.446 L787.356 1486.45 L918.605 1486.45 L918.605 715.446 L787.356 715.446 L787.356 715.446  Z\" fill=\"#009af9\" fill-rule=\"evenodd\" fill-opacity=\"1\"/>\n",
       "<polyline clip-path=\"url(#clip712)\" style=\"stroke:#000000; stroke-linecap:round; stroke-linejoin:round; stroke-width:4; stroke-opacity:1; fill:none\" points=\"787.356,715.446 787.356,1486.45 918.605,1486.45 918.605,715.446 787.356,715.446 \"/>\n",
       "<path clip-path=\"url(#clip712)\" d=\"M918.605 1229.45 L918.605 1486.45 L1049.85 1486.45 L1049.85 1229.45 L918.605 1229.45 L918.605 1229.45  Z\" fill=\"#009af9\" fill-rule=\"evenodd\" fill-opacity=\"1\"/>\n",
       "<polyline clip-path=\"url(#clip712)\" style=\"stroke:#000000; stroke-linecap:round; stroke-linejoin:round; stroke-width:4; stroke-opacity:1; fill:none\" points=\"918.605,1229.45 918.605,1486.45 1049.85,1486.45 1049.85,1229.45 918.605,1229.45 \"/>\n",
       "<path clip-path=\"url(#clip712)\" d=\"M1049.85 818.246 L1049.85 1486.45 L1181.1 1486.45 L1181.1 818.246 L1049.85 818.246 L1049.85 818.246  Z\" fill=\"#009af9\" fill-rule=\"evenodd\" fill-opacity=\"1\"/>\n",
       "<polyline clip-path=\"url(#clip712)\" style=\"stroke:#000000; stroke-linecap:round; stroke-linejoin:round; stroke-width:4; stroke-opacity:1; fill:none\" points=\"1049.85,818.246 1049.85,1486.45 1181.1,1486.45 1181.1,818.246 1049.85,818.246 \"/>\n",
       "<path clip-path=\"url(#clip712)\" d=\"M1181.1 1023.85 L1181.1 1486.45 L1312.35 1486.45 L1312.35 1023.85 L1181.1 1023.85 L1181.1 1023.85  Z\" fill=\"#009af9\" fill-rule=\"evenodd\" fill-opacity=\"1\"/>\n",
       "<polyline clip-path=\"url(#clip712)\" style=\"stroke:#000000; stroke-linecap:round; stroke-linejoin:round; stroke-width:4; stroke-opacity:1; fill:none\" points=\"1181.1,1023.85 1181.1,1486.45 1312.35,1486.45 1312.35,1023.85 1181.1,1023.85 \"/>\n",
       "<path clip-path=\"url(#clip712)\" d=\"M1312.35 869.646 L1312.35 1486.45 L1443.6 1486.45 L1443.6 869.646 L1312.35 869.646 L1312.35 869.646  Z\" fill=\"#009af9\" fill-rule=\"evenodd\" fill-opacity=\"1\"/>\n",
       "<polyline clip-path=\"url(#clip712)\" style=\"stroke:#000000; stroke-linecap:round; stroke-linejoin:round; stroke-width:4; stroke-opacity:1; fill:none\" points=\"1312.35,869.646 1312.35,1486.45 1443.6,1486.45 1443.6,869.646 1312.35,869.646 \"/>\n",
       "<path clip-path=\"url(#clip712)\" d=\"M1443.6 1280.85 L1443.6 1486.45 L1574.85 1486.45 L1574.85 1280.85 L1443.6 1280.85 L1443.6 1280.85  Z\" fill=\"#009af9\" fill-rule=\"evenodd\" fill-opacity=\"1\"/>\n",
       "<polyline clip-path=\"url(#clip712)\" style=\"stroke:#000000; stroke-linecap:round; stroke-linejoin:round; stroke-width:4; stroke-opacity:1; fill:none\" points=\"1443.6,1280.85 1443.6,1486.45 1574.85,1486.45 1574.85,1280.85 1443.6,1280.85 \"/>\n",
       "<path clip-path=\"url(#clip712)\" d=\"M1574.85 1435.05 L1574.85 1486.45 L1706.1 1486.45 L1706.1 1435.05 L1574.85 1435.05 L1574.85 1435.05  Z\" fill=\"#009af9\" fill-rule=\"evenodd\" fill-opacity=\"1\"/>\n",
       "<polyline clip-path=\"url(#clip712)\" style=\"stroke:#000000; stroke-linecap:round; stroke-linejoin:round; stroke-width:4; stroke-opacity:1; fill:none\" points=\"1574.85,1435.05 1574.85,1486.45 1706.1,1486.45 1706.1,1435.05 1574.85,1435.05 \"/>\n",
       "<path clip-path=\"url(#clip712)\" d=\"M1706.1 1075.25 L1706.1 1486.45 L1837.34 1486.45 L1837.34 1075.25 L1706.1 1075.25 L1706.1 1075.25  Z\" fill=\"#009af9\" fill-rule=\"evenodd\" fill-opacity=\"1\"/>\n",
       "<polyline clip-path=\"url(#clip712)\" style=\"stroke:#000000; stroke-linecap:round; stroke-linejoin:round; stroke-width:4; stroke-opacity:1; fill:none\" points=\"1706.1,1075.25 1706.1,1486.45 1837.34,1486.45 1837.34,1075.25 1706.1,1075.25 \"/>\n",
       "<path clip-path=\"url(#clip712)\" d=\"M1837.34 304.245 L1837.34 1486.45 L1968.59 1486.45 L1968.59 304.245 L1837.34 304.245 L1837.34 304.245  Z\" fill=\"#009af9\" fill-rule=\"evenodd\" fill-opacity=\"1\"/>\n",
       "<polyline clip-path=\"url(#clip712)\" style=\"stroke:#000000; stroke-linecap:round; stroke-linejoin:round; stroke-width:4; stroke-opacity:1; fill:none\" points=\"1837.34,304.245 1837.34,1486.45 1968.59,1486.45 1968.59,304.245 1837.34,304.245 \"/>\n",
       "<path clip-path=\"url(#clip712)\" d=\"M1968.59 47.2441 L1968.59 1486.45 L2099.84 1486.45 L2099.84 47.2441 L1968.59 47.2441 L1968.59 47.2441  Z\" fill=\"#009af9\" fill-rule=\"evenodd\" fill-opacity=\"1\"/>\n",
       "<polyline clip-path=\"url(#clip712)\" style=\"stroke:#000000; stroke-linecap:round; stroke-linejoin:round; stroke-width:4; stroke-opacity:1; fill:none\" points=\"1968.59,47.2441 1968.59,1486.45 2099.84,1486.45 2099.84,47.2441 1968.59,47.2441 \"/>\n",
       "<path clip-path=\"url(#clip712)\" d=\"M2099.84 1486.45 L2099.84 1486.45 L2231.09 1486.45 L2231.09 1486.45 L2099.84 1486.45 L2099.84 1486.45  Z\" fill=\"#009af9\" fill-rule=\"evenodd\" fill-opacity=\"1\"/>\n",
       "<polyline clip-path=\"url(#clip712)\" style=\"stroke:#000000; stroke-linecap:round; stroke-linejoin:round; stroke-width:4; stroke-opacity:1; fill:none\" points=\"2099.84,1486.45 2099.84,1486.45 2231.09,1486.45 2099.84,1486.45 \"/>\n",
       "<circle clip-path=\"url(#clip712)\" style=\"fill:#009af9; stroke:none; fill-opacity:0\" cx=\"327.987\" cy=\"1280.85\" r=\"2\"/>\n",
       "<circle clip-path=\"url(#clip712)\" style=\"fill:#009af9; stroke:none; fill-opacity:0\" cx=\"459.235\" cy=\"1178.05\" r=\"2\"/>\n",
       "<circle clip-path=\"url(#clip712)\" style=\"fill:#009af9; stroke:none; fill-opacity:0\" cx=\"590.484\" cy=\"150.044\" r=\"2\"/>\n",
       "<circle clip-path=\"url(#clip712)\" style=\"fill:#009af9; stroke:none; fill-opacity:0\" cx=\"721.732\" cy=\"150.044\" r=\"2\"/>\n",
       "<circle clip-path=\"url(#clip712)\" style=\"fill:#009af9; stroke:none; fill-opacity:0\" cx=\"852.981\" cy=\"715.446\" r=\"2\"/>\n",
       "<circle clip-path=\"url(#clip712)\" style=\"fill:#009af9; stroke:none; fill-opacity:0\" cx=\"984.229\" cy=\"1229.45\" r=\"2\"/>\n",
       "<circle clip-path=\"url(#clip712)\" style=\"fill:#009af9; stroke:none; fill-opacity:0\" cx=\"1115.48\" cy=\"818.246\" r=\"2\"/>\n",
       "<circle clip-path=\"url(#clip712)\" style=\"fill:#009af9; stroke:none; fill-opacity:0\" cx=\"1246.73\" cy=\"1023.85\" r=\"2\"/>\n",
       "<circle clip-path=\"url(#clip712)\" style=\"fill:#009af9; stroke:none; fill-opacity:0\" cx=\"1377.97\" cy=\"869.646\" r=\"2\"/>\n",
       "<circle clip-path=\"url(#clip712)\" style=\"fill:#009af9; stroke:none; fill-opacity:0\" cx=\"1509.22\" cy=\"1280.85\" r=\"2\"/>\n",
       "<circle clip-path=\"url(#clip712)\" style=\"fill:#009af9; stroke:none; fill-opacity:0\" cx=\"1640.47\" cy=\"1435.05\" r=\"2\"/>\n",
       "<circle clip-path=\"url(#clip712)\" style=\"fill:#009af9; stroke:none; fill-opacity:0\" cx=\"1771.72\" cy=\"1075.25\" r=\"2\"/>\n",
       "<circle clip-path=\"url(#clip712)\" style=\"fill:#009af9; stroke:none; fill-opacity:0\" cx=\"1902.97\" cy=\"304.245\" r=\"2\"/>\n",
       "<circle clip-path=\"url(#clip712)\" style=\"fill:#009af9; stroke:none; fill-opacity:0\" cx=\"2034.22\" cy=\"47.2441\" r=\"2\"/>\n",
       "<circle clip-path=\"url(#clip712)\" style=\"fill:#009af9; stroke:none; fill-opacity:0\" cx=\"2165.46\" cy=\"1486.45\" r=\"2\"/>\n",
       "<path clip-path=\"url(#clip710)\" d=\"M214.431 198.898 L488.067 198.898 L488.067 95.2176 L214.431 95.2176  Z\" fill=\"#ffffff\" fill-rule=\"evenodd\" fill-opacity=\"1\"/>\n",
       "<polyline clip-path=\"url(#clip710)\" style=\"stroke:#000000; stroke-linecap:round; stroke-linejoin:round; stroke-width:4; stroke-opacity:1; fill:none\" points=\"214.431,198.898 488.067,198.898 488.067,95.2176 214.431,95.2176 214.431,198.898 \"/>\n",
       "<path clip-path=\"url(#clip710)\" d=\"M239.009 167.794 L386.48 167.794 L386.48 126.322 L239.009 126.322 L239.009 167.794  Z\" fill=\"#009af9\" fill-rule=\"evenodd\" fill-opacity=\"1\"/>\n",
       "<polyline clip-path=\"url(#clip710)\" style=\"stroke:#000000; stroke-linecap:round; stroke-linejoin:round; stroke-width:4; stroke-opacity:1; fill:none\" points=\"239.009,167.794 386.48,167.794 386.48,126.322 239.009,126.322 239.009,167.794 \"/>\n",
       "<path clip-path=\"url(#clip710)\" d=\"M424.901 166.745 Q423.095 171.375 421.382 172.787 Q419.67 174.199 416.799 174.199 L413.396 174.199 L413.396 170.634 L415.896 170.634 Q417.656 170.634 418.628 169.8 Q419.6 168.967 420.781 165.865 L421.545 163.921 L411.058 138.412 L415.572 138.412 L423.674 158.689 L431.776 138.412 L436.29 138.412 L424.901 166.745 Z\" fill=\"#000000\" fill-rule=\"nonzero\" fill-opacity=\"1\" /><path clip-path=\"url(#clip710)\" d=\"M443.581 160.402 L451.22 160.402 L451.22 134.037 L442.91 135.703 L442.91 131.444 L451.174 129.778 L455.85 129.778 L455.85 160.402 L463.489 160.402 L463.489 164.338 L443.581 164.338 L443.581 160.402 Z\" fill=\"#000000\" fill-rule=\"nonzero\" fill-opacity=\"1\" /></svg>\n"
      ],
      "text/html": [
       "<?xml version=\"1.0\" encoding=\"utf-8\"?>\n",
       "<svg xmlns=\"http://www.w3.org/2000/svg\" xmlns:xlink=\"http://www.w3.org/1999/xlink\" width=\"600\" height=\"400\" viewBox=\"0 0 2400 1600\">\n",
       "<defs>\n",
       "  <clipPath id=\"clip760\">\n",
       "    <rect x=\"0\" y=\"0\" width=\"2400\" height=\"1600\"/>\n",
       "  </clipPath>\n",
       "</defs>\n",
       "<path clip-path=\"url(#clip760)\" d=\"M0 1600 L2400 1600 L2400 0 L0 0  Z\" fill=\"#ffffff\" fill-rule=\"evenodd\" fill-opacity=\"1\"/>\n",
       "<defs>\n",
       "  <clipPath id=\"clip761\">\n",
       "    <rect x=\"480\" y=\"0\" width=\"1681\" height=\"1600\"/>\n",
       "  </clipPath>\n",
       "</defs>\n",
       "<path clip-path=\"url(#clip760)\" d=\"M140.696 1486.45 L2352.76 1486.45 L2352.76 47.2441 L140.696 47.2441  Z\" fill=\"#ffffff\" fill-rule=\"evenodd\" fill-opacity=\"1\"/>\n",
       "<defs>\n",
       "  <clipPath id=\"clip762\">\n",
       "    <rect x=\"140\" y=\"47\" width=\"2213\" height=\"1440\"/>\n",
       "  </clipPath>\n",
       "</defs>\n",
       "<polyline clip-path=\"url(#clip762)\" style=\"stroke:#000000; stroke-linecap:round; stroke-linejoin:round; stroke-width:2; stroke-opacity:0.1; fill:none\" points=\"656.108,1486.45 656.108,47.2441 \"/>\n",
       "<polyline clip-path=\"url(#clip762)\" style=\"stroke:#000000; stroke-linecap:round; stroke-linejoin:round; stroke-width:2; stroke-opacity:0.1; fill:none\" points=\"1181.1,1486.45 1181.1,47.2441 \"/>\n",
       "<polyline clip-path=\"url(#clip762)\" style=\"stroke:#000000; stroke-linecap:round; stroke-linejoin:round; stroke-width:2; stroke-opacity:0.1; fill:none\" points=\"1706.1,1486.45 1706.1,47.2441 \"/>\n",
       "<polyline clip-path=\"url(#clip762)\" style=\"stroke:#000000; stroke-linecap:round; stroke-linejoin:round; stroke-width:2; stroke-opacity:0.1; fill:none\" points=\"2231.09,1486.45 2231.09,47.2441 \"/>\n",
       "<polyline clip-path=\"url(#clip760)\" style=\"stroke:#000000; stroke-linecap:round; stroke-linejoin:round; stroke-width:4; stroke-opacity:1; fill:none\" points=\"140.696,1486.45 2352.76,1486.45 \"/>\n",
       "<polyline clip-path=\"url(#clip760)\" style=\"stroke:#000000; stroke-linecap:round; stroke-linejoin:round; stroke-width:4; stroke-opacity:1; fill:none\" points=\"656.108,1486.45 656.108,1467.55 \"/>\n",
       "<polyline clip-path=\"url(#clip760)\" style=\"stroke:#000000; stroke-linecap:round; stroke-linejoin:round; stroke-width:4; stroke-opacity:1; fill:none\" points=\"1181.1,1486.45 1181.1,1467.55 \"/>\n",
       "<polyline clip-path=\"url(#clip760)\" style=\"stroke:#000000; stroke-linecap:round; stroke-linejoin:round; stroke-width:4; stroke-opacity:1; fill:none\" points=\"1706.1,1486.45 1706.1,1467.55 \"/>\n",
       "<polyline clip-path=\"url(#clip760)\" style=\"stroke:#000000; stroke-linecap:round; stroke-linejoin:round; stroke-width:4; stroke-opacity:1; fill:none\" points=\"2231.09,1486.45 2231.09,1467.55 \"/>\n",
       "<path clip-path=\"url(#clip760)\" d=\"M633.249 1517.37 Q629.638 1517.37 627.81 1520.93 Q626.004 1524.47 626.004 1531.6 Q626.004 1538.71 627.81 1542.27 Q629.638 1545.82 633.249 1545.82 Q636.884 1545.82 638.689 1542.27 Q640.518 1538.71 640.518 1531.6 Q640.518 1524.47 638.689 1520.93 Q636.884 1517.37 633.249 1517.37 M633.249 1513.66 Q639.059 1513.66 642.115 1518.27 Q645.194 1522.85 645.194 1531.6 Q645.194 1540.33 642.115 1544.94 Q639.059 1549.52 633.249 1549.52 Q627.439 1549.52 624.36 1544.94 Q621.305 1540.33 621.305 1531.6 Q621.305 1522.85 624.36 1518.27 Q627.439 1513.66 633.249 1513.66 Z\" fill=\"#000000\" fill-rule=\"nonzero\" fill-opacity=\"1\" /><path clip-path=\"url(#clip760)\" d=\"M653.411 1542.97 L658.295 1542.97 L658.295 1548.85 L653.411 1548.85 L653.411 1542.97 Z\" fill=\"#000000\" fill-rule=\"nonzero\" fill-opacity=\"1\" /><path clip-path=\"url(#clip760)\" d=\"M681.328 1518.36 L669.522 1536.81 L681.328 1536.81 L681.328 1518.36 M680.101 1514.29 L685.98 1514.29 L685.98 1536.81 L690.911 1536.81 L690.911 1540.7 L685.98 1540.7 L685.98 1548.85 L681.328 1548.85 L681.328 1540.7 L665.726 1540.7 L665.726 1536.19 L680.101 1514.29 Z\" fill=\"#000000\" fill-rule=\"nonzero\" fill-opacity=\"1\" /><path clip-path=\"url(#clip760)\" d=\"M1158.4 1517.37 Q1154.79 1517.37 1152.97 1520.93 Q1151.16 1524.47 1151.16 1531.6 Q1151.16 1538.71 1152.97 1542.27 Q1154.79 1545.82 1158.4 1545.82 Q1162.04 1545.82 1163.84 1542.27 Q1165.67 1538.71 1165.67 1531.6 Q1165.67 1524.47 1163.84 1520.93 Q1162.04 1517.37 1158.4 1517.37 M1158.4 1513.66 Q1164.22 1513.66 1167.27 1518.27 Q1170.35 1522.85 1170.35 1531.6 Q1170.35 1540.33 1167.27 1544.94 Q1164.22 1549.52 1158.4 1549.52 Q1152.59 1549.52 1149.52 1544.94 Q1146.46 1540.33 1146.46 1531.6 Q1146.46 1522.85 1149.52 1518.27 Q1152.59 1513.66 1158.4 1513.66 Z\" fill=\"#000000\" fill-rule=\"nonzero\" fill-opacity=\"1\" /><path clip-path=\"url(#clip760)\" d=\"M1178.57 1542.97 L1183.45 1542.97 L1183.45 1548.85 L1178.57 1548.85 L1178.57 1542.97 Z\" fill=\"#000000\" fill-rule=\"nonzero\" fill-opacity=\"1\" /><path clip-path=\"url(#clip760)\" d=\"M1204.21 1529.7 Q1201.07 1529.7 1199.21 1531.86 Q1197.39 1534.01 1197.39 1537.76 Q1197.39 1541.49 1199.21 1543.66 Q1201.07 1545.82 1204.21 1545.82 Q1207.36 1545.82 1209.19 1543.66 Q1211.04 1541.49 1211.04 1537.76 Q1211.04 1534.01 1209.19 1531.86 Q1207.36 1529.7 1204.21 1529.7 M1213.5 1515.05 L1213.5 1519.31 Q1211.74 1518.48 1209.93 1518.04 Q1208.15 1517.6 1206.39 1517.6 Q1201.76 1517.6 1199.31 1520.72 Q1196.88 1523.85 1196.53 1530.17 Q1197.9 1528.15 1199.96 1527.09 Q1202.02 1526 1204.49 1526 Q1209.7 1526 1212.71 1529.17 Q1215.74 1532.32 1215.74 1537.76 Q1215.74 1543.08 1212.59 1546.3 Q1209.45 1549.52 1204.21 1549.52 Q1198.22 1549.52 1195.05 1544.94 Q1191.88 1540.33 1191.88 1531.6 Q1191.88 1523.41 1195.77 1518.55 Q1199.65 1513.66 1206.21 1513.66 Q1207.96 1513.66 1209.75 1514.01 Q1211.55 1514.36 1213.5 1515.05 Z\" fill=\"#000000\" fill-rule=\"nonzero\" fill-opacity=\"1\" /><path clip-path=\"url(#clip760)\" d=\"M1683.53 1517.37 Q1679.91 1517.37 1678.09 1520.93 Q1676.28 1524.47 1676.28 1531.6 Q1676.28 1538.71 1678.09 1542.27 Q1679.91 1545.82 1683.53 1545.82 Q1687.16 1545.82 1688.97 1542.27 Q1690.79 1538.71 1690.79 1531.6 Q1690.79 1524.47 1688.97 1520.93 Q1687.16 1517.37 1683.53 1517.37 M1683.53 1513.66 Q1689.34 1513.66 1692.39 1518.27 Q1695.47 1522.85 1695.47 1531.6 Q1695.47 1540.33 1692.39 1544.94 Q1689.34 1549.52 1683.53 1549.52 Q1677.72 1549.52 1674.64 1544.94 Q1671.58 1540.33 1671.58 1531.6 Q1671.58 1522.85 1674.64 1518.27 Q1677.72 1513.66 1683.53 1513.66 Z\" fill=\"#000000\" fill-rule=\"nonzero\" fill-opacity=\"1\" /><path clip-path=\"url(#clip760)\" d=\"M1703.69 1542.97 L1708.57 1542.97 L1708.57 1548.85 L1703.69 1548.85 L1703.69 1542.97 Z\" fill=\"#000000\" fill-rule=\"nonzero\" fill-opacity=\"1\" /><path clip-path=\"url(#clip760)\" d=\"M1728.76 1532.44 Q1725.42 1532.44 1723.5 1534.22 Q1721.6 1536 1721.6 1539.13 Q1721.6 1542.25 1723.5 1544.03 Q1725.42 1545.82 1728.76 1545.82 Q1732.09 1545.82 1734.01 1544.03 Q1735.93 1542.23 1735.93 1539.13 Q1735.93 1536 1734.01 1534.22 Q1732.11 1532.44 1728.76 1532.44 M1724.08 1530.45 Q1721.07 1529.7 1719.38 1527.64 Q1717.72 1525.58 1717.72 1522.62 Q1717.72 1518.48 1720.66 1516.07 Q1723.62 1513.66 1728.76 1513.66 Q1733.92 1513.66 1736.86 1516.07 Q1739.8 1518.48 1739.8 1522.62 Q1739.8 1525.58 1738.11 1527.64 Q1736.44 1529.7 1733.46 1530.45 Q1736.84 1531.23 1738.71 1533.52 Q1740.61 1535.82 1740.61 1539.13 Q1740.61 1544.15 1737.53 1546.83 Q1734.47 1549.52 1728.76 1549.52 Q1723.04 1549.52 1719.96 1546.83 Q1716.91 1544.15 1716.91 1539.13 Q1716.91 1535.82 1718.8 1533.52 Q1720.7 1531.23 1724.08 1530.45 M1722.37 1523.06 Q1722.37 1525.75 1724.03 1527.25 Q1725.72 1528.76 1728.76 1528.76 Q1731.77 1528.76 1733.46 1527.25 Q1735.17 1525.75 1735.17 1523.06 Q1735.17 1520.38 1733.46 1518.87 Q1731.77 1517.37 1728.76 1517.37 Q1725.72 1517.37 1724.03 1518.87 Q1722.37 1520.38 1722.37 1523.06 Z\" fill=\"#000000\" fill-rule=\"nonzero\" fill-opacity=\"1\" /><path clip-path=\"url(#clip760)\" d=\"M2198.24 1544.91 L2205.88 1544.91 L2205.88 1518.55 L2197.57 1520.21 L2197.57 1515.95 L2205.83 1514.29 L2210.51 1514.29 L2210.51 1544.91 L2218.15 1544.91 L2218.15 1548.85 L2198.24 1548.85 L2198.24 1544.91 Z\" fill=\"#000000\" fill-rule=\"nonzero\" fill-opacity=\"1\" /><path clip-path=\"url(#clip760)\" d=\"M2227.59 1542.97 L2232.48 1542.97 L2232.48 1548.85 L2227.59 1548.85 L2227.59 1542.97 Z\" fill=\"#000000\" fill-rule=\"nonzero\" fill-opacity=\"1\" /><path clip-path=\"url(#clip760)\" d=\"M2252.66 1517.37 Q2249.05 1517.37 2247.22 1520.93 Q2245.42 1524.47 2245.42 1531.6 Q2245.42 1538.71 2247.22 1542.27 Q2249.05 1545.82 2252.66 1545.82 Q2256.3 1545.82 2258.1 1542.27 Q2259.93 1538.71 2259.93 1531.6 Q2259.93 1524.47 2258.1 1520.93 Q2256.3 1517.37 2252.66 1517.37 M2252.66 1513.66 Q2258.47 1513.66 2261.53 1518.27 Q2264.61 1522.85 2264.61 1531.6 Q2264.61 1540.33 2261.53 1544.94 Q2258.47 1549.52 2252.66 1549.52 Q2246.85 1549.52 2243.77 1544.94 Q2240.72 1540.33 2240.72 1531.6 Q2240.72 1522.85 2243.77 1518.27 Q2246.85 1513.66 2252.66 1513.66 Z\" fill=\"#000000\" fill-rule=\"nonzero\" fill-opacity=\"1\" /><polyline clip-path=\"url(#clip762)\" style=\"stroke:#000000; stroke-linecap:round; stroke-linejoin:round; stroke-width:2; stroke-opacity:0.1; fill:none\" points=\"140.696,1486.45 2352.76,1486.45 \"/>\n",
       "<polyline clip-path=\"url(#clip762)\" style=\"stroke:#000000; stroke-linecap:round; stroke-linejoin:round; stroke-width:2; stroke-opacity:0.1; fill:none\" points=\"140.696,1229.45 2352.76,1229.45 \"/>\n",
       "<polyline clip-path=\"url(#clip762)\" style=\"stroke:#000000; stroke-linecap:round; stroke-linejoin:round; stroke-width:2; stroke-opacity:0.1; fill:none\" points=\"140.696,972.447 2352.76,972.447 \"/>\n",
       "<polyline clip-path=\"url(#clip762)\" style=\"stroke:#000000; stroke-linecap:round; stroke-linejoin:round; stroke-width:2; stroke-opacity:0.1; fill:none\" points=\"140.696,715.446 2352.76,715.446 \"/>\n",
       "<polyline clip-path=\"url(#clip762)\" style=\"stroke:#000000; stroke-linecap:round; stroke-linejoin:round; stroke-width:2; stroke-opacity:0.1; fill:none\" points=\"140.696,458.445 2352.76,458.445 \"/>\n",
       "<polyline clip-path=\"url(#clip762)\" style=\"stroke:#000000; stroke-linecap:round; stroke-linejoin:round; stroke-width:2; stroke-opacity:0.1; fill:none\" points=\"140.696,201.444 2352.76,201.444 \"/>\n",
       "<polyline clip-path=\"url(#clip760)\" style=\"stroke:#000000; stroke-linecap:round; stroke-linejoin:round; stroke-width:4; stroke-opacity:1; fill:none\" points=\"140.696,1486.45 140.696,47.2441 \"/>\n",
       "<polyline clip-path=\"url(#clip760)\" style=\"stroke:#000000; stroke-linecap:round; stroke-linejoin:round; stroke-width:4; stroke-opacity:1; fill:none\" points=\"140.696,1486.45 159.593,1486.45 \"/>\n",
       "<polyline clip-path=\"url(#clip760)\" style=\"stroke:#000000; stroke-linecap:round; stroke-linejoin:round; stroke-width:4; stroke-opacity:1; fill:none\" points=\"140.696,1229.45 159.593,1229.45 \"/>\n",
       "<polyline clip-path=\"url(#clip760)\" style=\"stroke:#000000; stroke-linecap:round; stroke-linejoin:round; stroke-width:4; stroke-opacity:1; fill:none\" points=\"140.696,972.447 159.593,972.447 \"/>\n",
       "<polyline clip-path=\"url(#clip760)\" style=\"stroke:#000000; stroke-linecap:round; stroke-linejoin:round; stroke-width:4; stroke-opacity:1; fill:none\" points=\"140.696,715.446 159.593,715.446 \"/>\n",
       "<polyline clip-path=\"url(#clip760)\" style=\"stroke:#000000; stroke-linecap:round; stroke-linejoin:round; stroke-width:4; stroke-opacity:1; fill:none\" points=\"140.696,458.445 159.593,458.445 \"/>\n",
       "<polyline clip-path=\"url(#clip760)\" style=\"stroke:#000000; stroke-linecap:round; stroke-linejoin:round; stroke-width:4; stroke-opacity:1; fill:none\" points=\"140.696,201.444 159.593,201.444 \"/>\n",
       "<path clip-path=\"url(#clip760)\" d=\"M92.7512 1472.25 Q89.1401 1472.25 87.3114 1475.81 Q85.5058 1479.35 85.5058 1486.48 Q85.5058 1493.59 87.3114 1497.15 Q89.1401 1500.7 92.7512 1500.7 Q96.3854 1500.7 98.1909 1497.15 Q100.02 1493.59 100.02 1486.48 Q100.02 1479.35 98.1909 1475.81 Q96.3854 1472.25 92.7512 1472.25 M92.7512 1468.54 Q98.5613 1468.54 101.617 1473.15 Q104.696 1477.73 104.696 1486.48 Q104.696 1495.21 101.617 1499.82 Q98.5613 1504.4 92.7512 1504.4 Q86.941 1504.4 83.8623 1499.82 Q80.8068 1495.21 80.8068 1486.48 Q80.8068 1477.73 83.8623 1473.15 Q86.941 1468.54 92.7512 1468.54 Z\" fill=\"#000000\" fill-rule=\"nonzero\" fill-opacity=\"1\" /><path clip-path=\"url(#clip760)\" d=\"M83.7929 1212.17 L102.149 1212.17 L102.149 1216.1 L88.0753 1216.1 L88.0753 1224.57 Q89.0938 1224.23 90.1123 1224.07 Q91.1308 1223.88 92.1493 1223.88 Q97.9363 1223.88 101.316 1227.05 Q104.696 1230.22 104.696 1235.64 Q104.696 1241.22 101.223 1244.32 Q97.7511 1247.4 91.4317 1247.4 Q89.2558 1247.4 86.9873 1247.03 Q84.7419 1246.66 82.3346 1245.92 L82.3346 1241.22 Q84.4179 1242.35 86.6401 1242.91 Q88.8623 1243.46 91.3391 1243.46 Q95.3437 1243.46 97.6817 1241.36 Q100.02 1239.25 100.02 1235.64 Q100.02 1232.03 97.6817 1229.92 Q95.3437 1227.82 91.3391 1227.82 Q89.4641 1227.82 87.5892 1228.23 Q85.7373 1228.65 83.7929 1229.53 L83.7929 1212.17 Z\" fill=\"#000000\" fill-rule=\"nonzero\" fill-opacity=\"1\" /><path clip-path=\"url(#clip760)\" d=\"M53.3995 985.791 L61.0384 985.791 L61.0384 959.426 L52.7282 961.092 L52.7282 956.833 L60.9921 955.167 L65.668 955.167 L65.668 985.791 L73.3068 985.791 L73.3068 989.727 L53.3995 989.727 L53.3995 985.791 Z\" fill=\"#000000\" fill-rule=\"nonzero\" fill-opacity=\"1\" /><path clip-path=\"url(#clip760)\" d=\"M92.7512 958.245 Q89.1401 958.245 87.3114 961.81 Q85.5058 965.352 85.5058 972.481 Q85.5058 979.588 87.3114 983.152 Q89.1401 986.694 92.7512 986.694 Q96.3854 986.694 98.1909 983.152 Q100.02 979.588 100.02 972.481 Q100.02 965.352 98.1909 961.81 Q96.3854 958.245 92.7512 958.245 M92.7512 954.542 Q98.5613 954.542 101.617 959.148 Q104.696 963.731 104.696 972.481 Q104.696 981.208 101.617 985.815 Q98.5613 990.398 92.7512 990.398 Q86.941 990.398 83.8623 985.815 Q80.8068 981.208 80.8068 972.481 Q80.8068 963.731 83.8623 959.148 Q86.941 954.542 92.7512 954.542 Z\" fill=\"#000000\" fill-rule=\"nonzero\" fill-opacity=\"1\" /><path clip-path=\"url(#clip760)\" d=\"M54.3949 728.791 L62.0337 728.791 L62.0337 702.425 L53.7236 704.092 L53.7236 699.833 L61.9874 698.166 L66.6633 698.166 L66.6633 728.791 L74.3022 728.791 L74.3022 732.726 L54.3949 732.726 L54.3949 728.791 Z\" fill=\"#000000\" fill-rule=\"nonzero\" fill-opacity=\"1\" /><path clip-path=\"url(#clip760)\" d=\"M83.7929 698.166 L102.149 698.166 L102.149 702.101 L88.0753 702.101 L88.0753 710.573 Q89.0938 710.226 90.1123 710.064 Q91.1308 709.879 92.1493 709.879 Q97.9363 709.879 101.316 713.05 Q104.696 716.221 104.696 721.638 Q104.696 727.217 101.223 730.318 Q97.7511 733.397 91.4317 733.397 Q89.2558 733.397 86.9873 733.027 Q84.7419 732.656 82.3346 731.916 L82.3346 727.217 Q84.4179 728.351 86.6401 728.906 Q88.8623 729.462 91.3391 729.462 Q95.3437 729.462 97.6817 727.356 Q100.02 725.249 100.02 721.638 Q100.02 718.027 97.6817 715.92 Q95.3437 713.814 91.3391 713.814 Q89.4641 713.814 87.5892 714.231 Q85.7373 714.647 83.7929 715.527 L83.7929 698.166 Z\" fill=\"#000000\" fill-rule=\"nonzero\" fill-opacity=\"1\" /><path clip-path=\"url(#clip760)\" d=\"M56.6171 471.79 L72.9365 471.79 L72.9365 475.725 L50.9921 475.725 L50.9921 471.79 Q53.6541 469.035 58.2375 464.406 Q62.8439 459.753 64.0245 458.41 Q66.2698 455.887 67.1494 454.151 Q68.0522 452.392 68.0522 450.702 Q68.0522 447.948 66.1078 446.211 Q64.1865 444.475 61.0847 444.475 Q58.8856 444.475 56.4319 445.239 Q54.0014 446.003 51.2236 447.554 L51.2236 442.832 Q54.0477 441.698 56.5014 441.119 Q58.955 440.54 60.9921 440.54 Q66.3624 440.54 69.5568 443.225 Q72.7513 445.911 72.7513 450.401 Q72.7513 452.531 71.9411 454.452 Q71.1541 456.35 69.0476 458.943 Q68.4689 459.614 65.367 462.832 Q62.2652 466.026 56.6171 471.79 Z\" fill=\"#000000\" fill-rule=\"nonzero\" fill-opacity=\"1\" /><path clip-path=\"url(#clip760)\" d=\"M92.7512 444.244 Q89.1401 444.244 87.3114 447.809 Q85.5058 451.35 85.5058 458.48 Q85.5058 465.586 87.3114 469.151 Q89.1401 472.693 92.7512 472.693 Q96.3854 472.693 98.1909 469.151 Q100.02 465.586 100.02 458.48 Q100.02 451.35 98.1909 447.809 Q96.3854 444.244 92.7512 444.244 M92.7512 440.54 Q98.5613 440.54 101.617 445.147 Q104.696 449.73 104.696 458.48 Q104.696 467.207 101.617 471.813 Q98.5613 476.396 92.7512 476.396 Q86.941 476.396 83.8623 471.813 Q80.8068 467.207 80.8068 458.48 Q80.8068 449.73 83.8623 445.147 Q86.941 440.54 92.7512 440.54 Z\" fill=\"#000000\" fill-rule=\"nonzero\" fill-opacity=\"1\" /><path clip-path=\"url(#clip760)\" d=\"M57.6125 214.789 L73.9318 214.789 L73.9318 218.724 L51.9875 218.724 L51.9875 214.789 Q54.6495 212.035 59.2328 207.405 Q63.8393 202.752 65.0198 201.41 Q67.2652 198.887 68.1448 197.151 Q69.0476 195.391 69.0476 193.701 Q69.0476 190.947 67.1032 189.211 Q65.1819 187.475 62.08 187.475 Q59.881 187.475 57.4273 188.239 Q54.9967 189.002 52.219 190.553 L52.219 185.831 Q55.043 184.697 57.4967 184.118 Q59.9504 183.54 61.9874 183.54 Q67.3578 183.54 70.5522 186.225 Q73.7466 188.91 73.7466 193.401 Q73.7466 195.53 72.9365 197.451 Q72.1494 199.35 70.0429 201.942 Q69.4642 202.613 66.3624 205.831 Q63.2606 209.025 57.6125 214.789 Z\" fill=\"#000000\" fill-rule=\"nonzero\" fill-opacity=\"1\" /><path clip-path=\"url(#clip760)\" d=\"M83.7929 184.164 L102.149 184.164 L102.149 188.1 L88.0753 188.1 L88.0753 196.572 Q89.0938 196.225 90.1123 196.063 Q91.1308 195.877 92.1493 195.877 Q97.9363 195.877 101.316 199.049 Q104.696 202.22 104.696 207.637 Q104.696 213.215 101.223 216.317 Q97.7511 219.396 91.4317 219.396 Q89.2558 219.396 86.9873 219.025 Q84.7419 218.655 82.3346 217.914 L82.3346 213.215 Q84.4179 214.35 86.6401 214.905 Q88.8623 215.461 91.3391 215.461 Q95.3437 215.461 97.6817 213.354 Q100.02 211.248 100.02 207.637 Q100.02 204.026 97.6817 201.919 Q95.3437 199.813 91.3391 199.813 Q89.4641 199.813 87.5892 200.229 Q85.7373 200.646 83.7929 201.526 L83.7929 184.164 Z\" fill=\"#000000\" fill-rule=\"nonzero\" fill-opacity=\"1\" /><path clip-path=\"url(#clip762)\" d=\"M262.363 1280.85 L262.363 1486.45 L393.611 1486.45 L393.611 1280.85 L262.363 1280.85 L262.363 1280.85  Z\" fill=\"#009af9\" fill-rule=\"evenodd\" fill-opacity=\"1\"/>\n",
       "<polyline clip-path=\"url(#clip762)\" style=\"stroke:#000000; stroke-linecap:round; stroke-linejoin:round; stroke-width:4; stroke-opacity:1; fill:none\" points=\"262.363,1280.85 262.363,1486.45 393.611,1486.45 393.611,1280.85 262.363,1280.85 \"/>\n",
       "<path clip-path=\"url(#clip762)\" d=\"M393.611 1178.05 L393.611 1486.45 L524.86 1486.45 L524.86 1178.05 L393.611 1178.05 L393.611 1178.05  Z\" fill=\"#009af9\" fill-rule=\"evenodd\" fill-opacity=\"1\"/>\n",
       "<polyline clip-path=\"url(#clip762)\" style=\"stroke:#000000; stroke-linecap:round; stroke-linejoin:round; stroke-width:4; stroke-opacity:1; fill:none\" points=\"393.611,1178.05 393.611,1486.45 524.86,1486.45 524.86,1178.05 393.611,1178.05 \"/>\n",
       "<path clip-path=\"url(#clip762)\" d=\"M524.86 150.044 L524.86 1486.45 L656.108 1486.45 L656.108 150.044 L524.86 150.044 L524.86 150.044  Z\" fill=\"#009af9\" fill-rule=\"evenodd\" fill-opacity=\"1\"/>\n",
       "<polyline clip-path=\"url(#clip762)\" style=\"stroke:#000000; stroke-linecap:round; stroke-linejoin:round; stroke-width:4; stroke-opacity:1; fill:none\" points=\"524.86,150.044 524.86,1486.45 656.108,1486.45 656.108,150.044 524.86,150.044 \"/>\n",
       "<path clip-path=\"url(#clip762)\" d=\"M656.108 150.044 L656.108 1486.45 L787.356 1486.45 L787.356 150.044 L656.108 150.044 L656.108 150.044  Z\" fill=\"#009af9\" fill-rule=\"evenodd\" fill-opacity=\"1\"/>\n",
       "<polyline clip-path=\"url(#clip762)\" style=\"stroke:#000000; stroke-linecap:round; stroke-linejoin:round; stroke-width:4; stroke-opacity:1; fill:none\" points=\"656.108,150.044 656.108,1486.45 787.356,1486.45 787.356,150.044 656.108,150.044 \"/>\n",
       "<path clip-path=\"url(#clip762)\" d=\"M787.356 715.446 L787.356 1486.45 L918.605 1486.45 L918.605 715.446 L787.356 715.446 L787.356 715.446  Z\" fill=\"#009af9\" fill-rule=\"evenodd\" fill-opacity=\"1\"/>\n",
       "<polyline clip-path=\"url(#clip762)\" style=\"stroke:#000000; stroke-linecap:round; stroke-linejoin:round; stroke-width:4; stroke-opacity:1; fill:none\" points=\"787.356,715.446 787.356,1486.45 918.605,1486.45 918.605,715.446 787.356,715.446 \"/>\n",
       "<path clip-path=\"url(#clip762)\" d=\"M918.605 1229.45 L918.605 1486.45 L1049.85 1486.45 L1049.85 1229.45 L918.605 1229.45 L918.605 1229.45  Z\" fill=\"#009af9\" fill-rule=\"evenodd\" fill-opacity=\"1\"/>\n",
       "<polyline clip-path=\"url(#clip762)\" style=\"stroke:#000000; stroke-linecap:round; stroke-linejoin:round; stroke-width:4; stroke-opacity:1; fill:none\" points=\"918.605,1229.45 918.605,1486.45 1049.85,1486.45 1049.85,1229.45 918.605,1229.45 \"/>\n",
       "<path clip-path=\"url(#clip762)\" d=\"M1049.85 818.246 L1049.85 1486.45 L1181.1 1486.45 L1181.1 818.246 L1049.85 818.246 L1049.85 818.246  Z\" fill=\"#009af9\" fill-rule=\"evenodd\" fill-opacity=\"1\"/>\n",
       "<polyline clip-path=\"url(#clip762)\" style=\"stroke:#000000; stroke-linecap:round; stroke-linejoin:round; stroke-width:4; stroke-opacity:1; fill:none\" points=\"1049.85,818.246 1049.85,1486.45 1181.1,1486.45 1181.1,818.246 1049.85,818.246 \"/>\n",
       "<path clip-path=\"url(#clip762)\" d=\"M1181.1 1023.85 L1181.1 1486.45 L1312.35 1486.45 L1312.35 1023.85 L1181.1 1023.85 L1181.1 1023.85  Z\" fill=\"#009af9\" fill-rule=\"evenodd\" fill-opacity=\"1\"/>\n",
       "<polyline clip-path=\"url(#clip762)\" style=\"stroke:#000000; stroke-linecap:round; stroke-linejoin:round; stroke-width:4; stroke-opacity:1; fill:none\" points=\"1181.1,1023.85 1181.1,1486.45 1312.35,1486.45 1312.35,1023.85 1181.1,1023.85 \"/>\n",
       "<path clip-path=\"url(#clip762)\" d=\"M1312.35 869.646 L1312.35 1486.45 L1443.6 1486.45 L1443.6 869.646 L1312.35 869.646 L1312.35 869.646  Z\" fill=\"#009af9\" fill-rule=\"evenodd\" fill-opacity=\"1\"/>\n",
       "<polyline clip-path=\"url(#clip762)\" style=\"stroke:#000000; stroke-linecap:round; stroke-linejoin:round; stroke-width:4; stroke-opacity:1; fill:none\" points=\"1312.35,869.646 1312.35,1486.45 1443.6,1486.45 1443.6,869.646 1312.35,869.646 \"/>\n",
       "<path clip-path=\"url(#clip762)\" d=\"M1443.6 1280.85 L1443.6 1486.45 L1574.85 1486.45 L1574.85 1280.85 L1443.6 1280.85 L1443.6 1280.85  Z\" fill=\"#009af9\" fill-rule=\"evenodd\" fill-opacity=\"1\"/>\n",
       "<polyline clip-path=\"url(#clip762)\" style=\"stroke:#000000; stroke-linecap:round; stroke-linejoin:round; stroke-width:4; stroke-opacity:1; fill:none\" points=\"1443.6,1280.85 1443.6,1486.45 1574.85,1486.45 1574.85,1280.85 1443.6,1280.85 \"/>\n",
       "<path clip-path=\"url(#clip762)\" d=\"M1574.85 1435.05 L1574.85 1486.45 L1706.1 1486.45 L1706.1 1435.05 L1574.85 1435.05 L1574.85 1435.05  Z\" fill=\"#009af9\" fill-rule=\"evenodd\" fill-opacity=\"1\"/>\n",
       "<polyline clip-path=\"url(#clip762)\" style=\"stroke:#000000; stroke-linecap:round; stroke-linejoin:round; stroke-width:4; stroke-opacity:1; fill:none\" points=\"1574.85,1435.05 1574.85,1486.45 1706.1,1486.45 1706.1,1435.05 1574.85,1435.05 \"/>\n",
       "<path clip-path=\"url(#clip762)\" d=\"M1706.1 1075.25 L1706.1 1486.45 L1837.34 1486.45 L1837.34 1075.25 L1706.1 1075.25 L1706.1 1075.25  Z\" fill=\"#009af9\" fill-rule=\"evenodd\" fill-opacity=\"1\"/>\n",
       "<polyline clip-path=\"url(#clip762)\" style=\"stroke:#000000; stroke-linecap:round; stroke-linejoin:round; stroke-width:4; stroke-opacity:1; fill:none\" points=\"1706.1,1075.25 1706.1,1486.45 1837.34,1486.45 1837.34,1075.25 1706.1,1075.25 \"/>\n",
       "<path clip-path=\"url(#clip762)\" d=\"M1837.34 304.245 L1837.34 1486.45 L1968.59 1486.45 L1968.59 304.245 L1837.34 304.245 L1837.34 304.245  Z\" fill=\"#009af9\" fill-rule=\"evenodd\" fill-opacity=\"1\"/>\n",
       "<polyline clip-path=\"url(#clip762)\" style=\"stroke:#000000; stroke-linecap:round; stroke-linejoin:round; stroke-width:4; stroke-opacity:1; fill:none\" points=\"1837.34,304.245 1837.34,1486.45 1968.59,1486.45 1968.59,304.245 1837.34,304.245 \"/>\n",
       "<path clip-path=\"url(#clip762)\" d=\"M1968.59 47.2441 L1968.59 1486.45 L2099.84 1486.45 L2099.84 47.2441 L1968.59 47.2441 L1968.59 47.2441  Z\" fill=\"#009af9\" fill-rule=\"evenodd\" fill-opacity=\"1\"/>\n",
       "<polyline clip-path=\"url(#clip762)\" style=\"stroke:#000000; stroke-linecap:round; stroke-linejoin:round; stroke-width:4; stroke-opacity:1; fill:none\" points=\"1968.59,47.2441 1968.59,1486.45 2099.84,1486.45 2099.84,47.2441 1968.59,47.2441 \"/>\n",
       "<path clip-path=\"url(#clip762)\" d=\"M2099.84 1486.45 L2099.84 1486.45 L2231.09 1486.45 L2231.09 1486.45 L2099.84 1486.45 L2099.84 1486.45  Z\" fill=\"#009af9\" fill-rule=\"evenodd\" fill-opacity=\"1\"/>\n",
       "<polyline clip-path=\"url(#clip762)\" style=\"stroke:#000000; stroke-linecap:round; stroke-linejoin:round; stroke-width:4; stroke-opacity:1; fill:none\" points=\"2099.84,1486.45 2099.84,1486.45 2231.09,1486.45 2099.84,1486.45 \"/>\n",
       "<circle clip-path=\"url(#clip762)\" style=\"fill:#009af9; stroke:none; fill-opacity:0\" cx=\"327.987\" cy=\"1280.85\" r=\"2\"/>\n",
       "<circle clip-path=\"url(#clip762)\" style=\"fill:#009af9; stroke:none; fill-opacity:0\" cx=\"459.235\" cy=\"1178.05\" r=\"2\"/>\n",
       "<circle clip-path=\"url(#clip762)\" style=\"fill:#009af9; stroke:none; fill-opacity:0\" cx=\"590.484\" cy=\"150.044\" r=\"2\"/>\n",
       "<circle clip-path=\"url(#clip762)\" style=\"fill:#009af9; stroke:none; fill-opacity:0\" cx=\"721.732\" cy=\"150.044\" r=\"2\"/>\n",
       "<circle clip-path=\"url(#clip762)\" style=\"fill:#009af9; stroke:none; fill-opacity:0\" cx=\"852.981\" cy=\"715.446\" r=\"2\"/>\n",
       "<circle clip-path=\"url(#clip762)\" style=\"fill:#009af9; stroke:none; fill-opacity:0\" cx=\"984.229\" cy=\"1229.45\" r=\"2\"/>\n",
       "<circle clip-path=\"url(#clip762)\" style=\"fill:#009af9; stroke:none; fill-opacity:0\" cx=\"1115.48\" cy=\"818.246\" r=\"2\"/>\n",
       "<circle clip-path=\"url(#clip762)\" style=\"fill:#009af9; stroke:none; fill-opacity:0\" cx=\"1246.73\" cy=\"1023.85\" r=\"2\"/>\n",
       "<circle clip-path=\"url(#clip762)\" style=\"fill:#009af9; stroke:none; fill-opacity:0\" cx=\"1377.97\" cy=\"869.646\" r=\"2\"/>\n",
       "<circle clip-path=\"url(#clip762)\" style=\"fill:#009af9; stroke:none; fill-opacity:0\" cx=\"1509.22\" cy=\"1280.85\" r=\"2\"/>\n",
       "<circle clip-path=\"url(#clip762)\" style=\"fill:#009af9; stroke:none; fill-opacity:0\" cx=\"1640.47\" cy=\"1435.05\" r=\"2\"/>\n",
       "<circle clip-path=\"url(#clip762)\" style=\"fill:#009af9; stroke:none; fill-opacity:0\" cx=\"1771.72\" cy=\"1075.25\" r=\"2\"/>\n",
       "<circle clip-path=\"url(#clip762)\" style=\"fill:#009af9; stroke:none; fill-opacity:0\" cx=\"1902.97\" cy=\"304.245\" r=\"2\"/>\n",
       "<circle clip-path=\"url(#clip762)\" style=\"fill:#009af9; stroke:none; fill-opacity:0\" cx=\"2034.22\" cy=\"47.2441\" r=\"2\"/>\n",
       "<circle clip-path=\"url(#clip762)\" style=\"fill:#009af9; stroke:none; fill-opacity:0\" cx=\"2165.46\" cy=\"1486.45\" r=\"2\"/>\n",
       "<path clip-path=\"url(#clip760)\" d=\"M214.431 198.898 L488.067 198.898 L488.067 95.2176 L214.431 95.2176  Z\" fill=\"#ffffff\" fill-rule=\"evenodd\" fill-opacity=\"1\"/>\n",
       "<polyline clip-path=\"url(#clip760)\" style=\"stroke:#000000; stroke-linecap:round; stroke-linejoin:round; stroke-width:4; stroke-opacity:1; fill:none\" points=\"214.431,198.898 488.067,198.898 488.067,95.2176 214.431,95.2176 214.431,198.898 \"/>\n",
       "<path clip-path=\"url(#clip760)\" d=\"M239.009 167.794 L386.48 167.794 L386.48 126.322 L239.009 126.322 L239.009 167.794  Z\" fill=\"#009af9\" fill-rule=\"evenodd\" fill-opacity=\"1\"/>\n",
       "<polyline clip-path=\"url(#clip760)\" style=\"stroke:#000000; stroke-linecap:round; stroke-linejoin:round; stroke-width:4; stroke-opacity:1; fill:none\" points=\"239.009,167.794 386.48,167.794 386.48,126.322 239.009,126.322 239.009,167.794 \"/>\n",
       "<path clip-path=\"url(#clip760)\" d=\"M424.901 166.745 Q423.095 171.375 421.382 172.787 Q419.67 174.199 416.799 174.199 L413.396 174.199 L413.396 170.634 L415.896 170.634 Q417.656 170.634 418.628 169.8 Q419.6 168.967 420.781 165.865 L421.545 163.921 L411.058 138.412 L415.572 138.412 L423.674 158.689 L431.776 138.412 L436.29 138.412 L424.901 166.745 Z\" fill=\"#000000\" fill-rule=\"nonzero\" fill-opacity=\"1\" /><path clip-path=\"url(#clip760)\" d=\"M443.581 160.402 L451.22 160.402 L451.22 134.037 L442.91 135.703 L442.91 131.444 L451.174 129.778 L455.85 129.778 L455.85 160.402 L463.489 160.402 L463.489 164.338 L443.581 164.338 L443.581 160.402 Z\" fill=\"#000000\" fill-rule=\"nonzero\" fill-opacity=\"1\" /></svg>\n"
      ]
     },
     "metadata": {},
     "output_type": "display_data"
    }
   ],
   "source": [
    "histogram(df_metrics.TPR_MS, bins=20)"
   ]
  },
  {
   "cell_type": "code",
   "execution_count": 50,
   "metadata": {},
   "outputs": [
    {
     "data": {
      "image/png": "[encoded data removed]",
      "image/svg+xml": [
       "<?xml version=\"1.0\" encoding=\"utf-8\"?>\n",
       "<svg xmlns=\"http://www.w3.org/2000/svg\" xmlns:xlink=\"http://www.w3.org/1999/xlink\" width=\"600\" height=\"400\" viewBox=\"0 0 2400 1600\">\n",
       "<defs>\n",
       "  <clipPath id=\"clip800\">\n",
       "    <rect x=\"0\" y=\"0\" width=\"2400\" height=\"1600\"/>\n",
       "  </clipPath>\n",
       "</defs>\n",
       "<path clip-path=\"url(#clip800)\" d=\"M0 1600 L2400 1600 L2400 0 L0 0  Z\" fill=\"#ffffff\" fill-rule=\"evenodd\" fill-opacity=\"1\"/>\n",
       "<defs>\n",
       "  <clipPath id=\"clip801\">\n",
       "    <rect x=\"480\" y=\"0\" width=\"1681\" height=\"1600\"/>\n",
       "  </clipPath>\n",
       "</defs>\n",
       "<path clip-path=\"url(#clip800)\" d=\"M140.696 1486.45 L2352.76 1486.45 L2352.76 47.2441 L140.696 47.2441  Z\" fill=\"#ffffff\" fill-rule=\"evenodd\" fill-opacity=\"1\"/>\n",
       "<defs>\n",
       "  <clipPath id=\"clip802\">\n",
       "    <rect x=\"140\" y=\"47\" width=\"2213\" height=\"1440\"/>\n",
       "  </clipPath>\n",
       "</defs>\n",
       "<polyline clip-path=\"url(#clip802)\" style=\"stroke:#000000; stroke-linecap:round; stroke-linejoin:round; stroke-width:2; stroke-opacity:0.1; fill:none\" points=\"152.989,1486.45 152.989,47.2441 \"/>\n",
       "<polyline clip-path=\"url(#clip802)\" style=\"stroke:#000000; stroke-linecap:round; stroke-linejoin:round; stroke-width:2; stroke-opacity:0.1; fill:none\" points=\"699.857,1486.45 699.857,47.2441 \"/>\n",
       "<polyline clip-path=\"url(#clip802)\" style=\"stroke:#000000; stroke-linecap:round; stroke-linejoin:round; stroke-width:2; stroke-opacity:0.1; fill:none\" points=\"1246.73,1486.45 1246.73,47.2441 \"/>\n",
       "<polyline clip-path=\"url(#clip802)\" style=\"stroke:#000000; stroke-linecap:round; stroke-linejoin:round; stroke-width:2; stroke-opacity:0.1; fill:none\" points=\"1793.59,1486.45 1793.59,47.2441 \"/>\n",
       "<polyline clip-path=\"url(#clip802)\" style=\"stroke:#000000; stroke-linecap:round; stroke-linejoin:round; stroke-width:2; stroke-opacity:0.1; fill:none\" points=\"2340.46,1486.45 2340.46,47.2441 \"/>\n",
       "<polyline clip-path=\"url(#clip800)\" style=\"stroke:#000000; stroke-linecap:round; stroke-linejoin:round; stroke-width:4; stroke-opacity:1; fill:none\" points=\"140.696,1486.45 2352.76,1486.45 \"/>\n",
       "<polyline clip-path=\"url(#clip800)\" style=\"stroke:#000000; stroke-linecap:round; stroke-linejoin:round; stroke-width:4; stroke-opacity:1; fill:none\" points=\"152.989,1486.45 152.989,1467.55 \"/>\n",
       "<polyline clip-path=\"url(#clip800)\" style=\"stroke:#000000; stroke-linecap:round; stroke-linejoin:round; stroke-width:4; stroke-opacity:1; fill:none\" points=\"699.857,1486.45 699.857,1467.55 \"/>\n",
       "<polyline clip-path=\"url(#clip800)\" style=\"stroke:#000000; stroke-linecap:round; stroke-linejoin:round; stroke-width:4; stroke-opacity:1; fill:none\" points=\"1246.73,1486.45 1246.73,1467.55 \"/>\n",
       "<polyline clip-path=\"url(#clip800)\" style=\"stroke:#000000; stroke-linecap:round; stroke-linejoin:round; stroke-width:4; stroke-opacity:1; fill:none\" points=\"1793.59,1486.45 1793.59,1467.55 \"/>\n",
       "<polyline clip-path=\"url(#clip800)\" style=\"stroke:#000000; stroke-linecap:round; stroke-linejoin:round; stroke-width:4; stroke-opacity:1; fill:none\" points=\"2340.46,1486.45 2340.46,1467.55 \"/>\n",
       "<path clip-path=\"url(#clip800)\" d=\"M115.293 1517.37 Q111.681 1517.37 109.853 1520.93 Q108.047 1524.47 108.047 1531.6 Q108.047 1538.71 109.853 1542.27 Q111.681 1545.82 115.293 1545.82 Q118.927 1545.82 120.732 1542.27 Q122.561 1538.71 122.561 1531.6 Q122.561 1524.47 120.732 1520.93 Q118.927 1517.37 115.293 1517.37 M115.293 1513.66 Q121.103 1513.66 124.158 1518.27 Q127.237 1522.85 127.237 1531.6 Q127.237 1540.33 124.158 1544.94 Q121.103 1549.52 115.293 1549.52 Q109.482 1549.52 106.404 1544.94 Q103.348 1540.33 103.348 1531.6 Q103.348 1522.85 106.404 1518.27 Q109.482 1513.66 115.293 1513.66 Z\" fill=\"#000000\" fill-rule=\"nonzero\" fill-opacity=\"1\" /><path clip-path=\"url(#clip800)\" d=\"M135.455 1542.97 L140.339 1542.97 L140.339 1548.85 L135.455 1548.85 L135.455 1542.97 Z\" fill=\"#000000\" fill-rule=\"nonzero\" fill-opacity=\"1\" /><path clip-path=\"url(#clip800)\" d=\"M160.524 1517.37 Q156.913 1517.37 155.084 1520.93 Q153.278 1524.47 153.278 1531.6 Q153.278 1538.71 155.084 1542.27 Q156.913 1545.82 160.524 1545.82 Q164.158 1545.82 165.964 1542.27 Q167.792 1538.71 167.792 1531.6 Q167.792 1524.47 165.964 1520.93 Q164.158 1517.37 160.524 1517.37 M160.524 1513.66 Q166.334 1513.66 169.39 1518.27 Q172.468 1522.85 172.468 1531.6 Q172.468 1540.33 169.39 1544.94 Q166.334 1549.52 160.524 1549.52 Q154.714 1549.52 151.635 1544.94 Q148.579 1540.33 148.579 1531.6 Q148.579 1522.85 151.635 1518.27 Q154.714 1513.66 160.524 1513.66 Z\" fill=\"#000000\" fill-rule=\"nonzero\" fill-opacity=\"1\" /><path clip-path=\"url(#clip800)\" d=\"M190.686 1517.37 Q187.075 1517.37 185.246 1520.93 Q183.44 1524.47 183.44 1531.6 Q183.44 1538.71 185.246 1542.27 Q187.075 1545.82 190.686 1545.82 Q194.32 1545.82 196.125 1542.27 Q197.954 1538.71 197.954 1531.6 Q197.954 1524.47 196.125 1520.93 Q194.32 1517.37 190.686 1517.37 M190.686 1513.66 Q196.496 1513.66 199.551 1518.27 Q202.63 1522.85 202.63 1531.6 Q202.63 1540.33 199.551 1544.94 Q196.496 1549.52 190.686 1549.52 Q184.876 1549.52 181.797 1544.94 Q178.741 1540.33 178.741 1531.6 Q178.741 1522.85 181.797 1518.27 Q184.876 1513.66 190.686 1513.66 Z\" fill=\"#000000\" fill-rule=\"nonzero\" fill-opacity=\"1\" /><path clip-path=\"url(#clip800)\" d=\"M662.659 1517.37 Q659.047 1517.37 657.219 1520.93 Q655.413 1524.47 655.413 1531.6 Q655.413 1538.71 657.219 1542.27 Q659.047 1545.82 662.659 1545.82 Q666.293 1545.82 668.098 1542.27 Q669.927 1538.71 669.927 1531.6 Q669.927 1524.47 668.098 1520.93 Q666.293 1517.37 662.659 1517.37 M662.659 1513.66 Q668.469 1513.66 671.524 1518.27 Q674.603 1522.85 674.603 1531.6 Q674.603 1540.33 671.524 1544.94 Q668.469 1549.52 662.659 1549.52 Q656.848 1549.52 653.77 1544.94 Q650.714 1540.33 650.714 1531.6 Q650.714 1522.85 653.77 1518.27 Q656.848 1513.66 662.659 1513.66 Z\" fill=\"#000000\" fill-rule=\"nonzero\" fill-opacity=\"1\" /><path clip-path=\"url(#clip800)\" d=\"M682.82 1542.97 L687.705 1542.97 L687.705 1548.85 L682.82 1548.85 L682.82 1542.97 Z\" fill=\"#000000\" fill-rule=\"nonzero\" fill-opacity=\"1\" /><path clip-path=\"url(#clip800)\" d=\"M701.918 1544.91 L718.237 1544.91 L718.237 1548.85 L696.293 1548.85 L696.293 1544.91 Q698.955 1542.16 703.538 1537.53 Q708.144 1532.88 709.325 1531.53 Q711.57 1529.01 712.45 1527.27 Q713.353 1525.51 713.353 1523.82 Q713.353 1521.07 711.408 1519.33 Q709.487 1517.6 706.385 1517.6 Q704.186 1517.6 701.732 1518.36 Q699.302 1519.13 696.524 1520.68 L696.524 1515.95 Q699.348 1514.82 701.802 1514.24 Q704.256 1513.66 706.293 1513.66 Q711.663 1513.66 714.857 1516.35 Q718.052 1519.03 718.052 1523.52 Q718.052 1525.65 717.242 1527.57 Q716.455 1529.47 714.348 1532.07 Q713.769 1532.74 710.668 1535.95 Q707.566 1539.15 701.918 1544.91 Z\" fill=\"#000000\" fill-rule=\"nonzero\" fill-opacity=\"1\" /><path clip-path=\"url(#clip800)\" d=\"M728.098 1514.29 L746.454 1514.29 L746.454 1518.22 L732.38 1518.22 L732.38 1526.7 Q733.399 1526.35 734.417 1526.19 Q735.436 1526 736.454 1526 Q742.241 1526 745.621 1529.17 Q749.001 1532.34 749.001 1537.76 Q749.001 1543.34 745.528 1546.44 Q742.056 1549.52 735.737 1549.52 Q733.561 1549.52 731.292 1549.15 Q729.047 1548.78 726.64 1548.04 L726.64 1543.34 Q728.723 1544.47 730.945 1545.03 Q733.167 1545.58 735.644 1545.58 Q739.649 1545.58 741.987 1543.48 Q744.325 1541.37 744.325 1537.76 Q744.325 1534.15 741.987 1532.04 Q739.649 1529.94 735.644 1529.94 Q733.769 1529.94 731.894 1530.35 Q730.042 1530.77 728.098 1531.65 L728.098 1514.29 Z\" fill=\"#000000\" fill-rule=\"nonzero\" fill-opacity=\"1\" /><path clip-path=\"url(#clip800)\" d=\"M1209.03 1517.37 Q1205.42 1517.37 1203.59 1520.93 Q1201.78 1524.47 1201.78 1531.6 Q1201.78 1538.71 1203.59 1542.27 Q1205.42 1545.82 1209.03 1545.82 Q1212.66 1545.82 1214.47 1542.27 Q1216.3 1538.71 1216.3 1531.6 Q1216.3 1524.47 1214.47 1520.93 Q1212.66 1517.37 1209.03 1517.37 M1209.03 1513.66 Q1214.84 1513.66 1217.89 1518.27 Q1220.97 1522.85 1220.97 1531.6 Q1220.97 1540.33 1217.89 1544.94 Q1214.84 1549.52 1209.03 1549.52 Q1203.22 1549.52 1200.14 1544.94 Q1197.08 1540.33 1197.08 1531.6 Q1197.08 1522.85 1200.14 1518.27 Q1203.22 1513.66 1209.03 1513.66 Z\" fill=\"#000000\" fill-rule=\"nonzero\" fill-opacity=\"1\" /><path clip-path=\"url(#clip800)\" d=\"M1229.19 1542.97 L1234.08 1542.97 L1234.08 1548.85 L1229.19 1548.85 L1229.19 1542.97 Z\" fill=\"#000000\" fill-rule=\"nonzero\" fill-opacity=\"1\" /><path clip-path=\"url(#clip800)\" d=\"M1244.31 1514.29 L1262.66 1514.29 L1262.66 1518.22 L1248.59 1518.22 L1248.59 1526.7 Q1249.61 1526.35 1250.63 1526.19 Q1251.64 1526 1252.66 1526 Q1258.45 1526 1261.83 1529.17 Q1265.21 1532.34 1265.21 1537.76 Q1265.21 1543.34 1261.74 1546.44 Q1258.27 1549.52 1251.95 1549.52 Q1249.77 1549.52 1247.5 1549.15 Q1245.26 1548.78 1242.85 1548.04 L1242.85 1543.34 Q1244.93 1544.47 1247.15 1545.03 Q1249.38 1545.58 1251.85 1545.58 Q1255.86 1545.58 1258.2 1543.48 Q1260.53 1541.37 1260.53 1537.76 Q1260.53 1534.15 1258.2 1532.04 Q1255.86 1529.94 1251.85 1529.94 Q1249.98 1529.94 1248.1 1530.35 Q1246.25 1530.77 1244.31 1531.65 L1244.31 1514.29 Z\" fill=\"#000000\" fill-rule=\"nonzero\" fill-opacity=\"1\" /><path clip-path=\"url(#clip800)\" d=\"M1284.42 1517.37 Q1280.81 1517.37 1278.98 1520.93 Q1277.18 1524.47 1277.18 1531.6 Q1277.18 1538.71 1278.98 1542.27 Q1280.81 1545.82 1284.42 1545.82 Q1288.06 1545.82 1289.86 1542.27 Q1291.69 1538.71 1291.69 1531.6 Q1291.69 1524.47 1289.86 1520.93 Q1288.06 1517.37 1284.42 1517.37 M1284.42 1513.66 Q1290.23 1513.66 1293.29 1518.27 Q1296.37 1522.85 1296.37 1531.6 Q1296.37 1540.33 1293.29 1544.94 Q1290.23 1549.52 1284.42 1549.52 Q1278.61 1549.52 1275.53 1544.94 Q1272.48 1540.33 1272.48 1531.6 Q1272.48 1522.85 1275.53 1518.27 Q1278.61 1513.66 1284.42 1513.66 Z\" fill=\"#000000\" fill-rule=\"nonzero\" fill-opacity=\"1\" /><path clip-path=\"url(#clip800)\" d=\"M1756.4 1517.37 Q1752.78 1517.37 1750.96 1520.93 Q1749.15 1524.47 1749.15 1531.6 Q1749.15 1538.71 1750.96 1542.27 Q1752.78 1545.82 1756.4 1545.82 Q1760.03 1545.82 1761.83 1542.27 Q1763.66 1538.71 1763.66 1531.6 Q1763.66 1524.47 1761.83 1520.93 Q1760.03 1517.37 1756.4 1517.37 M1756.4 1513.66 Q1762.21 1513.66 1765.26 1518.27 Q1768.34 1522.85 1768.34 1531.6 Q1768.34 1540.33 1765.26 1544.94 Q1762.21 1549.52 1756.4 1549.52 Q1750.58 1549.52 1747.51 1544.94 Q1744.45 1540.33 1744.45 1531.6 Q1744.45 1522.85 1747.51 1518.27 Q1750.58 1513.66 1756.4 1513.66 Z\" fill=\"#000000\" fill-rule=\"nonzero\" fill-opacity=\"1\" /><path clip-path=\"url(#clip800)\" d=\"M1776.56 1542.97 L1781.44 1542.97 L1781.44 1548.85 L1776.56 1548.85 L1776.56 1542.97 Z\" fill=\"#000000\" fill-rule=\"nonzero\" fill-opacity=\"1\" /><path clip-path=\"url(#clip800)\" d=\"M1790.45 1514.29 L1812.67 1514.29 L1812.67 1516.28 L1800.12 1548.85 L1795.24 1548.85 L1807.04 1518.22 L1790.45 1518.22 L1790.45 1514.29 Z\" fill=\"#000000\" fill-rule=\"nonzero\" fill-opacity=\"1\" /><path clip-path=\"url(#clip800)\" d=\"M1821.83 1514.29 L1840.19 1514.29 L1840.19 1518.22 L1826.12 1518.22 L1826.12 1526.7 Q1827.14 1526.35 1828.15 1526.19 Q1829.17 1526 1830.19 1526 Q1835.98 1526 1839.36 1529.17 Q1842.74 1532.34 1842.74 1537.76 Q1842.74 1543.34 1839.27 1546.44 Q1835.79 1549.52 1829.47 1549.52 Q1827.3 1549.52 1825.03 1549.15 Q1822.78 1548.78 1820.38 1548.04 L1820.38 1543.34 Q1822.46 1544.47 1824.68 1545.03 Q1826.9 1545.58 1829.38 1545.58 Q1833.39 1545.58 1835.72 1543.48 Q1838.06 1541.37 1838.06 1537.76 Q1838.06 1534.15 1835.72 1532.04 Q1833.39 1529.94 1829.38 1529.94 Q1827.51 1529.94 1825.63 1530.35 Q1823.78 1530.77 1821.83 1531.65 L1821.83 1514.29 Z\" fill=\"#000000\" fill-rule=\"nonzero\" fill-opacity=\"1\" /><path clip-path=\"url(#clip800)\" d=\"M2292.53 1544.91 L2300.17 1544.91 L2300.17 1518.55 L2291.86 1520.21 L2291.86 1515.95 L2300.13 1514.29 L2304.8 1514.29 L2304.8 1544.91 L2312.44 1544.91 L2312.44 1548.85 L2292.53 1548.85 L2292.53 1544.91 Z\" fill=\"#000000\" fill-rule=\"nonzero\" fill-opacity=\"1\" /><path clip-path=\"url(#clip800)\" d=\"M2321.89 1542.97 L2326.77 1542.97 L2326.77 1548.85 L2321.89 1548.85 L2321.89 1542.97 Z\" fill=\"#000000\" fill-rule=\"nonzero\" fill-opacity=\"1\" /><path clip-path=\"url(#clip800)\" d=\"M2346.96 1517.37 Q2343.34 1517.37 2341.52 1520.93 Q2339.71 1524.47 2339.71 1531.6 Q2339.71 1538.71 2341.52 1542.27 Q2343.34 1545.82 2346.96 1545.82 Q2350.59 1545.82 2352.4 1542.27 Q2354.22 1538.71 2354.22 1531.6 Q2354.22 1524.47 2352.4 1520.93 Q2350.59 1517.37 2346.96 1517.37 M2346.96 1513.66 Q2352.77 1513.66 2355.82 1518.27 Q2358.9 1522.85 2358.9 1531.6 Q2358.9 1540.33 2355.82 1544.94 Q2352.77 1549.52 2346.96 1549.52 Q2341.15 1549.52 2338.07 1544.94 Q2335.01 1540.33 2335.01 1531.6 Q2335.01 1522.85 2338.07 1518.27 Q2341.15 1513.66 2346.96 1513.66 Z\" fill=\"#000000\" fill-rule=\"nonzero\" fill-opacity=\"1\" /><path clip-path=\"url(#clip800)\" d=\"M2377.12 1517.37 Q2373.51 1517.37 2371.68 1520.93 Q2369.87 1524.47 2369.87 1531.6 Q2369.87 1538.71 2371.68 1542.27 Q2373.51 1545.82 2377.12 1545.82 Q2380.75 1545.82 2382.56 1542.27 Q2384.39 1538.71 2384.39 1531.6 Q2384.39 1524.47 2382.56 1520.93 Q2380.75 1517.37 2377.12 1517.37 M2377.12 1513.66 Q2382.93 1513.66 2385.98 1518.27 Q2389.06 1522.85 2389.06 1531.6 Q2389.06 1540.33 2385.98 1544.94 Q2382.93 1549.52 2377.12 1549.52 Q2371.31 1549.52 2368.23 1544.94 Q2365.17 1540.33 2365.17 1531.6 Q2365.17 1522.85 2368.23 1518.27 Q2371.31 1513.66 2377.12 1513.66 Z\" fill=\"#000000\" fill-rule=\"nonzero\" fill-opacity=\"1\" /><polyline clip-path=\"url(#clip802)\" style=\"stroke:#000000; stroke-linecap:round; stroke-linejoin:round; stroke-width:2; stroke-opacity:0.1; fill:none\" points=\"140.696,1486.45 2352.76,1486.45 \"/>\n",
       "<polyline clip-path=\"url(#clip802)\" style=\"stroke:#000000; stroke-linecap:round; stroke-linejoin:round; stroke-width:2; stroke-opacity:0.1; fill:none\" points=\"140.696,1022.19 2352.76,1022.19 \"/>\n",
       "<polyline clip-path=\"url(#clip802)\" style=\"stroke:#000000; stroke-linecap:round; stroke-linejoin:round; stroke-width:2; stroke-opacity:0.1; fill:none\" points=\"140.696,557.929 2352.76,557.929 \"/>\n",
       "<polyline clip-path=\"url(#clip802)\" style=\"stroke:#000000; stroke-linecap:round; stroke-linejoin:round; stroke-width:2; stroke-opacity:0.1; fill:none\" points=\"140.696,93.67 2352.76,93.67 \"/>\n",
       "<polyline clip-path=\"url(#clip800)\" style=\"stroke:#000000; stroke-linecap:round; stroke-linejoin:round; stroke-width:4; stroke-opacity:1; fill:none\" points=\"140.696,1486.45 140.696,47.2441 \"/>\n",
       "<polyline clip-path=\"url(#clip800)\" style=\"stroke:#000000; stroke-linecap:round; stroke-linejoin:round; stroke-width:4; stroke-opacity:1; fill:none\" points=\"140.696,1486.45 159.593,1486.45 \"/>\n",
       "<polyline clip-path=\"url(#clip800)\" style=\"stroke:#000000; stroke-linecap:round; stroke-linejoin:round; stroke-width:4; stroke-opacity:1; fill:none\" points=\"140.696,1022.19 159.593,1022.19 \"/>\n",
       "<polyline clip-path=\"url(#clip800)\" style=\"stroke:#000000; stroke-linecap:round; stroke-linejoin:round; stroke-width:4; stroke-opacity:1; fill:none\" points=\"140.696,557.929 159.593,557.929 \"/>\n",
       "<polyline clip-path=\"url(#clip800)\" style=\"stroke:#000000; stroke-linecap:round; stroke-linejoin:round; stroke-width:4; stroke-opacity:1; fill:none\" points=\"140.696,93.67 159.593,93.67 \"/>\n",
       "<path clip-path=\"url(#clip800)\" d=\"M92.7512 1472.25 Q89.1401 1472.25 87.3114 1475.81 Q85.5058 1479.35 85.5058 1486.48 Q85.5058 1493.59 87.3114 1497.15 Q89.1401 1500.7 92.7512 1500.7 Q96.3854 1500.7 98.1909 1497.15 Q100.02 1493.59 100.02 1486.48 Q100.02 1479.35 98.1909 1475.81 Q96.3854 1472.25 92.7512 1472.25 M92.7512 1468.54 Q98.5613 1468.54 101.617 1473.15 Q104.696 1477.73 104.696 1486.48 Q104.696 1495.21 101.617 1499.82 Q98.5613 1504.4 92.7512 1504.4 Q86.941 1504.4 83.8623 1499.82 Q80.8068 1495.21 80.8068 1486.48 Q80.8068 1477.73 83.8623 1473.15 Q86.941 1468.54 92.7512 1468.54 Z\" fill=\"#000000\" fill-rule=\"nonzero\" fill-opacity=\"1\" /><path clip-path=\"url(#clip800)\" d=\"M53.3995 1035.53 L61.0384 1035.53 L61.0384 1009.17 L52.7282 1010.83 L52.7282 1006.58 L60.9921 1004.91 L65.668 1004.91 L65.668 1035.53 L73.3068 1035.53 L73.3068 1039.47 L53.3995 1039.47 L53.3995 1035.53 Z\" fill=\"#000000\" fill-rule=\"nonzero\" fill-opacity=\"1\" /><path clip-path=\"url(#clip800)\" d=\"M92.7512 1007.99 Q89.1401 1007.99 87.3114 1011.55 Q85.5058 1015.09 85.5058 1022.22 Q85.5058 1029.33 87.3114 1032.89 Q89.1401 1036.44 92.7512 1036.44 Q96.3854 1036.44 98.1909 1032.89 Q100.02 1029.33 100.02 1022.22 Q100.02 1015.09 98.1909 1011.55 Q96.3854 1007.99 92.7512 1007.99 M92.7512 1004.28 Q98.5613 1004.28 101.617 1008.89 Q104.696 1013.47 104.696 1022.22 Q104.696 1030.95 101.617 1035.56 Q98.5613 1040.14 92.7512 1040.14 Q86.941 1040.14 83.8623 1035.56 Q80.8068 1030.95 80.8068 1022.22 Q80.8068 1013.47 83.8623 1008.89 Q86.941 1004.28 92.7512 1004.28 Z\" fill=\"#000000\" fill-rule=\"nonzero\" fill-opacity=\"1\" /><path clip-path=\"url(#clip800)\" d=\"M56.6171 571.274 L72.9365 571.274 L72.9365 575.209 L50.9921 575.209 L50.9921 571.274 Q53.6541 568.52 58.2375 563.89 Q62.8439 559.237 64.0245 557.895 Q66.2698 555.371 67.1494 553.635 Q68.0522 551.876 68.0522 550.186 Q68.0522 547.432 66.1078 545.696 Q64.1865 543.959 61.0847 543.959 Q58.8856 543.959 56.4319 544.723 Q54.0014 545.487 51.2236 547.038 L51.2236 542.316 Q54.0477 541.182 56.5014 540.603 Q58.955 540.024 60.9921 540.024 Q66.3624 540.024 69.5568 542.709 Q72.7513 545.395 72.7513 549.885 Q72.7513 552.015 71.9411 553.936 Q71.1541 555.834 69.0476 558.427 Q68.4689 559.098 65.367 562.316 Q62.2652 565.51 56.6171 571.274 Z\" fill=\"#000000\" fill-rule=\"nonzero\" fill-opacity=\"1\" /><path clip-path=\"url(#clip800)\" d=\"M92.7512 543.728 Q89.1401 543.728 87.3114 547.293 Q85.5058 550.834 85.5058 557.964 Q85.5058 565.07 87.3114 568.635 Q89.1401 572.177 92.7512 572.177 Q96.3854 572.177 98.1909 568.635 Q100.02 565.07 100.02 557.964 Q100.02 550.834 98.1909 547.293 Q96.3854 543.728 92.7512 543.728 M92.7512 540.024 Q98.5613 540.024 101.617 544.631 Q104.696 549.214 104.696 557.964 Q104.696 566.691 101.617 571.297 Q98.5613 575.881 92.7512 575.881 Q86.941 575.881 83.8623 571.297 Q80.8068 566.691 80.8068 557.964 Q80.8068 549.214 83.8623 544.631 Q86.941 540.024 92.7512 540.024 Z\" fill=\"#000000\" fill-rule=\"nonzero\" fill-opacity=\"1\" /><path clip-path=\"url(#clip800)\" d=\"M66.7559 92.3159 Q70.1124 93.0335 71.9874 95.302 Q73.8855 97.5705 73.8855 100.904 Q73.8855 106.019 70.367 108.82 Q66.8485 111.621 60.3671 111.621 Q58.1912 111.621 55.8764 111.182 Q53.5847 110.765 51.131 109.908 L51.131 105.394 Q53.0754 106.529 55.3903 107.107 Q57.7051 107.686 60.2282 107.686 Q64.6263 107.686 66.918 105.95 Q69.2328 104.214 69.2328 100.904 Q69.2328 97.8482 67.08 96.1353 Q64.9504 94.3992 61.131 94.3992 L57.1032 94.3992 L57.1032 90.5566 L61.3161 90.5566 Q64.7652 90.5566 66.5939 89.1909 Q68.4226 87.802 68.4226 85.2094 Q68.4226 82.5474 66.5245 81.1354 Q64.6495 79.7002 61.131 79.7002 Q59.2097 79.7002 57.0106 80.1169 Q54.8115 80.5335 52.1727 81.4131 L52.1727 77.2465 Q54.8347 76.5058 57.1495 76.1354 Q59.4875 75.765 61.5476 75.765 Q66.8717 75.765 69.9735 78.1956 Q73.0753 80.603 73.0753 84.7233 Q73.0753 87.5937 71.4318 89.5844 Q69.7883 91.552 66.7559 92.3159 Z\" fill=\"#000000\" fill-rule=\"nonzero\" fill-opacity=\"1\" /><path clip-path=\"url(#clip800)\" d=\"M92.7512 79.4687 Q89.1401 79.4687 87.3114 83.0335 Q85.5058 86.5752 85.5058 93.7047 Q85.5058 100.811 87.3114 104.376 Q89.1401 107.918 92.7512 107.918 Q96.3854 107.918 98.1909 104.376 Q100.02 100.811 100.02 93.7047 Q100.02 86.5752 98.1909 83.0335 Q96.3854 79.4687 92.7512 79.4687 M92.7512 75.765 Q98.5613 75.765 101.617 80.3715 Q104.696 84.9548 104.696 93.7047 Q104.696 102.432 101.617 107.038 Q98.5613 111.621 92.7512 111.621 Q86.941 111.621 83.8623 107.038 Q80.8068 102.432 80.8068 93.7047 Q80.8068 84.9548 83.8623 80.3715 Q86.941 75.765 92.7512 75.765 Z\" fill=\"#000000\" fill-rule=\"nonzero\" fill-opacity=\"1\" /><path clip-path=\"url(#clip802)\" d=\"M262.363 1440.02 L262.363 1486.45 L371.736 1486.45 L371.736 1440.02 L262.363 1440.02 L262.363 1440.02  Z\" fill=\"#009af9\" fill-rule=\"evenodd\" fill-opacity=\"1\"/>\n",
       "<polyline clip-path=\"url(#clip802)\" style=\"stroke:#000000; stroke-linecap:round; stroke-linejoin:round; stroke-width:4; stroke-opacity:1; fill:none\" points=\"262.363,1440.02 262.363,1486.45 371.736,1486.45 371.736,1440.02 262.363,1440.02 \"/>\n",
       "<path clip-path=\"url(#clip802)\" d=\"M371.736 372.226 L371.736 1486.45 L481.11 1486.45 L481.11 372.226 L371.736 372.226 L371.736 372.226  Z\" fill=\"#009af9\" fill-rule=\"evenodd\" fill-opacity=\"1\"/>\n",
       "<polyline clip-path=\"url(#clip802)\" style=\"stroke:#000000; stroke-linecap:round; stroke-linejoin:round; stroke-width:4; stroke-opacity:1; fill:none\" points=\"371.736,372.226 371.736,1486.45 481.11,1486.45 481.11,372.226 371.736,372.226 \"/>\n",
       "<path clip-path=\"url(#clip802)\" d=\"M481.11 47.2441 L481.11 1486.45 L590.484 1486.45 L590.484 47.2441 L481.11 47.2441 L481.11 47.2441  Z\" fill=\"#009af9\" fill-rule=\"evenodd\" fill-opacity=\"1\"/>\n",
       "<polyline clip-path=\"url(#clip802)\" style=\"stroke:#000000; stroke-linecap:round; stroke-linejoin:round; stroke-width:4; stroke-opacity:1; fill:none\" points=\"481.11,47.2441 481.11,1486.45 590.484,1486.45 590.484,47.2441 481.11,47.2441 \"/>\n",
       "<path clip-path=\"url(#clip802)\" d=\"M590.484 882.911 L590.484 1486.45 L699.857 1486.45 L699.857 882.911 L590.484 882.911 L590.484 882.911  Z\" fill=\"#009af9\" fill-rule=\"evenodd\" fill-opacity=\"1\"/>\n",
       "<polyline clip-path=\"url(#clip802)\" style=\"stroke:#000000; stroke-linecap:round; stroke-linejoin:round; stroke-width:4; stroke-opacity:1; fill:none\" points=\"590.484,882.911 590.484,1486.45 699.857,1486.45 699.857,882.911 590.484,882.911 \"/>\n",
       "<path clip-path=\"url(#clip802)\" d=\"M699.857 1068.61 L699.857 1486.45 L809.231 1486.45 L809.231 1068.61 L699.857 1068.61 L699.857 1068.61  Z\" fill=\"#009af9\" fill-rule=\"evenodd\" fill-opacity=\"1\"/>\n",
       "<polyline clip-path=\"url(#clip802)\" style=\"stroke:#000000; stroke-linecap:round; stroke-linejoin:round; stroke-width:4; stroke-opacity:1; fill:none\" points=\"699.857,1068.61 699.857,1486.45 809.231,1486.45 809.231,1068.61 699.857,1068.61 \"/>\n",
       "<path clip-path=\"url(#clip802)\" d=\"M809.231 882.911 L809.231 1486.45 L918.605 1486.45 L918.605 882.911 L809.231 882.911 L809.231 882.911  Z\" fill=\"#009af9\" fill-rule=\"evenodd\" fill-opacity=\"1\"/>\n",
       "<polyline clip-path=\"url(#clip802)\" style=\"stroke:#000000; stroke-linecap:round; stroke-linejoin:round; stroke-width:4; stroke-opacity:1; fill:none\" points=\"809.231,882.911 809.231,1486.45 918.605,1486.45 918.605,882.911 809.231,882.911 \"/>\n",
       "<path clip-path=\"url(#clip802)\" d=\"M918.605 975.763 L918.605 1486.45 L1027.98 1486.45 L1027.98 975.763 L918.605 975.763 L918.605 975.763  Z\" fill=\"#009af9\" fill-rule=\"evenodd\" fill-opacity=\"1\"/>\n",
       "<polyline clip-path=\"url(#clip802)\" style=\"stroke:#000000; stroke-linecap:round; stroke-linejoin:round; stroke-width:4; stroke-opacity:1; fill:none\" points=\"918.605,975.763 918.605,1486.45 1027.98,1486.45 1027.98,975.763 918.605,975.763 \"/>\n",
       "<path clip-path=\"url(#clip802)\" d=\"M1027.98 882.911 L1027.98 1486.45 L1137.35 1486.45 L1137.35 882.911 L1027.98 882.911 L1027.98 882.911  Z\" fill=\"#009af9\" fill-rule=\"evenodd\" fill-opacity=\"1\"/>\n",
       "<polyline clip-path=\"url(#clip802)\" style=\"stroke:#000000; stroke-linecap:round; stroke-linejoin:round; stroke-width:4; stroke-opacity:1; fill:none\" points=\"1027.98,882.911 1027.98,1486.45 1137.35,1486.45 1137.35,882.911 1027.98,882.911 \"/>\n",
       "<path clip-path=\"url(#clip802)\" d=\"M1137.35 1254.32 L1137.35 1486.45 L1246.73 1486.45 L1246.73 1254.32 L1137.35 1254.32 L1137.35 1254.32  Z\" fill=\"#009af9\" fill-rule=\"evenodd\" fill-opacity=\"1\"/>\n",
       "<polyline clip-path=\"url(#clip802)\" style=\"stroke:#000000; stroke-linecap:round; stroke-linejoin:round; stroke-width:4; stroke-opacity:1; fill:none\" points=\"1137.35,1254.32 1137.35,1486.45 1246.73,1486.45 1246.73,1254.32 1137.35,1254.32 \"/>\n",
       "<path clip-path=\"url(#clip802)\" d=\"M1246.73 1486.45 L1246.73 1486.45 L1356.1 1486.45 L1356.1 1486.45 L1246.73 1486.45 L1246.73 1486.45  Z\" fill=\"#009af9\" fill-rule=\"evenodd\" fill-opacity=\"1\"/>\n",
       "<polyline clip-path=\"url(#clip802)\" style=\"stroke:#000000; stroke-linecap:round; stroke-linejoin:round; stroke-width:4; stroke-opacity:1; fill:none\" points=\"1246.73,1486.45 1246.73,1486.45 1356.1,1486.45 1246.73,1486.45 \"/>\n",
       "<path clip-path=\"url(#clip802)\" d=\"M1356.1 1486.45 L1356.1 1486.45 L1465.47 1486.45 L1465.47 1486.45 L1356.1 1486.45 L1356.1 1486.45  Z\" fill=\"#009af9\" fill-rule=\"evenodd\" fill-opacity=\"1\"/>\n",
       "<polyline clip-path=\"url(#clip802)\" style=\"stroke:#000000; stroke-linecap:round; stroke-linejoin:round; stroke-width:4; stroke-opacity:1; fill:none\" points=\"1356.1,1486.45 1356.1,1486.45 1465.47,1486.45 1356.1,1486.45 \"/>\n",
       "<path clip-path=\"url(#clip802)\" d=\"M1465.47 1347.17 L1465.47 1486.45 L1574.85 1486.45 L1574.85 1347.17 L1465.47 1347.17 L1465.47 1347.17  Z\" fill=\"#009af9\" fill-rule=\"evenodd\" fill-opacity=\"1\"/>\n",
       "<polyline clip-path=\"url(#clip802)\" style=\"stroke:#000000; stroke-linecap:round; stroke-linejoin:round; stroke-width:4; stroke-opacity:1; fill:none\" points=\"1465.47,1347.17 1465.47,1486.45 1574.85,1486.45 1574.85,1347.17 1465.47,1347.17 \"/>\n",
       "<path clip-path=\"url(#clip802)\" d=\"M1574.85 975.763 L1574.85 1486.45 L1684.22 1486.45 L1684.22 975.763 L1574.85 975.763 L1574.85 975.763  Z\" fill=\"#009af9\" fill-rule=\"evenodd\" fill-opacity=\"1\"/>\n",
       "<polyline clip-path=\"url(#clip802)\" style=\"stroke:#000000; stroke-linecap:round; stroke-linejoin:round; stroke-width:4; stroke-opacity:1; fill:none\" points=\"1574.85,975.763 1574.85,1486.45 1684.22,1486.45 1684.22,975.763 1574.85,975.763 \"/>\n",
       "<path clip-path=\"url(#clip802)\" d=\"M1684.22 836.485 L1684.22 1486.45 L1793.59 1486.45 L1793.59 836.485 L1684.22 836.485 L1684.22 836.485  Z\" fill=\"#009af9\" fill-rule=\"evenodd\" fill-opacity=\"1\"/>\n",
       "<polyline clip-path=\"url(#clip802)\" style=\"stroke:#000000; stroke-linecap:round; stroke-linejoin:round; stroke-width:4; stroke-opacity:1; fill:none\" points=\"1684.22,836.485 1684.22,1486.45 1793.59,1486.45 1793.59,836.485 1684.22,836.485 \"/>\n",
       "<path clip-path=\"url(#clip802)\" d=\"M1793.59 1347.17 L1793.59 1486.45 L1902.97 1486.45 L1902.97 1347.17 L1793.59 1347.17 L1793.59 1347.17  Z\" fill=\"#009af9\" fill-rule=\"evenodd\" fill-opacity=\"1\"/>\n",
       "<polyline clip-path=\"url(#clip802)\" style=\"stroke:#000000; stroke-linecap:round; stroke-linejoin:round; stroke-width:4; stroke-opacity:1; fill:none\" points=\"1793.59,1347.17 1793.59,1486.45 1902.97,1486.45 1902.97,1347.17 1793.59,1347.17 \"/>\n",
       "<path clip-path=\"url(#clip802)\" d=\"M1902.97 1161.47 L1902.97 1486.45 L2012.34 1486.45 L2012.34 1161.47 L1902.97 1161.47 L1902.97 1161.47  Z\" fill=\"#009af9\" fill-rule=\"evenodd\" fill-opacity=\"1\"/>\n",
       "<polyline clip-path=\"url(#clip802)\" style=\"stroke:#000000; stroke-linecap:round; stroke-linejoin:round; stroke-width:4; stroke-opacity:1; fill:none\" points=\"1902.97,1161.47 1902.97,1486.45 2012.34,1486.45 2012.34,1161.47 1902.97,1161.47 \"/>\n",
       "<path clip-path=\"url(#clip802)\" d=\"M2012.34 1022.19 L2012.34 1486.45 L2121.71 1486.45 L2121.71 1022.19 L2012.34 1022.19 L2012.34 1022.19  Z\" fill=\"#009af9\" fill-rule=\"evenodd\" fill-opacity=\"1\"/>\n",
       "<polyline clip-path=\"url(#clip802)\" style=\"stroke:#000000; stroke-linecap:round; stroke-linejoin:round; stroke-width:4; stroke-opacity:1; fill:none\" points=\"2012.34,1022.19 2012.34,1486.45 2121.71,1486.45 2121.71,1022.19 2012.34,1022.19 \"/>\n",
       "<path clip-path=\"url(#clip802)\" d=\"M2121.71 929.337 L2121.71 1486.45 L2231.09 1486.45 L2231.09 929.337 L2121.71 929.337 L2121.71 929.337  Z\" fill=\"#009af9\" fill-rule=\"evenodd\" fill-opacity=\"1\"/>\n",
       "<polyline clip-path=\"url(#clip802)\" style=\"stroke:#000000; stroke-linecap:round; stroke-linejoin:round; stroke-width:4; stroke-opacity:1; fill:none\" points=\"2121.71,929.337 2121.71,1486.45 2231.09,1486.45 2231.09,929.337 2121.71,929.337 \"/>\n",
       "<circle clip-path=\"url(#clip802)\" style=\"fill:#009af9; stroke:none; fill-opacity:0\" cx=\"317.05\" cy=\"1440.02\" r=\"2\"/>\n",
       "<circle clip-path=\"url(#clip802)\" style=\"fill:#009af9; stroke:none; fill-opacity:0\" cx=\"426.423\" cy=\"372.226\" r=\"2\"/>\n",
       "<circle clip-path=\"url(#clip802)\" style=\"fill:#009af9; stroke:none; fill-opacity:0\" cx=\"535.797\" cy=\"47.2441\" r=\"2\"/>\n",
       "<circle clip-path=\"url(#clip802)\" style=\"fill:#009af9; stroke:none; fill-opacity:0\" cx=\"645.171\" cy=\"882.911\" r=\"2\"/>\n",
       "<circle clip-path=\"url(#clip802)\" style=\"fill:#009af9; stroke:none; fill-opacity:0\" cx=\"754.544\" cy=\"1068.61\" r=\"2\"/>\n",
       "<circle clip-path=\"url(#clip802)\" style=\"fill:#009af9; stroke:none; fill-opacity:0\" cx=\"863.918\" cy=\"882.911\" r=\"2\"/>\n",
       "<circle clip-path=\"url(#clip802)\" style=\"fill:#009af9; stroke:none; fill-opacity:0\" cx=\"973.292\" cy=\"975.763\" r=\"2\"/>\n",
       "<circle clip-path=\"url(#clip802)\" style=\"fill:#009af9; stroke:none; fill-opacity:0\" cx=\"1082.67\" cy=\"882.911\" r=\"2\"/>\n",
       "<circle clip-path=\"url(#clip802)\" style=\"fill:#009af9; stroke:none; fill-opacity:0\" cx=\"1192.04\" cy=\"1254.32\" r=\"2\"/>\n",
       "<circle clip-path=\"url(#clip802)\" style=\"fill:#009af9; stroke:none; fill-opacity:0\" cx=\"1301.41\" cy=\"1486.45\" r=\"2\"/>\n",
       "<circle clip-path=\"url(#clip802)\" style=\"fill:#009af9; stroke:none; fill-opacity:0\" cx=\"1410.79\" cy=\"1486.45\" r=\"2\"/>\n",
       "<circle clip-path=\"url(#clip802)\" style=\"fill:#009af9; stroke:none; fill-opacity:0\" cx=\"1520.16\" cy=\"1347.17\" r=\"2\"/>\n",
       "<circle clip-path=\"url(#clip802)\" style=\"fill:#009af9; stroke:none; fill-opacity:0\" cx=\"1629.53\" cy=\"975.763\" r=\"2\"/>\n",
       "<circle clip-path=\"url(#clip802)\" style=\"fill:#009af9; stroke:none; fill-opacity:0\" cx=\"1738.91\" cy=\"836.485\" r=\"2\"/>\n",
       "<circle clip-path=\"url(#clip802)\" style=\"fill:#009af9; stroke:none; fill-opacity:0\" cx=\"1848.28\" cy=\"1347.17\" r=\"2\"/>\n",
       "<circle clip-path=\"url(#clip802)\" style=\"fill:#009af9; stroke:none; fill-opacity:0\" cx=\"1957.65\" cy=\"1161.47\" r=\"2\"/>\n",
       "<circle clip-path=\"url(#clip802)\" style=\"fill:#009af9; stroke:none; fill-opacity:0\" cx=\"2067.03\" cy=\"1022.19\" r=\"2\"/>\n",
       "<circle clip-path=\"url(#clip802)\" style=\"fill:#009af9; stroke:none; fill-opacity:0\" cx=\"2176.4\" cy=\"929.337\" r=\"2\"/>\n",
       "<path clip-path=\"url(#clip800)\" d=\"M2005.38 198.898 L2279.02 198.898 L2279.02 95.2176 L2005.38 95.2176  Z\" fill=\"#ffffff\" fill-rule=\"evenodd\" fill-opacity=\"1\"/>\n",
       "<polyline clip-path=\"url(#clip800)\" style=\"stroke:#000000; stroke-linecap:round; stroke-linejoin:round; stroke-width:4; stroke-opacity:1; fill:none\" points=\"2005.38,198.898 2279.02,198.898 2279.02,95.2176 2005.38,95.2176 2005.38,198.898 \"/>\n",
       "<path clip-path=\"url(#clip800)\" d=\"M2029.96 167.794 L2177.43 167.794 L2177.43 126.322 L2029.96 126.322 L2029.96 167.794  Z\" fill=\"#009af9\" fill-rule=\"evenodd\" fill-opacity=\"1\"/>\n",
       "<polyline clip-path=\"url(#clip800)\" style=\"stroke:#000000; stroke-linecap:round; stroke-linejoin:round; stroke-width:4; stroke-opacity:1; fill:none\" points=\"2029.96,167.794 2177.43,167.794 2177.43,126.322 2029.96,126.322 2029.96,167.794 \"/>\n",
       "<path clip-path=\"url(#clip800)\" d=\"M2215.85 166.745 Q2214.05 171.375 2212.34 172.787 Q2210.62 174.199 2207.75 174.199 L2204.35 174.199 L2204.35 170.634 L2206.85 170.634 Q2208.61 170.634 2209.58 169.8 Q2210.55 168.967 2211.73 165.865 L2212.5 163.921 L2202.01 138.412 L2206.53 138.412 L2214.63 158.689 L2222.73 138.412 L2227.24 138.412 L2215.85 166.745 Z\" fill=\"#000000\" fill-rule=\"nonzero\" fill-opacity=\"1\" /><path clip-path=\"url(#clip800)\" d=\"M2234.53 160.402 L2242.17 160.402 L2242.17 134.037 L2233.86 135.703 L2233.86 131.444 L2242.13 129.778 L2246.8 129.778 L2246.8 160.402 L2254.44 160.402 L2254.44 164.338 L2234.53 164.338 L2234.53 160.402 Z\" fill=\"#000000\" fill-rule=\"nonzero\" fill-opacity=\"1\" /></svg>\n"
      ],
      "text/html": [
       "<?xml version=\"1.0\" encoding=\"utf-8\"?>\n",
       "<svg xmlns=\"http://www.w3.org/2000/svg\" xmlns:xlink=\"http://www.w3.org/1999/xlink\" width=\"600\" height=\"400\" viewBox=\"0 0 2400 1600\">\n",
       "<defs>\n",
       "  <clipPath id=\"clip850\">\n",
       "    <rect x=\"0\" y=\"0\" width=\"2400\" height=\"1600\"/>\n",
       "  </clipPath>\n",
       "</defs>\n",
       "<path clip-path=\"url(#clip850)\" d=\"M0 1600 L2400 1600 L2400 0 L0 0  Z\" fill=\"#ffffff\" fill-rule=\"evenodd\" fill-opacity=\"1\"/>\n",
       "<defs>\n",
       "  <clipPath id=\"clip851\">\n",
       "    <rect x=\"480\" y=\"0\" width=\"1681\" height=\"1600\"/>\n",
       "  </clipPath>\n",
       "</defs>\n",
       "<path clip-path=\"url(#clip850)\" d=\"M140.696 1486.45 L2352.76 1486.45 L2352.76 47.2441 L140.696 47.2441  Z\" fill=\"#ffffff\" fill-rule=\"evenodd\" fill-opacity=\"1\"/>\n",
       "<defs>\n",
       "  <clipPath id=\"clip852\">\n",
       "    <rect x=\"140\" y=\"47\" width=\"2213\" height=\"1440\"/>\n",
       "  </clipPath>\n",
       "</defs>\n",
       "<polyline clip-path=\"url(#clip852)\" style=\"stroke:#000000; stroke-linecap:round; stroke-linejoin:round; stroke-width:2; stroke-opacity:0.1; fill:none\" points=\"152.989,1486.45 152.989,47.2441 \"/>\n",
       "<polyline clip-path=\"url(#clip852)\" style=\"stroke:#000000; stroke-linecap:round; stroke-linejoin:round; stroke-width:2; stroke-opacity:0.1; fill:none\" points=\"699.857,1486.45 699.857,47.2441 \"/>\n",
       "<polyline clip-path=\"url(#clip852)\" style=\"stroke:#000000; stroke-linecap:round; stroke-linejoin:round; stroke-width:2; stroke-opacity:0.1; fill:none\" points=\"1246.73,1486.45 1246.73,47.2441 \"/>\n",
       "<polyline clip-path=\"url(#clip852)\" style=\"stroke:#000000; stroke-linecap:round; stroke-linejoin:round; stroke-width:2; stroke-opacity:0.1; fill:none\" points=\"1793.59,1486.45 1793.59,47.2441 \"/>\n",
       "<polyline clip-path=\"url(#clip852)\" style=\"stroke:#000000; stroke-linecap:round; stroke-linejoin:round; stroke-width:2; stroke-opacity:0.1; fill:none\" points=\"2340.46,1486.45 2340.46,47.2441 \"/>\n",
       "<polyline clip-path=\"url(#clip850)\" style=\"stroke:#000000; stroke-linecap:round; stroke-linejoin:round; stroke-width:4; stroke-opacity:1; fill:none\" points=\"140.696,1486.45 2352.76,1486.45 \"/>\n",
       "<polyline clip-path=\"url(#clip850)\" style=\"stroke:#000000; stroke-linecap:round; stroke-linejoin:round; stroke-width:4; stroke-opacity:1; fill:none\" points=\"152.989,1486.45 152.989,1467.55 \"/>\n",
       "<polyline clip-path=\"url(#clip850)\" style=\"stroke:#000000; stroke-linecap:round; stroke-linejoin:round; stroke-width:4; stroke-opacity:1; fill:none\" points=\"699.857,1486.45 699.857,1467.55 \"/>\n",
       "<polyline clip-path=\"url(#clip850)\" style=\"stroke:#000000; stroke-linecap:round; stroke-linejoin:round; stroke-width:4; stroke-opacity:1; fill:none\" points=\"1246.73,1486.45 1246.73,1467.55 \"/>\n",
       "<polyline clip-path=\"url(#clip850)\" style=\"stroke:#000000; stroke-linecap:round; stroke-linejoin:round; stroke-width:4; stroke-opacity:1; fill:none\" points=\"1793.59,1486.45 1793.59,1467.55 \"/>\n",
       "<polyline clip-path=\"url(#clip850)\" style=\"stroke:#000000; stroke-linecap:round; stroke-linejoin:round; stroke-width:4; stroke-opacity:1; fill:none\" points=\"2340.46,1486.45 2340.46,1467.55 \"/>\n",
       "<path clip-path=\"url(#clip850)\" d=\"M115.293 1517.37 Q111.681 1517.37 109.853 1520.93 Q108.047 1524.47 108.047 1531.6 Q108.047 1538.71 109.853 1542.27 Q111.681 1545.82 115.293 1545.82 Q118.927 1545.82 120.732 1542.27 Q122.561 1538.71 122.561 1531.6 Q122.561 1524.47 120.732 1520.93 Q118.927 1517.37 115.293 1517.37 M115.293 1513.66 Q121.103 1513.66 124.158 1518.27 Q127.237 1522.85 127.237 1531.6 Q127.237 1540.33 124.158 1544.94 Q121.103 1549.52 115.293 1549.52 Q109.482 1549.52 106.404 1544.94 Q103.348 1540.33 103.348 1531.6 Q103.348 1522.85 106.404 1518.27 Q109.482 1513.66 115.293 1513.66 Z\" fill=\"#000000\" fill-rule=\"nonzero\" fill-opacity=\"1\" /><path clip-path=\"url(#clip850)\" d=\"M135.455 1542.97 L140.339 1542.97 L140.339 1548.85 L135.455 1548.85 L135.455 1542.97 Z\" fill=\"#000000\" fill-rule=\"nonzero\" fill-opacity=\"1\" /><path clip-path=\"url(#clip850)\" d=\"M160.524 1517.37 Q156.913 1517.37 155.084 1520.93 Q153.278 1524.47 153.278 1531.6 Q153.278 1538.71 155.084 1542.27 Q156.913 1545.82 160.524 1545.82 Q164.158 1545.82 165.964 1542.27 Q167.792 1538.71 167.792 1531.6 Q167.792 1524.47 165.964 1520.93 Q164.158 1517.37 160.524 1517.37 M160.524 1513.66 Q166.334 1513.66 169.39 1518.27 Q172.468 1522.85 172.468 1531.6 Q172.468 1540.33 169.39 1544.94 Q166.334 1549.52 160.524 1549.52 Q154.714 1549.52 151.635 1544.94 Q148.579 1540.33 148.579 1531.6 Q148.579 1522.85 151.635 1518.27 Q154.714 1513.66 160.524 1513.66 Z\" fill=\"#000000\" fill-rule=\"nonzero\" fill-opacity=\"1\" /><path clip-path=\"url(#clip850)\" d=\"M190.686 1517.37 Q187.075 1517.37 185.246 1520.93 Q183.44 1524.47 183.44 1531.6 Q183.44 1538.71 185.246 1542.27 Q187.075 1545.82 190.686 1545.82 Q194.32 1545.82 196.125 1542.27 Q197.954 1538.71 197.954 1531.6 Q197.954 1524.47 196.125 1520.93 Q194.32 1517.37 190.686 1517.37 M190.686 1513.66 Q196.496 1513.66 199.551 1518.27 Q202.63 1522.85 202.63 1531.6 Q202.63 1540.33 199.551 1544.94 Q196.496 1549.52 190.686 1549.52 Q184.876 1549.52 181.797 1544.94 Q178.741 1540.33 178.741 1531.6 Q178.741 1522.85 181.797 1518.27 Q184.876 1513.66 190.686 1513.66 Z\" fill=\"#000000\" fill-rule=\"nonzero\" fill-opacity=\"1\" /><path clip-path=\"url(#clip850)\" d=\"M662.659 1517.37 Q659.047 1517.37 657.219 1520.93 Q655.413 1524.47 655.413 1531.6 Q655.413 1538.71 657.219 1542.27 Q659.047 1545.82 662.659 1545.82 Q666.293 1545.82 668.098 1542.27 Q669.927 1538.71 669.927 1531.6 Q669.927 1524.47 668.098 1520.93 Q666.293 1517.37 662.659 1517.37 M662.659 1513.66 Q668.469 1513.66 671.524 1518.27 Q674.603 1522.85 674.603 1531.6 Q674.603 1540.33 671.524 1544.94 Q668.469 1549.52 662.659 1549.52 Q656.848 1549.52 653.77 1544.94 Q650.714 1540.33 650.714 1531.6 Q650.714 1522.85 653.77 1518.27 Q656.848 1513.66 662.659 1513.66 Z\" fill=\"#000000\" fill-rule=\"nonzero\" fill-opacity=\"1\" /><path clip-path=\"url(#clip850)\" d=\"M682.82 1542.97 L687.705 1542.97 L687.705 1548.85 L682.82 1548.85 L682.82 1542.97 Z\" fill=\"#000000\" fill-rule=\"nonzero\" fill-opacity=\"1\" /><path clip-path=\"url(#clip850)\" d=\"M701.918 1544.91 L718.237 1544.91 L718.237 1548.85 L696.293 1548.85 L696.293 1544.91 Q698.955 1542.16 703.538 1537.53 Q708.144 1532.88 709.325 1531.53 Q711.57 1529.01 712.45 1527.27 Q713.353 1525.51 713.353 1523.82 Q713.353 1521.07 711.408 1519.33 Q709.487 1517.6 706.385 1517.6 Q704.186 1517.6 701.732 1518.36 Q699.302 1519.13 696.524 1520.68 L696.524 1515.95 Q699.348 1514.82 701.802 1514.24 Q704.256 1513.66 706.293 1513.66 Q711.663 1513.66 714.857 1516.35 Q718.052 1519.03 718.052 1523.52 Q718.052 1525.65 717.242 1527.57 Q716.455 1529.47 714.348 1532.07 Q713.769 1532.74 710.668 1535.95 Q707.566 1539.15 701.918 1544.91 Z\" fill=\"#000000\" fill-rule=\"nonzero\" fill-opacity=\"1\" /><path clip-path=\"url(#clip850)\" d=\"M728.098 1514.29 L746.454 1514.29 L746.454 1518.22 L732.38 1518.22 L732.38 1526.7 Q733.399 1526.35 734.417 1526.19 Q735.436 1526 736.454 1526 Q742.241 1526 745.621 1529.17 Q749.001 1532.34 749.001 1537.76 Q749.001 1543.34 745.528 1546.44 Q742.056 1549.52 735.737 1549.52 Q733.561 1549.52 731.292 1549.15 Q729.047 1548.78 726.64 1548.04 L726.64 1543.34 Q728.723 1544.47 730.945 1545.03 Q733.167 1545.58 735.644 1545.58 Q739.649 1545.58 741.987 1543.48 Q744.325 1541.37 744.325 1537.76 Q744.325 1534.15 741.987 1532.04 Q739.649 1529.94 735.644 1529.94 Q733.769 1529.94 731.894 1530.35 Q730.042 1530.77 728.098 1531.65 L728.098 1514.29 Z\" fill=\"#000000\" fill-rule=\"nonzero\" fill-opacity=\"1\" /><path clip-path=\"url(#clip850)\" d=\"M1209.03 1517.37 Q1205.42 1517.37 1203.59 1520.93 Q1201.78 1524.47 1201.78 1531.6 Q1201.78 1538.71 1203.59 1542.27 Q1205.42 1545.82 1209.03 1545.82 Q1212.66 1545.82 1214.47 1542.27 Q1216.3 1538.71 1216.3 1531.6 Q1216.3 1524.47 1214.47 1520.93 Q1212.66 1517.37 1209.03 1517.37 M1209.03 1513.66 Q1214.84 1513.66 1217.89 1518.27 Q1220.97 1522.85 1220.97 1531.6 Q1220.97 1540.33 1217.89 1544.94 Q1214.84 1549.52 1209.03 1549.52 Q1203.22 1549.52 1200.14 1544.94 Q1197.08 1540.33 1197.08 1531.6 Q1197.08 1522.85 1200.14 1518.27 Q1203.22 1513.66 1209.03 1513.66 Z\" fill=\"#000000\" fill-rule=\"nonzero\" fill-opacity=\"1\" /><path clip-path=\"url(#clip850)\" d=\"M1229.19 1542.97 L1234.08 1542.97 L1234.08 1548.85 L1229.19 1548.85 L1229.19 1542.97 Z\" fill=\"#000000\" fill-rule=\"nonzero\" fill-opacity=\"1\" /><path clip-path=\"url(#clip850)\" d=\"M1244.31 1514.29 L1262.66 1514.29 L1262.66 1518.22 L1248.59 1518.22 L1248.59 1526.7 Q1249.61 1526.35 1250.63 1526.19 Q1251.64 1526 1252.66 1526 Q1258.45 1526 1261.83 1529.17 Q1265.21 1532.34 1265.21 1537.76 Q1265.21 1543.34 1261.74 1546.44 Q1258.27 1549.52 1251.95 1549.52 Q1249.77 1549.52 1247.5 1549.15 Q1245.26 1548.78 1242.85 1548.04 L1242.85 1543.34 Q1244.93 1544.47 1247.15 1545.03 Q1249.38 1545.58 1251.85 1545.58 Q1255.86 1545.58 1258.2 1543.48 Q1260.53 1541.37 1260.53 1537.76 Q1260.53 1534.15 1258.2 1532.04 Q1255.86 1529.94 1251.85 1529.94 Q1249.98 1529.94 1248.1 1530.35 Q1246.25 1530.77 1244.31 1531.65 L1244.31 1514.29 Z\" fill=\"#000000\" fill-rule=\"nonzero\" fill-opacity=\"1\" /><path clip-path=\"url(#clip850)\" d=\"M1284.42 1517.37 Q1280.81 1517.37 1278.98 1520.93 Q1277.18 1524.47 1277.18 1531.6 Q1277.18 1538.71 1278.98 1542.27 Q1280.81 1545.82 1284.42 1545.82 Q1288.06 1545.82 1289.86 1542.27 Q1291.69 1538.71 1291.69 1531.6 Q1291.69 1524.47 1289.86 1520.93 Q1288.06 1517.37 1284.42 1517.37 M1284.42 1513.66 Q1290.23 1513.66 1293.29 1518.27 Q1296.37 1522.85 1296.37 1531.6 Q1296.37 1540.33 1293.29 1544.94 Q1290.23 1549.52 1284.42 1549.52 Q1278.61 1549.52 1275.53 1544.94 Q1272.48 1540.33 1272.48 1531.6 Q1272.48 1522.85 1275.53 1518.27 Q1278.61 1513.66 1284.42 1513.66 Z\" fill=\"#000000\" fill-rule=\"nonzero\" fill-opacity=\"1\" /><path clip-path=\"url(#clip850)\" d=\"M1756.4 1517.37 Q1752.78 1517.37 1750.96 1520.93 Q1749.15 1524.47 1749.15 1531.6 Q1749.15 1538.71 1750.96 1542.27 Q1752.78 1545.82 1756.4 1545.82 Q1760.03 1545.82 1761.83 1542.27 Q1763.66 1538.71 1763.66 1531.6 Q1763.66 1524.47 1761.83 1520.93 Q1760.03 1517.37 1756.4 1517.37 M1756.4 1513.66 Q1762.21 1513.66 1765.26 1518.27 Q1768.34 1522.85 1768.34 1531.6 Q1768.34 1540.33 1765.26 1544.94 Q1762.21 1549.52 1756.4 1549.52 Q1750.58 1549.52 1747.51 1544.94 Q1744.45 1540.33 1744.45 1531.6 Q1744.45 1522.85 1747.51 1518.27 Q1750.58 1513.66 1756.4 1513.66 Z\" fill=\"#000000\" fill-rule=\"nonzero\" fill-opacity=\"1\" /><path clip-path=\"url(#clip850)\" d=\"M1776.56 1542.97 L1781.44 1542.97 L1781.44 1548.85 L1776.56 1548.85 L1776.56 1542.97 Z\" fill=\"#000000\" fill-rule=\"nonzero\" fill-opacity=\"1\" /><path clip-path=\"url(#clip850)\" d=\"M1790.45 1514.29 L1812.67 1514.29 L1812.67 1516.28 L1800.12 1548.85 L1795.24 1548.85 L1807.04 1518.22 L1790.45 1518.22 L1790.45 1514.29 Z\" fill=\"#000000\" fill-rule=\"nonzero\" fill-opacity=\"1\" /><path clip-path=\"url(#clip850)\" d=\"M1821.83 1514.29 L1840.19 1514.29 L1840.19 1518.22 L1826.12 1518.22 L1826.12 1526.7 Q1827.14 1526.35 1828.15 1526.19 Q1829.17 1526 1830.19 1526 Q1835.98 1526 1839.36 1529.17 Q1842.74 1532.34 1842.74 1537.76 Q1842.74 1543.34 1839.27 1546.44 Q1835.79 1549.52 1829.47 1549.52 Q1827.3 1549.52 1825.03 1549.15 Q1822.78 1548.78 1820.38 1548.04 L1820.38 1543.34 Q1822.46 1544.47 1824.68 1545.03 Q1826.9 1545.58 1829.38 1545.58 Q1833.39 1545.58 1835.72 1543.48 Q1838.06 1541.37 1838.06 1537.76 Q1838.06 1534.15 1835.72 1532.04 Q1833.39 1529.94 1829.38 1529.94 Q1827.51 1529.94 1825.63 1530.35 Q1823.78 1530.77 1821.83 1531.65 L1821.83 1514.29 Z\" fill=\"#000000\" fill-rule=\"nonzero\" fill-opacity=\"1\" /><path clip-path=\"url(#clip850)\" d=\"M2292.53 1544.91 L2300.17 1544.91 L2300.17 1518.55 L2291.86 1520.21 L2291.86 1515.95 L2300.13 1514.29 L2304.8 1514.29 L2304.8 1544.91 L2312.44 1544.91 L2312.44 1548.85 L2292.53 1548.85 L2292.53 1544.91 Z\" fill=\"#000000\" fill-rule=\"nonzero\" fill-opacity=\"1\" /><path clip-path=\"url(#clip850)\" d=\"M2321.89 1542.97 L2326.77 1542.97 L2326.77 1548.85 L2321.89 1548.85 L2321.89 1542.97 Z\" fill=\"#000000\" fill-rule=\"nonzero\" fill-opacity=\"1\" /><path clip-path=\"url(#clip850)\" d=\"M2346.96 1517.37 Q2343.34 1517.37 2341.52 1520.93 Q2339.71 1524.47 2339.71 1531.6 Q2339.71 1538.71 2341.52 1542.27 Q2343.34 1545.82 2346.96 1545.82 Q2350.59 1545.82 2352.4 1542.27 Q2354.22 1538.71 2354.22 1531.6 Q2354.22 1524.47 2352.4 1520.93 Q2350.59 1517.37 2346.96 1517.37 M2346.96 1513.66 Q2352.77 1513.66 2355.82 1518.27 Q2358.9 1522.85 2358.9 1531.6 Q2358.9 1540.33 2355.82 1544.94 Q2352.77 1549.52 2346.96 1549.52 Q2341.15 1549.52 2338.07 1544.94 Q2335.01 1540.33 2335.01 1531.6 Q2335.01 1522.85 2338.07 1518.27 Q2341.15 1513.66 2346.96 1513.66 Z\" fill=\"#000000\" fill-rule=\"nonzero\" fill-opacity=\"1\" /><path clip-path=\"url(#clip850)\" d=\"M2377.12 1517.37 Q2373.51 1517.37 2371.68 1520.93 Q2369.87 1524.47 2369.87 1531.6 Q2369.87 1538.71 2371.68 1542.27 Q2373.51 1545.82 2377.12 1545.82 Q2380.75 1545.82 2382.56 1542.27 Q2384.39 1538.71 2384.39 1531.6 Q2384.39 1524.47 2382.56 1520.93 Q2380.75 1517.37 2377.12 1517.37 M2377.12 1513.66 Q2382.93 1513.66 2385.98 1518.27 Q2389.06 1522.85 2389.06 1531.6 Q2389.06 1540.33 2385.98 1544.94 Q2382.93 1549.52 2377.12 1549.52 Q2371.31 1549.52 2368.23 1544.94 Q2365.17 1540.33 2365.17 1531.6 Q2365.17 1522.85 2368.23 1518.27 Q2371.31 1513.66 2377.12 1513.66 Z\" fill=\"#000000\" fill-rule=\"nonzero\" fill-opacity=\"1\" /><polyline clip-path=\"url(#clip852)\" style=\"stroke:#000000; stroke-linecap:round; stroke-linejoin:round; stroke-width:2; stroke-opacity:0.1; fill:none\" points=\"140.696,1486.45 2352.76,1486.45 \"/>\n",
       "<polyline clip-path=\"url(#clip852)\" style=\"stroke:#000000; stroke-linecap:round; stroke-linejoin:round; stroke-width:2; stroke-opacity:0.1; fill:none\" points=\"140.696,1022.19 2352.76,1022.19 \"/>\n",
       "<polyline clip-path=\"url(#clip852)\" style=\"stroke:#000000; stroke-linecap:round; stroke-linejoin:round; stroke-width:2; stroke-opacity:0.1; fill:none\" points=\"140.696,557.929 2352.76,557.929 \"/>\n",
       "<polyline clip-path=\"url(#clip852)\" style=\"stroke:#000000; stroke-linecap:round; stroke-linejoin:round; stroke-width:2; stroke-opacity:0.1; fill:none\" points=\"140.696,93.67 2352.76,93.67 \"/>\n",
       "<polyline clip-path=\"url(#clip850)\" style=\"stroke:#000000; stroke-linecap:round; stroke-linejoin:round; stroke-width:4; stroke-opacity:1; fill:none\" points=\"140.696,1486.45 140.696,47.2441 \"/>\n",
       "<polyline clip-path=\"url(#clip850)\" style=\"stroke:#000000; stroke-linecap:round; stroke-linejoin:round; stroke-width:4; stroke-opacity:1; fill:none\" points=\"140.696,1486.45 159.593,1486.45 \"/>\n",
       "<polyline clip-path=\"url(#clip850)\" style=\"stroke:#000000; stroke-linecap:round; stroke-linejoin:round; stroke-width:4; stroke-opacity:1; fill:none\" points=\"140.696,1022.19 159.593,1022.19 \"/>\n",
       "<polyline clip-path=\"url(#clip850)\" style=\"stroke:#000000; stroke-linecap:round; stroke-linejoin:round; stroke-width:4; stroke-opacity:1; fill:none\" points=\"140.696,557.929 159.593,557.929 \"/>\n",
       "<polyline clip-path=\"url(#clip850)\" style=\"stroke:#000000; stroke-linecap:round; stroke-linejoin:round; stroke-width:4; stroke-opacity:1; fill:none\" points=\"140.696,93.67 159.593,93.67 \"/>\n",
       "<path clip-path=\"url(#clip850)\" d=\"M92.7512 1472.25 Q89.1401 1472.25 87.3114 1475.81 Q85.5058 1479.35 85.5058 1486.48 Q85.5058 1493.59 87.3114 1497.15 Q89.1401 1500.7 92.7512 1500.7 Q96.3854 1500.7 98.1909 1497.15 Q100.02 1493.59 100.02 1486.48 Q100.02 1479.35 98.1909 1475.81 Q96.3854 1472.25 92.7512 1472.25 M92.7512 1468.54 Q98.5613 1468.54 101.617 1473.15 Q104.696 1477.73 104.696 1486.48 Q104.696 1495.21 101.617 1499.82 Q98.5613 1504.4 92.7512 1504.4 Q86.941 1504.4 83.8623 1499.82 Q80.8068 1495.21 80.8068 1486.48 Q80.8068 1477.73 83.8623 1473.15 Q86.941 1468.54 92.7512 1468.54 Z\" fill=\"#000000\" fill-rule=\"nonzero\" fill-opacity=\"1\" /><path clip-path=\"url(#clip850)\" d=\"M53.3995 1035.53 L61.0384 1035.53 L61.0384 1009.17 L52.7282 1010.83 L52.7282 1006.58 L60.9921 1004.91 L65.668 1004.91 L65.668 1035.53 L73.3068 1035.53 L73.3068 1039.47 L53.3995 1039.47 L53.3995 1035.53 Z\" fill=\"#000000\" fill-rule=\"nonzero\" fill-opacity=\"1\" /><path clip-path=\"url(#clip850)\" d=\"M92.7512 1007.99 Q89.1401 1007.99 87.3114 1011.55 Q85.5058 1015.09 85.5058 1022.22 Q85.5058 1029.33 87.3114 1032.89 Q89.1401 1036.44 92.7512 1036.44 Q96.3854 1036.44 98.1909 1032.89 Q100.02 1029.33 100.02 1022.22 Q100.02 1015.09 98.1909 1011.55 Q96.3854 1007.99 92.7512 1007.99 M92.7512 1004.28 Q98.5613 1004.28 101.617 1008.89 Q104.696 1013.47 104.696 1022.22 Q104.696 1030.95 101.617 1035.56 Q98.5613 1040.14 92.7512 1040.14 Q86.941 1040.14 83.8623 1035.56 Q80.8068 1030.95 80.8068 1022.22 Q80.8068 1013.47 83.8623 1008.89 Q86.941 1004.28 92.7512 1004.28 Z\" fill=\"#000000\" fill-rule=\"nonzero\" fill-opacity=\"1\" /><path clip-path=\"url(#clip850)\" d=\"M56.6171 571.274 L72.9365 571.274 L72.9365 575.209 L50.9921 575.209 L50.9921 571.274 Q53.6541 568.52 58.2375 563.89 Q62.8439 559.237 64.0245 557.895 Q66.2698 555.371 67.1494 553.635 Q68.0522 551.876 68.0522 550.186 Q68.0522 547.432 66.1078 545.696 Q64.1865 543.959 61.0847 543.959 Q58.8856 543.959 56.4319 544.723 Q54.0014 545.487 51.2236 547.038 L51.2236 542.316 Q54.0477 541.182 56.5014 540.603 Q58.955 540.024 60.9921 540.024 Q66.3624 540.024 69.5568 542.709 Q72.7513 545.395 72.7513 549.885 Q72.7513 552.015 71.9411 553.936 Q71.1541 555.834 69.0476 558.427 Q68.4689 559.098 65.367 562.316 Q62.2652 565.51 56.6171 571.274 Z\" fill=\"#000000\" fill-rule=\"nonzero\" fill-opacity=\"1\" /><path clip-path=\"url(#clip850)\" d=\"M92.7512 543.728 Q89.1401 543.728 87.3114 547.293 Q85.5058 550.834 85.5058 557.964 Q85.5058 565.07 87.3114 568.635 Q89.1401 572.177 92.7512 572.177 Q96.3854 572.177 98.1909 568.635 Q100.02 565.07 100.02 557.964 Q100.02 550.834 98.1909 547.293 Q96.3854 543.728 92.7512 543.728 M92.7512 540.024 Q98.5613 540.024 101.617 544.631 Q104.696 549.214 104.696 557.964 Q104.696 566.691 101.617 571.297 Q98.5613 575.881 92.7512 575.881 Q86.941 575.881 83.8623 571.297 Q80.8068 566.691 80.8068 557.964 Q80.8068 549.214 83.8623 544.631 Q86.941 540.024 92.7512 540.024 Z\" fill=\"#000000\" fill-rule=\"nonzero\" fill-opacity=\"1\" /><path clip-path=\"url(#clip850)\" d=\"M66.7559 92.3159 Q70.1124 93.0335 71.9874 95.302 Q73.8855 97.5705 73.8855 100.904 Q73.8855 106.019 70.367 108.82 Q66.8485 111.621 60.3671 111.621 Q58.1912 111.621 55.8764 111.182 Q53.5847 110.765 51.131 109.908 L51.131 105.394 Q53.0754 106.529 55.3903 107.107 Q57.7051 107.686 60.2282 107.686 Q64.6263 107.686 66.918 105.95 Q69.2328 104.214 69.2328 100.904 Q69.2328 97.8482 67.08 96.1353 Q64.9504 94.3992 61.131 94.3992 L57.1032 94.3992 L57.1032 90.5566 L61.3161 90.5566 Q64.7652 90.5566 66.5939 89.1909 Q68.4226 87.802 68.4226 85.2094 Q68.4226 82.5474 66.5245 81.1354 Q64.6495 79.7002 61.131 79.7002 Q59.2097 79.7002 57.0106 80.1169 Q54.8115 80.5335 52.1727 81.4131 L52.1727 77.2465 Q54.8347 76.5058 57.1495 76.1354 Q59.4875 75.765 61.5476 75.765 Q66.8717 75.765 69.9735 78.1956 Q73.0753 80.603 73.0753 84.7233 Q73.0753 87.5937 71.4318 89.5844 Q69.7883 91.552 66.7559 92.3159 Z\" fill=\"#000000\" fill-rule=\"nonzero\" fill-opacity=\"1\" /><path clip-path=\"url(#clip850)\" d=\"M92.7512 79.4687 Q89.1401 79.4687 87.3114 83.0335 Q85.5058 86.5752 85.5058 93.7047 Q85.5058 100.811 87.3114 104.376 Q89.1401 107.918 92.7512 107.918 Q96.3854 107.918 98.1909 104.376 Q100.02 100.811 100.02 93.7047 Q100.02 86.5752 98.1909 83.0335 Q96.3854 79.4687 92.7512 79.4687 M92.7512 75.765 Q98.5613 75.765 101.617 80.3715 Q104.696 84.9548 104.696 93.7047 Q104.696 102.432 101.617 107.038 Q98.5613 111.621 92.7512 111.621 Q86.941 111.621 83.8623 107.038 Q80.8068 102.432 80.8068 93.7047 Q80.8068 84.9548 83.8623 80.3715 Q86.941 75.765 92.7512 75.765 Z\" fill=\"#000000\" fill-rule=\"nonzero\" fill-opacity=\"1\" /><path clip-path=\"url(#clip852)\" d=\"M262.363 1440.02 L262.363 1486.45 L371.736 1486.45 L371.736 1440.02 L262.363 1440.02 L262.363 1440.02  Z\" fill=\"#009af9\" fill-rule=\"evenodd\" fill-opacity=\"1\"/>\n",
       "<polyline clip-path=\"url(#clip852)\" style=\"stroke:#000000; stroke-linecap:round; stroke-linejoin:round; stroke-width:4; stroke-opacity:1; fill:none\" points=\"262.363,1440.02 262.363,1486.45 371.736,1486.45 371.736,1440.02 262.363,1440.02 \"/>\n",
       "<path clip-path=\"url(#clip852)\" d=\"M371.736 372.226 L371.736 1486.45 L481.11 1486.45 L481.11 372.226 L371.736 372.226 L371.736 372.226  Z\" fill=\"#009af9\" fill-rule=\"evenodd\" fill-opacity=\"1\"/>\n",
       "<polyline clip-path=\"url(#clip852)\" style=\"stroke:#000000; stroke-linecap:round; stroke-linejoin:round; stroke-width:4; stroke-opacity:1; fill:none\" points=\"371.736,372.226 371.736,1486.45 481.11,1486.45 481.11,372.226 371.736,372.226 \"/>\n",
       "<path clip-path=\"url(#clip852)\" d=\"M481.11 47.2441 L481.11 1486.45 L590.484 1486.45 L590.484 47.2441 L481.11 47.2441 L481.11 47.2441  Z\" fill=\"#009af9\" fill-rule=\"evenodd\" fill-opacity=\"1\"/>\n",
       "<polyline clip-path=\"url(#clip852)\" style=\"stroke:#000000; stroke-linecap:round; stroke-linejoin:round; stroke-width:4; stroke-opacity:1; fill:none\" points=\"481.11,47.2441 481.11,1486.45 590.484,1486.45 590.484,47.2441 481.11,47.2441 \"/>\n",
       "<path clip-path=\"url(#clip852)\" d=\"M590.484 882.911 L590.484 1486.45 L699.857 1486.45 L699.857 882.911 L590.484 882.911 L590.484 882.911  Z\" fill=\"#009af9\" fill-rule=\"evenodd\" fill-opacity=\"1\"/>\n",
       "<polyline clip-path=\"url(#clip852)\" style=\"stroke:#000000; stroke-linecap:round; stroke-linejoin:round; stroke-width:4; stroke-opacity:1; fill:none\" points=\"590.484,882.911 590.484,1486.45 699.857,1486.45 699.857,882.911 590.484,882.911 \"/>\n",
       "<path clip-path=\"url(#clip852)\" d=\"M699.857 1068.61 L699.857 1486.45 L809.231 1486.45 L809.231 1068.61 L699.857 1068.61 L699.857 1068.61  Z\" fill=\"#009af9\" fill-rule=\"evenodd\" fill-opacity=\"1\"/>\n",
       "<polyline clip-path=\"url(#clip852)\" style=\"stroke:#000000; stroke-linecap:round; stroke-linejoin:round; stroke-width:4; stroke-opacity:1; fill:none\" points=\"699.857,1068.61 699.857,1486.45 809.231,1486.45 809.231,1068.61 699.857,1068.61 \"/>\n",
       "<path clip-path=\"url(#clip852)\" d=\"M809.231 882.911 L809.231 1486.45 L918.605 1486.45 L918.605 882.911 L809.231 882.911 L809.231 882.911  Z\" fill=\"#009af9\" fill-rule=\"evenodd\" fill-opacity=\"1\"/>\n",
       "<polyline clip-path=\"url(#clip852)\" style=\"stroke:#000000; stroke-linecap:round; stroke-linejoin:round; stroke-width:4; stroke-opacity:1; fill:none\" points=\"809.231,882.911 809.231,1486.45 918.605,1486.45 918.605,882.911 809.231,882.911 \"/>\n",
       "<path clip-path=\"url(#clip852)\" d=\"M918.605 975.763 L918.605 1486.45 L1027.98 1486.45 L1027.98 975.763 L918.605 975.763 L918.605 975.763  Z\" fill=\"#009af9\" fill-rule=\"evenodd\" fill-opacity=\"1\"/>\n",
       "<polyline clip-path=\"url(#clip852)\" style=\"stroke:#000000; stroke-linecap:round; stroke-linejoin:round; stroke-width:4; stroke-opacity:1; fill:none\" points=\"918.605,975.763 918.605,1486.45 1027.98,1486.45 1027.98,975.763 918.605,975.763 \"/>\n",
       "<path clip-path=\"url(#clip852)\" d=\"M1027.98 882.911 L1027.98 1486.45 L1137.35 1486.45 L1137.35 882.911 L1027.98 882.911 L1027.98 882.911  Z\" fill=\"#009af9\" fill-rule=\"evenodd\" fill-opacity=\"1\"/>\n",
       "<polyline clip-path=\"url(#clip852)\" style=\"stroke:#000000; stroke-linecap:round; stroke-linejoin:round; stroke-width:4; stroke-opacity:1; fill:none\" points=\"1027.98,882.911 1027.98,1486.45 1137.35,1486.45 1137.35,882.911 1027.98,882.911 \"/>\n",
       "<path clip-path=\"url(#clip852)\" d=\"M1137.35 1254.32 L1137.35 1486.45 L1246.73 1486.45 L1246.73 1254.32 L1137.35 1254.32 L1137.35 1254.32  Z\" fill=\"#009af9\" fill-rule=\"evenodd\" fill-opacity=\"1\"/>\n",
       "<polyline clip-path=\"url(#clip852)\" style=\"stroke:#000000; stroke-linecap:round; stroke-linejoin:round; stroke-width:4; stroke-opacity:1; fill:none\" points=\"1137.35,1254.32 1137.35,1486.45 1246.73,1486.45 1246.73,1254.32 1137.35,1254.32 \"/>\n",
       "<path clip-path=\"url(#clip852)\" d=\"M1246.73 1486.45 L1246.73 1486.45 L1356.1 1486.45 L1356.1 1486.45 L1246.73 1486.45 L1246.73 1486.45  Z\" fill=\"#009af9\" fill-rule=\"evenodd\" fill-opacity=\"1\"/>\n",
       "<polyline clip-path=\"url(#clip852)\" style=\"stroke:#000000; stroke-linecap:round; stroke-linejoin:round; stroke-width:4; stroke-opacity:1; fill:none\" points=\"1246.73,1486.45 1246.73,1486.45 1356.1,1486.45 1246.73,1486.45 \"/>\n",
       "<path clip-path=\"url(#clip852)\" d=\"M1356.1 1486.45 L1356.1 1486.45 L1465.47 1486.45 L1465.47 1486.45 L1356.1 1486.45 L1356.1 1486.45  Z\" fill=\"#009af9\" fill-rule=\"evenodd\" fill-opacity=\"1\"/>\n",
       "<polyline clip-path=\"url(#clip852)\" style=\"stroke:#000000; stroke-linecap:round; stroke-linejoin:round; stroke-width:4; stroke-opacity:1; fill:none\" points=\"1356.1,1486.45 1356.1,1486.45 1465.47,1486.45 1356.1,1486.45 \"/>\n",
       "<path clip-path=\"url(#clip852)\" d=\"M1465.47 1347.17 L1465.47 1486.45 L1574.85 1486.45 L1574.85 1347.17 L1465.47 1347.17 L1465.47 1347.17  Z\" fill=\"#009af9\" fill-rule=\"evenodd\" fill-opacity=\"1\"/>\n",
       "<polyline clip-path=\"url(#clip852)\" style=\"stroke:#000000; stroke-linecap:round; stroke-linejoin:round; stroke-width:4; stroke-opacity:1; fill:none\" points=\"1465.47,1347.17 1465.47,1486.45 1574.85,1486.45 1574.85,1347.17 1465.47,1347.17 \"/>\n",
       "<path clip-path=\"url(#clip852)\" d=\"M1574.85 975.763 L1574.85 1486.45 L1684.22 1486.45 L1684.22 975.763 L1574.85 975.763 L1574.85 975.763  Z\" fill=\"#009af9\" fill-rule=\"evenodd\" fill-opacity=\"1\"/>\n",
       "<polyline clip-path=\"url(#clip852)\" style=\"stroke:#000000; stroke-linecap:round; stroke-linejoin:round; stroke-width:4; stroke-opacity:1; fill:none\" points=\"1574.85,975.763 1574.85,1486.45 1684.22,1486.45 1684.22,975.763 1574.85,975.763 \"/>\n",
       "<path clip-path=\"url(#clip852)\" d=\"M1684.22 836.485 L1684.22 1486.45 L1793.59 1486.45 L1793.59 836.485 L1684.22 836.485 L1684.22 836.485  Z\" fill=\"#009af9\" fill-rule=\"evenodd\" fill-opacity=\"1\"/>\n",
       "<polyline clip-path=\"url(#clip852)\" style=\"stroke:#000000; stroke-linecap:round; stroke-linejoin:round; stroke-width:4; stroke-opacity:1; fill:none\" points=\"1684.22,836.485 1684.22,1486.45 1793.59,1486.45 1793.59,836.485 1684.22,836.485 \"/>\n",
       "<path clip-path=\"url(#clip852)\" d=\"M1793.59 1347.17 L1793.59 1486.45 L1902.97 1486.45 L1902.97 1347.17 L1793.59 1347.17 L1793.59 1347.17  Z\" fill=\"#009af9\" fill-rule=\"evenodd\" fill-opacity=\"1\"/>\n",
       "<polyline clip-path=\"url(#clip852)\" style=\"stroke:#000000; stroke-linecap:round; stroke-linejoin:round; stroke-width:4; stroke-opacity:1; fill:none\" points=\"1793.59,1347.17 1793.59,1486.45 1902.97,1486.45 1902.97,1347.17 1793.59,1347.17 \"/>\n",
       "<path clip-path=\"url(#clip852)\" d=\"M1902.97 1161.47 L1902.97 1486.45 L2012.34 1486.45 L2012.34 1161.47 L1902.97 1161.47 L1902.97 1161.47  Z\" fill=\"#009af9\" fill-rule=\"evenodd\" fill-opacity=\"1\"/>\n",
       "<polyline clip-path=\"url(#clip852)\" style=\"stroke:#000000; stroke-linecap:round; stroke-linejoin:round; stroke-width:4; stroke-opacity:1; fill:none\" points=\"1902.97,1161.47 1902.97,1486.45 2012.34,1486.45 2012.34,1161.47 1902.97,1161.47 \"/>\n",
       "<path clip-path=\"url(#clip852)\" d=\"M2012.34 1022.19 L2012.34 1486.45 L2121.71 1486.45 L2121.71 1022.19 L2012.34 1022.19 L2012.34 1022.19  Z\" fill=\"#009af9\" fill-rule=\"evenodd\" fill-opacity=\"1\"/>\n",
       "<polyline clip-path=\"url(#clip852)\" style=\"stroke:#000000; stroke-linecap:round; stroke-linejoin:round; stroke-width:4; stroke-opacity:1; fill:none\" points=\"2012.34,1022.19 2012.34,1486.45 2121.71,1486.45 2121.71,1022.19 2012.34,1022.19 \"/>\n",
       "<path clip-path=\"url(#clip852)\" d=\"M2121.71 929.337 L2121.71 1486.45 L2231.09 1486.45 L2231.09 929.337 L2121.71 929.337 L2121.71 929.337  Z\" fill=\"#009af9\" fill-rule=\"evenodd\" fill-opacity=\"1\"/>\n",
       "<polyline clip-path=\"url(#clip852)\" style=\"stroke:#000000; stroke-linecap:round; stroke-linejoin:round; stroke-width:4; stroke-opacity:1; fill:none\" points=\"2121.71,929.337 2121.71,1486.45 2231.09,1486.45 2231.09,929.337 2121.71,929.337 \"/>\n",
       "<circle clip-path=\"url(#clip852)\" style=\"fill:#009af9; stroke:none; fill-opacity:0\" cx=\"317.05\" cy=\"1440.02\" r=\"2\"/>\n",
       "<circle clip-path=\"url(#clip852)\" style=\"fill:#009af9; stroke:none; fill-opacity:0\" cx=\"426.423\" cy=\"372.226\" r=\"2\"/>\n",
       "<circle clip-path=\"url(#clip852)\" style=\"fill:#009af9; stroke:none; fill-opacity:0\" cx=\"535.797\" cy=\"47.2441\" r=\"2\"/>\n",
       "<circle clip-path=\"url(#clip852)\" style=\"fill:#009af9; stroke:none; fill-opacity:0\" cx=\"645.171\" cy=\"882.911\" r=\"2\"/>\n",
       "<circle clip-path=\"url(#clip852)\" style=\"fill:#009af9; stroke:none; fill-opacity:0\" cx=\"754.544\" cy=\"1068.61\" r=\"2\"/>\n",
       "<circle clip-path=\"url(#clip852)\" style=\"fill:#009af9; stroke:none; fill-opacity:0\" cx=\"863.918\" cy=\"882.911\" r=\"2\"/>\n",
       "<circle clip-path=\"url(#clip852)\" style=\"fill:#009af9; stroke:none; fill-opacity:0\" cx=\"973.292\" cy=\"975.763\" r=\"2\"/>\n",
       "<circle clip-path=\"url(#clip852)\" style=\"fill:#009af9; stroke:none; fill-opacity:0\" cx=\"1082.67\" cy=\"882.911\" r=\"2\"/>\n",
       "<circle clip-path=\"url(#clip852)\" style=\"fill:#009af9; stroke:none; fill-opacity:0\" cx=\"1192.04\" cy=\"1254.32\" r=\"2\"/>\n",
       "<circle clip-path=\"url(#clip852)\" style=\"fill:#009af9; stroke:none; fill-opacity:0\" cx=\"1301.41\" cy=\"1486.45\" r=\"2\"/>\n",
       "<circle clip-path=\"url(#clip852)\" style=\"fill:#009af9; stroke:none; fill-opacity:0\" cx=\"1410.79\" cy=\"1486.45\" r=\"2\"/>\n",
       "<circle clip-path=\"url(#clip852)\" style=\"fill:#009af9; stroke:none; fill-opacity:0\" cx=\"1520.16\" cy=\"1347.17\" r=\"2\"/>\n",
       "<circle clip-path=\"url(#clip852)\" style=\"fill:#009af9; stroke:none; fill-opacity:0\" cx=\"1629.53\" cy=\"975.763\" r=\"2\"/>\n",
       "<circle clip-path=\"url(#clip852)\" style=\"fill:#009af9; stroke:none; fill-opacity:0\" cx=\"1738.91\" cy=\"836.485\" r=\"2\"/>\n",
       "<circle clip-path=\"url(#clip852)\" style=\"fill:#009af9; stroke:none; fill-opacity:0\" cx=\"1848.28\" cy=\"1347.17\" r=\"2\"/>\n",
       "<circle clip-path=\"url(#clip852)\" style=\"fill:#009af9; stroke:none; fill-opacity:0\" cx=\"1957.65\" cy=\"1161.47\" r=\"2\"/>\n",
       "<circle clip-path=\"url(#clip852)\" style=\"fill:#009af9; stroke:none; fill-opacity:0\" cx=\"2067.03\" cy=\"1022.19\" r=\"2\"/>\n",
       "<circle clip-path=\"url(#clip852)\" style=\"fill:#009af9; stroke:none; fill-opacity:0\" cx=\"2176.4\" cy=\"929.337\" r=\"2\"/>\n",
       "<path clip-path=\"url(#clip850)\" d=\"M2005.38 198.898 L2279.02 198.898 L2279.02 95.2176 L2005.38 95.2176  Z\" fill=\"#ffffff\" fill-rule=\"evenodd\" fill-opacity=\"1\"/>\n",
       "<polyline clip-path=\"url(#clip850)\" style=\"stroke:#000000; stroke-linecap:round; stroke-linejoin:round; stroke-width:4; stroke-opacity:1; fill:none\" points=\"2005.38,198.898 2279.02,198.898 2279.02,95.2176 2005.38,95.2176 2005.38,198.898 \"/>\n",
       "<path clip-path=\"url(#clip850)\" d=\"M2029.96 167.794 L2177.43 167.794 L2177.43 126.322 L2029.96 126.322 L2029.96 167.794  Z\" fill=\"#009af9\" fill-rule=\"evenodd\" fill-opacity=\"1\"/>\n",
       "<polyline clip-path=\"url(#clip850)\" style=\"stroke:#000000; stroke-linecap:round; stroke-linejoin:round; stroke-width:4; stroke-opacity:1; fill:none\" points=\"2029.96,167.794 2177.43,167.794 2177.43,126.322 2029.96,126.322 2029.96,167.794 \"/>\n",
       "<path clip-path=\"url(#clip850)\" d=\"M2215.85 166.745 Q2214.05 171.375 2212.34 172.787 Q2210.62 174.199 2207.75 174.199 L2204.35 174.199 L2204.35 170.634 L2206.85 170.634 Q2208.61 170.634 2209.58 169.8 Q2210.55 168.967 2211.73 165.865 L2212.5 163.921 L2202.01 138.412 L2206.53 138.412 L2214.63 158.689 L2222.73 138.412 L2227.24 138.412 L2215.85 166.745 Z\" fill=\"#000000\" fill-rule=\"nonzero\" fill-opacity=\"1\" /><path clip-path=\"url(#clip850)\" d=\"M2234.53 160.402 L2242.17 160.402 L2242.17 134.037 L2233.86 135.703 L2233.86 131.444 L2242.13 129.778 L2246.8 129.778 L2246.8 160.402 L2254.44 160.402 L2254.44 164.338 L2234.53 164.338 L2234.53 160.402 Z\" fill=\"#000000\" fill-rule=\"nonzero\" fill-opacity=\"1\" /></svg>\n"
      ]
     },
     "metadata": {},
     "output_type": "display_data"
    }
   ],
   "source": [
    "histogram(df_metrics.TPR_Rand, bins=20)"
   ]
  }
 ],
 "metadata": {
  "kernelspec": {
   "display_name": "Julia 1.9.2",
   "language": "julia",
   "name": "julia-1.9"
  },
  "language_info": {
   "file_extension": ".jl",
   "mimetype": "application/julia",
   "name": "julia",
   "version": "1.9.2"
  },
  "orig_nbformat": 4
 },
 "nbformat": 4,
 "nbformat_minor": 2
}
