{
 "cells": [
  {
   "cell_type": "markdown",
   "metadata": {},
   "source": [
    "# Selective Inference via outcome Randomisation and Mirror Statistics"
   ]
  },
  {
   "cell_type": "code",
   "execution_count": 1,
   "metadata": {},
   "outputs": [
    {
     "name": "stdout",
     "output_type": "stream",
     "text": [
      "\u001b[36m\u001b[1mProject\u001b[22m\u001b[39m selective_inference_project v0.1.0\n",
      "\u001b[32m\u001b[1mStatus\u001b[22m\u001b[39m `~/Documents/UiO_Postdoc/Code/git_repositories/SelectiveInference/Project.toml`\n",
      "  \u001b[90m[336ed68f] \u001b[39mCSV v0.10.11\n",
      "\u001b[32m⌃\u001b[39m \u001b[90m[31c24e10] \u001b[39mDistributions v0.25.100\n",
      "\u001b[32m⌃\u001b[39m \u001b[90m[38e38edf] \u001b[39mGLM v1.8.3\n",
      "  \u001b[90m[8d5ece8b] \u001b[39mGLMNet v0.7.2\n",
      "\u001b[32m⌃\u001b[39m \u001b[90m[6f49c342] \u001b[39mRCall v0.13.17\n",
      "  \u001b[90m[f3b207a7] \u001b[39mStatsPlots v0.15.6\n",
      "  \u001b[90m[37e2e46d] \u001b[39mLinearAlgebra\n",
      "\u001b[36m\u001b[1mInfo\u001b[22m\u001b[39m Packages marked with \u001b[32m⌃\u001b[39m have new versions available and may be upgradable.\n"
     ]
    }
   ],
   "source": [
    "using Pkg\n",
    "Pkg.status()\n",
    "\n",
    "using GLM\n",
    "using GLMNet\n",
    "using Distributions\n",
    "using Random\n",
    "using StatsPlots\n",
    "using Plots\n",
    "using DataFrames\n",
    "using CSV"
   ]
  },
  {
   "cell_type": "code",
   "execution_count": 2,
   "metadata": {},
   "outputs": [],
   "source": [
    "include(\"../utilities/data_generation.jl\")\n",
    "include(\"../utilities/randomisation_ds.jl\")\n",
    "include(\"../utilities/mirror_statistic.jl\")\n",
    "include(\"../utilities/classification_metrics.jl\");"
   ]
  },
  {
   "cell_type": "code",
   "execution_count": 3,
   "metadata": {},
   "outputs": [],
   "source": [
    "include(\"../wrapper_pipeline_inference.jl\");"
   ]
  },
  {
   "cell_type": "code",
   "execution_count": 4,
   "metadata": {},
   "outputs": [
    {
     "data": {
      "text/plain": [
       "print_metrics (generic function with 1 method)"
      ]
     },
     "metadata": {},
     "output_type": "display_data"
    }
   ],
   "source": [
    "function print_metrics(;scenario, results)\n",
    "    println(\"-------------------- $scenario --------------------\")\n",
    "    \n",
    "    for (metric, value) in zip(keys(results.class_metrics), results.class_metrics)\n",
    "        println(\"$metric ==> $value\")\n",
    "    end\n",
    "end"
   ]
  },
  {
   "cell_type": "markdown",
   "metadata": {},
   "source": [
    "## Simulation on uncorrelated covariates"
   ]
  },
  {
   "cell_type": "markdown",
   "metadata": {},
   "source": [
    "### Low-dimensional case\n",
    "30% of coefficients are 0"
   ]
  },
  {
   "cell_type": "code",
   "execution_count": 5,
   "metadata": {},
   "outputs": [],
   "source": [
    "n = 100\n",
    "p = 20\n",
    "prop_zero_coef = 0.3\n",
    "beta_intercept = 1.\n",
    "sigma2 = 1.\n",
    "correlation_coefficients = []\n",
    "scenario = \"Low-Dimensional, No Correlation, Random Cov\"\n",
    "\n",
    "Random.seed!(1345)\n",
    "results = wrapper_pipeline_inference.wrapper_randomisation_inference(\n",
    "    n=n,\n",
    "    p=p,\n",
    "    correlation_coefficients=correlation_coefficients,\n",
    "    block_covariance=false,\n",
    "    prop_zero_coef=prop_zero_coef,\n",
    "    sigma2=sigma2,\n",
    "    beta_intercept=beta_intercept,\n",
    "    gamma_randomisation=1.,\n",
    "    estimate_sigma2=true,\n",
    "    fdr_level=0.1\n",
    ");"
   ]
  },
  {
   "cell_type": "code",
   "execution_count": 6,
   "metadata": {},
   "outputs": [
    {
     "name": "stdout",
     "output_type": "stream",
     "text": [
      "-------------------- Low-Dimensional, No Correlation, Random Cov --------------------\n",
      "FDR_rand_plus_MS ==> 0.125\n",
      "FDR_rand_only ==> 0.0\n",
      "FDR_MS_only ==> 0.0\n",
      "FDR_MDS_only ==> 0.06666666666666667\n",
      "TPR_rand_plus_MS ==> 1.0\n",
      "TPR_rand_only ==> 1.0\n",
      "TPR_MS_only ==> 1.0\n",
      "TPR_MDS_only ==> 1.0\n",
      "POWER_rand_plus_MS ==> 1.0\n",
      "POWER_rand_only ==> 1.0\n",
      "POWER_MS_only ==> 1.0\n",
      "POWER_MDS_only ==> 1.0\n"
     ]
    }
   ],
   "source": [
    "print_metrics(scenario=scenario, results=results)"
   ]
  },
  {
   "cell_type": "markdown",
   "metadata": {},
   "source": [
    "### High-dimensional case\n",
    "70% of coefficients are 0"
   ]
  },
  {
   "cell_type": "code",
   "execution_count": 7,
   "metadata": {},
   "outputs": [
    {
     "data": {
      "text/plain": [
       "\"SAME AS PAPER - High-Dimensional, No Correlation, Random Cov\""
      ]
     },
     "metadata": {},
     "output_type": "display_data"
    }
   ],
   "source": [
    "n = 500\n",
    "p = 500\n",
    "prop_zero_coef=0.9\n",
    "beta_intercept=1.\n",
    "sigma2=1.\n",
    "correlation_coefficients=[]\n",
    "block_covariance=false\n",
    "scenario = \"SAME AS PAPER - High-Dimensional, No Correlation, Random Cov\""
   ]
  },
  {
   "cell_type": "code",
   "execution_count": 8,
   "metadata": {},
   "outputs": [
    {
     "name": "stdout",
     "output_type": "stream",
     "text": [
      "-------------------- SAME AS PAPER - High-Dimensional, No Correlation, Random Cov --------------------\n",
      "FDR_rand_plus_MS ==> 0.07407407407407407\n",
      "FDR_rand_only ==> 0.12280701754385964\n",
      "FDR_MS_only ==> 0.09090909090909091\n",
      "FDR_MDS_only ==> 0.10714285714285714\n",
      "TPR_rand_plus_MS ==> 1.0\n",
      "TPR_rand_only ==> 1.0\n",
      "TPR_MS_only ==> 1.0\n",
      "TPR_MDS_only ==> 1.0\n",
      "POWER_rand_plus_MS ==> 1.0\n",
      "POWER_rand_only ==> 1.0\n",
      "POWER_MS_only ==> 1.0\n",
      "POWER_MDS_only ==> 1.0\n"
     ]
    }
   ],
   "source": [
    "Random.seed!(13)\n",
    "results = wrapper_pipeline_inference.wrapper_randomisation_inference(\n",
    "    n=n,\n",
    "    p=p,\n",
    "    correlation_coefficients=correlation_coefficients,\n",
    "    block_covariance=block_covariance,\n",
    "    prop_zero_coef=prop_zero_coef,\n",
    "    sigma2=sigma2,\n",
    "    beta_intercept=beta_intercept,\n",
    "    gamma_randomisation=1.,\n",
    "    estimate_sigma2=false,\n",
    "    fdr_level=0.1\n",
    ");\n",
    "\n",
    "print_metrics(scenario=scenario, results=results)"
   ]
  },
  {
   "cell_type": "code",
   "execution_count": 9,
   "metadata": {},
   "outputs": [],
   "source": [
    "# Second paper simulation, n=800, p={1000, 2000} and p1=50\n",
    "n = 800\n",
    "p = 1000\n",
    "prop_zero_coef=0.95\n",
    "beta_intercept=1.\n",
    "sigma2=1.\n",
    "correlation_coefficients=[]\n",
    "block_covariance=false\n",
    "scenario = \"SAME AS PAPER - High-Dimensional, No Correlation, Random Cov\"\n",
    "\n",
    "Random.seed!(13)\n",
    "results = wrapper_pipeline_inference.wrapper_randomisation_inference(\n",
    "    n=n,\n",
    "    p=p,\n",
    "    correlation_coefficients=correlation_coefficients,\n",
    "    block_covariance=block_covariance,\n",
    "    prop_zero_coef=prop_zero_coef,\n",
    "    sigma2=sigma2,\n",
    "    beta_intercept=beta_intercept,\n",
    "    gamma_randomisation=1.,\n",
    "    estimate_sigma2=true,\n",
    "    fdr_level=0.1\n",
    ");"
   ]
  },
  {
   "cell_type": "code",
   "execution_count": 10,
   "metadata": {},
   "outputs": [
    {
     "name": "stdout",
     "output_type": "stream",
     "text": [
      "-------------------- SAME AS PAPER - High-Dimensional, No Correlation, Random Cov --------------------\n",
      "FDR_rand_plus_MS ==> 0.13793103448275862\n",
      "FDR_rand_only ==> 0.13793103448275862\n",
      "FDR_MS_only ==> 0.038461538461538464\n",
      "FDR_MDS_only ==> 0.0\n",
      "TPR_rand_plus_MS ==> 1.0\n",
      "TPR_rand_only ==> 1.0\n",
      "TPR_MS_only ==> 1.0\n",
      "TPR_MDS_only ==> 0.0\n",
      "POWER_rand_plus_MS ==> 1.0\n",
      "POWER_rand_only ==> 1.0\n",
      "POWER_MS_only ==> 1.0\n",
      "POWER_MDS_only ==> 0.0\n"
     ]
    }
   ],
   "source": [
    "print_metrics(scenario=scenario, results=results)"
   ]
  },
  {
   "cell_type": "code",
   "execution_count": 11,
   "metadata": {},
   "outputs": [],
   "source": [
    "# Second paper simulation, n=800, p={1000, 2000} and p1=50\n",
    "n = 800\n",
    "p = 2000\n",
    "prop_zero_coef=0.975\n",
    "beta_intercept=1.\n",
    "sigma2=1.\n",
    "correlation_coefficients=[0.5]\n",
    "block_covariance=true\n",
    "scenario = \"SAME AS PAPER - High-Dimensional\"\n",
    "\n",
    "Random.seed!(13)\n",
    "results = wrapper_pipeline_inference.wrapper_randomisation_inference(\n",
    "    n=n,\n",
    "    p=p,\n",
    "    correlation_coefficients=correlation_coefficients,\n",
    "    block_covariance=block_covariance,\n",
    "    prop_zero_coef=prop_zero_coef,\n",
    "    sigma2=sigma2,\n",
    "    beta_intercept=beta_intercept,\n",
    "    gamma_randomisation=1.,\n",
    "    estimate_sigma2=true,\n",
    "    fdr_level=0.1\n",
    ");"
   ]
  },
  {
   "cell_type": "code",
   "execution_count": 12,
   "metadata": {},
   "outputs": [
    {
     "name": "stdout",
     "output_type": "stream",
     "text": [
      "-------------------- SAME AS PAPER - High-Dimensional --------------------\n",
      "FDR_rand_plus_MS ==> 0.13953488372093023\n",
      "FDR_rand_only ==> 0.16666666666666666\n",
      "FDR_MS_only ==> 0.0\n",
      "FDR_MDS_only ==> 0.0\n",
      "TPR_rand_plus_MS ==> 0.74\n",
      "TPR_rand_only ==> 0.7\n",
      "TPR_MS_only ==> 0.66\n",
      "TPR_MDS_only ==> 0.7\n",
      "POWER_rand_plus_MS ==> 0.74\n",
      "POWER_rand_only ==> 0.7\n",
      "POWER_MS_only ==> 0.66\n",
      "POWER_MDS_only ==> 0.7\n"
     ]
    }
   ],
   "source": [
    "print_metrics(scenario=scenario, results=results)"
   ]
  },
  {
   "cell_type": "markdown",
   "metadata": {},
   "source": [
    "## Correlated covariates"
   ]
  },
  {
   "cell_type": "markdown",
   "metadata": {},
   "source": [
    "### Low-dimensional case\n",
    "30% of coefficients are 0"
   ]
  },
  {
   "cell_type": "code",
   "execution_count": null,
   "metadata": {},
   "outputs": [],
   "source": [
    "n = 100\n",
    "p = 20\n",
    "prop_zero_coef=0.3\n",
    "beta_intercept=1.\n",
    "sigma2=1.\n",
    "correlation_coefficients=[0.5, 0.3]\n",
    "block_covariance=false\n",
    "scenario = \"Low-Dimensional, With Correlation, Random Cov\"\n",
    "\n",
    "Random.seed!(1345)\n",
    "results = wrapper_pipeline_inference.wrapper_randomisation_inference(\n",
    "    n=n,\n",
    "    p=p,\n",
    "    correlation_coefficients=correlation_coefficients,\n",
    "    block_covariance=block_covariance,\n",
    "    prop_zero_coef=prop_zero_coef,\n",
    "    sigma2=sigma2,\n",
    "    gamma_randomisation=1.,\n",
    "    fdr_level=0.1\n",
    ");"
   ]
  },
  {
   "cell_type": "code",
   "execution_count": null,
   "metadata": {},
   "outputs": [],
   "source": [
    "print_metrics(scenario=scenario, results=results)"
   ]
  },
  {
   "cell_type": "markdown",
   "metadata": {},
   "source": [
    "### High-dimensional case\n",
    "70% of coefficients are 0"
   ]
  },
  {
   "cell_type": "code",
   "execution_count": null,
   "metadata": {},
   "outputs": [],
   "source": [
    "n = 100\n",
    "p = 200\n",
    "prop_zero_coef=0.9\n",
    "beta_intercept=1.\n",
    "sigma2=1.\n",
    "correlation_coefficients=[0.5, 0.3]\n",
    "block_covariance=false\n",
    "scenario = \"High-Dimensional, With Correlation, Random Cov\"\n",
    "\n",
    "Random.seed!(1345)\n",
    "results = wrapper_pipeline_inference.wrapper_randomisation_inference(\n",
    "    n=n,\n",
    "    p=p,\n",
    "    correlation_coefficients=correlation_coefficients,\n",
    "    block_covariance=block_covariance,\n",
    "    prop_zero_coef=prop_zero_coef,\n",
    "    sigma2=sigma2,\n",
    "    gamma_randomisation=1.,\n",
    "    fdr_level=0.1\n",
    ");"
   ]
  },
  {
   "cell_type": "code",
   "execution_count": null,
   "metadata": {},
   "outputs": [],
   "source": [
    "print_metrics(scenario=scenario, results=results)"
   ]
  },
  {
   "cell_type": "markdown",
   "metadata": {},
   "source": [
    "#### With Block diagonal matrix\n",
    "Covariates from one block belongs to S1 (coeffs != 0) and covariates from the other block belong to S0 (coeff = 0) "
   ]
  },
  {
   "cell_type": "code",
   "execution_count": null,
   "metadata": {},
   "outputs": [],
   "source": [
    "n = 100\n",
    "p = 20\n",
    "prop_zero_coef=0.5\n",
    "beta_intercept=1.\n",
    "sigma2=1.\n",
    "correlation_coefficients=[0.5]\n",
    "block_covariance = true\n",
    "scenario = \"Low-Dimensional, with Correlation, Block Cov\"\n",
    "\n",
    "Random.seed!(1345)\n",
    "results = wrapper_pipeline_inference.wrapper_randomisation_inference(\n",
    "    n=n,\n",
    "    p=p,\n",
    "    correlation_coefficients=correlation_coefficients,\n",
    "    block_covariance=block_covariance,\n",
    "    prop_zero_coef=prop_zero_coef,\n",
    "    sigma2=sigma2,\n",
    "    gamma_randomisation=1.,\n",
    "    fdr_level=0.1\n",
    ");"
   ]
  },
  {
   "cell_type": "code",
   "execution_count": null,
   "metadata": {},
   "outputs": [],
   "source": [
    "print_metrics(scenario=scenario, results=results)"
   ]
  },
  {
   "cell_type": "code",
   "execution_count": null,
   "metadata": {},
   "outputs": [],
   "source": [
    "n = 100\n",
    "p = 200\n",
    "prop_zero_coef=0.8\n",
    "beta_intercept=1.\n",
    "sigma2=1.\n",
    "correlation_coefficients=[0.5, 0.4]\n",
    "block_covariance = true\n",
    "scenario = \"High-Dimensional, with Correlation, block Cov\"\n",
    "\n",
    "Random.seed!(1345)\n",
    "results = wrapper_pipeline_inference.wrapper_randomisation_inference(\n",
    "    n=n,\n",
    "    p=p,\n",
    "    correlation_coefficients=correlation_coefficients,\n",
    "    block_covariance=block_covariance,\n",
    "    prop_zero_coef=prop_zero_coef,\n",
    "    sigma2=sigma2,\n",
    "    gamma_randomisation=1.,\n",
    "    fdr_level=0.1\n",
    ");"
   ]
  },
  {
   "cell_type": "code",
   "execution_count": null,
   "metadata": {},
   "outputs": [],
   "source": [
    "print_metrics(scenario=scenario, results=results)"
   ]
  },
  {
   "cell_type": "markdown",
   "metadata": {},
   "source": [
    "### High-dimensional case, 20% on non-zero coefficients, positive and negative correlations"
   ]
  },
  {
   "cell_type": "code",
   "execution_count": 9,
   "metadata": {},
   "outputs": [],
   "source": [
    "n = 100\n",
    "p = 200\n",
    "prop_zero_coef=0.8\n",
    "beta_intercept=1.\n",
    "sigma2=1.\n",
    "correlation_coefficients=[0.3, -0.2]\n",
    "block_covariance=true\n",
    "scenario = \"High-Dimensional, With positive and negative Correlations and 80% of zero coefficients, Block Cov\"\n",
    "\n",
    "Random.seed!(1345)\n",
    "results = wrapper_pipeline_inference.wrapper_randomisation_inference(\n",
    "    n=n,\n",
    "    p=p,\n",
    "    correlation_coefficients=correlation_coefficients,\n",
    "    block_covariance=block_covariance,\n",
    "    prop_zero_coef=prop_zero_coef,\n",
    "    sigma2=sigma2,\n",
    "    gamma_randomisation=1.,\n",
    "    fdr_level=0.1\n",
    ");"
   ]
  },
  {
   "cell_type": "code",
   "execution_count": 10,
   "metadata": {},
   "outputs": [
    {
     "name": "stdout",
     "output_type": "stream",
     "text": [
      "-------------------- High-Dimensional, With positive and negative Correlations and 80% of zero coefficients, Block Cov --------------------\n",
      "FDR_rand_plus_MS ==> 0.11764705882352941\n",
      "FDR_rand_only ==> 0.0\n",
      "FDR_MS_only ==> 0.0\n",
      "TPR_rand_plus_MS ==> 0.375\n",
      "TPR_rand_only ==> 0.3\n",
      "TPR_MS_only ==> 0.175\n"
     ]
    }
   ],
   "source": [
    "print_metrics(scenario=scenario, results=results)"
   ]
  },
  {
   "cell_type": "markdown",
   "metadata": {},
   "source": [
    "## Focus on High-Dimensional scenarios\n",
    "Gradually increase the correlation structure and the proportion of non-zero coefficients"
   ]
  },
  {
   "cell_type": "code",
   "execution_count": 29,
   "metadata": {},
   "outputs": [],
   "source": [
    "correlations_first_offdiag = [0., 0.5]\n",
    "# correlations_second_offdiag = [0., 0.1, 0.2, 0.3, 0.4]\n",
    "correlations_second_offdiag = [0.]\n",
    "proportions_zero_coef = [0.975, 0.95]\n",
    "block_covariance_options = [true, false];"
   ]
  },
  {
   "cell_type": "code",
   "execution_count": 30,
   "metadata": {},
   "outputs": [],
   "source": [
    "metrics_names = String[]\n",
    "for metric_name in keys(results.class_metrics)\n",
    "    push!(metrics_names, String(metric_name))\n",
    "end"
   ]
  },
  {
   "cell_type": "code",
   "execution_count": 31,
   "metadata": {},
   "outputs": [
    {
     "name": "stdout",
     "output_type": "stream",
     "text": [
      "# simulations: 8"
     ]
    }
   ],
   "source": [
    "tot_simulations = length(correlations_first_offdiag) * length(correlations_second_offdiag) * length(proportions_zero_coef) * length(block_covariance_options)\n",
    "colnames = append!([\"block_diagonal\", \"corr_first\", \"corr_second\", \"prop_non_zero\"], metrics_names);\n",
    "print(\"# simulations: $tot_simulations\")"
   ]
  },
  {
   "cell_type": "code",
   "execution_count": 32,
   "metadata": {},
   "outputs": [],
   "source": [
    "df_metrics = DataFrames.DataFrame([name => [] for name in colnames]);"
   ]
  },
  {
   "cell_type": "code",
   "execution_count": 33,
   "metadata": {},
   "outputs": [
    {
     "data": {
      "text/html": [
       "<div><div style = \"float: left;\"><span>0×16 DataFrame</span></div><div style = \"clear: both;\"></div></div><div class = \"data-frame\" style = \"overflow-x: scroll;\"><table class = \"data-frame\" style = \"margin-bottom: 6px;\"><thead><tr class = \"header\"><th class = \"rowNumber\" style = \"font-weight: bold; text-align: right;\">Row</th><th style = \"text-align: left;\">block_diagonal</th><th style = \"text-align: left;\">corr_first</th><th style = \"text-align: left;\">corr_second</th><th style = \"text-align: left;\">prop_non_zero</th><th style = \"text-align: left;\">FDR_rand_plus_MS</th><th style = \"text-align: left;\">FDR_rand_only</th><th style = \"text-align: left;\">FDR_MS_only</th><th style = \"text-align: left;\">FDR_MDS_only</th><th style = \"text-align: left;\">TPR_rand_plus_MS</th><th style = \"text-align: left;\">TPR_rand_only</th><th style = \"text-align: left;\">TPR_MS_only</th><th style = \"text-align: left;\">TPR_MDS_only</th><th style = \"text-align: left;\">POWER_rand_plus_MS</th><th style = \"text-align: left;\">POWER_rand_only</th><th style = \"text-align: left;\">POWER_MS_only</th><th style = \"text-align: left;\">POWER_MDS_only</th></tr><tr class = \"subheader headerLastRow\"><th class = \"rowNumber\" style = \"font-weight: bold; text-align: right;\"></th><th title = \"Any\" style = \"text-align: left;\">Any</th><th title = \"Any\" style = \"text-align: left;\">Any</th><th title = \"Any\" style = \"text-align: left;\">Any</th><th title = \"Any\" style = \"text-align: left;\">Any</th><th title = \"Any\" style = \"text-align: left;\">Any</th><th title = \"Any\" style = \"text-align: left;\">Any</th><th title = \"Any\" style = \"text-align: left;\">Any</th><th title = \"Any\" style = \"text-align: left;\">Any</th><th title = \"Any\" style = \"text-align: left;\">Any</th><th title = \"Any\" style = \"text-align: left;\">Any</th><th title = \"Any\" style = \"text-align: left;\">Any</th><th title = \"Any\" style = \"text-align: left;\">Any</th><th title = \"Any\" style = \"text-align: left;\">Any</th><th title = \"Any\" style = \"text-align: left;\">Any</th><th title = \"Any\" style = \"text-align: left;\">Any</th><th title = \"Any\" style = \"text-align: left;\">Any</th></tr></thead><tbody></tbody></table></div>"
      ],
      "text/latex": [
       "\\begin{tabular}{r|ccccccc}\n",
       "\t& block\\_diagonal & corr\\_first & corr\\_second & prop\\_non\\_zero & FDR\\_rand\\_plus\\_MS & FDR\\_rand\\_only & \\\\\n",
       "\t\\hline\n",
       "\t& Any & Any & Any & Any & Any & Any & \\\\\n",
       "\t\\hline\n",
       "\\end{tabular}\n"
      ],
      "text/plain": [
       "\u001b[1m0×16 DataFrame\u001b[0m\n",
       "\u001b[1m Row \u001b[0m│\u001b[1m block_diagonal \u001b[0m\u001b[1m corr_first \u001b[0m\u001b[1m corr_second \u001b[0m\u001b[1m prop_non_zero \u001b[0m\u001b[1m FDR_rand_plus_M\u001b[0m ⋯\n",
       "     │\u001b[90m Any            \u001b[0m\u001b[90m Any        \u001b[0m\u001b[90m Any         \u001b[0m\u001b[90m Any           \u001b[0m\u001b[90m Any            \u001b[0m ⋯\n",
       "─────┴──────────────────────────────────────────────────────────────────────────\n",
       "\u001b[36m                                                              12 columns omitted\u001b[0m"
      ]
     },
     "metadata": {},
     "output_type": "display_data"
    }
   ],
   "source": [
    "df_metrics"
   ]
  },
  {
   "cell_type": "code",
   "execution_count": 34,
   "metadata": {},
   "outputs": [
    {
     "name": "stdout",
     "output_type": "stream",
     "text": [
      "Executing block covariance true\n",
      "Executing correlation 0.0\n"
     ]
    },
    {
     "name": "stdout",
     "output_type": "stream",
     "text": [
      "Executing correlation 0.5\n"
     ]
    },
    {
     "name": "stdout",
     "output_type": "stream",
     "text": [
      "Executing block covariance false\n",
      "Executing correlation 0.0\n"
     ]
    },
    {
     "name": "stdout",
     "output_type": "stream",
     "text": [
      "Executing correlation 0.5\n"
     ]
    }
   ],
   "source": [
    "n = 800\n",
    "p = 2000\n",
    "beta_intercept=1.\n",
    "sigma2=1.\n",
    "gamma_randomisation=1.\n",
    "estimate_sigma2=true\n",
    "n_replica = 10\n",
    "\n",
    "for cov_structure in block_covariance_options\n",
    "    println(\"Executing block covariance $cov_structure\")\n",
    "    for corr_first in correlations_first_offdiag\n",
    "        println(\"Executing correlation $corr_first\")\n",
    "        for corr_sec in correlations_second_offdiag\n",
    "            for prop_zero in proportions_zero_coef\n",
    "\n",
    "                Random.seed!(1345)\n",
    "                scenario = \"Correlations: $corr_first and $corr_sec. Proportion $prop_zero of zero coefficients\"\n",
    "                correlation_coefficients=[corr_first, corr_sec]\n",
    "                \n",
    "                # Initialise to 0\n",
    "                average_metrics = zeros(length(keys(results.class_metrics)))\n",
    "\n",
    "                # Do an average over n replications for each combination\n",
    "                n_good_experiments = 0\n",
    "                for replica in range(1, n_replica)\n",
    "                    try\n",
    "                        results = wrapper_pipeline_inference.wrapper_randomisation_inference(\n",
    "                            n=n,\n",
    "                            p=p,\n",
    "                            correlation_coefficients=correlation_coefficients,\n",
    "                            block_covariance=cov_structure,\n",
    "                            prop_zero_coef=prop_zero,\n",
    "                            sigma2=sigma2,\n",
    "                            beta_intercept=beta_intercept,\n",
    "                            estimate_sigma2=estimate_sigma2,\n",
    "                            gamma_randomisation=1.,\n",
    "                            fdr_level=0.1\n",
    "                        )\n",
    "\n",
    "                        for (metric, value) in enumerate(results.class_metrics)\n",
    "                            average_metrics[metric] += value\n",
    "                        end\n",
    "                        n_good_experiments += 1\n",
    "    \n",
    "                    catch pipeline_error\n",
    "                        println(\"Warning: \", pipeline_error)\n",
    "                        continue\n",
    "                    end\n",
    "                    \n",
    "                end\n",
    "\n",
    "                push!(\n",
    "                    df_metrics,\n",
    "                    append!(\n",
    "                        [\n",
    "                            cov_structure,\n",
    "                            corr_first,\n",
    "                            corr_sec,\n",
    "                            1-prop_zero\n",
    "                        ],\n",
    "                        average_metrics ./ n_good_experiments\n",
    "                    )\n",
    "                )\n",
    "\n",
    "            end\n",
    "        end\n",
    "    end\n",
    "end\n",
    ";"
   ]
  },
  {
   "cell_type": "code",
   "execution_count": 35,
   "metadata": {},
   "outputs": [],
   "source": [
    "df_metrics[!, \"round_prop_non_zero\"] = round.(df_metrics[!, \"prop_non_zero\"], digits=3);"
   ]
  },
  {
   "cell_type": "code",
   "execution_count": 36,
   "metadata": {},
   "outputs": [
    {
     "data": {
      "text/html": [
       "<div><div style = \"float: left;\"><span>5×17 DataFrame</span></div><div style = \"clear: both;\"></div></div><div class = \"data-frame\" style = \"overflow-x: scroll;\"><table class = \"data-frame\" style = \"margin-bottom: 6px;\"><thead><tr class = \"header\"><th class = \"rowNumber\" style = \"font-weight: bold; text-align: right;\">Row</th><th style = \"text-align: left;\">block_diagonal</th><th style = \"text-align: left;\">corr_first</th><th style = \"text-align: left;\">corr_second</th><th style = \"text-align: left;\">prop_non_zero</th><th style = \"text-align: left;\">FDR_rand_plus_MS</th><th style = \"text-align: left;\">FDR_rand_only</th><th style = \"text-align: left;\">FDR_MS_only</th><th style = \"text-align: left;\">FDR_MDS_only</th><th style = \"text-align: left;\">TPR_rand_plus_MS</th><th style = \"text-align: left;\">TPR_rand_only</th><th style = \"text-align: left;\">TPR_MS_only</th><th style = \"text-align: left;\">TPR_MDS_only</th><th style = \"text-align: left;\">POWER_rand_plus_MS</th><th style = \"text-align: left;\">POWER_rand_only</th><th style = \"text-align: left;\">POWER_MS_only</th><th style = \"text-align: left;\">POWER_MDS_only</th><th style = \"text-align: left;\">round_prop_non_zero</th></tr><tr class = \"subheader headerLastRow\"><th class = \"rowNumber\" style = \"font-weight: bold; text-align: right;\"></th><th title = \"Any\" style = \"text-align: left;\">Any</th><th title = \"Any\" style = \"text-align: left;\">Any</th><th title = \"Any\" style = \"text-align: left;\">Any</th><th title = \"Any\" style = \"text-align: left;\">Any</th><th title = \"Any\" style = \"text-align: left;\">Any</th><th title = \"Any\" style = \"text-align: left;\">Any</th><th title = \"Any\" style = \"text-align: left;\">Any</th><th title = \"Any\" style = \"text-align: left;\">Any</th><th title = \"Any\" style = \"text-align: left;\">Any</th><th title = \"Any\" style = \"text-align: left;\">Any</th><th title = \"Any\" style = \"text-align: left;\">Any</th><th title = \"Any\" style = \"text-align: left;\">Any</th><th title = \"Any\" style = \"text-align: left;\">Any</th><th title = \"Any\" style = \"text-align: left;\">Any</th><th title = \"Any\" style = \"text-align: left;\">Any</th><th title = \"Any\" style = \"text-align: left;\">Any</th><th title = \"Float64\" style = \"text-align: left;\">Float64</th></tr></thead><tbody><tr><td class = \"rowNumber\" style = \"font-weight: bold; text-align: right;\">1</td><td style = \"text-align: left;\">1.0</td><td style = \"text-align: left;\">0.0</td><td style = \"text-align: left;\">0.0</td><td style = \"text-align: left;\">0.025</td><td style = \"text-align: left;\">0.0969489</td><td style = \"text-align: left;\">0.14076</td><td style = \"text-align: left;\">0.0856437</td><td style = \"text-align: left;\">0.00392157</td><td style = \"text-align: left;\">1.0</td><td style = \"text-align: left;\">1.0</td><td style = \"text-align: left;\">1.0</td><td style = \"text-align: left;\">0.976</td><td style = \"text-align: left;\">1.0</td><td style = \"text-align: left;\">1.0</td><td style = \"text-align: left;\">1.0</td><td style = \"text-align: left;\">0.976</td><td style = \"text-align: right;\">0.025</td></tr><tr><td class = \"rowNumber\" style = \"font-weight: bold; text-align: right;\">2</td><td style = \"text-align: left;\">1.0</td><td style = \"text-align: left;\">0.0</td><td style = \"text-align: left;\">0.0</td><td style = \"text-align: left;\">0.05</td><td style = \"text-align: left;\">0.077754</td><td style = \"text-align: left;\">0.151231</td><td style = \"text-align: left;\">0.126799</td><td style = \"text-align: left;\">0.173074</td><td style = \"text-align: left;\">1.0</td><td style = \"text-align: left;\">1.0</td><td style = \"text-align: left;\">0.289</td><td style = \"text-align: left;\">0.949</td><td style = \"text-align: left;\">1.0</td><td style = \"text-align: left;\">1.0</td><td style = \"text-align: left;\">0.289</td><td style = \"text-align: left;\">0.949</td><td style = \"text-align: right;\">0.05</td></tr><tr><td class = \"rowNumber\" style = \"font-weight: bold; text-align: right;\">3</td><td style = \"text-align: left;\">1.0</td><td style = \"text-align: left;\">0.5</td><td style = \"text-align: left;\">0.0</td><td style = \"text-align: left;\">0.025</td><td style = \"text-align: left;\">0.0581624</td><td style = \"text-align: left;\">0.203936</td><td style = \"text-align: left;\">0.0733669</td><td style = \"text-align: left;\">0.00277778</td><td style = \"text-align: left;\">0.726</td><td style = \"text-align: left;\">0.69</td><td style = \"text-align: left;\">0.668</td><td style = \"text-align: left;\">0.68</td><td style = \"text-align: left;\">0.726</td><td style = \"text-align: left;\">0.69</td><td style = \"text-align: left;\">0.668</td><td style = \"text-align: left;\">0.68</td><td style = \"text-align: right;\">0.025</td></tr><tr><td class = \"rowNumber\" style = \"font-weight: bold; text-align: right;\">4</td><td style = \"text-align: left;\">1.0</td><td style = \"text-align: left;\">0.5</td><td style = \"text-align: left;\">0.0</td><td style = \"text-align: left;\">0.05</td><td style = \"text-align: left;\">0.0718967</td><td style = \"text-align: left;\">0.158574</td><td style = \"text-align: left;\">0.0504787</td><td style = \"text-align: left;\">0.00166667</td><td style = \"text-align: left;\">0.711</td><td style = \"text-align: left;\">0.644</td><td style = \"text-align: left;\">0.512</td><td style = \"text-align: left;\">0.599</td><td style = \"text-align: left;\">0.711</td><td style = \"text-align: left;\">0.644</td><td style = \"text-align: left;\">0.512</td><td style = \"text-align: left;\">0.599</td><td style = \"text-align: right;\">0.05</td></tr><tr><td class = \"rowNumber\" style = \"font-weight: bold; text-align: right;\">5</td><td style = \"text-align: left;\">0.0</td><td style = \"text-align: left;\">0.0</td><td style = \"text-align: left;\">0.0</td><td style = \"text-align: left;\">0.025</td><td style = \"text-align: left;\">0.0776854</td><td style = \"text-align: left;\">0.161538</td><td style = \"text-align: left;\">0.0959653</td><td style = \"text-align: left;\">0.0</td><td style = \"text-align: left;\">1.0</td><td style = \"text-align: left;\">1.0</td><td style = \"text-align: left;\">1.0</td><td style = \"text-align: left;\">0.9</td><td style = \"text-align: left;\">1.0</td><td style = \"text-align: left;\">1.0</td><td style = \"text-align: left;\">1.0</td><td style = \"text-align: left;\">0.9</td><td style = \"text-align: right;\">0.025</td></tr></tbody></table></div>"
      ],
      "text/latex": [
       "\\begin{tabular}{r|ccccccc}\n",
       "\t& block\\_diagonal & corr\\_first & corr\\_second & prop\\_non\\_zero & FDR\\_rand\\_plus\\_MS & FDR\\_rand\\_only & \\\\\n",
       "\t\\hline\n",
       "\t& Any & Any & Any & Any & Any & Any & \\\\\n",
       "\t\\hline\n",
       "\t1 & 1.0 & 0.0 & 0.0 & 0.025 & 0.0969489 & 0.14076 & $\\dots$ \\\\\n",
       "\t2 & 1.0 & 0.0 & 0.0 & 0.05 & 0.077754 & 0.151231 & $\\dots$ \\\\\n",
       "\t3 & 1.0 & 0.5 & 0.0 & 0.025 & 0.0581624 & 0.203936 & $\\dots$ \\\\\n",
       "\t4 & 1.0 & 0.5 & 0.0 & 0.05 & 0.0718967 & 0.158574 & $\\dots$ \\\\\n",
       "\t5 & 0.0 & 0.0 & 0.0 & 0.025 & 0.0776854 & 0.161538 & $\\dots$ \\\\\n",
       "\\end{tabular}\n"
      ],
      "text/plain": [
       "\u001b[1m5×17 DataFrame\u001b[0m\n",
       "\u001b[1m Row \u001b[0m│\u001b[1m block_diagonal \u001b[0m\u001b[1m corr_first \u001b[0m\u001b[1m corr_second \u001b[0m\u001b[1m prop_non_zero \u001b[0m\u001b[1m FDR_rand_plus_M\u001b[0m ⋯\n",
       "     │\u001b[90m Any            \u001b[0m\u001b[90m Any        \u001b[0m\u001b[90m Any         \u001b[0m\u001b[90m Any           \u001b[0m\u001b[90m Any            \u001b[0m ⋯\n",
       "─────┼──────────────────────────────────────────────────────────────────────────\n",
       "   1 │ 1.0             0.0         0.0          0.025          0.0969489       ⋯\n",
       "   2 │ 1.0             0.0         0.0          0.05           0.077754\n",
       "   3 │ 1.0             0.5         0.0          0.025          0.0581624\n",
       "   4 │ 1.0             0.5         0.0          0.05           0.0718967\n",
       "   5 │ 0.0             0.0         0.0          0.025          0.0776854       ⋯\n",
       "\u001b[36m                                                              13 columns omitted\u001b[0m"
      ]
     },
     "metadata": {},
     "output_type": "display_data"
    }
   ],
   "source": [
    "df_metrics[1:5, :]"
   ]
  },
  {
   "cell_type": "code",
   "execution_count": 37,
   "metadata": {},
   "outputs": [
    {
     "data": {
      "text/plain": [
       "\"./simulation_n800_p2000.csv\""
      ]
     },
     "metadata": {},
     "output_type": "display_data"
    }
   ],
   "source": [
    "# CSV.write(\"./simulation_n800_p2000.csv\", df_metrics)\n",
    "\n",
    "# df_metrics = CSV.read(\"./simulation_MS_with_randomisation.csv\", DataFrames.DataFrame);"
   ]
  }
 ],
 "metadata": {
  "kernelspec": {
   "display_name": "Julia 1.9.2",
   "language": "julia",
   "name": "julia-1.9"
  },
  "language_info": {
   "file_extension": ".jl",
   "mimetype": "application/julia",
   "name": "julia",
   "version": "1.9.2"
  },
  "orig_nbformat": 4
 },
 "nbformat": 4,
 "nbformat_minor": 2
}
