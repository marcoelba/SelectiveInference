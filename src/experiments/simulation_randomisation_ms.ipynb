{
 "cells": [
  {
   "cell_type": "markdown",
   "metadata": {},
   "source": [
    "# Selective Inference via outcome Randomisation and Mirror Statistics"
   ]
  },
  {
   "cell_type": "code",
   "execution_count": 1,
   "metadata": {},
   "outputs": [
    {
     "name": "stdout",
     "output_type": "stream",
     "text": [
      "\u001b[36m\u001b[1mProject\u001b[22m\u001b[39m selective_inference_project v0.1.0\n",
      "\u001b[32m\u001b[1mStatus\u001b[22m\u001b[39m `~/Documents/UiO_Postdoc/Code/git_repositories/SelectiveInference/Project.toml`\n",
      "  \u001b[90m[336ed68f] \u001b[39mCSV v0.10.11\n",
      "\u001b[32m⌃\u001b[39m \u001b[90m[31c24e10] \u001b[39mDistributions v0.25.100\n",
      "\u001b[32m⌃\u001b[39m \u001b[90m[38e38edf] \u001b[39mGLM v1.8.3\n",
      "  \u001b[90m[8d5ece8b] \u001b[39mGLMNet v0.7.2\n",
      "\u001b[32m⌃\u001b[39m \u001b[90m[6f49c342] \u001b[39mRCall v0.13.17\n",
      "  \u001b[90m[f3b207a7] \u001b[39mStatsPlots v0.15.6\n",
      "\u001b[36m\u001b[1mInfo\u001b[22m\u001b[39m Packages marked with \u001b[32m⌃\u001b[39m have new versions available and may be upgradable.\n"
     ]
    }
   ],
   "source": [
    "using Pkg\n",
    "Pkg.status()\n",
    "\n",
    "using GLM\n",
    "using GLMNet\n",
    "using Distributions\n",
    "using Random\n",
    "using StatsPlots\n",
    "using Plots\n",
    "using DataFrames\n",
    "using CSV"
   ]
  },
  {
   "cell_type": "code",
   "execution_count": 2,
   "metadata": {},
   "outputs": [],
   "source": [
    "include(\"../utilities/data_generation.jl\")\n",
    "include(\"../utilities/randomisation_ds.jl\")\n",
    "include(\"../utilities/mirror_statistic.jl\")\n",
    "include(\"../utilities/classification_metrics.jl\");"
   ]
  },
  {
   "cell_type": "code",
   "execution_count": 3,
   "metadata": {},
   "outputs": [],
   "source": [
    "include(\"../wrapper_pipeline_inference.jl\");"
   ]
  },
  {
   "cell_type": "code",
   "execution_count": 4,
   "metadata": {},
   "outputs": [
    {
     "data": {
      "text/plain": [
       "print_metrics (generic function with 1 method)"
      ]
     },
     "metadata": {},
     "output_type": "display_data"
    }
   ],
   "source": [
    "function print_metrics(;scenario, results)\n",
    "    println(\"-------------------- $scenario --------------------\")\n",
    "    \n",
    "    for (metric, value) in zip(keys(results.class_metrics), results.class_metrics)\n",
    "        println(\"$metric ==> $value\")\n",
    "    end\n",
    "end"
   ]
  },
  {
   "cell_type": "code",
   "execution_count": 5,
   "metadata": {},
   "outputs": [],
   "source": [
    "function double_boxplot(;df, group_var, var_one, var_two, title_plot)\n",
    "    max_y = maximum(\n",
    "        (maximum(df[!, var_one]),\n",
    "        maximum(df[!, var_two]))\n",
    "    )\n",
    "    min_y = minimum(\n",
    "        (minimum(df[!, var_one]),\n",
    "        minimum(df[!, var_two]))\n",
    "    )\n",
    "    l = @layout [grid(1, 2)]\n",
    "    p1 = @df df boxplot(string.(cols(group_var)), cols(var_one), group=cols(group_var), label=false)\n",
    "    ylims!((min_y, max_y))\n",
    "    xlabel!(string(group_var))\n",
    "    title!(string(var_one))\n",
    "    p2 = @df df boxplot(string.(cols(group_var)), cols(var_two), group=cols(group_var), label=false)\n",
    "    ylims!((min_y, max_y))\n",
    "    xlabel!(string(group_var))\n",
    "    title!(string(var_two))\n",
    "    all_p = plot(p1, p2, layout = l)\n",
    "    all_p[:plot_title] = title_plot\n",
    "    plot(all_p)\n",
    "end;"
   ]
  },
  {
   "cell_type": "markdown",
   "metadata": {},
   "source": [
    "## Simulation on uncorrelated covariates"
   ]
  },
  {
   "cell_type": "markdown",
   "metadata": {},
   "source": [
    "### Low-dimensional case\n",
    "30% of coefficients are 0"
   ]
  },
  {
   "cell_type": "code",
   "execution_count": null,
   "metadata": {},
   "outputs": [],
   "source": [
    "n = 100\n",
    "p = 20\n",
    "prop_zero_coef = 0.3\n",
    "beta_intercept = 1.\n",
    "sigma2 = 1.\n",
    "correlation_coefficients = []\n",
    "scenario = \"Low-Dimensional, No Correlation, Random Cov\"\n",
    "\n",
    "Random.seed!(1345)\n",
    "results = wrapper_pipeline_inference.wrapper_randomisation_inference(\n",
    "    n=n,\n",
    "    p=p,\n",
    "    correlation_coefficients=correlation_coefficients,\n",
    "    block_covariance=false,\n",
    "    prop_zero_coef=prop_zero_coef,\n",
    "    sigma2=sigma2,\n",
    "    beta_intercept=beta_intercept,\n",
    "    gamma_randomisation=1.,\n",
    "    estimate_sigma2=true,\n",
    "    fdr_level=0.1\n",
    ");"
   ]
  },
  {
   "cell_type": "code",
   "execution_count": null,
   "metadata": {},
   "outputs": [],
   "source": [
    "print_metrics(scenario=scenario, results=results)"
   ]
  },
  {
   "cell_type": "markdown",
   "metadata": {},
   "source": [
    "### High-dimensional case\n",
    "70% of coefficients are 0"
   ]
  },
  {
   "cell_type": "code",
   "execution_count": null,
   "metadata": {},
   "outputs": [],
   "source": [
    "n = 500\n",
    "p = 500\n",
    "prop_zero_coef=0.9\n",
    "beta_intercept=1.\n",
    "sigma2=1.\n",
    "correlation_coefficients=[]\n",
    "block_covariance=false\n",
    "scenario = \"SAME AS PAPER - High-Dimensional, No Correlation, Random Cov\""
   ]
  },
  {
   "cell_type": "code",
   "execution_count": null,
   "metadata": {},
   "outputs": [],
   "source": [
    "Random.seed!(13)\n",
    "results = wrapper_pipeline_inference.wrapper_randomisation_inference(\n",
    "    n=n,\n",
    "    p=p,\n",
    "    correlation_coefficients=correlation_coefficients,\n",
    "    block_covariance=block_covariance,\n",
    "    prop_zero_coef=prop_zero_coef,\n",
    "    sigma2=sigma2,\n",
    "    beta_intercept=beta_intercept,\n",
    "    gamma_randomisation=1.,\n",
    "    estimate_sigma2=false,\n",
    "    fdr_level=0.1\n",
    ");\n",
    "\n",
    "print_metrics(scenario=scenario, results=results)"
   ]
  },
  {
   "cell_type": "code",
   "execution_count": null,
   "metadata": {},
   "outputs": [],
   "source": [
    "Random.seed!(13)\n",
    "results = wrapper_pipeline_inference.wrapper_randomisation_inference(\n",
    "    n=n,\n",
    "    p=p,\n",
    "    correlation_coefficients=correlation_coefficients,\n",
    "    block_covariance=block_covariance,\n",
    "    prop_zero_coef=prop_zero_coef,\n",
    "    sigma2=sigma2,\n",
    "    beta_intercept=beta_intercept,\n",
    "    gamma_randomisation=1.,\n",
    "    estimate_sigma2=true,\n",
    "    fdr_level=0.1\n",
    ");\n",
    "\n",
    "print_metrics(scenario=scenario, results=results)"
   ]
  },
  {
   "cell_type": "markdown",
   "metadata": {},
   "source": [
    "## Correlated covariates"
   ]
  },
  {
   "cell_type": "markdown",
   "metadata": {},
   "source": [
    "### Low-dimensional case\n",
    "30% of coefficients are 0"
   ]
  },
  {
   "cell_type": "code",
   "execution_count": null,
   "metadata": {},
   "outputs": [],
   "source": [
    "n = 100\n",
    "p = 20\n",
    "prop_zero_coef=0.3\n",
    "beta_intercept=1.\n",
    "sigma2=1.\n",
    "correlation_coefficients=[0.5, 0.3]\n",
    "block_covariance=false\n",
    "scenario = \"Low-Dimensional, With Correlation, Random Cov\"\n",
    "\n",
    "Random.seed!(1345)\n",
    "results = wrapper_pipeline_inference.wrapper_randomisation_inference(\n",
    "    n=n,\n",
    "    p=p,\n",
    "    correlation_coefficients=correlation_coefficients,\n",
    "    block_covariance=block_covariance,\n",
    "    prop_zero_coef=prop_zero_coef,\n",
    "    sigma2=sigma2,\n",
    "    gamma_randomisation=1.,\n",
    "    fdr_level=0.1\n",
    ");"
   ]
  },
  {
   "cell_type": "code",
   "execution_count": null,
   "metadata": {},
   "outputs": [],
   "source": [
    "print_metrics(scenario=scenario, results=results)"
   ]
  },
  {
   "cell_type": "markdown",
   "metadata": {},
   "source": [
    "### High-dimensional case\n",
    "70% of coefficients are 0"
   ]
  },
  {
   "cell_type": "code",
   "execution_count": null,
   "metadata": {},
   "outputs": [],
   "source": [
    "n = 100\n",
    "p = 200\n",
    "prop_zero_coef=0.9\n",
    "beta_intercept=1.\n",
    "sigma2=1.\n",
    "correlation_coefficients=[0.5, 0.3]\n",
    "block_covariance=false\n",
    "scenario = \"High-Dimensional, With Correlation, Random Cov\"\n",
    "\n",
    "Random.seed!(1345)\n",
    "results = wrapper_pipeline_inference.wrapper_randomisation_inference(\n",
    "    n=n,\n",
    "    p=p,\n",
    "    correlation_coefficients=correlation_coefficients,\n",
    "    block_covariance=block_covariance,\n",
    "    prop_zero_coef=prop_zero_coef,\n",
    "    sigma2=sigma2,\n",
    "    gamma_randomisation=1.,\n",
    "    fdr_level=0.1\n",
    ");"
   ]
  },
  {
   "cell_type": "code",
   "execution_count": null,
   "metadata": {},
   "outputs": [],
   "source": [
    "print_metrics(scenario=scenario, results=results)"
   ]
  },
  {
   "cell_type": "markdown",
   "metadata": {},
   "source": [
    "#### With Block diagonal matrix\n",
    "Covariates from one block belongs to S1 (coeffs != 0) and covariates from the other block belong to S0 (coeff = 0) "
   ]
  },
  {
   "cell_type": "code",
   "execution_count": null,
   "metadata": {},
   "outputs": [],
   "source": [
    "n = 100\n",
    "p = 20\n",
    "prop_zero_coef=0.5\n",
    "beta_intercept=1.\n",
    "sigma2=1.\n",
    "correlation_coefficients=[0.5]\n",
    "block_covariance = true\n",
    "scenario = \"Low-Dimensional, with Correlation, Block Cov\"\n",
    "\n",
    "Random.seed!(1345)\n",
    "results = wrapper_pipeline_inference.wrapper_randomisation_inference(\n",
    "    n=n,\n",
    "    p=p,\n",
    "    correlation_coefficients=correlation_coefficients,\n",
    "    block_covariance=block_covariance,\n",
    "    prop_zero_coef=prop_zero_coef,\n",
    "    sigma2=sigma2,\n",
    "    gamma_randomisation=1.,\n",
    "    fdr_level=0.1\n",
    ");"
   ]
  },
  {
   "cell_type": "code",
   "execution_count": null,
   "metadata": {},
   "outputs": [],
   "source": [
    "print_metrics(scenario=scenario, results=results)"
   ]
  },
  {
   "cell_type": "code",
   "execution_count": null,
   "metadata": {},
   "outputs": [],
   "source": [
    "n = 100\n",
    "p = 200\n",
    "prop_zero_coef=0.8\n",
    "beta_intercept=1.\n",
    "sigma2=1.\n",
    "correlation_coefficients=[0.5, 0.4]\n",
    "block_covariance = true\n",
    "scenario = \"High-Dimensional, with Correlation, block Cov\"\n",
    "\n",
    "Random.seed!(1345)\n",
    "results = wrapper_pipeline_inference.wrapper_randomisation_inference(\n",
    "    n=n,\n",
    "    p=p,\n",
    "    correlation_coefficients=correlation_coefficients,\n",
    "    block_covariance=block_covariance,\n",
    "    prop_zero_coef=prop_zero_coef,\n",
    "    sigma2=sigma2,\n",
    "    gamma_randomisation=1.,\n",
    "    fdr_level=0.1\n",
    ");"
   ]
  },
  {
   "cell_type": "code",
   "execution_count": null,
   "metadata": {},
   "outputs": [],
   "source": [
    "print_metrics(scenario=scenario, results=results)"
   ]
  },
  {
   "cell_type": "markdown",
   "metadata": {},
   "source": [
    "### High-dimensional case, 20% on non-zero coefficients, positive and negative correlations"
   ]
  },
  {
   "cell_type": "code",
   "execution_count": 9,
   "metadata": {},
   "outputs": [],
   "source": [
    "n = 100\n",
    "p = 200\n",
    "prop_zero_coef=0.8\n",
    "beta_intercept=1.\n",
    "sigma2=1.\n",
    "correlation_coefficients=[0.3, -0.2]\n",
    "block_covariance=true\n",
    "scenario = \"High-Dimensional, With positive and negative Correlations and 80% of zero coefficients, Block Cov\"\n",
    "\n",
    "Random.seed!(1345)\n",
    "results = wrapper_pipeline_inference.wrapper_randomisation_inference(\n",
    "    n=n,\n",
    "    p=p,\n",
    "    correlation_coefficients=correlation_coefficients,\n",
    "    block_covariance=block_covariance,\n",
    "    prop_zero_coef=prop_zero_coef,\n",
    "    sigma2=sigma2,\n",
    "    gamma_randomisation=1.,\n",
    "    fdr_level=0.1\n",
    ");"
   ]
  },
  {
   "cell_type": "code",
   "execution_count": 10,
   "metadata": {},
   "outputs": [
    {
     "name": "stdout",
     "output_type": "stream",
     "text": [
      "-------------------- High-Dimensional, With positive and negative Correlations and 80% of zero coefficients, Block Cov --------------------\n",
      "FDR_rand_plus_MS ==> 0.11764705882352941\n",
      "FDR_rand_only ==> 0.0\n",
      "FDR_MS_only ==> 0.0\n",
      "TPR_rand_plus_MS ==> 0.375\n",
      "TPR_rand_only ==> 0.3\n",
      "TPR_MS_only ==> 0.175\n"
     ]
    }
   ],
   "source": [
    "print_metrics(scenario=scenario, results=results)"
   ]
  },
  {
   "cell_type": "markdown",
   "metadata": {},
   "source": [
    "## Focus on High-Dimensional scenarios\n",
    "Gradually increase the correlation structure and the proportion of non-zero coefficients"
   ]
  },
  {
   "cell_type": "code",
   "execution_count": 11,
   "metadata": {},
   "outputs": [],
   "source": [
    "correlations_first_offdiag = [0., 0.1, 0.2, 0.3, 0.4, 0.5]\n",
    "correlations_second_offdiag = [0., 0.1, 0.2, 0.3, 0.4]\n",
    "# correlations_second_offdiag = [0.]\n",
    "proportions_zero_coef = [0.95, 0.9, 0.85, 0.8]\n",
    "block_covariance_options = [true, false];"
   ]
  },
  {
   "cell_type": "code",
   "execution_count": 12,
   "metadata": {},
   "outputs": [],
   "source": [
    "metrics_names = String[]\n",
    "for metric_name in keys(results.class_metrics)\n",
    "    push!(metrics_names, String(metric_name))\n",
    "end"
   ]
  },
  {
   "cell_type": "code",
   "execution_count": 13,
   "metadata": {},
   "outputs": [
    {
     "name": "stdout",
     "output_type": "stream",
     "text": [
      "# simulations: 240"
     ]
    }
   ],
   "source": [
    "tot_simulations = length(correlations_first_offdiag) * length(correlations_second_offdiag) * length(proportions_zero_coef) * length(block_covariance_options)\n",
    "colnames = append!([\"block_diagonal\", \"corr_first\", \"corr_second\", \"prop_non_zero\"], metrics_names);\n",
    "print(\"# simulations: $tot_simulations\")"
   ]
  },
  {
   "cell_type": "code",
   "execution_count": 14,
   "metadata": {},
   "outputs": [],
   "source": [
    "df_metrics = DataFrames.DataFrame([name => [] for name in colnames]);"
   ]
  },
  {
   "cell_type": "code",
   "execution_count": 15,
   "metadata": {},
   "outputs": [
    {
     "name": "stdout",
     "output_type": "stream",
     "text": [
      "Executing block covariance true\n",
      "Executing correlation 0.0\n"
     ]
    },
    {
     "name": "stdout",
     "output_type": "stream",
     "text": [
      "Warning: ErrorException"
     ]
    },
    {
     "name": "stdout",
     "output_type": "stream",
     "text": [
      "(\""
     ]
    },
    {
     "name": "stdout",
     "output_type": "stream",
     "text": [
      "# non-zero coeff > n: impossible to estimate sigma^2\")\n",
      "Executing correlation 0.1"
     ]
    },
    {
     "name": "stdout",
     "output_type": "stream",
     "text": [
      "\n",
      "Warning: "
     ]
    },
    {
     "name": "stdout",
     "output_type": "stream",
     "text": [
      "ErrorException(\"# non-zero coeff > n: impossible to estimate sigma^2\")\n"
     ]
    },
    {
     "name": "stdout",
     "output_type": "stream",
     "text": [
      "Warning: ErrorException(\"# non-zero coeff > n: impossible to estimate sigma^2\")\n",
      "Warning: "
     ]
    },
    {
     "name": "stdout",
     "output_type": "stream",
     "text": [
      "ErrorException(\"# non-zero coeff > n: impossible to estimate sigma^2\")\n"
     ]
    },
    {
     "name": "stdout",
     "output_type": "stream",
     "text": [
      "Warning: ErrorException(\"# non-zero coeff > n: impossible to estimate sigma^2\")\n",
      "Warning: "
     ]
    },
    {
     "name": "stdout",
     "output_type": "stream",
     "text": [
      "ErrorException(\"# non-zero coeff > n: impossible to estimate sigma^2\")\n"
     ]
    },
    {
     "name": "stdout",
     "output_type": "stream",
     "text": [
      "Executing correlation 0.2\n"
     ]
    },
    {
     "name": "stdout",
     "output_type": "stream",
     "text": [
      "Warning: ErrorException(\"# non-zero coeff > n: impossible to estimate sigma^2\")\n",
      "Executing correlation 0.3"
     ]
    },
    {
     "name": "stdout",
     "output_type": "stream",
     "text": [
      "\n",
      "Executing correlation 0.4"
     ]
    },
    {
     "name": "stdout",
     "output_type": "stream",
     "text": [
      "\n",
      "Warning: "
     ]
    },
    {
     "name": "stdout",
     "output_type": "stream",
     "text": [
      "ErrorException(\"# non-zero coeff > n: impossible to estimate sigma^2\")\n"
     ]
    },
    {
     "name": "stdout",
     "output_type": "stream",
     "text": [
      "Warning: ErrorException(\"# non-zero coeff > n: impossible to estimate sigma^2\")\n",
      "Executing correlation 0.5"
     ]
    },
    {
     "name": "stdout",
     "output_type": "stream",
     "text": [
      "\n",
      "Executing block covariance false"
     ]
    },
    {
     "name": "stdout",
     "output_type": "stream",
     "text": [
      "\n",
      "Executing correlation 0.0\n",
      "Warning: "
     ]
    },
    {
     "name": "stdout",
     "output_type": "stream",
     "text": [
      "ErrorException(\"# non-zero coeff > n: impossible to estimate sigma^2\")\n"
     ]
    },
    {
     "name": "stdout",
     "output_type": "stream",
     "text": [
      "Warning: ErrorException(\"# non-zero coeff > n: impossible to estimate sigma^2\")\n",
      "Warning: "
     ]
    },
    {
     "name": "stdout",
     "output_type": "stream",
     "text": [
      "ErrorException(\"# non-zero coeff > n: impossible to estimate sigma^2\")\n"
     ]
    },
    {
     "name": "stdout",
     "output_type": "stream",
     "text": [
      "Warning: ErrorException(\"# non-zero coeff > n: impossible to estimate sigma^2\")\n",
      "Warning: "
     ]
    },
    {
     "name": "stdout",
     "output_type": "stream",
     "text": [
      "ErrorException(\"# non-zero coeff > n: impossible to estimate sigma^2\")\n"
     ]
    },
    {
     "name": "stdout",
     "output_type": "stream",
     "text": [
      "Executing correlation 0.1\n"
     ]
    },
    {
     "name": "stdout",
     "output_type": "stream",
     "text": [
      "Warning: ErrorException(\"# non-zero coeff > n: impossible to estimate sigma^2\")\n",
      "Executing correlation 0.2"
     ]
    },
    {
     "name": "stdout",
     "output_type": "stream",
     "text": [
      "\n",
      "Warning: "
     ]
    },
    {
     "name": "stdout",
     "output_type": "stream",
     "text": [
      "ErrorException(\"# non-zero coeff > n: impossible to estimate sigma^2\")\n"
     ]
    },
    {
     "name": "stdout",
     "output_type": "stream",
     "text": [
      "Executing correlation 0.3\n"
     ]
    },
    {
     "name": "stdout",
     "output_type": "stream",
     "text": [
      "Warning: ErrorException(\"# non-zero coeff > n: impossible to estimate sigma^2\")\n",
      "Warning: "
     ]
    },
    {
     "name": "stdout",
     "output_type": "stream",
     "text": [
      "ErrorException(\"# non-zero coeff > n: impossible to estimate sigma^2\")\n"
     ]
    },
    {
     "name": "stdout",
     "output_type": "stream",
     "text": [
      "Warning: ErrorException(\"# non-zero coeff > n: impossible to estimate sigma^2\")\n",
      "Warning: "
     ]
    },
    {
     "name": "stdout",
     "output_type": "stream",
     "text": [
      "ErrorException(\"# non-zero coeff > n: impossible to estimate sigma^2\")\n"
     ]
    },
    {
     "name": "stdout",
     "output_type": "stream",
     "text": [
      "Warning: ErrorException(\"# non-zero coeff > n: impossible to estimate sigma^2\")\n",
      "Executing correlation 0.4"
     ]
    },
    {
     "name": "stdout",
     "output_type": "stream",
     "text": [
      "\n",
      "Warning: "
     ]
    },
    {
     "name": "stdout",
     "output_type": "stream",
     "text": [
      "ErrorException(\"# non-zero coeff > n: impossible to estimate sigma^2\")\n"
     ]
    },
    {
     "name": "stdout",
     "output_type": "stream",
     "text": [
      "Warning: ErrorException(\"# non-zero coeff > n: impossible to estimate sigma^2\")\n",
      "Warning: "
     ]
    },
    {
     "name": "stdout",
     "output_type": "stream",
     "text": [
      "ErrorException(\"# non-zero coeff > n: impossible to estimate sigma^2\")\n"
     ]
    },
    {
     "name": "stdout",
     "output_type": "stream",
     "text": [
      "Warning: ErrorException(\"# non-zero coeff > n: impossible to estimate sigma^2\")\n",
      "Executing correlation 0.5"
     ]
    },
    {
     "name": "stdout",
     "output_type": "stream",
     "text": [
      "\n",
      "Warning: "
     ]
    },
    {
     "name": "stdout",
     "output_type": "stream",
     "text": [
      "ErrorException(\"# non-zero coeff > n: impossible to estimate sigma^2\")\n"
     ]
    },
    {
     "name": "stdout",
     "output_type": "stream",
     "text": [
      "Warning: ErrorException(\"# non-zero coeff > n: impossible to estimate sigma^2\")\n"
     ]
    }
   ],
   "source": [
    "n = 100\n",
    "p = 200\n",
    "beta_intercept=1.\n",
    "sigma2=1.\n",
    "gamma_randomisation=1.\n",
    "estimate_sigma2=true\n",
    "n_replica = 10\n",
    "\n",
    "for cov_structure in block_covariance_options\n",
    "    println(\"Executing block covariance $cov_structure\")\n",
    "    for corr_first in correlations_first_offdiag\n",
    "        println(\"Executing correlation $corr_first\")\n",
    "        for corr_sec in correlations_second_offdiag\n",
    "            for prop_zero in proportions_zero_coef\n",
    "\n",
    "                Random.seed!(1345)\n",
    "                scenario = \"Correlations: $corr_first and $corr_sec. Proportion $prop_zero of zero coefficients\"\n",
    "                correlation_coefficients=[corr_first, corr_sec]\n",
    "                \n",
    "                # Initialise to 0\n",
    "                average_metrics = zeros(length(keys(results.class_metrics)))\n",
    "\n",
    "                # Do an average over n replications for each combination\n",
    "                n_good_experiments = 0\n",
    "                for replica in range(1, n_replica)\n",
    "                    try\n",
    "                        results = wrapper_pipeline_inference.wrapper_randomisation_inference(\n",
    "                            n=n,\n",
    "                            p=p,\n",
    "                            correlation_coefficients=correlation_coefficients,\n",
    "                            block_covariance=cov_structure,\n",
    "                            prop_zero_coef=prop_zero,\n",
    "                            sigma2=sigma2,\n",
    "                            beta_intercept=beta_intercept,\n",
    "                            estimate_sigma2=estimate_sigma2,\n",
    "                            gamma_randomisation=1.,\n",
    "                            fdr_level=0.1\n",
    "                        )\n",
    "\n",
    "                        for (metric, value) in enumerate(results.class_metrics)\n",
    "                            average_metrics[metric] += value\n",
    "                        end\n",
    "                        n_good_experiments += 1\n",
    "    \n",
    "                    catch pipeline_error\n",
    "                        println(\"Warning: \", pipeline_error)\n",
    "                        continue\n",
    "                    end\n",
    "                    \n",
    "                end\n",
    "\n",
    "                push!(\n",
    "                    df_metrics,\n",
    "                    append!(\n",
    "                        [\n",
    "                            cov_structure,\n",
    "                            corr_first,\n",
    "                            corr_sec,\n",
    "                            1-prop_zero\n",
    "                        ],\n",
    "                        average_metrics ./ n_good_experiments\n",
    "                    )\n",
    "                )\n",
    "\n",
    "            end\n",
    "        end\n",
    "    end\n",
    "end\n",
    ";"
   ]
  },
  {
   "cell_type": "code",
   "execution_count": 17,
   "metadata": {},
   "outputs": [],
   "source": [
    "df_metrics[!, \"round_prop_non_zero\"] = round.(df_metrics[!, \"prop_non_zero\"], digits=3);"
   ]
  },
  {
   "cell_type": "code",
   "execution_count": 18,
   "metadata": {},
   "outputs": [
    {
     "data": {
      "text/html": [
       "<div><div style = \"float: left;\"><span>5×11 DataFrame</span></div><div style = \"clear: both;\"></div></div><div class = \"data-frame\" style = \"overflow-x: scroll;\"><table class = \"data-frame\" style = \"margin-bottom: 6px;\"><thead><tr class = \"header\"><th class = \"rowNumber\" style = \"font-weight: bold; text-align: right;\">Row</th><th style = \"text-align: left;\">block_diagonal</th><th style = \"text-align: left;\">corr_first</th><th style = \"text-align: left;\">corr_second</th><th style = \"text-align: left;\">prop_non_zero</th><th style = \"text-align: left;\">FDR_rand_plus_MS</th><th style = \"text-align: left;\">FDR_rand_only</th><th style = \"text-align: left;\">FDR_MS_only</th><th style = \"text-align: left;\">TPR_rand_plus_MS</th><th style = \"text-align: left;\">TPR_rand_only</th><th style = \"text-align: left;\">TPR_MS_only</th><th style = \"text-align: left;\">round_prop_non_zero</th></tr><tr class = \"subheader headerLastRow\"><th class = \"rowNumber\" style = \"font-weight: bold; text-align: right;\"></th><th title = \"Any\" style = \"text-align: left;\">Any</th><th title = \"Any\" style = \"text-align: left;\">Any</th><th title = \"Any\" style = \"text-align: left;\">Any</th><th title = \"Any\" style = \"text-align: left;\">Any</th><th title = \"Any\" style = \"text-align: left;\">Any</th><th title = \"Any\" style = \"text-align: left;\">Any</th><th title = \"Any\" style = \"text-align: left;\">Any</th><th title = \"Any\" style = \"text-align: left;\">Any</th><th title = \"Any\" style = \"text-align: left;\">Any</th><th title = \"Any\" style = \"text-align: left;\">Any</th><th title = \"Float64\" style = \"text-align: left;\">Float64</th></tr></thead><tbody><tr><td class = \"rowNumber\" style = \"font-weight: bold; text-align: right;\">1</td><td style = \"text-align: left;\">1.0</td><td style = \"text-align: left;\">0.0</td><td style = \"text-align: left;\">0.0</td><td style = \"text-align: left;\">0.05</td><td style = \"text-align: left;\">0.216375</td><td style = \"text-align: left;\">0.0972294</td><td style = \"text-align: left;\">0.182566</td><td style = \"text-align: left;\">0.95</td><td style = \"text-align: left;\">0.85</td><td style = \"text-align: left;\">0.6</td><td style = \"text-align: right;\">0.05</td></tr><tr><td class = \"rowNumber\" style = \"font-weight: bold; text-align: right;\">2</td><td style = \"text-align: left;\">1.0</td><td style = \"text-align: left;\">0.0</td><td style = \"text-align: left;\">0.0</td><td style = \"text-align: left;\">0.1</td><td style = \"text-align: left;\">0.281655</td><td style = \"text-align: left;\">0.1541</td><td style = \"text-align: left;\">0.103333</td><td style = \"text-align: left;\">0.755</td><td style = \"text-align: left;\">0.66</td><td style = \"text-align: left;\">0.205</td><td style = \"text-align: right;\">0.1</td></tr><tr><td class = \"rowNumber\" style = \"font-weight: bold; text-align: right;\">3</td><td style = \"text-align: left;\">1.0</td><td style = \"text-align: left;\">0.0</td><td style = \"text-align: left;\">0.0</td><td style = \"text-align: left;\">0.15</td><td style = \"text-align: left;\">0.265458</td><td style = \"text-align: left;\">0.180085</td><td style = \"text-align: left;\">0.1</td><td style = \"text-align: left;\">0.696667</td><td style = \"text-align: left;\">0.443333</td><td style = \"text-align: left;\">0.0666667</td><td style = \"text-align: right;\">0.15</td></tr><tr><td class = \"rowNumber\" style = \"font-weight: bold; text-align: right;\">4</td><td style = \"text-align: left;\">1.0</td><td style = \"text-align: left;\">0.0</td><td style = \"text-align: left;\">0.0</td><td style = \"text-align: left;\">0.2</td><td style = \"text-align: left;\">0.285997</td><td style = \"text-align: left;\">0.142833</td><td style = \"text-align: left;\">0.04</td><td style = \"text-align: left;\">0.33</td><td style = \"text-align: left;\">0.1825</td><td style = \"text-align: left;\">0.0475</td><td style = \"text-align: right;\">0.2</td></tr><tr><td class = \"rowNumber\" style = \"font-weight: bold; text-align: right;\">5</td><td style = \"text-align: left;\">1.0</td><td style = \"text-align: left;\">0.0</td><td style = \"text-align: left;\">0.1</td><td style = \"text-align: left;\">0.05</td><td style = \"text-align: left;\">0.174859</td><td style = \"text-align: left;\">0.140159</td><td style = \"text-align: left;\">0.226515</td><td style = \"text-align: left;\">0.95</td><td style = \"text-align: left;\">0.89</td><td style = \"text-align: left;\">0.55</td><td style = \"text-align: right;\">0.05</td></tr></tbody></table></div>"
      ],
      "text/latex": [
       "\\begin{tabular}{r|ccccccc}\n",
       "\t& block\\_diagonal & corr\\_first & corr\\_second & prop\\_non\\_zero & FDR\\_rand\\_plus\\_MS & FDR\\_rand\\_only & \\\\\n",
       "\t\\hline\n",
       "\t& Any & Any & Any & Any & Any & Any & \\\\\n",
       "\t\\hline\n",
       "\t1 & 1.0 & 0.0 & 0.0 & 0.05 & 0.216375 & 0.0972294 & $\\dots$ \\\\\n",
       "\t2 & 1.0 & 0.0 & 0.0 & 0.1 & 0.281655 & 0.1541 & $\\dots$ \\\\\n",
       "\t3 & 1.0 & 0.0 & 0.0 & 0.15 & 0.265458 & 0.180085 & $\\dots$ \\\\\n",
       "\t4 & 1.0 & 0.0 & 0.0 & 0.2 & 0.285997 & 0.142833 & $\\dots$ \\\\\n",
       "\t5 & 1.0 & 0.0 & 0.1 & 0.05 & 0.174859 & 0.140159 & $\\dots$ \\\\\n",
       "\\end{tabular}\n"
      ],
      "text/plain": [
       "\u001b[1m5×11 DataFrame\u001b[0m\n",
       "\u001b[1m Row \u001b[0m│\u001b[1m block_diagonal \u001b[0m\u001b[1m corr_first \u001b[0m\u001b[1m corr_second \u001b[0m\u001b[1m prop_non_zero \u001b[0m\u001b[1m FDR_rand_plus_M\u001b[0m ⋯\n",
       "     │\u001b[90m Any            \u001b[0m\u001b[90m Any        \u001b[0m\u001b[90m Any         \u001b[0m\u001b[90m Any           \u001b[0m\u001b[90m Any            \u001b[0m ⋯\n",
       "─────┼──────────────────────────────────────────────────────────────────────────\n",
       "   1 │ 1.0             0.0         0.0          0.05           0.216375        ⋯\n",
       "   2 │ 1.0             0.0         0.0          0.1            0.281655\n",
       "   3 │ 1.0             0.0         0.0          0.15           0.265458\n",
       "   4 │ 1.0             0.0         0.0          0.2            0.285997\n",
       "   5 │ 1.0             0.0         0.1          0.05           0.174859        ⋯\n",
       "\u001b[36m                                                               7 columns omitted\u001b[0m"
      ]
     },
     "metadata": {},
     "output_type": "display_data"
    }
   ],
   "source": [
    "df_metrics[1:5, :]"
   ]
  },
  {
   "cell_type": "code",
   "execution_count": 19,
   "metadata": {},
   "outputs": [
    {
     "data": {
      "text/plain": [
       "\"./simulation_MS_with_randomisation_n100_p200_sigma2_estimated.csv\""
      ]
     },
     "metadata": {},
     "output_type": "display_data"
    }
   ],
   "source": [
    "# CSV.write(\"./simulation_MS_with_randomisation_n100_p200_sigma2_estimated.csv\", df_metrics)\n",
    "\n",
    "# df_metrics = CSV.read(\"./simulation_MS_with_randomisation.csv\", DataFrames.DataFrame);"
   ]
  }
 ],
 "metadata": {
  "kernelspec": {
   "display_name": "Julia 1.9.2",
   "language": "julia",
   "name": "julia-1.9"
  },
  "language_info": {
   "file_extension": ".jl",
   "mimetype": "application/julia",
   "name": "julia",
   "version": "1.9.2"
  },
  "orig_nbformat": 4
 },
 "nbformat": 4,
 "nbformat_minor": 2
}
