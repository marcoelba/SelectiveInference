{
 "cells": [
  {
   "cell_type": "markdown",
   "metadata": {},
   "source": [
    "# Selective Inference via outcome Randomisation and Mirror Statistics"
   ]
  },
  {
   "cell_type": "code",
   "execution_count": 1,
   "metadata": {},
   "outputs": [
    {
     "name": "stdout",
     "output_type": "stream",
     "text": [
      "\u001b[36m\u001b[1mProject\u001b[22m\u001b[39m selective_inference_project v0.1.0\n",
      "\u001b[32m\u001b[1mStatus\u001b[22m\u001b[39m `~/Documents/UiO_Postdoc/Code/git_repositories/SelectiveInference/Project.toml`\n",
      "  \u001b[90m[336ed68f] \u001b[39mCSV v0.10.11\n",
      "\u001b[32m⌃\u001b[39m \u001b[90m[31c24e10] \u001b[39mDistributions v0.25.100\n",
      "\u001b[32m⌃\u001b[39m \u001b[90m[38e38edf] \u001b[39mGLM v1.8.3\n",
      "  \u001b[90m[8d5ece8b] \u001b[39mGLMNet v0.7.2\n",
      "\u001b[32m⌃\u001b[39m \u001b[90m[6f49c342] \u001b[39mRCall v0.13.17\n",
      "  \u001b[90m[f3b207a7] \u001b[39mStatsPlots v0.15.6\n",
      "\u001b[36m\u001b[1mInfo\u001b[22m\u001b[39m Packages marked with \u001b[32m⌃\u001b[39m have new versions available and may be upgradable.\n"
     ]
    }
   ],
   "source": [
    "using Pkg\n",
    "Pkg.status()\n",
    "\n",
    "using GLM\n",
    "using GLMNet\n",
    "using Distributions\n",
    "using Random\n",
    "using StatsPlots\n",
    "using Plots\n",
    "using DataFrames\n",
    "using CSV"
   ]
  },
  {
   "cell_type": "code",
   "execution_count": 26,
   "metadata": {},
   "outputs": [
    {
     "name": "stderr",
     "output_type": "stream",
     "text": [
      "WARNING: replacing module data_generation.\n",
      "WARNING: replacing module randomisation_ds.\n",
      "WARNING: replacing module mirror_statistic.\n",
      "WARNING: replacing module classification_metrics.\n"
     ]
    }
   ],
   "source": [
    "include(\"../utilities/data_generation.jl\")\n",
    "include(\"../utilities/randomisation_ds.jl\")\n",
    "include(\"../utilities/mirror_statistic.jl\")\n",
    "include(\"../utilities/classification_metrics.jl\");"
   ]
  },
  {
   "cell_type": "code",
   "execution_count": 30,
   "metadata": {},
   "outputs": [
    {
     "name": "stderr",
     "output_type": "stream",
     "text": [
      "WARNING: replacing module wrapper_pipeline_inference.\n"
     ]
    }
   ],
   "source": [
    "include(\"../wrapper_pipeline_inference.jl\");"
   ]
  },
  {
   "cell_type": "code",
   "execution_count": 4,
   "metadata": {},
   "outputs": [
    {
     "data": {
      "text/plain": [
       "print_metrics (generic function with 1 method)"
      ]
     },
     "metadata": {},
     "output_type": "display_data"
    }
   ],
   "source": [
    "function print_metrics(;scenario, results)\n",
    "    println(\"-------------------- $scenario --------------------\")\n",
    "    \n",
    "    for (metric, value) in zip(keys(results.class_metrics), results.class_metrics)\n",
    "        println(\"$metric ==> $value\")\n",
    "    end\n",
    "end"
   ]
  },
  {
   "cell_type": "code",
   "execution_count": 5,
   "metadata": {},
   "outputs": [],
   "source": [
    "function double_boxplot(;df, group_var, var_one, var_two, title_plot)\n",
    "    max_y = maximum(\n",
    "        (maximum(df[!, var_one]),\n",
    "        maximum(df[!, var_two]))\n",
    "    )\n",
    "    min_y = minimum(\n",
    "        (minimum(df[!, var_one]),\n",
    "        minimum(df[!, var_two]))\n",
    "    )\n",
    "    l = @layout [grid(1, 2)]\n",
    "    p1 = @df df boxplot(string.(cols(group_var)), cols(var_one), group=cols(group_var), label=false)\n",
    "    ylims!((min_y, max_y))\n",
    "    xlabel!(string(group_var))\n",
    "    title!(string(var_one))\n",
    "    p2 = @df df boxplot(string.(cols(group_var)), cols(var_two), group=cols(group_var), label=false)\n",
    "    ylims!((min_y, max_y))\n",
    "    xlabel!(string(group_var))\n",
    "    title!(string(var_two))\n",
    "    all_p = plot(p1, p2, layout = l)\n",
    "    all_p[:plot_title] = title_plot\n",
    "    plot(all_p)\n",
    "end;"
   ]
  },
  {
   "cell_type": "markdown",
   "metadata": {},
   "source": [
    "## Simulation on uncorrelated covariates"
   ]
  },
  {
   "cell_type": "markdown",
   "metadata": {},
   "source": [
    "### Low-dimensional case\n",
    "30% of coefficients are 0"
   ]
  },
  {
   "cell_type": "code",
   "execution_count": null,
   "metadata": {},
   "outputs": [],
   "source": [
    "n = 100\n",
    "p = 20\n",
    "prop_zero_coef = 0.3\n",
    "beta_intercept = 1.\n",
    "sigma2 = 1.\n",
    "correlation_coefficients = []\n",
    "scenario = \"Low-Dimensional, No Correlation, Random Cov\"\n",
    "\n",
    "Random.seed!(1345)\n",
    "results = wrapper_pipeline_inference.wrapper_randomisation_inference(\n",
    "    n=n,\n",
    "    p=p,\n",
    "    correlation_coefficients=correlation_coefficients,\n",
    "    block_covariance=false,\n",
    "    prop_zero_coef=prop_zero_coef,\n",
    "    sigma2=sigma2,\n",
    "    beta_intercept=beta_intercept,\n",
    "    gamma_randomisation=1.,\n",
    "    estimate_sigma2=true,\n",
    "    fdr_level=0.1\n",
    ");"
   ]
  },
  {
   "cell_type": "code",
   "execution_count": null,
   "metadata": {},
   "outputs": [],
   "source": [
    "print_metrics(scenario=scenario, results=results)"
   ]
  },
  {
   "cell_type": "markdown",
   "metadata": {},
   "source": [
    "### High-dimensional case\n",
    "70% of coefficients are 0"
   ]
  },
  {
   "cell_type": "code",
   "execution_count": null,
   "metadata": {},
   "outputs": [],
   "source": [
    "n = 500\n",
    "p = 500\n",
    "prop_zero_coef=0.9\n",
    "beta_intercept=1.\n",
    "sigma2=1.\n",
    "correlation_coefficients=[]\n",
    "block_covariance=false\n",
    "scenario = \"SAME AS PAPER - High-Dimensional, No Correlation, Random Cov\""
   ]
  },
  {
   "cell_type": "code",
   "execution_count": null,
   "metadata": {},
   "outputs": [],
   "source": [
    "Random.seed!(13)\n",
    "results = wrapper_pipeline_inference.wrapper_randomisation_inference(\n",
    "    n=n,\n",
    "    p=p,\n",
    "    correlation_coefficients=correlation_coefficients,\n",
    "    block_covariance=block_covariance,\n",
    "    prop_zero_coef=prop_zero_coef,\n",
    "    sigma2=sigma2,\n",
    "    beta_intercept=beta_intercept,\n",
    "    gamma_randomisation=1.,\n",
    "    estimate_sigma2=false,\n",
    "    fdr_level=0.1\n",
    ");\n",
    "\n",
    "print_metrics(scenario=scenario, results=results)"
   ]
  },
  {
   "cell_type": "code",
   "execution_count": null,
   "metadata": {},
   "outputs": [],
   "source": [
    "Random.seed!(13)\n",
    "results = wrapper_pipeline_inference.wrapper_randomisation_inference(\n",
    "    n=n,\n",
    "    p=p,\n",
    "    correlation_coefficients=correlation_coefficients,\n",
    "    block_covariance=block_covariance,\n",
    "    prop_zero_coef=prop_zero_coef,\n",
    "    sigma2=sigma2,\n",
    "    beta_intercept=beta_intercept,\n",
    "    gamma_randomisation=1.,\n",
    "    estimate_sigma2=true,\n",
    "    fdr_level=0.1\n",
    ");\n",
    "\n",
    "print_metrics(scenario=scenario, results=results)"
   ]
  },
  {
   "cell_type": "markdown",
   "metadata": {},
   "source": [
    "## Correlated covariates"
   ]
  },
  {
   "cell_type": "markdown",
   "metadata": {},
   "source": [
    "### Low-dimensional case\n",
    "30% of coefficients are 0"
   ]
  },
  {
   "cell_type": "code",
   "execution_count": null,
   "metadata": {},
   "outputs": [],
   "source": [
    "n = 100\n",
    "p = 20\n",
    "prop_zero_coef=0.3\n",
    "beta_intercept=1.\n",
    "sigma2=1.\n",
    "correlation_coefficients=[0.5, 0.3]\n",
    "block_covariance=false\n",
    "scenario = \"Low-Dimensional, With Correlation, Random Cov\"\n",
    "\n",
    "Random.seed!(1345)\n",
    "results = wrapper_pipeline_inference.wrapper_randomisation_inference(\n",
    "    n=n,\n",
    "    p=p,\n",
    "    correlation_coefficients=correlation_coefficients,\n",
    "    block_covariance=block_covariance,\n",
    "    prop_zero_coef=prop_zero_coef,\n",
    "    sigma2=sigma2,\n",
    "    gamma_randomisation=1.,\n",
    "    fdr_level=0.1\n",
    ");"
   ]
  },
  {
   "cell_type": "code",
   "execution_count": null,
   "metadata": {},
   "outputs": [],
   "source": [
    "print_metrics(scenario=scenario, results=results)"
   ]
  },
  {
   "cell_type": "markdown",
   "metadata": {},
   "source": [
    "### High-dimensional case\n",
    "70% of coefficients are 0"
   ]
  },
  {
   "cell_type": "code",
   "execution_count": null,
   "metadata": {},
   "outputs": [],
   "source": [
    "n = 100\n",
    "p = 200\n",
    "prop_zero_coef=0.9\n",
    "beta_intercept=1.\n",
    "sigma2=1.\n",
    "correlation_coefficients=[0.5, 0.3]\n",
    "block_covariance=false\n",
    "scenario = \"High-Dimensional, With Correlation, Random Cov\"\n",
    "\n",
    "Random.seed!(1345)\n",
    "results = wrapper_pipeline_inference.wrapper_randomisation_inference(\n",
    "    n=n,\n",
    "    p=p,\n",
    "    correlation_coefficients=correlation_coefficients,\n",
    "    block_covariance=block_covariance,\n",
    "    prop_zero_coef=prop_zero_coef,\n",
    "    sigma2=sigma2,\n",
    "    gamma_randomisation=1.,\n",
    "    fdr_level=0.1\n",
    ");"
   ]
  },
  {
   "cell_type": "code",
   "execution_count": null,
   "metadata": {},
   "outputs": [],
   "source": [
    "print_metrics(scenario=scenario, results=results)"
   ]
  },
  {
   "cell_type": "markdown",
   "metadata": {},
   "source": [
    "#### With Block diagonal matrix\n",
    "Covariates from one block belongs to S1 (coeffs != 0) and covariates from the other block belong to S0 (coeff = 0) "
   ]
  },
  {
   "cell_type": "code",
   "execution_count": null,
   "metadata": {},
   "outputs": [],
   "source": [
    "n = 100\n",
    "p = 20\n",
    "prop_zero_coef=0.5\n",
    "beta_intercept=1.\n",
    "sigma2=1.\n",
    "correlation_coefficients=[0.5]\n",
    "block_covariance = true\n",
    "scenario = \"Low-Dimensional, with Correlation, Block Cov\"\n",
    "\n",
    "Random.seed!(1345)\n",
    "results = wrapper_pipeline_inference.wrapper_randomisation_inference(\n",
    "    n=n,\n",
    "    p=p,\n",
    "    correlation_coefficients=correlation_coefficients,\n",
    "    block_covariance=block_covariance,\n",
    "    prop_zero_coef=prop_zero_coef,\n",
    "    sigma2=sigma2,\n",
    "    gamma_randomisation=1.,\n",
    "    fdr_level=0.1\n",
    ");"
   ]
  },
  {
   "cell_type": "code",
   "execution_count": null,
   "metadata": {},
   "outputs": [],
   "source": [
    "print_metrics(scenario=scenario, results=results)"
   ]
  },
  {
   "cell_type": "code",
   "execution_count": null,
   "metadata": {},
   "outputs": [],
   "source": [
    "n = 100\n",
    "p = 200\n",
    "prop_zero_coef=0.8\n",
    "beta_intercept=1.\n",
    "sigma2=1.\n",
    "correlation_coefficients=[0.5, 0.4]\n",
    "block_covariance = true\n",
    "scenario = \"High-Dimensional, with Correlation, block Cov\"\n",
    "\n",
    "Random.seed!(1345)\n",
    "results = wrapper_pipeline_inference.wrapper_randomisation_inference(\n",
    "    n=n,\n",
    "    p=p,\n",
    "    correlation_coefficients=correlation_coefficients,\n",
    "    block_covariance=block_covariance,\n",
    "    prop_zero_coef=prop_zero_coef,\n",
    "    sigma2=sigma2,\n",
    "    gamma_randomisation=1.,\n",
    "    fdr_level=0.1\n",
    ");"
   ]
  },
  {
   "cell_type": "code",
   "execution_count": null,
   "metadata": {},
   "outputs": [],
   "source": [
    "print_metrics(scenario=scenario, results=results)"
   ]
  },
  {
   "cell_type": "markdown",
   "metadata": {},
   "source": [
    "### High-dimensional case, 20% on non-zero coefficients, positive and negative correlations"
   ]
  },
  {
   "cell_type": "code",
   "execution_count": 9,
   "metadata": {},
   "outputs": [],
   "source": [
    "n = 100\n",
    "p = 200\n",
    "prop_zero_coef=0.8\n",
    "beta_intercept=1.\n",
    "sigma2=1.\n",
    "correlation_coefficients=[0.3, -0.2]\n",
    "block_covariance=true\n",
    "scenario = \"High-Dimensional, With positive and negative Correlations and 80% of zero coefficients, Block Cov\"\n",
    "\n",
    "Random.seed!(1345)\n",
    "results = wrapper_pipeline_inference.wrapper_randomisation_inference(\n",
    "    n=n,\n",
    "    p=p,\n",
    "    correlation_coefficients=correlation_coefficients,\n",
    "    block_covariance=block_covariance,\n",
    "    prop_zero_coef=prop_zero_coef,\n",
    "    sigma2=sigma2,\n",
    "    gamma_randomisation=1.,\n",
    "    fdr_level=0.1\n",
    ");"
   ]
  },
  {
   "cell_type": "code",
   "execution_count": 10,
   "metadata": {},
   "outputs": [
    {
     "name": "stdout",
     "output_type": "stream",
     "text": [
      "-------------------- High-Dimensional, With positive and negative Correlations and 80% of zero coefficients, Block Cov --------------------\n",
      "FDR_rand_plus_MS ==> 0.11764705882352941\n",
      "FDR_rand_only ==> 0.0\n",
      "FDR_MS_only ==> 0.0\n",
      "TPR_rand_plus_MS ==> 0.375\n",
      "TPR_rand_only ==> 0.3\n",
      "TPR_MS_only ==> 0.175\n"
     ]
    }
   ],
   "source": [
    "print_metrics(scenario=scenario, results=results)"
   ]
  },
  {
   "cell_type": "markdown",
   "metadata": {},
   "source": [
    "## Focus on High-Dimensional scenarios\n",
    "Gradually increase the correlation structure and the proportion of non-zero coefficients"
   ]
  },
  {
   "cell_type": "code",
   "execution_count": 11,
   "metadata": {},
   "outputs": [],
   "source": [
    "correlations_first_offdiag = [0., 0.1, 0.2, 0.3, 0.4, 0.5]\n",
    "correlations_second_offdiag = [0., 0.1, 0.2, 0.3, 0.4]\n",
    "# correlations_second_offdiag = [0.]\n",
    "proportions_zero_coef = [0.95, 0.9, 0.85, 0.8]\n",
    "block_covariance_options = [true, false];"
   ]
  },
  {
   "cell_type": "code",
   "execution_count": 12,
   "metadata": {},
   "outputs": [],
   "source": [
    "metrics_names = String[]\n",
    "for metric_name in keys(results.class_metrics)\n",
    "    push!(metrics_names, String(metric_name))\n",
    "end"
   ]
  },
  {
   "cell_type": "code",
   "execution_count": 13,
   "metadata": {},
   "outputs": [
    {
     "name": "stdout",
     "output_type": "stream",
     "text": [
      "# simulations: 360"
     ]
    }
   ],
   "source": [
    "tot_simulations = length(correlations_first_offdiag) * length(correlations_second_offdiag) * length(proportions_zero_coef) * length(block_covariance_options)\n",
    "colnames = append!([\"block_diagonal\", \"corr_first\", \"corr_second\", \"prop_non_zero\"], metrics_names);\n",
    "print(\"# simulations: $tot_simulations\")"
   ]
  },
  {
   "cell_type": "code",
   "execution_count": 28,
   "metadata": {},
   "outputs": [],
   "source": [
    "df_metrics = DataFrames.DataFrame([name => [] for name in colnames]);"
   ]
  },
  {
   "cell_type": "code",
   "execution_count": 31,
   "metadata": {},
   "outputs": [
    {
     "name": "stdout",
     "output_type": "stream",
     "text": [
      "Executing block covariance true\n",
      "Executing correlation 0.0\n"
     ]
    },
    {
     "name": "stdout",
     "output_type": "stream",
     "text": [
      "NUMBER non-zero coefs: 22\n",
      "NUMBER DF LASSO: 77\n",
      "SIGMA 2 ESTIMATE: 1.1283538717125656\n"
     ]
    },
    {
     "name": "stdout",
     "output_type": "stream",
     "text": [
      "NUMBER non-zero coefs: 38\n",
      "NUMBER DF LASSO: 61\n",
      "SIGMA 2 ESTIMATE: 0.709877184845756\n"
     ]
    },
    {
     "name": "stdout",
     "output_type": "stream",
     "text": [
      "NUMBER non-zero coefs: 60\n",
      "NUMBER DF LASSO: 39\n",
      "SIGMA 2 ESTIMATE: 1.045914347905833\n"
     ]
    },
    {
     "name": "stdout",
     "output_type": "stream",
     "text": [
      "NUMBER non-zero coefs: 33\n",
      "NUMBER DF LASSO: 66\n",
      "SIGMA 2 ESTIMATE: 1.444955507366966\n"
     ]
    },
    {
     "name": "stdout",
     "output_type": "stream",
     "text": [
      "NUMBER non-zero coefs: 78\n",
      "NUMBER DF LASSO: 21\n",
      "SIGMA 2 ESTIMATE: 0.3316180883861972\n"
     ]
    },
    {
     "name": "stdout",
     "output_type": "stream",
     "text": [
      "NUMBER non-zero coefs: 52\n",
      "NUMBER DF LASSO: 47\n",
      "SIGMA 2 ESTIMATE: 0.5299673691801379\n"
     ]
    },
    {
     "name": "stdout",
     "output_type": "stream",
     "text": [
      "NUMBER non-zero coefs: 38\n",
      "NUMBER DF LASSO: 61\n",
      "SIGMA 2 ESTIMATE: 1.0009000388056466\n"
     ]
    },
    {
     "name": "stdout",
     "output_type": "stream",
     "text": [
      "NUMBER non-zero coefs: 43\n",
      "NUMBER DF LASSO: 56\n",
      "SIGMA 2 ESTIMATE: 1.1692770442675502\n"
     ]
    },
    {
     "name": "stdout",
     "output_type": "stream",
     "text": [
      "NUMBER non-zero coefs: 30\n",
      "NUMBER DF LASSO: 69\n",
      "SIGMA 2 ESTIMATE: 0.7392665877466768\n"
     ]
    },
    {
     "name": "stdout",
     "output_type": "stream",
     "text": [
      "NUMBER non-zero coefs: 29\n",
      "NUMBER DF LASSO: 70\n",
      "SIGMA 2 ESTIMATE: 1.425522179834731\n"
     ]
    },
    {
     "name": "stdout",
     "output_type": "stream",
     "text": [
      "NUMBER non-zero coefs: 46\n",
      "NUMBER DF LASSO: 53\n",
      "SIGMA 2 ESTIMATE: 1.3715077755850018\n"
     ]
    },
    {
     "name": "stdout",
     "output_type": "stream",
     "text": [
      "NUMBER non-zero coefs: 88\n",
      "NUMBER DF LASSO: 11\n",
      "SIGMA 2 ESTIMATE: 0.5000012550339918\n"
     ]
    },
    {
     "name": "stdout",
     "output_type": "stream",
     "text": [
      "NUMBER non-zero coefs: 67\n",
      "NUMBER DF LASSO: 32\n",
      "SIGMA 2 ESTIMATE: 1.1694073174352249\n"
     ]
    },
    {
     "name": "stdout",
     "output_type": "stream",
     "text": [
      "NUMBER non-zero coefs: 76\n",
      "NUMBER DF LASSO: 23\n",
      "SIGMA 2 ESTIMATE: 0.8542202640289037\n"
     ]
    },
    {
     "name": "stdout",
     "output_type": "stream",
     "text": [
      "NUMBER non-zero coefs: 60\n",
      "NUMBER DF LASSO: 39\n",
      "SIGMA 2 ESTIMATE: 1.085593544490777\n"
     ]
    },
    {
     "name": "stdout",
     "output_type": "stream",
     "text": [
      "NUMBER non-zero coefs: 74\n",
      "NUMBER DF LASSO: 25\n",
      "SIGMA 2 ESTIMATE: 0.5833452527575144\n"
     ]
    },
    {
     "name": "stdout",
     "output_type": "stream",
     "text": [
      "NUMBER non-zero coefs: 86\n",
      "NUMBER DF LASSO: 13\n",
      "SIGMA 2 ESTIMATE: 0.2727102943699593\n"
     ]
    },
    {
     "name": "stdout",
     "output_type": "stream",
     "text": [
      "NUMBER non-zero coefs: 86\n",
      "NUMBER DF LASSO: 13\n",
      "SIGMA 2 ESTIMATE: 0.6218273987911908\n"
     ]
    },
    {
     "name": "stdout",
     "output_type": "stream",
     "text": [
      "NUMBER non-zero coefs: 56\n",
      "NUMBER DF LASSO: 43\n",
      "SIGMA 2 ESTIMATE: 0.588811027608208\n"
     ]
    },
    {
     "name": "stdout",
     "output_type": "stream",
     "text": [
      "NUMBER non-zero coefs: 69\n",
      "NUMBER DF LASSO: 30\n",
      "SIGMA 2 ESTIMATE: 1.7141942810767579\n"
     ]
    },
    {
     "name": "stdout",
     "output_type": "stream",
     "text": [
      "NUMBER non-zero coefs: 73\n",
      "NUMBER DF LASSO: 26\n",
      "SIGMA 2 ESTIMATE: 1.1011954455774975\n"
     ]
    },
    {
     "name": "stdout",
     "output_type": "stream",
     "text": [
      "NUMBER non-zero coefs: 76\n",
      "NUMBER DF LASSO: 23\n",
      "SIGMA 2 ESTIMATE: 1.0401269315668593\n"
     ]
    },
    {
     "name": "stdout",
     "output_type": "stream",
     "text": [
      "NUMBER non-zero coefs: 83\n",
      "NUMBER DF LASSO: 16\n",
      "SIGMA 2 ESTIMATE: 0.7113243297284481\n"
     ]
    },
    {
     "name": "stdout",
     "output_type": "stream",
     "text": [
      "NUMBER non-zero coefs: 97\n",
      "NUMBER DF LASSO: 2\n",
      "SIGMA 2 ESTIMATE: 0.8137680023637186\n"
     ]
    },
    {
     "name": "stdout",
     "output_type": "stream",
     "text": [
      "NUMBER non-zero coefs: 69\n",
      "NUMBER DF LASSO: 30\n",
      "SIGMA 2 ESTIMATE: 0.8134089990769392\n"
     ]
    },
    {
     "name": "stdout",
     "output_type": "stream",
     "text": [
      "NUMBER non-zero coefs: 81\n",
      "NUMBER DF LASSO: 18\n",
      "SIGMA 2 ESTIMATE: 0.7730034326406859\n"
     ]
    },
    {
     "name": "stdout",
     "output_type": "stream",
     "text": [
      "NUMBER non-zero coefs: 74\n",
      "NUMBER DF LASSO: 25\n",
      "SIGMA 2 ESTIMATE: 0.7967577504513674\n"
     ]
    },
    {
     "name": "stdout",
     "output_type": "stream",
     "text": [
      "NUMBER non-zero coefs: 92\n",
      "NUMBER DF LASSO: 7\n",
      "SIGMA 2 ESTIMATE: 1.074827466392658\n"
     ]
    },
    {
     "name": "stdout",
     "output_type": "stream",
     "text": [
      "NUMBER non-zero coefs: 82\n",
      "NUMBER DF LASSO: 17\n",
      "SIGMA 2 ESTIMATE: 0.9908770135395819\n"
     ]
    },
    {
     "name": "stdout",
     "output_type": "stream",
     "text": [
      "NUMBER non-zero coefs: 83\n",
      "NUMBER DF LASSO: 16\n",
      "SIGMA 2 ESTIMATE: 1.9968068934295427\n"
     ]
    },
    {
     "name": "stdout",
     "output_type": "stream",
     "text": [
      "NUMBER non-zero coefs: 81\n",
      "NUMBER DF LASSO: 18\n",
      "SIGMA 2 ESTIMATE: 1.6157696274455249\n"
     ]
    },
    {
     "name": "stdout",
     "output_type": "stream",
     "text": [
      "NUMBER non-zero coefs: 94\n",
      "NUMBER DF LASSO: 5\n",
      "SIGMA 2 ESTIMATE: 1.381958033026574\n"
     ]
    },
    {
     "name": "stdout",
     "output_type": "stream",
     "text": [
      "NUMBER non-zero coefs: 89\n",
      "NUMBER DF LASSO: 10\n",
      "SIGMA 2 ESTIMATE: 1.0295457548669273\n"
     ]
    },
    {
     "name": "stdout",
     "output_type": "stream",
     "text": [
      "NUMBER non-zero coefs: 94\n",
      "NUMBER DF LASSO: 5\n",
      "SIGMA 2 ESTIMATE: 0.7856930180991216\n"
     ]
    },
    {
     "name": "stdout",
     "output_type": "stream",
     "text": [
      "NUMBER non-zero coefs: 88\n",
      "NUMBER DF LASSO: 11\n",
      "SIGMA 2 ESTIMATE: 0.6188614890160431\n"
     ]
    },
    {
     "name": "stdout",
     "output_type": "stream",
     "text": [
      "NUMBER non-zero coefs: 84\n",
      "NUMBER DF LASSO: 15\n",
      "SIGMA 2 ESTIMATE: 3.0934831721296843\n"
     ]
    },
    {
     "name": "stdout",
     "output_type": "stream",
     "text": [
      "NUMBER non-zero coefs: 98\n",
      "NUMBER DF LASSO: 1\n",
      "SIGMA 2 ESTIMATE: 4.218494662544534\n"
     ]
    },
    {
     "name": "stdout",
     "output_type": "stream",
     "text": [
      "NUMBER non-zero coefs: 95\n",
      "NUMBER DF LASSO: 4\n",
      "SIGMA 2 ESTIMATE: 1.0898986967597506\n"
     ]
    },
    {
     "name": "stdout",
     "output_type": "stream",
     "text": [
      "NUMBER non-zero coefs: 94\n",
      "NUMBER DF LASSO: 5\n",
      "SIGMA 2 ESTIMATE: 2.379166238255362\n"
     ]
    },
    {
     "name": "stdout",
     "output_type": "stream",
     "text": [
      "NUMBER non-zero coefs: 0\n",
      "NUMBER DF LASSO: 99\n",
      "SIGMA 2 ESTIMATE: 20.72059659617537\n"
     ]
    },
    {
     "name": "stdout",
     "output_type": "stream",
     "text": [
      "NUMBER non-zero coefs: 71\n",
      "NUMBER DF LASSO: 28\n",
      "SIGMA 2 ESTIMATE: 6.975137654348768\n"
     ]
    },
    {
     "name": "stdout",
     "output_type": "stream",
     "text": [
      "NUMBER non-zero coefs: 107\n",
      "NUMBER DF LASSO: -8\n",
      "SIGMA 2 ESTIMATE: -0.6227452329133661\n"
     ]
    },
    {
     "ename": "DomainError",
     "evalue": "DomainError with -0.6227452329133661:\nsqrt will only return a complex result if called with a complex argument. Try sqrt(Complex(x)).",
     "output_type": "error",
     "traceback": [
      "DomainError with -0.6227452329133661:\n",
      "sqrt will only return a complex result if called with a complex argument. Try sqrt(Complex(x)).\n",
      "\n",
      "Stacktrace:\n",
      " [1] throw_complex_domainerror(f::Symbol, x::Float64)\n",
      "   @ Base.Math ./math.jl:33\n",
      " [2] sqrt\n",
      "   @ ./math.jl:677 [inlined]\n",
      " [3] randomisation(; y::Vector{Float64}, gamma::Float64, sigma2::Float64)\n",
      "   @ Main.wrapper_pipeline_inference.randomisation_ds ~/Documents/UiO_Postdoc/Code/git_repositories/SelectiveInference/src/utilities/randomisation_ds.jl:17\n",
      " [4] wrapper_randomisation_inference(; n::Int64, p::Int64, correlation_coefficients::Vector{Float64}, block_covariance::Bool, prop_zero_coef::Float64, sigma2::Float64, beta_intercept::Float64, gamma_randomisation::Float64, estimate_sigma2::Bool, fdr_level::Float64)\n",
      "   @ Main.wrapper_pipeline_inference ~/Documents/UiO_Postdoc/Code/git_repositories/SelectiveInference/src/wrapper_pipeline_inference.jl:124\n",
      " [5] top-level scope\n",
      "   @ ~/Documents/UiO_Postdoc/Code/git_repositories/SelectiveInference/src/experiments/simulation_randomisation_ms.ipynb:25"
     ]
    }
   ],
   "source": [
    "n = 100\n",
    "p = 200\n",
    "beta_intercept=1.\n",
    "sigma2=1.\n",
    "gamma_randomisation=1.\n",
    "estimate_sigma2=true\n",
    "n_replica = 10\n",
    "\n",
    "for cov_structure in block_covariance_options\n",
    "    println(\"Executing block covariance $cov_structure\")\n",
    "    for corr_first in correlations_first_offdiag\n",
    "        println(\"Executing correlation $corr_first\")\n",
    "        for corr_sec in correlations_second_offdiag\n",
    "            for prop_zero in proportions_zero_coef\n",
    "\n",
    "                Random.seed!(1345)\n",
    "                scenario = \"Correlations: $corr_first and $corr_sec. Proportion $prop_zero of zero coefficients\"\n",
    "                correlation_coefficients=[corr_first, corr_sec]\n",
    "                \n",
    "                # Initialise to 0\n",
    "                average_metrics = zeros(length(keys(results.class_metrics)))\n",
    "\n",
    "                # Do an average over n replications for each combination\n",
    "                for replica in range(1, n_replica)\n",
    "                    results = wrapper_pipeline_inference.wrapper_randomisation_inference(\n",
    "                        n=n,\n",
    "                        p=p,\n",
    "                        correlation_coefficients=correlation_coefficients,\n",
    "                        block_covariance=cov_structure,\n",
    "                        prop_zero_coef=prop_zero,\n",
    "                        sigma2=sigma2,\n",
    "                        beta_intercept=beta_intercept,\n",
    "                        estimate_sigma2=estimate_sigma2,\n",
    "                        gamma_randomisation=1.,\n",
    "                        fdr_level=0.1\n",
    "                    )\n",
    "                    for (metric, value) in enumerate(results.class_metrics)\n",
    "                        average_metrics[metric] += value\n",
    "                    end\n",
    "                    \n",
    "                end\n",
    "\n",
    "                push!(\n",
    "                    df_metrics,\n",
    "                    append!(\n",
    "                        [\n",
    "                            cov_structure,\n",
    "                            corr_first,\n",
    "                            corr_sec,\n",
    "                            1-prop_zero\n",
    "                        ],\n",
    "                        average_metrics ./ n_replica\n",
    "                    )\n",
    "                )\n",
    "\n",
    "            end\n",
    "        end\n",
    "    end\n",
    "end\n",
    ";"
   ]
  },
  {
   "cell_type": "code",
   "execution_count": null,
   "metadata": {},
   "outputs": [],
   "source": [
    "df_metrics[!, \"round_prop_non_zero\"] = round.(df_metrics[!, \"prop_non_zero\"], digits=3);"
   ]
  },
  {
   "cell_type": "code",
   "execution_count": null,
   "metadata": {},
   "outputs": [],
   "source": [
    "df_metrics[1:5, :]"
   ]
  },
  {
   "cell_type": "code",
   "execution_count": null,
   "metadata": {},
   "outputs": [],
   "source": [
    "# CSV.write(\"./simulation_MS_with_randomisation_n500_p500_sigma2_estimated.csv\", df_metrics)\n",
    "\n",
    "# df_metrics = CSV.read(\"./simulation_MS_with_randomisation.csv\", DataFrames.DataFrame);"
   ]
  }
 ],
 "metadata": {
  "kernelspec": {
   "display_name": "Julia 1.9.2",
   "language": "julia",
   "name": "julia-1.9"
  },
  "language_info": {
   "file_extension": ".jl",
   "mimetype": "application/julia",
   "name": "julia",
   "version": "1.9.2"
  },
  "orig_nbformat": 4
 },
 "nbformat": 4,
 "nbformat_minor": 2
}
